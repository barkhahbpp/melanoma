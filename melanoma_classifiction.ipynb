{
  "cells": [
    {
      "cell_type": "markdown",
      "metadata": {
        "id": "view-in-github",
        "colab_type": "text"
      },
      "source": [
        "<a href=\"https://colab.research.google.com/github/barkhahbpp/melanoma/blob/main/melanoma_classifiction.ipynb\" target=\"_parent\"><img src=\"https://colab.research.google.com/assets/colab-badge.svg\" alt=\"Open In Colab\"/></a>"
      ]
    },
    {
      "cell_type": "markdown",
      "metadata": {
        "id": "DC2FfwqYEqfk"
      },
      "source": [
        "# 0. Preparing Environment"
      ]
    },
    {
      "cell_type": "markdown",
      "metadata": {
        "id": "0zTNYHinEWi7"
      },
      "source": [
        "## 0.1. Installing Required Libraries ##"
      ]
    },
    {
      "cell_type": "code",
      "source": [
        "!pip install gdown"
      ],
      "metadata": {
        "id": "0eltXuZCz95q",
        "colab": {
          "base_uri": "https://localhost:8080/"
        },
        "outputId": "5f58dbf0-7a8b-420c-ee40-b46d3fbd6db9"
      },
      "execution_count": 22,
      "outputs": [
        {
          "output_type": "stream",
          "name": "stdout",
          "text": [
            "Requirement already satisfied: gdown in /usr/local/lib/python3.10/dist-packages (5.1.0)\n",
            "Requirement already satisfied: beautifulsoup4 in /usr/local/lib/python3.10/dist-packages (from gdown) (4.12.3)\n",
            "Requirement already satisfied: filelock in /usr/local/lib/python3.10/dist-packages (from gdown) (3.14.0)\n",
            "Requirement already satisfied: requests[socks] in /usr/local/lib/python3.10/dist-packages (from gdown) (2.31.0)\n",
            "Requirement already satisfied: tqdm in /usr/local/lib/python3.10/dist-packages (from gdown) (4.66.4)\n",
            "Requirement already satisfied: soupsieve>1.2 in /usr/local/lib/python3.10/dist-packages (from beautifulsoup4->gdown) (2.5)\n",
            "Requirement already satisfied: charset-normalizer<4,>=2 in /usr/local/lib/python3.10/dist-packages (from requests[socks]->gdown) (3.3.2)\n",
            "Requirement already satisfied: idna<4,>=2.5 in /usr/local/lib/python3.10/dist-packages (from requests[socks]->gdown) (3.7)\n",
            "Requirement already satisfied: urllib3<3,>=1.21.1 in /usr/local/lib/python3.10/dist-packages (from requests[socks]->gdown) (2.0.7)\n",
            "Requirement already satisfied: certifi>=2017.4.17 in /usr/local/lib/python3.10/dist-packages (from requests[socks]->gdown) (2024.6.2)\n",
            "Requirement already satisfied: PySocks!=1.5.7,>=1.5.6 in /usr/local/lib/python3.10/dist-packages (from requests[socks]->gdown) (1.7.1)\n"
          ]
        }
      ]
    },
    {
      "cell_type": "markdown",
      "metadata": {
        "id": "j5hjqwcdFGjC"
      },
      "source": [
        "## 0.2. Importing Libraries ##"
      ]
    },
    {
      "cell_type": "code",
      "execution_count": 23,
      "metadata": {
        "id": "50SepVvnECR7"
      },
      "outputs": [],
      "source": [
        "# system\n",
        "import os\n",
        "from google.colab.patches import cv2_imshow\n",
        "import pandas as pd\n",
        "import numpy as np\n",
        "import progressbar\n",
        "from google.colab import drive\n",
        "# drive.mount('/content/drive')\n",
        "import time\n",
        "\n",
        "# image processing\n",
        "import cv2 as cv\n",
        "import skimage.io as io\n",
        "from scipy import ndimage, signal, misc, spatial\n",
        "from skimage import measure\n",
        "from skimage.measure import label, regionprops, regionprops_table\n",
        "from skimage.segmentation import mark_boundaries, slic_superpixels, slic\n",
        "from skimage import color\n",
        "\n",
        "# plotting\n",
        "import matplotlib.pyplot as plt\n",
        "import seaborn as sns"
      ]
    },
    {
      "cell_type": "markdown",
      "metadata": {
        "id": "X-H3tjfEUu_S"
      },
      "source": [
        "## 0.3. Local Function Library"
      ]
    },
    {
      "cell_type": "markdown",
      "metadata": {
        "id": "fMqE-ybOaCgr"
      },
      "source": [
        "### 0.3.1. Contrast Enhancement Functions"
      ]
    },
    {
      "cell_type": "markdown",
      "metadata": {
        "id": "yAct53K6cmq1"
      },
      "source": [
        "**CLAHE Contrast Enhancement**"
      ]
    },
    {
      "cell_type": "code",
      "execution_count": 24,
      "metadata": {
        "id": "_UZ215Xlarmw"
      },
      "outputs": [],
      "source": [
        "def clahe_enhancement(I, clipLimit, tileGridSize):\n",
        "  B,G,R = cv.split(img)\n",
        "\n",
        "  clahe = cv.createCLAHE(clipLimit, tileGridSize)\n",
        "  clR = clahe.apply(R)\n",
        "  clG = clahe.apply(G)\n",
        "  clB = clahe.apply(B)\n",
        "\n",
        "  img_merge = cv.merge([clR, clG, clB])\n",
        "\n",
        "  return img_merge"
      ]
    },
    {
      "cell_type": "markdown",
      "metadata": {
        "id": "rvkOpLvjZwhM"
      },
      "source": [
        "### 0.3.2. Morphological Descriptor Functions"
      ]
    },
    {
      "cell_type": "markdown",
      "metadata": {
        "id": "XWhTWmmMg6w-"
      },
      "source": [
        "**Crofton Perimeter**"
      ]
    },
    {
      "cell_type": "code",
      "execution_count": 25,
      "metadata": {
        "id": "mxaCpYDEUr1Q"
      },
      "outputs": [],
      "source": [
        "def countIntercepts(I, h):\n",
        "  B = np.abs(signal.convolve2d(I, h, mode='same'))\n",
        "  n = np.sum(B)/2\n",
        "  return n\n",
        "\n",
        "def perimCrofton(segment_img):\n",
        "  h = np.array([[-1,1]]);\n",
        "  n1 = countIntercepts(segment_img,h)\n",
        "  n2 = countIntercepts(segment_img, h.transpose())\n",
        "\n",
        "  h = np.array([[1,0], [0,-1]])\n",
        "  n3 = countIntercepts(segment_img, h.transpose())\n",
        "\n",
        "  h = np.array([[0,1],[-1,0]])\n",
        "  n4 = countIntercepts(segment_img, h.transpose())\n",
        "\n",
        "  perim_Crofton = np.pi/4 * (n1+n2+ 1/np.sqrt(2)*(n3+n4))\n",
        "  return perim_Crofton"
      ]
    },
    {
      "cell_type": "markdown",
      "metadata": {
        "id": "qIFL4GiShDCY"
      },
      "source": [
        "**Feret Diameter**"
      ]
    },
    {
      "cell_type": "code",
      "execution_count": 26,
      "metadata": {
        "id": "e0Cpp3lnhHg_"
      },
      "outputs": [],
      "source": [
        "def feretDiameter(segment_img):\n",
        "  diameter = []\n",
        "  for angle in range (180):\n",
        "    I2 = ndimage.rotate(segment_img, angle, mode='nearest')\n",
        "    I3 = I2.max(axis=0)\n",
        "\n",
        "    diameter.append(np.sum(I3>0))\n",
        "\n",
        "  return np.min(diameter), np.max(diameter), np.mean(diameter)"
      ]
    },
    {
      "cell_type": "markdown",
      "metadata": {
        "id": "mi2eC1PhhhoC"
      },
      "source": [
        "**Circularity**"
      ]
    },
    {
      "cell_type": "code",
      "execution_count": 27,
      "metadata": {
        "id": "_BcIIcy9hiTF"
      },
      "outputs": [],
      "source": [
        "def disk(t,r):\n",
        "  x = np.arange(-t, t, 1)\n",
        "  X,Y = np.meshgrid(x, x)\n",
        "\n",
        "  I = (X**2+Y**2) <= r**2\n",
        "  return I\n",
        "\n",
        "def circularity(segment_img):\n",
        "  P = perimCrofton(segment_img)\n",
        "  print(f\"Perimeter by Crofton: {P}\")\n",
        "  A = np.sum(segment_img)\n",
        "  C = np.pi*4*A/P**2\n",
        "\n",
        "  p = measure.perimeter(segment_img, neighbourhood=4)\n",
        "  print(f\"Usual perimeter: {p}\")\n",
        "\n",
        "  c = np.pi*4*A/p**2\n",
        "  return C, c"
      ]
    },
    {
      "cell_type": "markdown",
      "metadata": {
        "id": "dZMvalq-h0qN"
      },
      "source": [
        "**Convexity**"
      ]
    },
    {
      "cell_type": "code",
      "execution_count": 28,
      "metadata": {
        "id": "NQIg8D5lh2Lt"
      },
      "outputs": [],
      "source": [
        "def convexity(segment_img):\n",
        "  points = np.transpose(np.where(np.flip(segment_img,0)))\n",
        "  hull = spatial.ConvexHull(points)\n",
        "\n",
        "  A = np.sum(segment_img)\n",
        "  Ah = hull.volume\n",
        "\n",
        "  # plt.figure()\n",
        "  # for simplex in hull.simplices:\n",
        "  #   plt.plot(points[simplex, 1], points[simplex, 0],'k-')\n",
        "  # plt.axis('equal')\n",
        "  # plt.show()\n",
        "\n",
        "  return A/Ah"
      ]
    },
    {
      "cell_type": "markdown",
      "metadata": {
        "id": "rl6D75qnmLS6"
      },
      "source": [
        "**Region Properties**"
      ]
    },
    {
      "cell_type": "code",
      "execution_count": 29,
      "metadata": {
        "id": "peUVgB79mQFs"
      },
      "outputs": [],
      "source": [
        "def region_properties(segment_img):\n",
        "  label_img = label(segment_img)\n",
        "  regions = regionprops(label_img)\n",
        "\n",
        "  return regions"
      ]
    },
    {
      "cell_type": "markdown",
      "metadata": {
        "id": "yp70Z8oqZ4Tl"
      },
      "source": [
        "### 0.3.3. Texture Descriptor Functions"
      ]
    },
    {
      "cell_type": "markdown",
      "metadata": {
        "id": "oiOU4hPBnOaA"
      },
      "source": [
        "**Local Binary Pattern (LBP)**"
      ]
    },
    {
      "cell_type": "code",
      "execution_count": 30,
      "metadata": {
        "id": "VZHWnyI7Z3ln"
      },
      "outputs": [],
      "source": [
        "def LBP(img):\n",
        "  \"\"\"\n",
        "  Local Binary Pattern of image I\n",
        "  construct descriptor for each pixel, then evaluate histogram\n",
        "  I: grayscale image (size nxm)\n",
        "  \"\"\"\n",
        "  B = np.zeros(np.shape(img))\n",
        "\n",
        "  code = np.array([[1, 2, 4], [8, 0, 16], [32, 64, 128]])\n",
        "\n",
        "  # loop over all pixels except border pixels\n",
        "  for i in np.arange(1, img.shape[0]-2):\n",
        "    for j in np.arange(1, img.shape[1]-2):\n",
        "      w = img[i-1:i+2, j-1:j+2]\n",
        "      w = w >= img[i, j]\n",
        "      w = w * code\n",
        "      B[i, j] = np.sum(w)\n",
        "\n",
        "  h, edges = np.histogram(B[1:-1, 1:-1], density=True, bins=256)\n",
        "  return h, edges"
      ]
    },
    {
      "cell_type": "markdown",
      "metadata": {
        "id": "MjOgREhonVmc"
      },
      "source": [
        "**Histogram of Oriented Gradient**"
      ]
    },
    {
      "cell_type": "code",
      "execution_count": 31,
      "metadata": {
        "id": "UoVA-KCwnU42"
      },
      "outputs": [],
      "source": [
        "def HOG(img):\n",
        "  #(winSize - blockSize) % blockStride == 0\n",
        "  img_gray = cv.cvtColor(img, cv.COLOR_RGB2GRAY)\n",
        "  img_res = cv.resize(img_gray, (800, 800), interpolation=cv.INTER_CUBIC)\n",
        "\n",
        "  win_size = img_res.shape\n",
        "  cell_size = (20, 20)\n",
        "  block_size = (200, 200)\n",
        "  block_stride = (25, 25)\n",
        "  num_bins = 9\n",
        "\n",
        "  # # Set the parameters of the HOG descriptor using the variables defined above\n",
        "  hog = cv.HOGDescriptor(win_size, block_size, block_stride, cell_size, num_bins)\n",
        "\n",
        "  # # Compute the HOG Descriptor for the gray scale image\n",
        "  hog_descriptor = hog.compute(img_res)\n",
        "\n",
        "  return hog_descriptor"
      ]
    },
    {
      "cell_type": "markdown",
      "source": [
        "**Generate Superpixel Image**"
      ],
      "metadata": {
        "id": "E5GjcNW-xsqg"
      }
    },
    {
      "cell_type": "code",
      "source": [
        "def super_segmentation(I, n_segments, compactness, sigma, start_label):\n",
        "  segments = slic(I, n_segments=n_segments, compactness=compactness, sigma=sigma, start_label=start_label)\n",
        "  superpixels = color.label2rgb(segments, I, kind='avg')\n",
        "\n",
        "  return segments, superpixels"
      ],
      "metadata": {
        "id": "1aQewQ25xzCq"
      },
      "execution_count": 32,
      "outputs": []
    },
    {
      "cell_type": "markdown",
      "source": [
        "### 0.3.4. General Function ###"
      ],
      "metadata": {
        "id": "gyKS8zTRaX4k"
      }
    },
    {
      "cell_type": "code",
      "source": [
        "def segmen_mapping(I, segment_mask):\n",
        "  R,G,B = cv.split(I)\n",
        "\n",
        "  for i in range(len(B)):\n",
        "    for j in range(len(B[i])):\n",
        "      if segment_mask[i][j] == 0:\n",
        "        B[i][j] = 0\n",
        "\n",
        "  for i in range(len(G)):\n",
        "    for j in range(len(G[i])):\n",
        "      if segment_mask[i][j] == 0:\n",
        "        G[i][j] = 0\n",
        "\n",
        "  for i in range(len(R)):\n",
        "    for j in range(len(R[i])):\n",
        "      if segment_mask[i][j] == 0:\n",
        "        R[i][j] = 0\n",
        "\n",
        "  mapped_img = cv.merge([R, G, B])\n",
        "\n",
        "  return mapped_img"
      ],
      "metadata": {
        "id": "xfnzfh33eXUO"
      },
      "execution_count": 33,
      "outputs": []
    },
    {
      "cell_type": "markdown",
      "metadata": {
        "id": "C-TsClW0GOzD"
      },
      "source": [
        "# 1. Global Variable"
      ]
    },
    {
      "cell_type": "code",
      "execution_count": 34,
      "metadata": {
        "id": "aMWxYXFxGiuh"
      },
      "outputs": [],
      "source": [
        "global DATA_URL, GROUNDTRUTH_URL, IMAGE_URL, DATASET_DICT, GROUNDTRUTH_DF, DRIVE_URL\n",
        "DATA_URL = f'https://raw.githubusercontent.com/barkhahbpp/melanoma/main/Project/'\n",
        "GROUNDTRUTH_URL = DATA_URL+\"GroundTruth_sorted.csv\"\n",
        "IMAGE_URL = DATA_URL+\"PROJECT_Data/\"\n",
        "DATASET_DICT = {}\n",
        "DRIVE_URL = '/content/drive/MyDrive/Colab Notebooks/melanomas/'"
      ]
    },
    {
      "cell_type": "markdown",
      "metadata": {
        "id": "g2znOcgEGTVb"
      },
      "source": [
        "# 2. Dataset"
      ]
    },
    {
      "cell_type": "markdown",
      "metadata": {
        "id": "JrLRgiVBJoSD"
      },
      "source": [
        "## 2.1. Loading Ground Truth Data"
      ]
    },
    {
      "cell_type": "code",
      "execution_count": 35,
      "metadata": {
        "id": "laiYmNfYFxQ1"
      },
      "outputs": [],
      "source": [
        "GROUNDTRUTH_DF = pd.read_csv(GROUNDTRUTH_URL)\n",
        "GROUNDTRUTH_DF.drop(GROUNDTRUTH_DF[GROUNDTRUTH_DF['state'] == 0].index, inplace=True)\n",
        "GROUNDTRUTH_DF.reset_index(inplace=True)\n",
        "GROUNDTRUTH_DF.drop(columns=GROUNDTRUTH_DF.columns[0], inplace=True)"
      ]
    },
    {
      "cell_type": "code",
      "execution_count": 36,
      "metadata": {
        "colab": {
          "base_uri": "https://localhost:8080/",
          "height": 441
        },
        "id": "0f_hEP1eHWjb",
        "outputId": "62147fc5-854e-4d42-dfad-b3a1032be492"
      },
      "outputs": [
        {
          "output_type": "execute_result",
          "data": {
            "text/plain": [
              "         image_id  melanoma  seborrheic_keratosis  state\n",
              "0    ISIC_0000000       0.0                   0.0      1\n",
              "1    ISIC_0000001       0.0                   0.0      1\n",
              "2    ISIC_0000002       1.0                   0.0      1\n",
              "3    ISIC_0000003       0.0                   0.0      1\n",
              "4    ISIC_0000004       1.0                   0.0      1\n",
              "..            ...       ...                   ...    ...\n",
              "195  ISIC_0000511       1.0                   0.0      1\n",
              "196  ISIC_0000513       1.0                   0.0      1\n",
              "197  ISIC_0000516       1.0                   0.0      1\n",
              "198  ISIC_0000517       1.0                   0.0      1\n",
              "199  ISIC_0000518       1.0                   0.0      1\n",
              "\n",
              "[200 rows x 4 columns]"
            ],
            "text/html": [
              "\n",
              "  <div id=\"df-abc864f0-3f13-48d0-aee2-d9c77b3edef3\" class=\"colab-df-container\">\n",
              "    <div>\n",
              "<style scoped>\n",
              "    .dataframe tbody tr th:only-of-type {\n",
              "        vertical-align: middle;\n",
              "    }\n",
              "\n",
              "    .dataframe tbody tr th {\n",
              "        vertical-align: top;\n",
              "    }\n",
              "\n",
              "    .dataframe thead th {\n",
              "        text-align: right;\n",
              "    }\n",
              "</style>\n",
              "<table border=\"1\" class=\"dataframe\">\n",
              "  <thead>\n",
              "    <tr style=\"text-align: right;\">\n",
              "      <th></th>\n",
              "      <th>image_id</th>\n",
              "      <th>melanoma</th>\n",
              "      <th>seborrheic_keratosis</th>\n",
              "      <th>state</th>\n",
              "    </tr>\n",
              "  </thead>\n",
              "  <tbody>\n",
              "    <tr>\n",
              "      <th>0</th>\n",
              "      <td>ISIC_0000000</td>\n",
              "      <td>0.0</td>\n",
              "      <td>0.0</td>\n",
              "      <td>1</td>\n",
              "    </tr>\n",
              "    <tr>\n",
              "      <th>1</th>\n",
              "      <td>ISIC_0000001</td>\n",
              "      <td>0.0</td>\n",
              "      <td>0.0</td>\n",
              "      <td>1</td>\n",
              "    </tr>\n",
              "    <tr>\n",
              "      <th>2</th>\n",
              "      <td>ISIC_0000002</td>\n",
              "      <td>1.0</td>\n",
              "      <td>0.0</td>\n",
              "      <td>1</td>\n",
              "    </tr>\n",
              "    <tr>\n",
              "      <th>3</th>\n",
              "      <td>ISIC_0000003</td>\n",
              "      <td>0.0</td>\n",
              "      <td>0.0</td>\n",
              "      <td>1</td>\n",
              "    </tr>\n",
              "    <tr>\n",
              "      <th>4</th>\n",
              "      <td>ISIC_0000004</td>\n",
              "      <td>1.0</td>\n",
              "      <td>0.0</td>\n",
              "      <td>1</td>\n",
              "    </tr>\n",
              "    <tr>\n",
              "      <th>...</th>\n",
              "      <td>...</td>\n",
              "      <td>...</td>\n",
              "      <td>...</td>\n",
              "      <td>...</td>\n",
              "    </tr>\n",
              "    <tr>\n",
              "      <th>195</th>\n",
              "      <td>ISIC_0000511</td>\n",
              "      <td>1.0</td>\n",
              "      <td>0.0</td>\n",
              "      <td>1</td>\n",
              "    </tr>\n",
              "    <tr>\n",
              "      <th>196</th>\n",
              "      <td>ISIC_0000513</td>\n",
              "      <td>1.0</td>\n",
              "      <td>0.0</td>\n",
              "      <td>1</td>\n",
              "    </tr>\n",
              "    <tr>\n",
              "      <th>197</th>\n",
              "      <td>ISIC_0000516</td>\n",
              "      <td>1.0</td>\n",
              "      <td>0.0</td>\n",
              "      <td>1</td>\n",
              "    </tr>\n",
              "    <tr>\n",
              "      <th>198</th>\n",
              "      <td>ISIC_0000517</td>\n",
              "      <td>1.0</td>\n",
              "      <td>0.0</td>\n",
              "      <td>1</td>\n",
              "    </tr>\n",
              "    <tr>\n",
              "      <th>199</th>\n",
              "      <td>ISIC_0000518</td>\n",
              "      <td>1.0</td>\n",
              "      <td>0.0</td>\n",
              "      <td>1</td>\n",
              "    </tr>\n",
              "  </tbody>\n",
              "</table>\n",
              "<p>200 rows × 4 columns</p>\n",
              "</div>\n",
              "    <div class=\"colab-df-buttons\">\n",
              "\n",
              "  <div class=\"colab-df-container\">\n",
              "    <button class=\"colab-df-convert\" onclick=\"convertToInteractive('df-abc864f0-3f13-48d0-aee2-d9c77b3edef3')\"\n",
              "            title=\"Convert this dataframe to an interactive table.\"\n",
              "            style=\"display:none;\">\n",
              "\n",
              "  <svg xmlns=\"http://www.w3.org/2000/svg\" height=\"24px\" viewBox=\"0 -960 960 960\">\n",
              "    <path d=\"M120-120v-720h720v720H120Zm60-500h600v-160H180v160Zm220 220h160v-160H400v160Zm0 220h160v-160H400v160ZM180-400h160v-160H180v160Zm440 0h160v-160H620v160ZM180-180h160v-160H180v160Zm440 0h160v-160H620v160Z\"/>\n",
              "  </svg>\n",
              "    </button>\n",
              "\n",
              "  <style>\n",
              "    .colab-df-container {\n",
              "      display:flex;\n",
              "      gap: 12px;\n",
              "    }\n",
              "\n",
              "    .colab-df-convert {\n",
              "      background-color: #E8F0FE;\n",
              "      border: none;\n",
              "      border-radius: 50%;\n",
              "      cursor: pointer;\n",
              "      display: none;\n",
              "      fill: #1967D2;\n",
              "      height: 32px;\n",
              "      padding: 0 0 0 0;\n",
              "      width: 32px;\n",
              "    }\n",
              "\n",
              "    .colab-df-convert:hover {\n",
              "      background-color: #E2EBFA;\n",
              "      box-shadow: 0px 1px 2px rgba(60, 64, 67, 0.3), 0px 1px 3px 1px rgba(60, 64, 67, 0.15);\n",
              "      fill: #174EA6;\n",
              "    }\n",
              "\n",
              "    .colab-df-buttons div {\n",
              "      margin-bottom: 4px;\n",
              "    }\n",
              "\n",
              "    [theme=dark] .colab-df-convert {\n",
              "      background-color: #3B4455;\n",
              "      fill: #D2E3FC;\n",
              "    }\n",
              "\n",
              "    [theme=dark] .colab-df-convert:hover {\n",
              "      background-color: #434B5C;\n",
              "      box-shadow: 0px 1px 3px 1px rgba(0, 0, 0, 0.15);\n",
              "      filter: drop-shadow(0px 1px 2px rgba(0, 0, 0, 0.3));\n",
              "      fill: #FFFFFF;\n",
              "    }\n",
              "  </style>\n",
              "\n",
              "    <script>\n",
              "      const buttonEl =\n",
              "        document.querySelector('#df-abc864f0-3f13-48d0-aee2-d9c77b3edef3 button.colab-df-convert');\n",
              "      buttonEl.style.display =\n",
              "        google.colab.kernel.accessAllowed ? 'block' : 'none';\n",
              "\n",
              "      async function convertToInteractive(key) {\n",
              "        const element = document.querySelector('#df-abc864f0-3f13-48d0-aee2-d9c77b3edef3');\n",
              "        const dataTable =\n",
              "          await google.colab.kernel.invokeFunction('convertToInteractive',\n",
              "                                                    [key], {});\n",
              "        if (!dataTable) return;\n",
              "\n",
              "        const docLinkHtml = 'Like what you see? Visit the ' +\n",
              "          '<a target=\"_blank\" href=https://colab.research.google.com/notebooks/data_table.ipynb>data table notebook</a>'\n",
              "          + ' to learn more about interactive tables.';\n",
              "        element.innerHTML = '';\n",
              "        dataTable['output_type'] = 'display_data';\n",
              "        await google.colab.output.renderOutput(dataTable, element);\n",
              "        const docLink = document.createElement('div');\n",
              "        docLink.innerHTML = docLinkHtml;\n",
              "        element.appendChild(docLink);\n",
              "      }\n",
              "    </script>\n",
              "  </div>\n",
              "\n",
              "\n",
              "<div id=\"df-13851760-f8c0-45d9-a6db-09c82d62ec78\">\n",
              "  <button class=\"colab-df-quickchart\" onclick=\"quickchart('df-13851760-f8c0-45d9-a6db-09c82d62ec78')\"\n",
              "            title=\"Suggest charts\"\n",
              "            style=\"display:none;\">\n",
              "\n",
              "<svg xmlns=\"http://www.w3.org/2000/svg\" height=\"24px\"viewBox=\"0 0 24 24\"\n",
              "     width=\"24px\">\n",
              "    <g>\n",
              "        <path d=\"M19 3H5c-1.1 0-2 .9-2 2v14c0 1.1.9 2 2 2h14c1.1 0 2-.9 2-2V5c0-1.1-.9-2-2-2zM9 17H7v-7h2v7zm4 0h-2V7h2v10zm4 0h-2v-4h2v4z\"/>\n",
              "    </g>\n",
              "</svg>\n",
              "  </button>\n",
              "\n",
              "<style>\n",
              "  .colab-df-quickchart {\n",
              "      --bg-color: #E8F0FE;\n",
              "      --fill-color: #1967D2;\n",
              "      --hover-bg-color: #E2EBFA;\n",
              "      --hover-fill-color: #174EA6;\n",
              "      --disabled-fill-color: #AAA;\n",
              "      --disabled-bg-color: #DDD;\n",
              "  }\n",
              "\n",
              "  [theme=dark] .colab-df-quickchart {\n",
              "      --bg-color: #3B4455;\n",
              "      --fill-color: #D2E3FC;\n",
              "      --hover-bg-color: #434B5C;\n",
              "      --hover-fill-color: #FFFFFF;\n",
              "      --disabled-bg-color: #3B4455;\n",
              "      --disabled-fill-color: #666;\n",
              "  }\n",
              "\n",
              "  .colab-df-quickchart {\n",
              "    background-color: var(--bg-color);\n",
              "    border: none;\n",
              "    border-radius: 50%;\n",
              "    cursor: pointer;\n",
              "    display: none;\n",
              "    fill: var(--fill-color);\n",
              "    height: 32px;\n",
              "    padding: 0;\n",
              "    width: 32px;\n",
              "  }\n",
              "\n",
              "  .colab-df-quickchart:hover {\n",
              "    background-color: var(--hover-bg-color);\n",
              "    box-shadow: 0 1px 2px rgba(60, 64, 67, 0.3), 0 1px 3px 1px rgba(60, 64, 67, 0.15);\n",
              "    fill: var(--button-hover-fill-color);\n",
              "  }\n",
              "\n",
              "  .colab-df-quickchart-complete:disabled,\n",
              "  .colab-df-quickchart-complete:disabled:hover {\n",
              "    background-color: var(--disabled-bg-color);\n",
              "    fill: var(--disabled-fill-color);\n",
              "    box-shadow: none;\n",
              "  }\n",
              "\n",
              "  .colab-df-spinner {\n",
              "    border: 2px solid var(--fill-color);\n",
              "    border-color: transparent;\n",
              "    border-bottom-color: var(--fill-color);\n",
              "    animation:\n",
              "      spin 1s steps(1) infinite;\n",
              "  }\n",
              "\n",
              "  @keyframes spin {\n",
              "    0% {\n",
              "      border-color: transparent;\n",
              "      border-bottom-color: var(--fill-color);\n",
              "      border-left-color: var(--fill-color);\n",
              "    }\n",
              "    20% {\n",
              "      border-color: transparent;\n",
              "      border-left-color: var(--fill-color);\n",
              "      border-top-color: var(--fill-color);\n",
              "    }\n",
              "    30% {\n",
              "      border-color: transparent;\n",
              "      border-left-color: var(--fill-color);\n",
              "      border-top-color: var(--fill-color);\n",
              "      border-right-color: var(--fill-color);\n",
              "    }\n",
              "    40% {\n",
              "      border-color: transparent;\n",
              "      border-right-color: var(--fill-color);\n",
              "      border-top-color: var(--fill-color);\n",
              "    }\n",
              "    60% {\n",
              "      border-color: transparent;\n",
              "      border-right-color: var(--fill-color);\n",
              "    }\n",
              "    80% {\n",
              "      border-color: transparent;\n",
              "      border-right-color: var(--fill-color);\n",
              "      border-bottom-color: var(--fill-color);\n",
              "    }\n",
              "    90% {\n",
              "      border-color: transparent;\n",
              "      border-bottom-color: var(--fill-color);\n",
              "    }\n",
              "  }\n",
              "</style>\n",
              "\n",
              "  <script>\n",
              "    async function quickchart(key) {\n",
              "      const quickchartButtonEl =\n",
              "        document.querySelector('#' + key + ' button');\n",
              "      quickchartButtonEl.disabled = true;  // To prevent multiple clicks.\n",
              "      quickchartButtonEl.classList.add('colab-df-spinner');\n",
              "      try {\n",
              "        const charts = await google.colab.kernel.invokeFunction(\n",
              "            'suggestCharts', [key], {});\n",
              "      } catch (error) {\n",
              "        console.error('Error during call to suggestCharts:', error);\n",
              "      }\n",
              "      quickchartButtonEl.classList.remove('colab-df-spinner');\n",
              "      quickchartButtonEl.classList.add('colab-df-quickchart-complete');\n",
              "    }\n",
              "    (() => {\n",
              "      let quickchartButtonEl =\n",
              "        document.querySelector('#df-13851760-f8c0-45d9-a6db-09c82d62ec78 button');\n",
              "      quickchartButtonEl.style.display =\n",
              "        google.colab.kernel.accessAllowed ? 'block' : 'none';\n",
              "    })();\n",
              "  </script>\n",
              "</div>\n",
              "\n",
              "  <div id=\"id_36860ca7-e26c-4908-a30c-6d3897186a50\">\n",
              "    <style>\n",
              "      .colab-df-generate {\n",
              "        background-color: #E8F0FE;\n",
              "        border: none;\n",
              "        border-radius: 50%;\n",
              "        cursor: pointer;\n",
              "        display: none;\n",
              "        fill: #1967D2;\n",
              "        height: 32px;\n",
              "        padding: 0 0 0 0;\n",
              "        width: 32px;\n",
              "      }\n",
              "\n",
              "      .colab-df-generate:hover {\n",
              "        background-color: #E2EBFA;\n",
              "        box-shadow: 0px 1px 2px rgba(60, 64, 67, 0.3), 0px 1px 3px 1px rgba(60, 64, 67, 0.15);\n",
              "        fill: #174EA6;\n",
              "      }\n",
              "\n",
              "      [theme=dark] .colab-df-generate {\n",
              "        background-color: #3B4455;\n",
              "        fill: #D2E3FC;\n",
              "      }\n",
              "\n",
              "      [theme=dark] .colab-df-generate:hover {\n",
              "        background-color: #434B5C;\n",
              "        box-shadow: 0px 1px 3px 1px rgba(0, 0, 0, 0.15);\n",
              "        filter: drop-shadow(0px 1px 2px rgba(0, 0, 0, 0.3));\n",
              "        fill: #FFFFFF;\n",
              "      }\n",
              "    </style>\n",
              "    <button class=\"colab-df-generate\" onclick=\"generateWithVariable('GROUNDTRUTH_DF')\"\n",
              "            title=\"Generate code using this dataframe.\"\n",
              "            style=\"display:none;\">\n",
              "\n",
              "  <svg xmlns=\"http://www.w3.org/2000/svg\" height=\"24px\"viewBox=\"0 0 24 24\"\n",
              "       width=\"24px\">\n",
              "    <path d=\"M7,19H8.4L18.45,9,17,7.55,7,17.6ZM5,21V16.75L18.45,3.32a2,2,0,0,1,2.83,0l1.4,1.43a1.91,1.91,0,0,1,.58,1.4,1.91,1.91,0,0,1-.58,1.4L9.25,21ZM18.45,9,17,7.55Zm-12,3A5.31,5.31,0,0,0,4.9,8.1,5.31,5.31,0,0,0,1,6.5,5.31,5.31,0,0,0,4.9,4.9,5.31,5.31,0,0,0,6.5,1,5.31,5.31,0,0,0,8.1,4.9,5.31,5.31,0,0,0,12,6.5,5.46,5.46,0,0,0,6.5,12Z\"/>\n",
              "  </svg>\n",
              "    </button>\n",
              "    <script>\n",
              "      (() => {\n",
              "      const buttonEl =\n",
              "        document.querySelector('#id_36860ca7-e26c-4908-a30c-6d3897186a50 button.colab-df-generate');\n",
              "      buttonEl.style.display =\n",
              "        google.colab.kernel.accessAllowed ? 'block' : 'none';\n",
              "\n",
              "      buttonEl.onclick = () => {\n",
              "        google.colab.notebook.generateWithVariable('GROUNDTRUTH_DF');\n",
              "      }\n",
              "      })();\n",
              "    </script>\n",
              "  </div>\n",
              "\n",
              "    </div>\n",
              "  </div>\n"
            ],
            "application/vnd.google.colaboratory.intrinsic+json": {
              "type": "dataframe",
              "variable_name": "GROUNDTRUTH_DF",
              "summary": "{\n  \"name\": \"GROUNDTRUTH_DF\",\n  \"rows\": 200,\n  \"fields\": [\n    {\n      \"column\": \"image_id\",\n      \"properties\": {\n        \"dtype\": \"string\",\n        \"num_unique_values\": 200,\n        \"samples\": [\n          \"ISIC_0000104\",\n          \"ISIC_0000016\",\n          \"ISIC_0000031\"\n        ],\n        \"semantic_type\": \"\",\n        \"description\": \"\"\n      }\n    },\n    {\n      \"column\": \"melanoma\",\n      \"properties\": {\n        \"dtype\": \"number\",\n        \"std\": 0.5012547071170855,\n        \"min\": 0.0,\n        \"max\": 1.0,\n        \"num_unique_values\": 2,\n        \"samples\": [\n          1.0,\n          0.0\n        ],\n        \"semantic_type\": \"\",\n        \"description\": \"\"\n      }\n    },\n    {\n      \"column\": \"seborrheic_keratosis\",\n      \"properties\": {\n        \"dtype\": \"number\",\n        \"std\": 0.0,\n        \"min\": 0.0,\n        \"max\": 0.0,\n        \"num_unique_values\": 1,\n        \"samples\": [\n          0.0\n        ],\n        \"semantic_type\": \"\",\n        \"description\": \"\"\n      }\n    },\n    {\n      \"column\": \"state\",\n      \"properties\": {\n        \"dtype\": \"number\",\n        \"std\": 0,\n        \"min\": 1,\n        \"max\": 1,\n        \"num_unique_values\": 1,\n        \"samples\": [\n          1\n        ],\n        \"semantic_type\": \"\",\n        \"description\": \"\"\n      }\n    }\n  ]\n}"
            }
          },
          "metadata": {},
          "execution_count": 36
        }
      ],
      "source": [
        "GROUNDTRUTH_DF"
      ]
    },
    {
      "cell_type": "code",
      "execution_count": 37,
      "metadata": {
        "colab": {
          "base_uri": "https://localhost:8080/"
        },
        "id": "rngWVUfpL2Bq",
        "outputId": "5d40c9ff-36ba-4613-a4cb-1a0caa45f1cd"
      },
      "outputs": [
        {
          "output_type": "stream",
          "name": "stdout",
          "text": [
            "<class 'pandas.core.frame.DataFrame'>\n",
            "RangeIndex: 200 entries, 0 to 199\n",
            "Data columns (total 4 columns):\n",
            " #   Column                Non-Null Count  Dtype  \n",
            "---  ------                --------------  -----  \n",
            " 0   image_id              200 non-null    object \n",
            " 1   melanoma              200 non-null    float64\n",
            " 2   seborrheic_keratosis  200 non-null    float64\n",
            " 3   state                 200 non-null    int64  \n",
            "dtypes: float64(2), int64(1), object(1)\n",
            "memory usage: 6.4+ KB\n"
          ]
        }
      ],
      "source": [
        "GROUNDTRUTH_DF.info()"
      ]
    },
    {
      "cell_type": "code",
      "execution_count": 38,
      "metadata": {
        "id": "gsbwDLKlQIUH"
      },
      "outputs": [],
      "source": [
        "GROUNDTRUTH_DF[['melanoma', 'seborrheic_keratosis']] = GROUNDTRUTH_DF[['melanoma', 'seborrheic_keratosis']].astype(np.int64)"
      ]
    },
    {
      "cell_type": "code",
      "execution_count": 39,
      "metadata": {
        "id": "XJ1xY9MIQW8M"
      },
      "outputs": [],
      "source": [
        "GROUNDTRUTH_DF.drop(columns=['state'], inplace=True)"
      ]
    },
    {
      "cell_type": "code",
      "execution_count": 40,
      "metadata": {
        "colab": {
          "base_uri": "https://localhost:8080/",
          "height": 424
        },
        "id": "3HmuDxIpRSRr",
        "outputId": "c7b77957-642c-432a-eb04-ae9c44d6e391"
      },
      "outputs": [
        {
          "output_type": "execute_result",
          "data": {
            "text/plain": [
              "         image_id  melanoma  seborrheic_keratosis\n",
              "0    ISIC_0000000         0                     0\n",
              "1    ISIC_0000001         0                     0\n",
              "2    ISIC_0000002         1                     0\n",
              "3    ISIC_0000003         0                     0\n",
              "4    ISIC_0000004         1                     0\n",
              "..            ...       ...                   ...\n",
              "195  ISIC_0000511         1                     0\n",
              "196  ISIC_0000513         1                     0\n",
              "197  ISIC_0000516         1                     0\n",
              "198  ISIC_0000517         1                     0\n",
              "199  ISIC_0000518         1                     0\n",
              "\n",
              "[200 rows x 3 columns]"
            ],
            "text/html": [
              "\n",
              "  <div id=\"df-d664b4ec-b3a6-42a5-8cb9-de6ec4ae015c\" class=\"colab-df-container\">\n",
              "    <div>\n",
              "<style scoped>\n",
              "    .dataframe tbody tr th:only-of-type {\n",
              "        vertical-align: middle;\n",
              "    }\n",
              "\n",
              "    .dataframe tbody tr th {\n",
              "        vertical-align: top;\n",
              "    }\n",
              "\n",
              "    .dataframe thead th {\n",
              "        text-align: right;\n",
              "    }\n",
              "</style>\n",
              "<table border=\"1\" class=\"dataframe\">\n",
              "  <thead>\n",
              "    <tr style=\"text-align: right;\">\n",
              "      <th></th>\n",
              "      <th>image_id</th>\n",
              "      <th>melanoma</th>\n",
              "      <th>seborrheic_keratosis</th>\n",
              "    </tr>\n",
              "  </thead>\n",
              "  <tbody>\n",
              "    <tr>\n",
              "      <th>0</th>\n",
              "      <td>ISIC_0000000</td>\n",
              "      <td>0</td>\n",
              "      <td>0</td>\n",
              "    </tr>\n",
              "    <tr>\n",
              "      <th>1</th>\n",
              "      <td>ISIC_0000001</td>\n",
              "      <td>0</td>\n",
              "      <td>0</td>\n",
              "    </tr>\n",
              "    <tr>\n",
              "      <th>2</th>\n",
              "      <td>ISIC_0000002</td>\n",
              "      <td>1</td>\n",
              "      <td>0</td>\n",
              "    </tr>\n",
              "    <tr>\n",
              "      <th>3</th>\n",
              "      <td>ISIC_0000003</td>\n",
              "      <td>0</td>\n",
              "      <td>0</td>\n",
              "    </tr>\n",
              "    <tr>\n",
              "      <th>4</th>\n",
              "      <td>ISIC_0000004</td>\n",
              "      <td>1</td>\n",
              "      <td>0</td>\n",
              "    </tr>\n",
              "    <tr>\n",
              "      <th>...</th>\n",
              "      <td>...</td>\n",
              "      <td>...</td>\n",
              "      <td>...</td>\n",
              "    </tr>\n",
              "    <tr>\n",
              "      <th>195</th>\n",
              "      <td>ISIC_0000511</td>\n",
              "      <td>1</td>\n",
              "      <td>0</td>\n",
              "    </tr>\n",
              "    <tr>\n",
              "      <th>196</th>\n",
              "      <td>ISIC_0000513</td>\n",
              "      <td>1</td>\n",
              "      <td>0</td>\n",
              "    </tr>\n",
              "    <tr>\n",
              "      <th>197</th>\n",
              "      <td>ISIC_0000516</td>\n",
              "      <td>1</td>\n",
              "      <td>0</td>\n",
              "    </tr>\n",
              "    <tr>\n",
              "      <th>198</th>\n",
              "      <td>ISIC_0000517</td>\n",
              "      <td>1</td>\n",
              "      <td>0</td>\n",
              "    </tr>\n",
              "    <tr>\n",
              "      <th>199</th>\n",
              "      <td>ISIC_0000518</td>\n",
              "      <td>1</td>\n",
              "      <td>0</td>\n",
              "    </tr>\n",
              "  </tbody>\n",
              "</table>\n",
              "<p>200 rows × 3 columns</p>\n",
              "</div>\n",
              "    <div class=\"colab-df-buttons\">\n",
              "\n",
              "  <div class=\"colab-df-container\">\n",
              "    <button class=\"colab-df-convert\" onclick=\"convertToInteractive('df-d664b4ec-b3a6-42a5-8cb9-de6ec4ae015c')\"\n",
              "            title=\"Convert this dataframe to an interactive table.\"\n",
              "            style=\"display:none;\">\n",
              "\n",
              "  <svg xmlns=\"http://www.w3.org/2000/svg\" height=\"24px\" viewBox=\"0 -960 960 960\">\n",
              "    <path d=\"M120-120v-720h720v720H120Zm60-500h600v-160H180v160Zm220 220h160v-160H400v160Zm0 220h160v-160H400v160ZM180-400h160v-160H180v160Zm440 0h160v-160H620v160ZM180-180h160v-160H180v160Zm440 0h160v-160H620v160Z\"/>\n",
              "  </svg>\n",
              "    </button>\n",
              "\n",
              "  <style>\n",
              "    .colab-df-container {\n",
              "      display:flex;\n",
              "      gap: 12px;\n",
              "    }\n",
              "\n",
              "    .colab-df-convert {\n",
              "      background-color: #E8F0FE;\n",
              "      border: none;\n",
              "      border-radius: 50%;\n",
              "      cursor: pointer;\n",
              "      display: none;\n",
              "      fill: #1967D2;\n",
              "      height: 32px;\n",
              "      padding: 0 0 0 0;\n",
              "      width: 32px;\n",
              "    }\n",
              "\n",
              "    .colab-df-convert:hover {\n",
              "      background-color: #E2EBFA;\n",
              "      box-shadow: 0px 1px 2px rgba(60, 64, 67, 0.3), 0px 1px 3px 1px rgba(60, 64, 67, 0.15);\n",
              "      fill: #174EA6;\n",
              "    }\n",
              "\n",
              "    .colab-df-buttons div {\n",
              "      margin-bottom: 4px;\n",
              "    }\n",
              "\n",
              "    [theme=dark] .colab-df-convert {\n",
              "      background-color: #3B4455;\n",
              "      fill: #D2E3FC;\n",
              "    }\n",
              "\n",
              "    [theme=dark] .colab-df-convert:hover {\n",
              "      background-color: #434B5C;\n",
              "      box-shadow: 0px 1px 3px 1px rgba(0, 0, 0, 0.15);\n",
              "      filter: drop-shadow(0px 1px 2px rgba(0, 0, 0, 0.3));\n",
              "      fill: #FFFFFF;\n",
              "    }\n",
              "  </style>\n",
              "\n",
              "    <script>\n",
              "      const buttonEl =\n",
              "        document.querySelector('#df-d664b4ec-b3a6-42a5-8cb9-de6ec4ae015c button.colab-df-convert');\n",
              "      buttonEl.style.display =\n",
              "        google.colab.kernel.accessAllowed ? 'block' : 'none';\n",
              "\n",
              "      async function convertToInteractive(key) {\n",
              "        const element = document.querySelector('#df-d664b4ec-b3a6-42a5-8cb9-de6ec4ae015c');\n",
              "        const dataTable =\n",
              "          await google.colab.kernel.invokeFunction('convertToInteractive',\n",
              "                                                    [key], {});\n",
              "        if (!dataTable) return;\n",
              "\n",
              "        const docLinkHtml = 'Like what you see? Visit the ' +\n",
              "          '<a target=\"_blank\" href=https://colab.research.google.com/notebooks/data_table.ipynb>data table notebook</a>'\n",
              "          + ' to learn more about interactive tables.';\n",
              "        element.innerHTML = '';\n",
              "        dataTable['output_type'] = 'display_data';\n",
              "        await google.colab.output.renderOutput(dataTable, element);\n",
              "        const docLink = document.createElement('div');\n",
              "        docLink.innerHTML = docLinkHtml;\n",
              "        element.appendChild(docLink);\n",
              "      }\n",
              "    </script>\n",
              "  </div>\n",
              "\n",
              "\n",
              "<div id=\"df-4944ff8e-e198-46ed-bfed-f6b52177ed9b\">\n",
              "  <button class=\"colab-df-quickchart\" onclick=\"quickchart('df-4944ff8e-e198-46ed-bfed-f6b52177ed9b')\"\n",
              "            title=\"Suggest charts\"\n",
              "            style=\"display:none;\">\n",
              "\n",
              "<svg xmlns=\"http://www.w3.org/2000/svg\" height=\"24px\"viewBox=\"0 0 24 24\"\n",
              "     width=\"24px\">\n",
              "    <g>\n",
              "        <path d=\"M19 3H5c-1.1 0-2 .9-2 2v14c0 1.1.9 2 2 2h14c1.1 0 2-.9 2-2V5c0-1.1-.9-2-2-2zM9 17H7v-7h2v7zm4 0h-2V7h2v10zm4 0h-2v-4h2v4z\"/>\n",
              "    </g>\n",
              "</svg>\n",
              "  </button>\n",
              "\n",
              "<style>\n",
              "  .colab-df-quickchart {\n",
              "      --bg-color: #E8F0FE;\n",
              "      --fill-color: #1967D2;\n",
              "      --hover-bg-color: #E2EBFA;\n",
              "      --hover-fill-color: #174EA6;\n",
              "      --disabled-fill-color: #AAA;\n",
              "      --disabled-bg-color: #DDD;\n",
              "  }\n",
              "\n",
              "  [theme=dark] .colab-df-quickchart {\n",
              "      --bg-color: #3B4455;\n",
              "      --fill-color: #D2E3FC;\n",
              "      --hover-bg-color: #434B5C;\n",
              "      --hover-fill-color: #FFFFFF;\n",
              "      --disabled-bg-color: #3B4455;\n",
              "      --disabled-fill-color: #666;\n",
              "  }\n",
              "\n",
              "  .colab-df-quickchart {\n",
              "    background-color: var(--bg-color);\n",
              "    border: none;\n",
              "    border-radius: 50%;\n",
              "    cursor: pointer;\n",
              "    display: none;\n",
              "    fill: var(--fill-color);\n",
              "    height: 32px;\n",
              "    padding: 0;\n",
              "    width: 32px;\n",
              "  }\n",
              "\n",
              "  .colab-df-quickchart:hover {\n",
              "    background-color: var(--hover-bg-color);\n",
              "    box-shadow: 0 1px 2px rgba(60, 64, 67, 0.3), 0 1px 3px 1px rgba(60, 64, 67, 0.15);\n",
              "    fill: var(--button-hover-fill-color);\n",
              "  }\n",
              "\n",
              "  .colab-df-quickchart-complete:disabled,\n",
              "  .colab-df-quickchart-complete:disabled:hover {\n",
              "    background-color: var(--disabled-bg-color);\n",
              "    fill: var(--disabled-fill-color);\n",
              "    box-shadow: none;\n",
              "  }\n",
              "\n",
              "  .colab-df-spinner {\n",
              "    border: 2px solid var(--fill-color);\n",
              "    border-color: transparent;\n",
              "    border-bottom-color: var(--fill-color);\n",
              "    animation:\n",
              "      spin 1s steps(1) infinite;\n",
              "  }\n",
              "\n",
              "  @keyframes spin {\n",
              "    0% {\n",
              "      border-color: transparent;\n",
              "      border-bottom-color: var(--fill-color);\n",
              "      border-left-color: var(--fill-color);\n",
              "    }\n",
              "    20% {\n",
              "      border-color: transparent;\n",
              "      border-left-color: var(--fill-color);\n",
              "      border-top-color: var(--fill-color);\n",
              "    }\n",
              "    30% {\n",
              "      border-color: transparent;\n",
              "      border-left-color: var(--fill-color);\n",
              "      border-top-color: var(--fill-color);\n",
              "      border-right-color: var(--fill-color);\n",
              "    }\n",
              "    40% {\n",
              "      border-color: transparent;\n",
              "      border-right-color: var(--fill-color);\n",
              "      border-top-color: var(--fill-color);\n",
              "    }\n",
              "    60% {\n",
              "      border-color: transparent;\n",
              "      border-right-color: var(--fill-color);\n",
              "    }\n",
              "    80% {\n",
              "      border-color: transparent;\n",
              "      border-right-color: var(--fill-color);\n",
              "      border-bottom-color: var(--fill-color);\n",
              "    }\n",
              "    90% {\n",
              "      border-color: transparent;\n",
              "      border-bottom-color: var(--fill-color);\n",
              "    }\n",
              "  }\n",
              "</style>\n",
              "\n",
              "  <script>\n",
              "    async function quickchart(key) {\n",
              "      const quickchartButtonEl =\n",
              "        document.querySelector('#' + key + ' button');\n",
              "      quickchartButtonEl.disabled = true;  // To prevent multiple clicks.\n",
              "      quickchartButtonEl.classList.add('colab-df-spinner');\n",
              "      try {\n",
              "        const charts = await google.colab.kernel.invokeFunction(\n",
              "            'suggestCharts', [key], {});\n",
              "      } catch (error) {\n",
              "        console.error('Error during call to suggestCharts:', error);\n",
              "      }\n",
              "      quickchartButtonEl.classList.remove('colab-df-spinner');\n",
              "      quickchartButtonEl.classList.add('colab-df-quickchart-complete');\n",
              "    }\n",
              "    (() => {\n",
              "      let quickchartButtonEl =\n",
              "        document.querySelector('#df-4944ff8e-e198-46ed-bfed-f6b52177ed9b button');\n",
              "      quickchartButtonEl.style.display =\n",
              "        google.colab.kernel.accessAllowed ? 'block' : 'none';\n",
              "    })();\n",
              "  </script>\n",
              "</div>\n",
              "\n",
              "  <div id=\"id_0772454c-2967-475b-8851-bba8cef9f0e2\">\n",
              "    <style>\n",
              "      .colab-df-generate {\n",
              "        background-color: #E8F0FE;\n",
              "        border: none;\n",
              "        border-radius: 50%;\n",
              "        cursor: pointer;\n",
              "        display: none;\n",
              "        fill: #1967D2;\n",
              "        height: 32px;\n",
              "        padding: 0 0 0 0;\n",
              "        width: 32px;\n",
              "      }\n",
              "\n",
              "      .colab-df-generate:hover {\n",
              "        background-color: #E2EBFA;\n",
              "        box-shadow: 0px 1px 2px rgba(60, 64, 67, 0.3), 0px 1px 3px 1px rgba(60, 64, 67, 0.15);\n",
              "        fill: #174EA6;\n",
              "      }\n",
              "\n",
              "      [theme=dark] .colab-df-generate {\n",
              "        background-color: #3B4455;\n",
              "        fill: #D2E3FC;\n",
              "      }\n",
              "\n",
              "      [theme=dark] .colab-df-generate:hover {\n",
              "        background-color: #434B5C;\n",
              "        box-shadow: 0px 1px 3px 1px rgba(0, 0, 0, 0.15);\n",
              "        filter: drop-shadow(0px 1px 2px rgba(0, 0, 0, 0.3));\n",
              "        fill: #FFFFFF;\n",
              "      }\n",
              "    </style>\n",
              "    <button class=\"colab-df-generate\" onclick=\"generateWithVariable('GROUNDTRUTH_DF')\"\n",
              "            title=\"Generate code using this dataframe.\"\n",
              "            style=\"display:none;\">\n",
              "\n",
              "  <svg xmlns=\"http://www.w3.org/2000/svg\" height=\"24px\"viewBox=\"0 0 24 24\"\n",
              "       width=\"24px\">\n",
              "    <path d=\"M7,19H8.4L18.45,9,17,7.55,7,17.6ZM5,21V16.75L18.45,3.32a2,2,0,0,1,2.83,0l1.4,1.43a1.91,1.91,0,0,1,.58,1.4,1.91,1.91,0,0,1-.58,1.4L9.25,21ZM18.45,9,17,7.55Zm-12,3A5.31,5.31,0,0,0,4.9,8.1,5.31,5.31,0,0,0,1,6.5,5.31,5.31,0,0,0,4.9,4.9,5.31,5.31,0,0,0,6.5,1,5.31,5.31,0,0,0,8.1,4.9,5.31,5.31,0,0,0,12,6.5,5.46,5.46,0,0,0,6.5,12Z\"/>\n",
              "  </svg>\n",
              "    </button>\n",
              "    <script>\n",
              "      (() => {\n",
              "      const buttonEl =\n",
              "        document.querySelector('#id_0772454c-2967-475b-8851-bba8cef9f0e2 button.colab-df-generate');\n",
              "      buttonEl.style.display =\n",
              "        google.colab.kernel.accessAllowed ? 'block' : 'none';\n",
              "\n",
              "      buttonEl.onclick = () => {\n",
              "        google.colab.notebook.generateWithVariable('GROUNDTRUTH_DF');\n",
              "      }\n",
              "      })();\n",
              "    </script>\n",
              "  </div>\n",
              "\n",
              "    </div>\n",
              "  </div>\n"
            ],
            "application/vnd.google.colaboratory.intrinsic+json": {
              "type": "dataframe",
              "variable_name": "GROUNDTRUTH_DF",
              "summary": "{\n  \"name\": \"GROUNDTRUTH_DF\",\n  \"rows\": 200,\n  \"fields\": [\n    {\n      \"column\": \"image_id\",\n      \"properties\": {\n        \"dtype\": \"string\",\n        \"num_unique_values\": 200,\n        \"samples\": [\n          \"ISIC_0000104\",\n          \"ISIC_0000016\",\n          \"ISIC_0000031\"\n        ],\n        \"semantic_type\": \"\",\n        \"description\": \"\"\n      }\n    },\n    {\n      \"column\": \"melanoma\",\n      \"properties\": {\n        \"dtype\": \"number\",\n        \"std\": 0,\n        \"min\": 0,\n        \"max\": 1,\n        \"num_unique_values\": 2,\n        \"samples\": [\n          1,\n          0\n        ],\n        \"semantic_type\": \"\",\n        \"description\": \"\"\n      }\n    },\n    {\n      \"column\": \"seborrheic_keratosis\",\n      \"properties\": {\n        \"dtype\": \"number\",\n        \"std\": 0,\n        \"min\": 0,\n        \"max\": 0,\n        \"num_unique_values\": 1,\n        \"samples\": [\n          0\n        ],\n        \"semantic_type\": \"\",\n        \"description\": \"\"\n      }\n    }\n  ]\n}"
            }
          },
          "metadata": {},
          "execution_count": 40
        }
      ],
      "source": [
        "GROUNDTRUTH_DF"
      ]
    },
    {
      "cell_type": "code",
      "source": [
        "mela = GROUNDTRUTH_DF['melanoma'].value_counts()\n",
        "mela"
      ],
      "metadata": {
        "colab": {
          "base_uri": "https://localhost:8080/"
        },
        "id": "8q4wL6uvCq0r",
        "outputId": "a3836099-ea43-4638-e587-acb44d3f18c3"
      },
      "execution_count": 41,
      "outputs": [
        {
          "output_type": "execute_result",
          "data": {
            "text/plain": [
              "melanoma\n",
              "0    100\n",
              "1    100\n",
              "Name: count, dtype: int64"
            ]
          },
          "metadata": {},
          "execution_count": 41
        }
      ]
    },
    {
      "cell_type": "code",
      "execution_count": 42,
      "metadata": {
        "id": "erYtoMLp-1cj"
      },
      "outputs": [],
      "source": [
        "imgs_idx = GROUNDTRUTH_DF['image_id'].values.tolist()\n",
        "# imgs_idx = [\"ISIC_0000000\"]"
      ]
    },
    {
      "cell_type": "markdown",
      "metadata": {
        "id": "sLBUezj3Ud52"
      },
      "source": [
        "## 2.2. Generating Features Dataset"
      ]
    },
    {
      "cell_type": "code",
      "execution_count": 43,
      "metadata": {
        "colab": {
          "base_uri": "https://localhost:8080/"
        },
        "id": "x5XIsSzgUdPe",
        "outputId": "81a616a6-89b7-4200-e63b-c7ebb839b823"
      },
      "outputs": [
        {
          "output_type": "stream",
          "name": "stderr",
          "text": [
            "\r  0% (0 of 200) |                        | Elapsed Time: 0:00:00 ETA:  --:--:--"
          ]
        },
        {
          "output_type": "stream",
          "name": "stdout",
          "text": [
            " Generating Feature for Image index : ISIC_0000000\n"
          ]
        },
        {
          "output_type": "stream",
          "name": "stderr",
          "text": [
            "\r  0% (1 of 200) |                        | Elapsed Time: 0:01:20 ETA:   4:26:00"
          ]
        },
        {
          "output_type": "stream",
          "name": "stdout",
          "text": [
            " Generating Feature for Image index : ISIC_0000001\n"
          ]
        },
        {
          "output_type": "stream",
          "name": "stderr",
          "text": [
            "\r  1% (2 of 200) |                        | Elapsed Time: 0:02:14 ETA:   2:59:07"
          ]
        },
        {
          "output_type": "stream",
          "name": "stdout",
          "text": [
            " Generating Feature for Image index : ISIC_0000002\n"
          ]
        },
        {
          "output_type": "stream",
          "name": "stderr",
          "text": [
            "\r  1% (3 of 200) |                        | Elapsed Time: 0:03:08 ETA:   2:58:42"
          ]
        },
        {
          "output_type": "stream",
          "name": "stdout",
          "text": [
            " Generating Feature for Image index : ISIC_0000003\n"
          ]
        },
        {
          "output_type": "stream",
          "name": "stderr",
          "text": [
            "\r  2% (4 of 200) |                        | Elapsed Time: 0:03:59 ETA:   2:44:33"
          ]
        },
        {
          "output_type": "stream",
          "name": "stdout",
          "text": [
            " Generating Feature for Image index : ISIC_0000004\n"
          ]
        },
        {
          "output_type": "stream",
          "name": "stderr",
          "text": [
            "\r  2% (5 of 200) |                        | Elapsed Time: 0:04:50 ETA:   2:45:32"
          ]
        },
        {
          "output_type": "stream",
          "name": "stdout",
          "text": [
            " Generating Feature for Image index : ISIC_0000006\n"
          ]
        },
        {
          "output_type": "stream",
          "name": "stderr",
          "text": [
            "\r  3% (6 of 200) |                        | Elapsed Time: 0:05:43 ETA:   2:52:42"
          ]
        },
        {
          "output_type": "stream",
          "name": "stdout",
          "text": [
            " Generating Feature for Image index : ISIC_0000007\n"
          ]
        },
        {
          "output_type": "stream",
          "name": "stderr",
          "text": [
            "\r  3% (7 of 200) |                        | Elapsed Time: 0:06:35 ETA:   2:48:06"
          ]
        },
        {
          "output_type": "stream",
          "name": "stdout",
          "text": [
            " Generating Feature for Image index : ISIC_0000008\n"
          ]
        },
        {
          "output_type": "stream",
          "name": "stderr",
          "text": [
            "\r  4% (8 of 200) |                        | Elapsed Time: 0:07:27 ETA:   2:45:56"
          ]
        },
        {
          "output_type": "stream",
          "name": "stdout",
          "text": [
            " Generating Feature for Image index : ISIC_0000009\n"
          ]
        },
        {
          "output_type": "stream",
          "name": "stderr",
          "text": [
            "\r  4% (9 of 200) |#                       | Elapsed Time: 0:08:17 ETA:   2:39:19"
          ]
        },
        {
          "output_type": "stream",
          "name": "stdout",
          "text": [
            " Generating Feature for Image index : ISIC_0000010\n"
          ]
        },
        {
          "output_type": "stream",
          "name": "stderr",
          "text": [
            "\r  5% (10 of 200) |#                      | Elapsed Time: 0:09:13 ETA:   2:55:17"
          ]
        },
        {
          "output_type": "stream",
          "name": "stdout",
          "text": [
            " Generating Feature for Image index : ISIC_0000011\n"
          ]
        },
        {
          "output_type": "stream",
          "name": "stderr",
          "text": [
            "\r  5% (11 of 200) |#                      | Elapsed Time: 0:10:03 ETA:   2:37:51"
          ]
        },
        {
          "output_type": "stream",
          "name": "stdout",
          "text": [
            " Generating Feature for Image index : ISIC_0000012\n"
          ]
        },
        {
          "output_type": "stream",
          "name": "stderr",
          "text": [
            "\r  6% (12 of 200) |#                      | Elapsed Time: 0:10:59 ETA:   2:56:54"
          ]
        },
        {
          "output_type": "stream",
          "name": "stdout",
          "text": [
            " Generating Feature for Image index : ISIC_0000013\n"
          ]
        },
        {
          "output_type": "stream",
          "name": "stderr",
          "text": [
            "\r  6% (13 of 200) |#                      | Elapsed Time: 0:11:49 ETA:   2:35:06"
          ]
        },
        {
          "output_type": "stream",
          "name": "stdout",
          "text": [
            " Generating Feature for Image index : ISIC_0000014\n"
          ]
        },
        {
          "output_type": "stream",
          "name": "stderr",
          "text": [
            "\r  7% (14 of 200) |#                      | Elapsed Time: 0:12:41 ETA:   2:42:25"
          ]
        },
        {
          "output_type": "stream",
          "name": "stdout",
          "text": [
            " Generating Feature for Image index : ISIC_0000015\n"
          ]
        },
        {
          "output_type": "stream",
          "name": "stderr",
          "text": [
            "\r  7% (15 of 200) |#                      | Elapsed Time: 0:13:31 ETA:   2:33:54"
          ]
        },
        {
          "output_type": "stream",
          "name": "stdout",
          "text": [
            " Generating Feature for Image index : ISIC_0000016\n"
          ]
        },
        {
          "output_type": "stream",
          "name": "stderr",
          "text": [
            "\r  8% (16 of 200) |#                      | Elapsed Time: 0:14:24 ETA:   2:41:11"
          ]
        },
        {
          "output_type": "stream",
          "name": "stdout",
          "text": [
            " Generating Feature for Image index : ISIC_0000017\n"
          ]
        },
        {
          "output_type": "stream",
          "name": "stderr",
          "text": [
            "\r  8% (17 of 200) |#                      | Elapsed Time: 0:15:14 ETA:   2:33:39"
          ]
        },
        {
          "output_type": "stream",
          "name": "stdout",
          "text": [
            " Generating Feature for Image index : ISIC_0000018\n"
          ]
        },
        {
          "output_type": "stream",
          "name": "stderr",
          "text": [
            "\r  9% (18 of 200) |##                     | Elapsed Time: 0:16:06 ETA:   2:37:25"
          ]
        },
        {
          "output_type": "stream",
          "name": "stdout",
          "text": [
            " Generating Feature for Image index : ISIC_0000019\n"
          ]
        },
        {
          "output_type": "stream",
          "name": "stderr",
          "text": [
            "\r  9% (19 of 200) |##                     | Elapsed Time: 0:16:57 ETA:   2:33:56"
          ]
        },
        {
          "output_type": "stream",
          "name": "stdout",
          "text": [
            " Generating Feature for Image index : ISIC_0000020\n"
          ]
        },
        {
          "output_type": "stream",
          "name": "stderr",
          "text": [
            "\r 10% (20 of 200) |##                     | Elapsed Time: 0:17:47 ETA:   2:29:59"
          ]
        },
        {
          "output_type": "stream",
          "name": "stdout",
          "text": [
            " Generating Feature for Image index : ISIC_0000021\n"
          ]
        },
        {
          "output_type": "stream",
          "name": "stderr",
          "text": [
            "\r 10% (21 of 200) |##                     | Elapsed Time: 0:18:40 ETA:   2:38:32"
          ]
        },
        {
          "output_type": "stream",
          "name": "stdout",
          "text": [
            " Generating Feature for Image index : ISIC_0000022\n"
          ]
        },
        {
          "output_type": "stream",
          "name": "stderr",
          "text": [
            "\r 11% (22 of 200) |##                     | Elapsed Time: 0:19:32 ETA:   2:34:36"
          ]
        },
        {
          "output_type": "stream",
          "name": "stdout",
          "text": [
            " Generating Feature for Image index : ISIC_0000023\n"
          ]
        },
        {
          "output_type": "stream",
          "name": "stderr",
          "text": [
            "\r 11% (23 of 200) |##                     | Elapsed Time: 0:20:27 ETA:   2:41:06"
          ]
        },
        {
          "output_type": "stream",
          "name": "stdout",
          "text": [
            " Generating Feature for Image index : ISIC_0000024\n"
          ]
        },
        {
          "output_type": "stream",
          "name": "stderr",
          "text": [
            "\r 12% (24 of 200) |##                     | Elapsed Time: 0:21:18 ETA:   2:29:07"
          ]
        },
        {
          "output_type": "stream",
          "name": "stdout",
          "text": [
            " Generating Feature for Image index : ISIC_0000025\n"
          ]
        },
        {
          "output_type": "stream",
          "name": "stderr",
          "text": [
            "\r 12% (25 of 200) |##                     | Elapsed Time: 0:22:11 ETA:   2:35:16"
          ]
        },
        {
          "output_type": "stream",
          "name": "stdout",
          "text": [
            " Generating Feature for Image index : ISIC_0000026\n"
          ]
        },
        {
          "output_type": "stream",
          "name": "stderr",
          "text": [
            "\r 13% (26 of 200) |##                     | Elapsed Time: 0:23:02 ETA:   2:26:09"
          ]
        },
        {
          "output_type": "stream",
          "name": "stdout",
          "text": [
            " Generating Feature for Image index : ISIC_0000027\n"
          ]
        },
        {
          "output_type": "stream",
          "name": "stderr",
          "text": [
            "\r 13% (27 of 200) |###                    | Elapsed Time: 0:23:54 ETA:   2:31:55"
          ]
        },
        {
          "output_type": "stream",
          "name": "stdout",
          "text": [
            " Generating Feature for Image index : ISIC_0000028\n"
          ]
        },
        {
          "output_type": "stream",
          "name": "stderr",
          "text": [
            "\r 14% (28 of 200) |###                    | Elapsed Time: 0:24:45 ETA:   2:25:36"
          ]
        },
        {
          "output_type": "stream",
          "name": "stdout",
          "text": [
            " Generating Feature for Image index : ISIC_0000029\n"
          ]
        },
        {
          "output_type": "stream",
          "name": "stderr",
          "text": [
            "\r 14% (29 of 200) |###                    | Elapsed Time: 0:25:35 ETA:   2:22:28"
          ]
        },
        {
          "output_type": "stream",
          "name": "stdout",
          "text": [
            " Generating Feature for Image index : ISIC_0000030\n"
          ]
        },
        {
          "output_type": "stream",
          "name": "stderr",
          "text": [
            "\r 15% (30 of 200) |###                    | Elapsed Time: 0:26:27 ETA:   2:28:34"
          ]
        },
        {
          "output_type": "stream",
          "name": "stdout",
          "text": [
            " Generating Feature for Image index : ISIC_0000031\n"
          ]
        },
        {
          "output_type": "stream",
          "name": "stderr",
          "text": [
            "\r 15% (31 of 200) |###                    | Elapsed Time: 0:27:18 ETA:   2:22:10"
          ]
        },
        {
          "output_type": "stream",
          "name": "stdout",
          "text": [
            " Generating Feature for Image index : ISIC_0000032\n"
          ]
        },
        {
          "output_type": "stream",
          "name": "stderr",
          "text": [
            "\r 16% (32 of 200) |###                    | Elapsed Time: 0:28:11 ETA:   2:28:27"
          ]
        },
        {
          "output_type": "stream",
          "name": "stdout",
          "text": [
            " Generating Feature for Image index : ISIC_0000034\n"
          ]
        },
        {
          "output_type": "stream",
          "name": "stderr",
          "text": [
            "\r 16% (33 of 200) |###                    | Elapsed Time: 0:29:02 ETA:   2:21:54"
          ]
        },
        {
          "output_type": "stream",
          "name": "stdout",
          "text": [
            " Generating Feature for Image index : ISIC_0000035\n"
          ]
        },
        {
          "output_type": "stream",
          "name": "stderr",
          "text": [
            "\r 17% (34 of 200) |###                    | Elapsed Time: 0:29:54 ETA:   2:23:18"
          ]
        },
        {
          "output_type": "stream",
          "name": "stdout",
          "text": [
            " Generating Feature for Image index : ISIC_0000036\n"
          ]
        },
        {
          "output_type": "stream",
          "name": "stderr",
          "text": [
            "\r 17% (35 of 200) |####                   | Elapsed Time: 0:30:45 ETA:   2:19:57"
          ]
        },
        {
          "output_type": "stream",
          "name": "stdout",
          "text": [
            " Generating Feature for Image index : ISIC_0000037\n"
          ]
        },
        {
          "output_type": "stream",
          "name": "stderr",
          "text": [
            "\r 18% (36 of 200) |####                   | Elapsed Time: 0:31:35 ETA:   2:17:18"
          ]
        },
        {
          "output_type": "stream",
          "name": "stdout",
          "text": [
            " Generating Feature for Image index : ISIC_0000038\n"
          ]
        },
        {
          "output_type": "stream",
          "name": "stderr",
          "text": [
            "\r 18% (37 of 200) |####                   | Elapsed Time: 0:32:28 ETA:   2:24:12"
          ]
        },
        {
          "output_type": "stream",
          "name": "stdout",
          "text": [
            " Generating Feature for Image index : ISIC_0000039\n"
          ]
        },
        {
          "output_type": "stream",
          "name": "stderr",
          "text": [
            "\r 19% (38 of 200) |####                   | Elapsed Time: 0:33:19 ETA:   2:17:21"
          ]
        },
        {
          "output_type": "stream",
          "name": "stdout",
          "text": [
            " Generating Feature for Image index : ISIC_0000040\n"
          ]
        },
        {
          "output_type": "stream",
          "name": "stderr",
          "text": [
            "\r 19% (39 of 200) |####                   | Elapsed Time: 0:34:12 ETA:   2:23:17"
          ]
        },
        {
          "output_type": "stream",
          "name": "stdout",
          "text": [
            " Generating Feature for Image index : ISIC_0000041\n"
          ]
        },
        {
          "output_type": "stream",
          "name": "stderr",
          "text": [
            "\r 20% (40 of 200) |####                   | Elapsed Time: 0:35:06 ETA:   2:24:13"
          ]
        },
        {
          "output_type": "stream",
          "name": "stdout",
          "text": [
            " Generating Feature for Image index : ISIC_0000042\n"
          ]
        },
        {
          "output_type": "stream",
          "name": "stderr",
          "text": [
            "\r 20% (41 of 200) |####                   | Elapsed Time: 0:35:58 ETA:   2:18:20"
          ]
        },
        {
          "output_type": "stream",
          "name": "stdout",
          "text": [
            " Generating Feature for Image index : ISIC_0000043\n"
          ]
        },
        {
          "output_type": "stream",
          "name": "stderr",
          "text": [
            "\r 21% (42 of 200) |####                   | Elapsed Time: 0:36:49 ETA:   2:11:55"
          ]
        },
        {
          "output_type": "stream",
          "name": "stdout",
          "text": [
            " Generating Feature for Image index : ISIC_0000044\n"
          ]
        },
        {
          "output_type": "stream",
          "name": "stderr",
          "text": [
            "\r 21% (43 of 200) |####                   | Elapsed Time: 0:37:41 ETA:   2:17:13"
          ]
        },
        {
          "output_type": "stream",
          "name": "stdout",
          "text": [
            " Generating Feature for Image index : ISIC_0000045\n"
          ]
        },
        {
          "output_type": "stream",
          "name": "stderr",
          "text": [
            "\r 22% (44 of 200) |#####                  | Elapsed Time: 0:38:31 ETA:   2:11:04"
          ]
        },
        {
          "output_type": "stream",
          "name": "stdout",
          "text": [
            " Generating Feature for Image index : ISIC_0000046\n"
          ]
        },
        {
          "output_type": "stream",
          "name": "stderr",
          "text": [
            "\r 22% (45 of 200) |#####                  | Elapsed Time: 0:39:21 ETA:   2:07:52"
          ]
        },
        {
          "output_type": "stream",
          "name": "stdout",
          "text": [
            " Generating Feature for Image index : ISIC_0000047\n"
          ]
        },
        {
          "output_type": "stream",
          "name": "stderr",
          "text": [
            "\r 23% (46 of 200) |#####                  | Elapsed Time: 0:40:14 ETA:   2:15:18"
          ]
        },
        {
          "output_type": "stream",
          "name": "stdout",
          "text": [
            " Generating Feature for Image index : ISIC_0000048\n"
          ]
        },
        {
          "output_type": "stream",
          "name": "stderr",
          "text": [
            "\r 23% (47 of 200) |#####                  | Elapsed Time: 0:41:05 ETA:   2:10:51"
          ]
        },
        {
          "output_type": "stream",
          "name": "stdout",
          "text": [
            " Generating Feature for Image index : ISIC_0000049\n"
          ]
        },
        {
          "output_type": "stream",
          "name": "stderr",
          "text": [
            "\r 24% (48 of 200) |#####                  | Elapsed Time: 0:41:57 ETA:   2:12:41"
          ]
        },
        {
          "output_type": "stream",
          "name": "stdout",
          "text": [
            " Generating Feature for Image index : ISIC_0000050\n"
          ]
        },
        {
          "output_type": "stream",
          "name": "stderr",
          "text": [
            "\r 24% (49 of 200) |#####                  | Elapsed Time: 0:42:48 ETA:   2:06:44"
          ]
        },
        {
          "output_type": "stream",
          "name": "stdout",
          "text": [
            " Generating Feature for Image index : ISIC_0000051\n"
          ]
        },
        {
          "output_type": "stream",
          "name": "stderr",
          "text": [
            "\r 25% (50 of 200) |#####                  | Elapsed Time: 0:43:39 ETA:   2:07:10"
          ]
        },
        {
          "output_type": "stream",
          "name": "stdout",
          "text": [
            " Generating Feature for Image index : ISIC_0000052\n"
          ]
        },
        {
          "output_type": "stream",
          "name": "stderr",
          "text": [
            "\r 25% (51 of 200) |#####                  | Elapsed Time: 0:44:30 ETA:   2:07:44"
          ]
        },
        {
          "output_type": "stream",
          "name": "stdout",
          "text": [
            " Generating Feature for Image index : ISIC_0000053\n"
          ]
        },
        {
          "output_type": "stream",
          "name": "stderr",
          "text": [
            "\r 26% (52 of 200) |#####                  | Elapsed Time: 0:45:20 ETA:   2:03:45"
          ]
        },
        {
          "output_type": "stream",
          "name": "stdout",
          "text": [
            " Generating Feature for Image index : ISIC_0000054\n"
          ]
        },
        {
          "output_type": "stream",
          "name": "stderr",
          "text": [
            "\r 26% (53 of 200) |######                 | Elapsed Time: 0:46:14 ETA:   2:11:12"
          ]
        },
        {
          "output_type": "stream",
          "name": "stdout",
          "text": [
            " Generating Feature for Image index : ISIC_0000055\n"
          ]
        },
        {
          "output_type": "stream",
          "name": "stderr",
          "text": [
            "\r 27% (54 of 200) |######                 | Elapsed Time: 0:47:04 ETA:   2:02:11"
          ]
        },
        {
          "output_type": "stream",
          "name": "stdout",
          "text": [
            " Generating Feature for Image index : ISIC_0000056\n"
          ]
        },
        {
          "output_type": "stream",
          "name": "stderr",
          "text": [
            "\r 27% (55 of 200) |######                 | Elapsed Time: 0:47:57 ETA:   2:08:00"
          ]
        },
        {
          "output_type": "stream",
          "name": "stdout",
          "text": [
            " Generating Feature for Image index : ISIC_0000057\n"
          ]
        },
        {
          "output_type": "stream",
          "name": "stderr",
          "text": [
            "\r 28% (56 of 200) |######                 | Elapsed Time: 0:48:48 ETA:   2:01:38"
          ]
        },
        {
          "output_type": "stream",
          "name": "stdout",
          "text": [
            " Generating Feature for Image index : ISIC_0000059\n"
          ]
        },
        {
          "output_type": "stream",
          "name": "stderr",
          "text": [
            "\r 28% (57 of 200) |######                 | Elapsed Time: 0:49:40 ETA:   2:05:16"
          ]
        },
        {
          "output_type": "stream",
          "name": "stdout",
          "text": [
            " Generating Feature for Image index : ISIC_0000061\n"
          ]
        },
        {
          "output_type": "stream",
          "name": "stderr",
          "text": [
            "\r 29% (58 of 200) |######                 | Elapsed Time: 0:50:31 ETA:   2:00:28"
          ]
        },
        {
          "output_type": "stream",
          "name": "stdout",
          "text": [
            " Generating Feature for Image index : ISIC_0000062\n"
          ]
        },
        {
          "output_type": "stream",
          "name": "stderr",
          "text": [
            "\r 29% (59 of 200) |######                 | Elapsed Time: 0:51:24 ETA:   2:04:54"
          ]
        },
        {
          "output_type": "stream",
          "name": "stdout",
          "text": [
            " Generating Feature for Image index : ISIC_0000063\n"
          ]
        },
        {
          "output_type": "stream",
          "name": "stderr",
          "text": [
            "\r 30% (60 of 200) |######                 | Elapsed Time: 0:52:15 ETA:   1:58:16"
          ]
        },
        {
          "output_type": "stream",
          "name": "stdout",
          "text": [
            " Generating Feature for Image index : ISIC_0000064\n"
          ]
        },
        {
          "output_type": "stream",
          "name": "stderr",
          "text": [
            "\r 30% (61 of 200) |#######                | Elapsed Time: 0:53:05 ETA:   1:55:37"
          ]
        },
        {
          "output_type": "stream",
          "name": "stdout",
          "text": [
            " Generating Feature for Image index : ISIC_0000065\n"
          ]
        },
        {
          "output_type": "stream",
          "name": "stderr",
          "text": [
            "\r 31% (62 of 200) |#######                | Elapsed Time: 0:53:58 ETA:   2:01:42"
          ]
        },
        {
          "output_type": "stream",
          "name": "stdout",
          "text": [
            " Generating Feature for Image index : ISIC_0000066\n"
          ]
        },
        {
          "output_type": "stream",
          "name": "stderr",
          "text": [
            "\r 31% (63 of 200) |#######                | Elapsed Time: 0:54:48 ETA:   1:54:40"
          ]
        },
        {
          "output_type": "stream",
          "name": "stdout",
          "text": [
            " Generating Feature for Image index : ISIC_0000067\n"
          ]
        },
        {
          "output_type": "stream",
          "name": "stderr",
          "text": [
            "\r 32% (64 of 200) |#######                | Elapsed Time: 0:55:41 ETA:   1:59:00"
          ]
        },
        {
          "output_type": "stream",
          "name": "stdout",
          "text": [
            " Generating Feature for Image index : ISIC_0000068\n"
          ]
        },
        {
          "output_type": "stream",
          "name": "stderr",
          "text": [
            "\r 32% (65 of 200) |#######                | Elapsed Time: 0:56:31 ETA:   1:53:28"
          ]
        },
        {
          "output_type": "stream",
          "name": "stdout",
          "text": [
            " Generating Feature for Image index : ISIC_0000069\n"
          ]
        },
        {
          "output_type": "stream",
          "name": "stderr",
          "text": [
            "\r 33% (66 of 200) |#######                | Elapsed Time: 0:57:21 ETA:   1:52:14"
          ]
        },
        {
          "output_type": "stream",
          "name": "stdout",
          "text": [
            " Generating Feature for Image index : ISIC_0000071\n"
          ]
        },
        {
          "output_type": "stream",
          "name": "stderr",
          "text": [
            "\r 33% (67 of 200) |#######                | Elapsed Time: 0:58:14 ETA:   1:57:34"
          ]
        },
        {
          "output_type": "stream",
          "name": "stdout",
          "text": [
            " Generating Feature for Image index : ISIC_0000072\n"
          ]
        },
        {
          "output_type": "stream",
          "name": "stderr",
          "text": [
            "\r 34% (68 of 200) |#######                | Elapsed Time: 0:59:06 ETA:   1:53:47"
          ]
        },
        {
          "output_type": "stream",
          "name": "stdout",
          "text": [
            " Generating Feature for Image index : ISIC_0000073\n"
          ]
        },
        {
          "output_type": "stream",
          "name": "stderr",
          "text": [
            "\r 34% (69 of 200) |#######                | Elapsed Time: 0:59:58 ETA:   1:54:14"
          ]
        },
        {
          "output_type": "stream",
          "name": "stdout",
          "text": [
            " Generating Feature for Image index : ISIC_0000074\n"
          ]
        },
        {
          "output_type": "stream",
          "name": "stderr",
          "text": [
            "\r 35% (70 of 200) |########               | Elapsed Time: 1:00:48 ETA:   1:48:37"
          ]
        },
        {
          "output_type": "stream",
          "name": "stdout",
          "text": [
            " Generating Feature for Image index : ISIC_0000075\n"
          ]
        },
        {
          "output_type": "stream",
          "name": "stderr",
          "text": [
            "\r 35% (71 of 200) |########               | Elapsed Time: 1:01:41 ETA:   1:53:11"
          ]
        },
        {
          "output_type": "stream",
          "name": "stdout",
          "text": [
            " Generating Feature for Image index : ISIC_0000077\n"
          ]
        },
        {
          "output_type": "stream",
          "name": "stderr",
          "text": [
            "\r 36% (72 of 200) |########               | Elapsed Time: 1:02:31 ETA:   1:46:53"
          ]
        },
        {
          "output_type": "stream",
          "name": "stdout",
          "text": [
            " Generating Feature for Image index : ISIC_0000078\n"
          ]
        },
        {
          "output_type": "stream",
          "name": "stderr",
          "text": [
            "\r 36% (73 of 200) |########               | Elapsed Time: 1:03:24 ETA:   1:50:50"
          ]
        },
        {
          "output_type": "stream",
          "name": "stdout",
          "text": [
            " Generating Feature for Image index : ISIC_0000079\n"
          ]
        },
        {
          "output_type": "stream",
          "name": "stderr",
          "text": [
            "\r 37% (74 of 200) |########               | Elapsed Time: 1:04:16 ETA:   1:50:20"
          ]
        },
        {
          "output_type": "stream",
          "name": "stdout",
          "text": [
            " Generating Feature for Image index : ISIC_0000080\n"
          ]
        },
        {
          "output_type": "stream",
          "name": "stderr",
          "text": [
            "\r 37% (75 of 200) |########               | Elapsed Time: 1:05:09 ETA:   1:50:23"
          ]
        },
        {
          "output_type": "stream",
          "name": "stdout",
          "text": [
            " Generating Feature for Image index : ISIC_0000081\n"
          ]
        },
        {
          "output_type": "stream",
          "name": "stderr",
          "text": [
            "\r 38% (76 of 200) |########               | Elapsed Time: 1:06:06 ETA:   1:56:42"
          ]
        },
        {
          "output_type": "stream",
          "name": "stdout",
          "text": [
            " Generating Feature for Image index : ISIC_0000082\n"
          ]
        },
        {
          "output_type": "stream",
          "name": "stderr",
          "text": [
            "\r 38% (77 of 200) |########               | Elapsed Time: 1:06:57 ETA:   1:46:16"
          ]
        },
        {
          "output_type": "stream",
          "name": "stdout",
          "text": [
            " Generating Feature for Image index : ISIC_0000085\n"
          ]
        },
        {
          "output_type": "stream",
          "name": "stderr",
          "text": [
            "\r 39% (78 of 200) |########               | Elapsed Time: 1:07:50 ETA:   1:47:01"
          ]
        },
        {
          "output_type": "stream",
          "name": "stdout",
          "text": [
            " Generating Feature for Image index : ISIC_0000086\n"
          ]
        },
        {
          "output_type": "stream",
          "name": "stderr",
          "text": [
            "\r 39% (79 of 200) |#########              | Elapsed Time: 1:08:42 ETA:   1:45:07"
          ]
        },
        {
          "output_type": "stream",
          "name": "stdout",
          "text": [
            " Generating Feature for Image index : ISIC_0000087\n"
          ]
        },
        {
          "output_type": "stream",
          "name": "stderr",
          "text": [
            "\r 40% (80 of 200) |#########              | Elapsed Time: 1:09:32 ETA:   1:40:06"
          ]
        },
        {
          "output_type": "stream",
          "name": "stdout",
          "text": [
            " Generating Feature for Image index : ISIC_0000088\n"
          ]
        },
        {
          "output_type": "stream",
          "name": "stderr",
          "text": [
            "\r 40% (81 of 200) |#########              | Elapsed Time: 1:10:25 ETA:   1:45:10"
          ]
        },
        {
          "output_type": "stream",
          "name": "stdout",
          "text": [
            " Generating Feature for Image index : ISIC_0000089\n"
          ]
        },
        {
          "output_type": "stream",
          "name": "stderr",
          "text": [
            "\r 41% (82 of 200) |#########              | Elapsed Time: 1:11:16 ETA:   1:40:42"
          ]
        },
        {
          "output_type": "stream",
          "name": "stdout",
          "text": [
            " Generating Feature for Image index : ISIC_0000091\n"
          ]
        },
        {
          "output_type": "stream",
          "name": "stderr",
          "text": [
            "\r 41% (83 of 200) |#########              | Elapsed Time: 1:12:10 ETA:   1:44:07"
          ]
        },
        {
          "output_type": "stream",
          "name": "stdout",
          "text": [
            " Generating Feature for Image index : ISIC_0000092\n"
          ]
        },
        {
          "output_type": "stream",
          "name": "stderr",
          "text": [
            "\r 42% (84 of 200) |#########              | Elapsed Time: 1:13:01 ETA:   1:39:15"
          ]
        },
        {
          "output_type": "stream",
          "name": "stdout",
          "text": [
            " Generating Feature for Image index : ISIC_0000093\n"
          ]
        },
        {
          "output_type": "stream",
          "name": "stderr",
          "text": [
            "\r 42% (85 of 200) |#########              | Elapsed Time: 1:13:56 ETA:   1:44:55"
          ]
        },
        {
          "output_type": "stream",
          "name": "stdout",
          "text": [
            " Generating Feature for Image index : ISIC_0000094\n"
          ]
        },
        {
          "output_type": "stream",
          "name": "stderr",
          "text": [
            "\r 43% (86 of 200) |#########              | Elapsed Time: 1:14:51 ETA:   1:44:30"
          ]
        },
        {
          "output_type": "stream",
          "name": "stdout",
          "text": [
            " Generating Feature for Image index : ISIC_0000095\n"
          ]
        },
        {
          "output_type": "stream",
          "name": "stderr",
          "text": [
            "\r 43% (87 of 200) |##########             | Elapsed Time: 1:15:44 ETA:   1:40:05"
          ]
        },
        {
          "output_type": "stream",
          "name": "stdout",
          "text": [
            " Generating Feature for Image index : ISIC_0000096\n"
          ]
        },
        {
          "output_type": "stream",
          "name": "stderr",
          "text": [
            "\r 44% (88 of 200) |##########             | Elapsed Time: 1:16:35 ETA:   1:34:56"
          ]
        },
        {
          "output_type": "stream",
          "name": "stdout",
          "text": [
            " Generating Feature for Image index : ISIC_0000097\n"
          ]
        },
        {
          "output_type": "stream",
          "name": "stderr",
          "text": [
            "\r 44% (89 of 200) |##########             | Elapsed Time: 1:17:28 ETA:   1:38:25"
          ]
        },
        {
          "output_type": "stream",
          "name": "stdout",
          "text": [
            " Generating Feature for Image index : ISIC_0000098\n"
          ]
        },
        {
          "output_type": "stream",
          "name": "stderr",
          "text": [
            "\r 45% (90 of 200) |##########             | Elapsed Time: 1:18:28 ETA:   1:49:28"
          ]
        },
        {
          "output_type": "stream",
          "name": "stdout",
          "text": [
            " Generating Feature for Image index : ISIC_0000099\n"
          ]
        },
        {
          "output_type": "stream",
          "name": "stderr",
          "text": [
            "\r 45% (91 of 200) |##########             | Elapsed Time: 1:19:17 ETA:   1:30:12"
          ]
        },
        {
          "output_type": "stream",
          "name": "stdout",
          "text": [
            " Generating Feature for Image index : ISIC_0000100\n"
          ]
        },
        {
          "output_type": "stream",
          "name": "stderr",
          "text": [
            "\r 46% (92 of 200) |##########             | Elapsed Time: 1:20:11 ETA:   1:35:38"
          ]
        },
        {
          "output_type": "stream",
          "name": "stdout",
          "text": [
            " Generating Feature for Image index : ISIC_0000101\n"
          ]
        },
        {
          "output_type": "stream",
          "name": "stderr",
          "text": [
            "\r 46% (93 of 200) |##########             | Elapsed Time: 1:21:01 ETA:   1:30:08"
          ]
        },
        {
          "output_type": "stream",
          "name": "stdout",
          "text": [
            " Generating Feature for Image index : ISIC_0000102\n"
          ]
        },
        {
          "output_type": "stream",
          "name": "stderr",
          "text": [
            "\r 47% (94 of 200) |##########             | Elapsed Time: 1:22:01 ETA:   1:46:31"
          ]
        },
        {
          "output_type": "stream",
          "name": "stdout",
          "text": [
            " Generating Feature for Image index : ISIC_0000103\n"
          ]
        },
        {
          "output_type": "stream",
          "name": "stderr",
          "text": [
            "\r 47% (95 of 200) |##########             | Elapsed Time: 1:22:54 ETA:   1:32:10"
          ]
        },
        {
          "output_type": "stream",
          "name": "stdout",
          "text": [
            " Generating Feature for Image index : ISIC_0000104\n"
          ]
        },
        {
          "output_type": "stream",
          "name": "stderr",
          "text": [
            "\r 48% (96 of 200) |###########            | Elapsed Time: 1:23:46 ETA:   1:29:02"
          ]
        },
        {
          "output_type": "stream",
          "name": "stdout",
          "text": [
            " Generating Feature for Image index : ISIC_0000105\n"
          ]
        },
        {
          "output_type": "stream",
          "name": "stderr",
          "text": [
            "\r 48% (97 of 200) |###########            | Elapsed Time: 1:24:41 ETA:   1:34:53"
          ]
        },
        {
          "output_type": "stream",
          "name": "stdout",
          "text": [
            " Generating Feature for Image index : ISIC_0000107\n"
          ]
        },
        {
          "output_type": "stream",
          "name": "stderr",
          "text": [
            "\r 49% (98 of 200) |###########            | Elapsed Time: 1:25:32 ETA:   1:27:04"
          ]
        },
        {
          "output_type": "stream",
          "name": "stdout",
          "text": [
            " Generating Feature for Image index : ISIC_0000108\n"
          ]
        },
        {
          "output_type": "stream",
          "name": "stderr",
          "text": [
            "\r 49% (99 of 200) |###########            | Elapsed Time: 1:26:24 ETA:   1:26:48"
          ]
        },
        {
          "output_type": "stream",
          "name": "stdout",
          "text": [
            " Generating Feature for Image index : ISIC_0000109\n"
          ]
        },
        {
          "output_type": "stream",
          "name": "stderr",
          "text": [
            "\r 50% (100 of 200) |###########           | Elapsed Time: 1:27:15 ETA:   1:25:27"
          ]
        },
        {
          "output_type": "stream",
          "name": "stdout",
          "text": [
            " Generating Feature for Image index : ISIC_0000110\n"
          ]
        },
        {
          "output_type": "stream",
          "name": "stderr",
          "text": [
            "\r 50% (101 of 200) |###########           | Elapsed Time: 1:28:06 ETA:   1:25:09"
          ]
        },
        {
          "output_type": "stream",
          "name": "stdout",
          "text": [
            " Generating Feature for Image index : ISIC_0000111\n"
          ]
        },
        {
          "output_type": "stream",
          "name": "stderr",
          "text": [
            "\r 51% (102 of 200) |###########           | Elapsed Time: 1:28:58 ETA:   1:24:45"
          ]
        },
        {
          "output_type": "stream",
          "name": "stdout",
          "text": [
            " Generating Feature for Image index : ISIC_0000112\n"
          ]
        },
        {
          "output_type": "stream",
          "name": "stderr",
          "text": [
            "\r 51% (103 of 200) |###########           | Elapsed Time: 1:29:49 ETA:   1:22:26"
          ]
        },
        {
          "output_type": "stream",
          "name": "stdout",
          "text": [
            " Generating Feature for Image index : ISIC_0000113\n"
          ]
        },
        {
          "output_type": "stream",
          "name": "stderr",
          "text": [
            "\r 52% (104 of 200) |###########           | Elapsed Time: 1:30:43 ETA:   1:25:33"
          ]
        },
        {
          "output_type": "stream",
          "name": "stdout",
          "text": [
            " Generating Feature for Image index : ISIC_0000116\n"
          ]
        },
        {
          "output_type": "stream",
          "name": "stderr",
          "text": [
            "\r 52% (105 of 200) |###########           | Elapsed Time: 1:31:33 ETA:   1:19:31"
          ]
        },
        {
          "output_type": "stream",
          "name": "stdout",
          "text": [
            " Generating Feature for Image index : ISIC_0000118\n"
          ]
        },
        {
          "output_type": "stream",
          "name": "stderr",
          "text": [
            "\r 53% (106 of 200) |###########           | Elapsed Time: 1:32:28 ETA:   1:26:23"
          ]
        },
        {
          "output_type": "stream",
          "name": "stdout",
          "text": [
            " Generating Feature for Image index : ISIC_0000119\n"
          ]
        },
        {
          "output_type": "stream",
          "name": "stderr",
          "text": [
            "\r 53% (107 of 200) |###########           | Elapsed Time: 1:33:19 ETA:   1:18:36"
          ]
        },
        {
          "output_type": "stream",
          "name": "stdout",
          "text": [
            " Generating Feature for Image index : ISIC_0000120\n"
          ]
        },
        {
          "output_type": "stream",
          "name": "stderr",
          "text": [
            "\r 54% (108 of 200) |###########           | Elapsed Time: 1:34:12 ETA:   1:20:46"
          ]
        },
        {
          "output_type": "stream",
          "name": "stdout",
          "text": [
            " Generating Feature for Image index : ISIC_0000121\n"
          ]
        },
        {
          "output_type": "stream",
          "name": "stderr",
          "text": [
            "\r 54% (109 of 200) |###########           | Elapsed Time: 1:35:02 ETA:   1:16:00"
          ]
        },
        {
          "output_type": "stream",
          "name": "stdout",
          "text": [
            " Generating Feature for Image index : ISIC_0000122\n"
          ]
        },
        {
          "output_type": "stream",
          "name": "stderr",
          "text": [
            "\r 55% (110 of 200) |############          | Elapsed Time: 1:35:53 ETA:   1:17:29"
          ]
        },
        {
          "output_type": "stream",
          "name": "stdout",
          "text": [
            " Generating Feature for Image index : ISIC_0000123\n"
          ]
        },
        {
          "output_type": "stream",
          "name": "stderr",
          "text": [
            "\r 55% (111 of 200) |############          | Elapsed Time: 1:36:45 ETA:   1:16:53"
          ]
        },
        {
          "output_type": "stream",
          "name": "stdout",
          "text": [
            " Generating Feature for Image index : ISIC_0000124\n"
          ]
        },
        {
          "output_type": "stream",
          "name": "stderr",
          "text": [
            "\r 56% (112 of 200) |############          | Elapsed Time: 1:37:36 ETA:   1:13:46"
          ]
        },
        {
          "output_type": "stream",
          "name": "stdout",
          "text": [
            " Generating Feature for Image index : ISIC_0000125\n"
          ]
        },
        {
          "output_type": "stream",
          "name": "stderr",
          "text": [
            "\r 56% (113 of 200) |############          | Elapsed Time: 1:38:40 ETA:   1:33:12"
          ]
        },
        {
          "output_type": "stream",
          "name": "stdout",
          "text": [
            " Generating Feature for Image index : ISIC_0000126\n"
          ]
        },
        {
          "output_type": "stream",
          "name": "stderr",
          "text": [
            "\r 57% (114 of 200) |############          | Elapsed Time: 1:39:30 ETA:   1:12:40"
          ]
        },
        {
          "output_type": "stream",
          "name": "stdout",
          "text": [
            " Generating Feature for Image index : ISIC_0000127\n"
          ]
        },
        {
          "output_type": "stream",
          "name": "stderr",
          "text": [
            "\r 57% (115 of 200) |############          | Elapsed Time: 1:40:20 ETA:   1:10:40"
          ]
        },
        {
          "output_type": "stream",
          "name": "stdout",
          "text": [
            " Generating Feature for Image index : ISIC_0000128\n"
          ]
        },
        {
          "output_type": "stream",
          "name": "stderr",
          "text": [
            "\r 58% (116 of 200) |############          | Elapsed Time: 1:41:13 ETA:   1:13:47"
          ]
        },
        {
          "output_type": "stream",
          "name": "stdout",
          "text": [
            " Generating Feature for Image index : ISIC_0000129\n"
          ]
        },
        {
          "output_type": "stream",
          "name": "stderr",
          "text": [
            "\r 58% (117 of 200) |############          | Elapsed Time: 1:42:06 ETA:   1:13:29"
          ]
        },
        {
          "output_type": "stream",
          "name": "stdout",
          "text": [
            " Generating Feature for Image index : ISIC_0000130\n"
          ]
        },
        {
          "output_type": "stream",
          "name": "stderr",
          "text": [
            "\r 59% (118 of 200) |############          | Elapsed Time: 1:42:59 ETA:   1:11:28"
          ]
        },
        {
          "output_type": "stream",
          "name": "stdout",
          "text": [
            " Generating Feature for Image index : ISIC_0000131\n"
          ]
        },
        {
          "output_type": "stream",
          "name": "stderr",
          "text": [
            "\r 59% (119 of 200) |#############         | Elapsed Time: 1:43:48 ETA:   1:07:19"
          ]
        },
        {
          "output_type": "stream",
          "name": "stdout",
          "text": [
            " Generating Feature for Image index : ISIC_0000139\n"
          ]
        },
        {
          "output_type": "stream",
          "name": "stderr",
          "text": [
            "\r 60% (120 of 200) |#############         | Elapsed Time: 1:44:41 ETA:   1:10:30"
          ]
        },
        {
          "output_type": "stream",
          "name": "stdout",
          "text": [
            " Generating Feature for Image index : ISIC_0000140\n"
          ]
        },
        {
          "output_type": "stream",
          "name": "stderr",
          "text": [
            "\r 60% (121 of 200) |#############         | Elapsed Time: 1:45:32 ETA:   1:06:12"
          ]
        },
        {
          "output_type": "stream",
          "name": "stdout",
          "text": [
            " Generating Feature for Image index : ISIC_0000141\n"
          ]
        },
        {
          "output_type": "stream",
          "name": "stderr",
          "text": [
            "\r 61% (122 of 200) |#############         | Elapsed Time: 1:46:24 ETA:   1:08:43"
          ]
        },
        {
          "output_type": "stream",
          "name": "stdout",
          "text": [
            " Generating Feature for Image index : ISIC_0000142\n"
          ]
        },
        {
          "output_type": "stream",
          "name": "stderr",
          "text": [
            "\r 61% (123 of 200) |#############         | Elapsed Time: 1:47:14 ETA:   1:04:12"
          ]
        },
        {
          "output_type": "stream",
          "name": "stdout",
          "text": [
            " Generating Feature for Image index : ISIC_0000143\n"
          ]
        },
        {
          "output_type": "stream",
          "name": "stderr",
          "text": [
            "\r 62% (124 of 200) |#############         | Elapsed Time: 1:48:05 ETA:   1:04:35"
          ]
        },
        {
          "output_type": "stream",
          "name": "stdout",
          "text": [
            " Generating Feature for Image index : ISIC_0000145\n"
          ]
        },
        {
          "output_type": "stream",
          "name": "stderr",
          "text": [
            "\r 62% (125 of 200) |#############         | Elapsed Time: 1:48:57 ETA:   1:04:30"
          ]
        },
        {
          "output_type": "stream",
          "name": "stdout",
          "text": [
            " Generating Feature for Image index : ISIC_0000146\n"
          ]
        },
        {
          "output_type": "stream",
          "name": "stderr",
          "text": [
            "\r 63% (126 of 200) |#############         | Elapsed Time: 1:49:47 ETA:   1:02:11"
          ]
        },
        {
          "output_type": "stream",
          "name": "stdout",
          "text": [
            " Generating Feature for Image index : ISIC_0000147\n"
          ]
        },
        {
          "output_type": "stream",
          "name": "stderr",
          "text": [
            "\r 63% (127 of 200) |#############         | Elapsed Time: 1:50:40 ETA:   1:03:48"
          ]
        },
        {
          "output_type": "stream",
          "name": "stdout",
          "text": [
            " Generating Feature for Image index : ISIC_0000148\n"
          ]
        },
        {
          "output_type": "stream",
          "name": "stderr",
          "text": [
            "\r 64% (128 of 200) |##############        | Elapsed Time: 1:51:31 ETA:   1:00:53"
          ]
        },
        {
          "output_type": "stream",
          "name": "stdout",
          "text": [
            " Generating Feature for Image index : ISIC_0000149\n"
          ]
        },
        {
          "output_type": "stream",
          "name": "stderr",
          "text": [
            "\r 64% (129 of 200) |##############        | Elapsed Time: 1:52:23 ETA:   1:01:51"
          ]
        },
        {
          "output_type": "stream",
          "name": "stdout",
          "text": [
            " Generating Feature for Image index : ISIC_0000150\n"
          ]
        },
        {
          "output_type": "stream",
          "name": "stderr",
          "text": [
            "\r 65% (130 of 200) |##############        | Elapsed Time: 1:53:13 ETA:   0:58:56"
          ]
        },
        {
          "output_type": "stream",
          "name": "stdout",
          "text": [
            " Generating Feature for Image index : ISIC_0000151\n"
          ]
        },
        {
          "output_type": "stream",
          "name": "stderr",
          "text": [
            "\r 65% (131 of 200) |##############        | Elapsed Time: 1:54:05 ETA:   0:59:16"
          ]
        },
        {
          "output_type": "stream",
          "name": "stdout",
          "text": [
            " Generating Feature for Image index : ISIC_0000152\n"
          ]
        },
        {
          "output_type": "stream",
          "name": "stderr",
          "text": [
            "\r 66% (132 of 200) |##############        | Elapsed Time: 1:54:57 ETA:   0:58:25"
          ]
        },
        {
          "output_type": "stream",
          "name": "stdout",
          "text": [
            " Generating Feature for Image index : ISIC_0000153\n"
          ]
        },
        {
          "output_type": "stream",
          "name": "stderr",
          "text": [
            "\r 66% (133 of 200) |##############        | Elapsed Time: 1:55:47 ETA:   0:55:46"
          ]
        },
        {
          "output_type": "stream",
          "name": "stdout",
          "text": [
            " Generating Feature for Image index : ISIC_0000154\n"
          ]
        },
        {
          "output_type": "stream",
          "name": "stderr",
          "text": [
            "\r 67% (134 of 200) |##############        | Elapsed Time: 1:56:41 ETA:   1:00:24"
          ]
        },
        {
          "output_type": "stream",
          "name": "stdout",
          "text": [
            " Generating Feature for Image index : ISIC_0000155\n"
          ]
        },
        {
          "output_type": "stream",
          "name": "stderr",
          "text": [
            "\r 67% (135 of 200) |##############        | Elapsed Time: 1:57:31 ETA:   0:53:43"
          ]
        },
        {
          "output_type": "stream",
          "name": "stdout",
          "text": [
            " Generating Feature for Image index : ISIC_0000156\n"
          ]
        },
        {
          "output_type": "stream",
          "name": "stderr",
          "text": [
            "\r 68% (136 of 200) |##############        | Elapsed Time: 1:58:24 ETA:   0:56:35"
          ]
        },
        {
          "output_type": "stream",
          "name": "stdout",
          "text": [
            " Generating Feature for Image index : ISIC_0000157\n"
          ]
        },
        {
          "output_type": "stream",
          "name": "stderr",
          "text": [
            "\r 68% (137 of 200) |###############       | Elapsed Time: 1:59:15 ETA:   0:53:08"
          ]
        },
        {
          "output_type": "stream",
          "name": "stdout",
          "text": [
            " Generating Feature for Image index : ISIC_0000159\n"
          ]
        },
        {
          "output_type": "stream",
          "name": "stderr",
          "text": [
            "\r 69% (138 of 200) |###############       | Elapsed Time: 2:00:08 ETA:   0:55:24"
          ]
        },
        {
          "output_type": "stream",
          "name": "stdout",
          "text": [
            " Generating Feature for Image index : ISIC_0000160\n"
          ]
        },
        {
          "output_type": "stream",
          "name": "stderr",
          "text": [
            "\r 69% (139 of 200) |###############       | Elapsed Time: 2:00:58 ETA:   0:50:59"
          ]
        },
        {
          "output_type": "stream",
          "name": "stdout",
          "text": [
            " Generating Feature for Image index : ISIC_0000161\n"
          ]
        },
        {
          "output_type": "stream",
          "name": "stderr",
          "text": [
            "\r 70% (140 of 200) |###############       | Elapsed Time: 2:01:50 ETA:   0:52:01"
          ]
        },
        {
          "output_type": "stream",
          "name": "stdout",
          "text": [
            " Generating Feature for Image index : ISIC_0000162\n"
          ]
        },
        {
          "output_type": "stream",
          "name": "stderr",
          "text": [
            "\r 70% (141 of 200) |###############       | Elapsed Time: 2:02:41 ETA:   0:49:25"
          ]
        },
        {
          "output_type": "stream",
          "name": "stdout",
          "text": [
            " Generating Feature for Image index : ISIC_0000163\n"
          ]
        },
        {
          "output_type": "stream",
          "name": "stderr",
          "text": [
            "\r 71% (142 of 200) |###############       | Elapsed Time: 2:03:31 ETA:   0:48:53"
          ]
        },
        {
          "output_type": "stream",
          "name": "stdout",
          "text": [
            " Generating Feature for Image index : ISIC_0000164\n"
          ]
        },
        {
          "output_type": "stream",
          "name": "stderr",
          "text": [
            "\r 71% (143 of 200) |###############       | Elapsed Time: 2:04:24 ETA:   0:49:58"
          ]
        },
        {
          "output_type": "stream",
          "name": "stdout",
          "text": [
            " Generating Feature for Image index : ISIC_0000165\n"
          ]
        },
        {
          "output_type": "stream",
          "name": "stderr",
          "text": [
            "\r 72% (144 of 200) |###############       | Elapsed Time: 2:05:20 ETA:   0:52:46"
          ]
        },
        {
          "output_type": "stream",
          "name": "stdout",
          "text": [
            " Generating Feature for Image index : ISIC_0000166\n"
          ]
        },
        {
          "output_type": "stream",
          "name": "stderr",
          "text": [
            "\r 72% (145 of 200) |###############       | Elapsed Time: 2:06:11 ETA:   0:46:06"
          ]
        },
        {
          "output_type": "stream",
          "name": "stdout",
          "text": [
            " Generating Feature for Image index : ISIC_0000167\n"
          ]
        },
        {
          "output_type": "stream",
          "name": "stderr",
          "text": [
            "\r 73% (146 of 200) |################      | Elapsed Time: 2:07:01 ETA:   0:45:17"
          ]
        },
        {
          "output_type": "stream",
          "name": "stdout",
          "text": [
            " Generating Feature for Image index : ISIC_0000169\n"
          ]
        },
        {
          "output_type": "stream",
          "name": "stderr",
          "text": [
            "\r 73% (147 of 200) |################      | Elapsed Time: 2:07:53 ETA:   0:46:08"
          ]
        },
        {
          "output_type": "stream",
          "name": "stdout",
          "text": [
            " Generating Feature for Image index : ISIC_0000171\n"
          ]
        },
        {
          "output_type": "stream",
          "name": "stderr",
          "text": [
            "\r 74% (148 of 200) |################      | Elapsed Time: 2:08:44 ETA:   0:43:37"
          ]
        },
        {
          "output_type": "stream",
          "name": "stdout",
          "text": [
            " Generating Feature for Image index : ISIC_0000172\n"
          ]
        },
        {
          "output_type": "stream",
          "name": "stderr",
          "text": [
            "\r 74% (149 of 200) |################      | Elapsed Time: 2:09:37 ETA:   0:45:09"
          ]
        },
        {
          "output_type": "stream",
          "name": "stdout",
          "text": [
            " Generating Feature for Image index : ISIC_0000174\n"
          ]
        },
        {
          "output_type": "stream",
          "name": "stderr",
          "text": [
            "\r 75% (150 of 200) |################      | Elapsed Time: 2:10:28 ETA:   0:42:43"
          ]
        },
        {
          "output_type": "stream",
          "name": "stdout",
          "text": [
            " Generating Feature for Image index : ISIC_0000176\n"
          ]
        },
        {
          "output_type": "stream",
          "name": "stderr",
          "text": [
            "\r 75% (151 of 200) |################      | Elapsed Time: 2:11:22 ETA:   0:44:16"
          ]
        },
        {
          "output_type": "stream",
          "name": "stdout",
          "text": [
            " Generating Feature for Image index : ISIC_0000276\n"
          ]
        },
        {
          "output_type": "stream",
          "name": "stderr",
          "text": [
            "\r 76% (152 of 200) |################      | Elapsed Time: 2:12:13 ETA:   0:40:16"
          ]
        },
        {
          "output_type": "stream",
          "name": "stdout",
          "text": [
            " Generating Feature for Image index : ISIC_0000277\n"
          ]
        },
        {
          "output_type": "stream",
          "name": "stderr",
          "text": [
            "\r 76% (153 of 200) |################      | Elapsed Time: 2:13:04 ETA:   0:40:27"
          ]
        },
        {
          "output_type": "stream",
          "name": "stdout",
          "text": [
            " Generating Feature for Image index : ISIC_0000278\n"
          ]
        },
        {
          "output_type": "stream",
          "name": "stderr",
          "text": [
            "\r 77% (154 of 200) |################      | Elapsed Time: 2:13:55 ETA:   0:38:59"
          ]
        },
        {
          "output_type": "stream",
          "name": "stdout",
          "text": [
            " Generating Feature for Image index : ISIC_0000281\n"
          ]
        },
        {
          "output_type": "stream",
          "name": "stderr",
          "text": [
            "\r 77% (155 of 200) |#################     | Elapsed Time: 2:14:45 ETA:   0:37:37"
          ]
        },
        {
          "output_type": "stream",
          "name": "stdout",
          "text": [
            " Generating Feature for Image index : ISIC_0000282\n"
          ]
        },
        {
          "output_type": "stream",
          "name": "stderr",
          "text": [
            "\r 78% (156 of 200) |#################     | Elapsed Time: 2:15:38 ETA:   0:38:37"
          ]
        },
        {
          "output_type": "stream",
          "name": "stdout",
          "text": [
            " Generating Feature for Image index : ISIC_0000283\n"
          ]
        },
        {
          "output_type": "stream",
          "name": "stderr",
          "text": [
            "\r 78% (157 of 200) |#################     | Elapsed Time: 2:16:28 ETA:   0:36:08"
          ]
        },
        {
          "output_type": "stream",
          "name": "stdout",
          "text": [
            " Generating Feature for Image index : ISIC_0000285\n"
          ]
        },
        {
          "output_type": "stream",
          "name": "stderr",
          "text": [
            "\r 79% (158 of 200) |#################     | Elapsed Time: 2:17:21 ETA:   0:36:32"
          ]
        },
        {
          "output_type": "stream",
          "name": "stdout",
          "text": [
            " Generating Feature for Image index : ISIC_0000288\n"
          ]
        },
        {
          "output_type": "stream",
          "name": "stderr",
          "text": [
            "\r 79% (159 of 200) |#################     | Elapsed Time: 2:18:10 ETA:   0:33:58"
          ]
        },
        {
          "output_type": "stream",
          "name": "stdout",
          "text": [
            " Generating Feature for Image index : ISIC_0000289\n"
          ]
        },
        {
          "output_type": "stream",
          "name": "stderr",
          "text": [
            "\r 80% (160 of 200) |#################     | Elapsed Time: 2:19:00 ETA:   0:32:57"
          ]
        },
        {
          "output_type": "stream",
          "name": "stdout",
          "text": [
            " Generating Feature for Image index : ISIC_0000290\n"
          ]
        },
        {
          "output_type": "stream",
          "name": "stderr",
          "text": [
            "\r 80% (161 of 200) |#################     | Elapsed Time: 2:19:53 ETA:   0:34:28"
          ]
        },
        {
          "output_type": "stream",
          "name": "stdout",
          "text": [
            " Generating Feature for Image index : ISIC_0000292\n"
          ]
        },
        {
          "output_type": "stream",
          "name": "stderr",
          "text": [
            "\r 81% (162 of 200) |#################     | Elapsed Time: 2:20:43 ETA:   0:31:33"
          ]
        },
        {
          "output_type": "stream",
          "name": "stdout",
          "text": [
            " Generating Feature for Image index : ISIC_0000293\n"
          ]
        },
        {
          "output_type": "stream",
          "name": "stderr",
          "text": [
            "\r 81% (163 of 200) |#################     | Elapsed Time: 2:21:32 ETA:   0:30:32"
          ]
        },
        {
          "output_type": "stream",
          "name": "stdout",
          "text": [
            " Generating Feature for Image index : ISIC_0000294\n"
          ]
        },
        {
          "output_type": "stream",
          "name": "stderr",
          "text": [
            "\r 82% (164 of 200) |##################    | Elapsed Time: 2:22:24 ETA:   0:31:00"
          ]
        },
        {
          "output_type": "stream",
          "name": "stdout",
          "text": [
            " Generating Feature for Image index : ISIC_0000295\n"
          ]
        },
        {
          "output_type": "stream",
          "name": "stderr",
          "text": [
            "\r 82% (165 of 200) |##################    | Elapsed Time: 2:23:14 ETA:   0:29:09"
          ]
        },
        {
          "output_type": "stream",
          "name": "stdout",
          "text": [
            " Generating Feature for Image index : ISIC_0000297\n"
          ]
        },
        {
          "output_type": "stream",
          "name": "stderr",
          "text": [
            "\r 83% (166 of 200) |##################    | Elapsed Time: 2:24:09 ETA:   0:31:25"
          ]
        },
        {
          "output_type": "stream",
          "name": "stdout",
          "text": [
            " Generating Feature for Image index : ISIC_0000298\n"
          ]
        },
        {
          "output_type": "stream",
          "name": "stderr",
          "text": [
            "\r 83% (167 of 200) |##################    | Elapsed Time: 2:25:04 ETA:   0:29:52"
          ]
        },
        {
          "output_type": "stream",
          "name": "stdout",
          "text": [
            " Generating Feature for Image index : ISIC_0000299\n"
          ]
        },
        {
          "output_type": "stream",
          "name": "stderr",
          "text": [
            "\r 84% (168 of 200) |##################    | Elapsed Time: 2:25:55 ETA:   0:27:11"
          ]
        },
        {
          "output_type": "stream",
          "name": "stdout",
          "text": [
            " Generating Feature for Image index : ISIC_0000300\n"
          ]
        },
        {
          "output_type": "stream",
          "name": "stderr",
          "text": [
            "\r 84% (169 of 200) |##################    | Elapsed Time: 2:26:45 ETA:   0:26:01"
          ]
        },
        {
          "output_type": "stream",
          "name": "stdout",
          "text": [
            " Generating Feature for Image index : ISIC_0000301\n"
          ]
        },
        {
          "output_type": "stream",
          "name": "stderr",
          "text": [
            "\r 85% (170 of 200) |##################    | Elapsed Time: 2:27:38 ETA:   0:26:23"
          ]
        },
        {
          "output_type": "stream",
          "name": "stdout",
          "text": [
            " Generating Feature for Image index : ISIC_0000302\n"
          ]
        },
        {
          "output_type": "stream",
          "name": "stderr",
          "text": [
            "\r 85% (171 of 200) |##################    | Elapsed Time: 2:28:29 ETA:   0:24:33"
          ]
        },
        {
          "output_type": "stream",
          "name": "stdout",
          "text": [
            " Generating Feature for Image index : ISIC_0000303\n"
          ]
        },
        {
          "output_type": "stream",
          "name": "stderr",
          "text": [
            "\r 86% (172 of 200) |##################    | Elapsed Time: 2:29:18 ETA:   0:23:07"
          ]
        },
        {
          "output_type": "stream",
          "name": "stdout",
          "text": [
            " Generating Feature for Image index : ISIC_0000306\n"
          ]
        },
        {
          "output_type": "stream",
          "name": "stderr",
          "text": [
            "\r 86% (173 of 200) |###################   | Elapsed Time: 2:30:11 ETA:   0:23:54"
          ]
        },
        {
          "output_type": "stream",
          "name": "stdout",
          "text": [
            " Generating Feature for Image index : ISIC_0000307\n"
          ]
        },
        {
          "output_type": "stream",
          "name": "stderr",
          "text": [
            "\r 87% (174 of 200) |###################   | Elapsed Time: 2:31:01 ETA:   0:21:31"
          ]
        },
        {
          "output_type": "stream",
          "name": "stdout",
          "text": [
            " Generating Feature for Image index : ISIC_0000310\n"
          ]
        },
        {
          "output_type": "stream",
          "name": "stderr",
          "text": [
            "\r 87% (175 of 200) |###################   | Elapsed Time: 2:31:54 ETA:   0:21:58"
          ]
        },
        {
          "output_type": "stream",
          "name": "stdout",
          "text": [
            " Generating Feature for Image index : ISIC_0000311\n"
          ]
        },
        {
          "output_type": "stream",
          "name": "stderr",
          "text": [
            "\r 88% (176 of 200) |###################   | Elapsed Time: 2:32:44 ETA:   0:20:03"
          ]
        },
        {
          "output_type": "stream",
          "name": "stdout",
          "text": [
            " Generating Feature for Image index : ISIC_0000313\n"
          ]
        },
        {
          "output_type": "stream",
          "name": "stderr",
          "text": [
            "\r 88% (177 of 200) |###################   | Elapsed Time: 2:33:37 ETA:   0:20:14"
          ]
        },
        {
          "output_type": "stream",
          "name": "stdout",
          "text": [
            " Generating Feature for Image index : ISIC_0000314\n"
          ]
        },
        {
          "output_type": "stream",
          "name": "stderr",
          "text": [
            "\r 89% (178 of 200) |###################   | Elapsed Time: 2:34:27 ETA:   0:18:36"
          ]
        },
        {
          "output_type": "stream",
          "name": "stdout",
          "text": [
            " Generating Feature for Image index : ISIC_0000390\n"
          ]
        },
        {
          "output_type": "stream",
          "name": "stderr",
          "text": [
            "\r 89% (179 of 200) |###################   | Elapsed Time: 2:35:17 ETA:   0:17:33"
          ]
        },
        {
          "output_type": "stream",
          "name": "stdout",
          "text": [
            " Generating Feature for Image index : ISIC_0000393\n"
          ]
        },
        {
          "output_type": "stream",
          "name": "stderr",
          "text": [
            "\r 90% (180 of 200) |###################   | Elapsed Time: 2:36:10 ETA:   0:17:24"
          ]
        },
        {
          "output_type": "stream",
          "name": "stdout",
          "text": [
            " Generating Feature for Image index : ISIC_0000395\n"
          ]
        },
        {
          "output_type": "stream",
          "name": "stderr",
          "text": [
            "\r 90% (181 of 200) |###################   | Elapsed Time: 2:37:00 ETA:   0:15:51"
          ]
        },
        {
          "output_type": "stream",
          "name": "stdout",
          "text": [
            " Generating Feature for Image index : ISIC_0000410\n"
          ]
        },
        {
          "output_type": "stream",
          "name": "stderr",
          "text": [
            "\r 91% (182 of 200) |####################  | Elapsed Time: 2:37:53 ETA:   0:15:51"
          ]
        },
        {
          "output_type": "stream",
          "name": "stdout",
          "text": [
            " Generating Feature for Image index : ISIC_0000412\n"
          ]
        },
        {
          "output_type": "stream",
          "name": "stderr",
          "text": [
            "\r 91% (183 of 200) |####################  | Elapsed Time: 2:38:43 ETA:   0:14:16"
          ]
        },
        {
          "output_type": "stream",
          "name": "stdout",
          "text": [
            " Generating Feature for Image index : ISIC_0000413\n"
          ]
        },
        {
          "output_type": "stream",
          "name": "stderr",
          "text": [
            "\r 92% (184 of 200) |####################  | Elapsed Time: 2:39:34 ETA:   0:13:36"
          ]
        },
        {
          "output_type": "stream",
          "name": "stdout",
          "text": [
            " Generating Feature for Image index : ISIC_0000415\n"
          ]
        },
        {
          "output_type": "stream",
          "name": "stderr",
          "text": [
            "\r 92% (185 of 200) |####################  | Elapsed Time: 2:40:25 ETA:   0:12:39"
          ]
        },
        {
          "output_type": "stream",
          "name": "stdout",
          "text": [
            " Generating Feature for Image index : ISIC_0000420\n"
          ]
        },
        {
          "output_type": "stream",
          "name": "stderr",
          "text": [
            "\r 93% (186 of 200) |####################  | Elapsed Time: 2:41:15 ETA:   0:11:39"
          ]
        },
        {
          "output_type": "stream",
          "name": "stdout",
          "text": [
            " Generating Feature for Image index : ISIC_0000434\n"
          ]
        },
        {
          "output_type": "stream",
          "name": "stderr",
          "text": [
            "\r 93% (187 of 200) |####################  | Elapsed Time: 2:42:08 ETA:   0:11:27"
          ]
        },
        {
          "output_type": "stream",
          "name": "stdout",
          "text": [
            " Generating Feature for Image index : ISIC_0000444\n"
          ]
        },
        {
          "output_type": "stream",
          "name": "stderr",
          "text": [
            "\r 94% (188 of 200) |####################  | Elapsed Time: 2:42:59 ETA:   0:10:12"
          ]
        },
        {
          "output_type": "stream",
          "name": "stdout",
          "text": [
            " Generating Feature for Image index : ISIC_0000445\n"
          ]
        },
        {
          "output_type": "stream",
          "name": "stderr",
          "text": [
            "\r 94% (189 of 200) |####################  | Elapsed Time: 2:43:53 ETA:   0:09:55"
          ]
        },
        {
          "output_type": "stream",
          "name": "stdout",
          "text": [
            " Generating Feature for Image index : ISIC_0000463\n"
          ]
        },
        {
          "output_type": "stream",
          "name": "stderr",
          "text": [
            "\r 95% (190 of 200) |####################  | Elapsed Time: 2:44:43 ETA:   0:08:20"
          ]
        },
        {
          "output_type": "stream",
          "name": "stdout",
          "text": [
            " Generating Feature for Image index : ISIC_0000466\n"
          ]
        },
        {
          "output_type": "stream",
          "name": "stderr",
          "text": [
            "\r 95% (191 of 200) |##################### | Elapsed Time: 2:45:36 ETA:   0:08:00"
          ]
        },
        {
          "output_type": "stream",
          "name": "stdout",
          "text": [
            " Generating Feature for Image index : ISIC_0000469\n"
          ]
        },
        {
          "output_type": "stream",
          "name": "stderr",
          "text": [
            "\r 96% (192 of 200) |##################### | Elapsed Time: 2:46:27 ETA:   0:06:47"
          ]
        },
        {
          "output_type": "stream",
          "name": "stdout",
          "text": [
            " Generating Feature for Image index : ISIC_0000482\n"
          ]
        },
        {
          "output_type": "stream",
          "name": "stderr",
          "text": [
            "\r 96% (193 of 200) |##################### | Elapsed Time: 2:47:20 ETA:   0:06:08"
          ]
        },
        {
          "output_type": "stream",
          "name": "stdout",
          "text": [
            " Generating Feature for Image index : ISIC_0000484\n"
          ]
        },
        {
          "output_type": "stream",
          "name": "stderr",
          "text": [
            "\r 97% (194 of 200) |##################### | Elapsed Time: 2:48:10 ETA:   0:05:02"
          ]
        },
        {
          "output_type": "stream",
          "name": "stdout",
          "text": [
            " Generating Feature for Image index : ISIC_0000487\n"
          ]
        },
        {
          "output_type": "stream",
          "name": "stderr",
          "text": [
            "\r 97% (195 of 200) |##################### | Elapsed Time: 2:49:02 ETA:   0:04:18"
          ]
        },
        {
          "output_type": "stream",
          "name": "stdout",
          "text": [
            " Generating Feature for Image index : ISIC_0000511\n"
          ]
        },
        {
          "output_type": "stream",
          "name": "stderr",
          "text": [
            "\r 98% (196 of 200) |##################### | Elapsed Time: 2:49:52 ETA:   0:03:22"
          ]
        },
        {
          "output_type": "stream",
          "name": "stdout",
          "text": [
            " Generating Feature for Image index : ISIC_0000513\n"
          ]
        },
        {
          "output_type": "stream",
          "name": "stderr",
          "text": [
            "\r 98% (197 of 200) |##################### | Elapsed Time: 2:50:43 ETA:   0:02:30"
          ]
        },
        {
          "output_type": "stream",
          "name": "stdout",
          "text": [
            " Generating Feature for Image index : ISIC_0000516\n"
          ]
        },
        {
          "output_type": "stream",
          "name": "stderr",
          "text": [
            "\r 99% (198 of 200) |##################### | Elapsed Time: 2:51:36 ETA:   0:01:46"
          ]
        },
        {
          "output_type": "stream",
          "name": "stdout",
          "text": [
            " Generating Feature for Image index : ISIC_0000517\n"
          ]
        },
        {
          "output_type": "stream",
          "name": "stderr",
          "text": [
            "\r 99% (199 of 200) |##################### | Elapsed Time: 2:52:26 ETA:   0:00:49"
          ]
        },
        {
          "output_type": "stream",
          "name": "stdout",
          "text": [
            " Generating Feature for Image index : ISIC_0000518\n"
          ]
        },
        {
          "output_type": "stream",
          "name": "stderr",
          "text": [
            "\r100% (200 of 200) |######################| Elapsed Time: 2:53:19 Time:  2:53:19\n"
          ]
        }
      ],
      "source": [
        "# for idx in range(len(imgs_idx)):\n",
        "bar = progressbar.ProgressBar()\n",
        "for idx in bar(range(len(imgs_idx))):\n",
        "  featurelist = []\n",
        "  print(f\" Generating Feature for Image index : {imgs_idx[idx]}\")\n",
        "\n",
        "  img = io.imread(IMAGE_URL+imgs_idx[idx]+\".jpg\")\n",
        "  sgm_img = io.imread(IMAGE_URL+imgs_idx[idx]+\"_segmentation.png\")\n",
        "\n",
        "  img = cv.resize(img, (800, 600), interpolation=cv.INTER_CUBIC)\n",
        "  sgm_img = cv.resize(sgm_img, (800, 600), interpolation=cv.INTER_CUBIC)\n",
        "\n",
        "  # Enhancing contrast Image\n",
        "  img_enh = clahe_enhancement(I=img, clipLimit=2.0, tileGridSize=(8,8))\n",
        "\n",
        "  # Mapping Segmentation to enhanced image\n",
        "  img_mpd = segmen_mapping(img_enh, sgm_img)\n",
        "\n",
        "  # Generating Superpixel Image from Mapped Image\n",
        "  sgm_super, superpxl = super_segmentation(img_mpd, n_segments=1340, compactness=10, sigma=1, start_label=1)\n",
        "\n",
        "  # Generating Morphological Descriptors\n",
        "\n",
        "  region_props = region_properties(segment_img=sgm_img)\n",
        "  crofton_perim = perimCrofton(segment_img=sgm_img)\n",
        "  featurelist.append(crofton_perim)\n",
        "\n",
        "  feret_min, feret_max, feret_mean = feretDiameter(sgm_img)\n",
        "  featurelist.append(feret_min)\n",
        "  featurelist.append(feret_max)\n",
        "  featurelist.append(feret_mean)\n",
        "\n",
        "  convex = convexity(sgm_img)\n",
        "  featurelist.append(convex)\n",
        "\n",
        "  featurelist.append(region_props[0].area)\n",
        "  featurelist.extend(region_props[0].bbox)\n",
        "  featurelist.extend(region_props[0].centroid)\n",
        "  featurelist.append(region_props[0].orientation)\n",
        "  featurelist.append(region_props[0].minor_axis_length)\n",
        "  featurelist.append(region_props[0].major_axis_length)\n",
        "  featurelist.append(region_props[0].eccentricity)\n",
        "  featurelist.append(region_props[0].perimeter)\n",
        "  featurelist.append(region_props[0].solidity)\n",
        "  featurelist.append(region_props[0].equivalent_diameter)\n",
        "  featurelist.append(region_props[0].extent)\n",
        "\n",
        "  # Generating Texture Descriptors\n",
        "  # LBP\n",
        "  LBP_enh = LBP(img=img_enh)\n",
        "  LBP_super = LBP(img=superpxl)\n",
        "\n",
        "  featurelist.extend(LBP_enh[0])\n",
        "  featurelist.extend(LBP_enh[1])\n",
        "  featurelist.extend(LBP_super[0])\n",
        "  featurelist.extend(LBP_super[1])\n",
        "\n",
        "  # HOG\n",
        "  # HOG_enh = HOG(img=img_enh)\n",
        "  # featurelist.extend(HOG_enh)\n",
        "\n",
        "  DATASET_DICT[imgs_idx[idx]] = featurelist\n"
      ]
    },
    {
      "cell_type": "code",
      "execution_count": 44,
      "metadata": {
        "id": "dBeOeSwIPV9z",
        "colab": {
          "base_uri": "https://localhost:8080/",
          "height": 461
        },
        "outputId": "ad96da24-d650-4b60-b20e-1c854ff2f7c0"
      },
      "outputs": [
        {
          "output_type": "execute_result",
          "data": {
            "text/plain": [
              "                       0     1     2           3           4     5     6     \\\n",
              "ISIC_0000000  495919.815270   452   686  577.366667  245.703803    52    36   \n",
              "ISIC_0000001  204492.846855   197   236  222.500000  233.988977     1   180   \n",
              "ISIC_0000002  463932.490688   394   512  467.244444  231.608873     1   106   \n",
              "ISIC_0000003  419433.096627   441   512  478.355556  242.146828     1    40   \n",
              "ISIC_0000004  385777.139263   400   537  481.294444  249.320960     1    44   \n",
              "...                     ...   ...   ...         ...         ...   ...   ...   \n",
              "ISIC_0000511  713184.771241   526   762  634.350000  219.827169     2    15   \n",
              "ISIC_0000513  359513.332783   353   497  434.016667  240.403324     1   124   \n",
              "ISIC_0000516  472966.359429   383   675  547.716667  232.744550     1    69   \n",
              "ISIC_0000517  653247.740708   600   968  852.011111  228.936564     1     0   \n",
              "ISIC_0000518  313354.320520   308   369  351.527778  231.348797     1    95   \n",
              "\n",
              "              7     8     9     ...        1036       1037        1038  \\\n",
              "ISIC_0000000   504    37   556  ...  738.105469  741.09375  744.082031   \n",
              "ISIC_0000001   371   181   372  ...  738.105469  741.09375  744.082031   \n",
              "ISIC_0000002   351   107   352  ...  738.105469  741.09375  744.082031   \n",
              "ISIC_0000003   456    41   457  ...  738.105469  741.09375  744.082031   \n",
              "ISIC_0000004   390    45   391  ...  738.105469  741.09375  744.082031   \n",
              "...            ...   ...   ...  ...         ...        ...         ...   \n",
              "ISIC_0000511   311    17   313  ...  738.105469  741.09375  744.082031   \n",
              "ISIC_0000513   354   125   355  ...  738.105469  741.09375  744.082031   \n",
              "ISIC_0000516   224    70   225  ...  738.105469  741.09375  744.082031   \n",
              "ISIC_0000517     4     1     5  ...  738.105469  741.09375  744.082031   \n",
              "ISIC_0000518   420    96   421  ...  738.105469  741.09375  744.082031   \n",
              "\n",
              "                    1039        1040        1041        1042        1043  \\\n",
              "ISIC_0000000  747.070312  750.058594  753.046875  756.035156  759.023438   \n",
              "ISIC_0000001  747.070312  750.058594  753.046875  756.035156  759.023438   \n",
              "ISIC_0000002  747.070312  750.058594  753.046875  756.035156  759.023438   \n",
              "ISIC_0000003  747.070312  750.058594  753.046875  756.035156  759.023438   \n",
              "ISIC_0000004  747.070312  750.058594  753.046875  756.035156  759.023438   \n",
              "...                  ...         ...         ...         ...         ...   \n",
              "ISIC_0000511  747.070312  750.058594  753.046875  756.035156  759.023438   \n",
              "ISIC_0000513  747.070312  750.058594  753.046875  756.035156  759.023438   \n",
              "ISIC_0000516  747.070312  750.058594  753.046875  756.035156  759.023438   \n",
              "ISIC_0000517  747.070312  750.058594  753.046875  756.035156  759.023438   \n",
              "ISIC_0000518  747.070312  750.058594  753.046875  756.035156  759.023438   \n",
              "\n",
              "                    1044   1045  \n",
              "ISIC_0000000  762.011719  765.0  \n",
              "ISIC_0000001  762.011719  765.0  \n",
              "ISIC_0000002  762.011719  765.0  \n",
              "ISIC_0000003  762.011719  765.0  \n",
              "ISIC_0000004  762.011719  765.0  \n",
              "...                  ...    ...  \n",
              "ISIC_0000511  762.011719  765.0  \n",
              "ISIC_0000513  762.011719  765.0  \n",
              "ISIC_0000516  762.011719  765.0  \n",
              "ISIC_0000517  762.011719  765.0  \n",
              "ISIC_0000518  762.011719  765.0  \n",
              "\n",
              "[200 rows x 1046 columns]"
            ],
            "text/html": [
              "\n",
              "  <div id=\"df-c76e9920-8342-4958-ad90-6a27ee165a86\" class=\"colab-df-container\">\n",
              "    <div>\n",
              "<style scoped>\n",
              "    .dataframe tbody tr th:only-of-type {\n",
              "        vertical-align: middle;\n",
              "    }\n",
              "\n",
              "    .dataframe tbody tr th {\n",
              "        vertical-align: top;\n",
              "    }\n",
              "\n",
              "    .dataframe thead th {\n",
              "        text-align: right;\n",
              "    }\n",
              "</style>\n",
              "<table border=\"1\" class=\"dataframe\">\n",
              "  <thead>\n",
              "    <tr style=\"text-align: right;\">\n",
              "      <th></th>\n",
              "      <th>0</th>\n",
              "      <th>1</th>\n",
              "      <th>2</th>\n",
              "      <th>3</th>\n",
              "      <th>4</th>\n",
              "      <th>5</th>\n",
              "      <th>6</th>\n",
              "      <th>7</th>\n",
              "      <th>8</th>\n",
              "      <th>9</th>\n",
              "      <th>...</th>\n",
              "      <th>1036</th>\n",
              "      <th>1037</th>\n",
              "      <th>1038</th>\n",
              "      <th>1039</th>\n",
              "      <th>1040</th>\n",
              "      <th>1041</th>\n",
              "      <th>1042</th>\n",
              "      <th>1043</th>\n",
              "      <th>1044</th>\n",
              "      <th>1045</th>\n",
              "    </tr>\n",
              "  </thead>\n",
              "  <tbody>\n",
              "    <tr>\n",
              "      <th>ISIC_0000000</th>\n",
              "      <td>495919.815270</td>\n",
              "      <td>452</td>\n",
              "      <td>686</td>\n",
              "      <td>577.366667</td>\n",
              "      <td>245.703803</td>\n",
              "      <td>52</td>\n",
              "      <td>36</td>\n",
              "      <td>504</td>\n",
              "      <td>37</td>\n",
              "      <td>556</td>\n",
              "      <td>...</td>\n",
              "      <td>738.105469</td>\n",
              "      <td>741.09375</td>\n",
              "      <td>744.082031</td>\n",
              "      <td>747.070312</td>\n",
              "      <td>750.058594</td>\n",
              "      <td>753.046875</td>\n",
              "      <td>756.035156</td>\n",
              "      <td>759.023438</td>\n",
              "      <td>762.011719</td>\n",
              "      <td>765.0</td>\n",
              "    </tr>\n",
              "    <tr>\n",
              "      <th>ISIC_0000001</th>\n",
              "      <td>204492.846855</td>\n",
              "      <td>197</td>\n",
              "      <td>236</td>\n",
              "      <td>222.500000</td>\n",
              "      <td>233.988977</td>\n",
              "      <td>1</td>\n",
              "      <td>180</td>\n",
              "      <td>371</td>\n",
              "      <td>181</td>\n",
              "      <td>372</td>\n",
              "      <td>...</td>\n",
              "      <td>738.105469</td>\n",
              "      <td>741.09375</td>\n",
              "      <td>744.082031</td>\n",
              "      <td>747.070312</td>\n",
              "      <td>750.058594</td>\n",
              "      <td>753.046875</td>\n",
              "      <td>756.035156</td>\n",
              "      <td>759.023438</td>\n",
              "      <td>762.011719</td>\n",
              "      <td>765.0</td>\n",
              "    </tr>\n",
              "    <tr>\n",
              "      <th>ISIC_0000002</th>\n",
              "      <td>463932.490688</td>\n",
              "      <td>394</td>\n",
              "      <td>512</td>\n",
              "      <td>467.244444</td>\n",
              "      <td>231.608873</td>\n",
              "      <td>1</td>\n",
              "      <td>106</td>\n",
              "      <td>351</td>\n",
              "      <td>107</td>\n",
              "      <td>352</td>\n",
              "      <td>...</td>\n",
              "      <td>738.105469</td>\n",
              "      <td>741.09375</td>\n",
              "      <td>744.082031</td>\n",
              "      <td>747.070312</td>\n",
              "      <td>750.058594</td>\n",
              "      <td>753.046875</td>\n",
              "      <td>756.035156</td>\n",
              "      <td>759.023438</td>\n",
              "      <td>762.011719</td>\n",
              "      <td>765.0</td>\n",
              "    </tr>\n",
              "    <tr>\n",
              "      <th>ISIC_0000003</th>\n",
              "      <td>419433.096627</td>\n",
              "      <td>441</td>\n",
              "      <td>512</td>\n",
              "      <td>478.355556</td>\n",
              "      <td>242.146828</td>\n",
              "      <td>1</td>\n",
              "      <td>40</td>\n",
              "      <td>456</td>\n",
              "      <td>41</td>\n",
              "      <td>457</td>\n",
              "      <td>...</td>\n",
              "      <td>738.105469</td>\n",
              "      <td>741.09375</td>\n",
              "      <td>744.082031</td>\n",
              "      <td>747.070312</td>\n",
              "      <td>750.058594</td>\n",
              "      <td>753.046875</td>\n",
              "      <td>756.035156</td>\n",
              "      <td>759.023438</td>\n",
              "      <td>762.011719</td>\n",
              "      <td>765.0</td>\n",
              "    </tr>\n",
              "    <tr>\n",
              "      <th>ISIC_0000004</th>\n",
              "      <td>385777.139263</td>\n",
              "      <td>400</td>\n",
              "      <td>537</td>\n",
              "      <td>481.294444</td>\n",
              "      <td>249.320960</td>\n",
              "      <td>1</td>\n",
              "      <td>44</td>\n",
              "      <td>390</td>\n",
              "      <td>45</td>\n",
              "      <td>391</td>\n",
              "      <td>...</td>\n",
              "      <td>738.105469</td>\n",
              "      <td>741.09375</td>\n",
              "      <td>744.082031</td>\n",
              "      <td>747.070312</td>\n",
              "      <td>750.058594</td>\n",
              "      <td>753.046875</td>\n",
              "      <td>756.035156</td>\n",
              "      <td>759.023438</td>\n",
              "      <td>762.011719</td>\n",
              "      <td>765.0</td>\n",
              "    </tr>\n",
              "    <tr>\n",
              "      <th>...</th>\n",
              "      <td>...</td>\n",
              "      <td>...</td>\n",
              "      <td>...</td>\n",
              "      <td>...</td>\n",
              "      <td>...</td>\n",
              "      <td>...</td>\n",
              "      <td>...</td>\n",
              "      <td>...</td>\n",
              "      <td>...</td>\n",
              "      <td>...</td>\n",
              "      <td>...</td>\n",
              "      <td>...</td>\n",
              "      <td>...</td>\n",
              "      <td>...</td>\n",
              "      <td>...</td>\n",
              "      <td>...</td>\n",
              "      <td>...</td>\n",
              "      <td>...</td>\n",
              "      <td>...</td>\n",
              "      <td>...</td>\n",
              "      <td>...</td>\n",
              "    </tr>\n",
              "    <tr>\n",
              "      <th>ISIC_0000511</th>\n",
              "      <td>713184.771241</td>\n",
              "      <td>526</td>\n",
              "      <td>762</td>\n",
              "      <td>634.350000</td>\n",
              "      <td>219.827169</td>\n",
              "      <td>2</td>\n",
              "      <td>15</td>\n",
              "      <td>311</td>\n",
              "      <td>17</td>\n",
              "      <td>313</td>\n",
              "      <td>...</td>\n",
              "      <td>738.105469</td>\n",
              "      <td>741.09375</td>\n",
              "      <td>744.082031</td>\n",
              "      <td>747.070312</td>\n",
              "      <td>750.058594</td>\n",
              "      <td>753.046875</td>\n",
              "      <td>756.035156</td>\n",
              "      <td>759.023438</td>\n",
              "      <td>762.011719</td>\n",
              "      <td>765.0</td>\n",
              "    </tr>\n",
              "    <tr>\n",
              "      <th>ISIC_0000513</th>\n",
              "      <td>359513.332783</td>\n",
              "      <td>353</td>\n",
              "      <td>497</td>\n",
              "      <td>434.016667</td>\n",
              "      <td>240.403324</td>\n",
              "      <td>1</td>\n",
              "      <td>124</td>\n",
              "      <td>354</td>\n",
              "      <td>125</td>\n",
              "      <td>355</td>\n",
              "      <td>...</td>\n",
              "      <td>738.105469</td>\n",
              "      <td>741.09375</td>\n",
              "      <td>744.082031</td>\n",
              "      <td>747.070312</td>\n",
              "      <td>750.058594</td>\n",
              "      <td>753.046875</td>\n",
              "      <td>756.035156</td>\n",
              "      <td>759.023438</td>\n",
              "      <td>762.011719</td>\n",
              "      <td>765.0</td>\n",
              "    </tr>\n",
              "    <tr>\n",
              "      <th>ISIC_0000516</th>\n",
              "      <td>472966.359429</td>\n",
              "      <td>383</td>\n",
              "      <td>675</td>\n",
              "      <td>547.716667</td>\n",
              "      <td>232.744550</td>\n",
              "      <td>1</td>\n",
              "      <td>69</td>\n",
              "      <td>224</td>\n",
              "      <td>70</td>\n",
              "      <td>225</td>\n",
              "      <td>...</td>\n",
              "      <td>738.105469</td>\n",
              "      <td>741.09375</td>\n",
              "      <td>744.082031</td>\n",
              "      <td>747.070312</td>\n",
              "      <td>750.058594</td>\n",
              "      <td>753.046875</td>\n",
              "      <td>756.035156</td>\n",
              "      <td>759.023438</td>\n",
              "      <td>762.011719</td>\n",
              "      <td>765.0</td>\n",
              "    </tr>\n",
              "    <tr>\n",
              "      <th>ISIC_0000517</th>\n",
              "      <td>653247.740708</td>\n",
              "      <td>600</td>\n",
              "      <td>968</td>\n",
              "      <td>852.011111</td>\n",
              "      <td>228.936564</td>\n",
              "      <td>1</td>\n",
              "      <td>0</td>\n",
              "      <td>4</td>\n",
              "      <td>1</td>\n",
              "      <td>5</td>\n",
              "      <td>...</td>\n",
              "      <td>738.105469</td>\n",
              "      <td>741.09375</td>\n",
              "      <td>744.082031</td>\n",
              "      <td>747.070312</td>\n",
              "      <td>750.058594</td>\n",
              "      <td>753.046875</td>\n",
              "      <td>756.035156</td>\n",
              "      <td>759.023438</td>\n",
              "      <td>762.011719</td>\n",
              "      <td>765.0</td>\n",
              "    </tr>\n",
              "    <tr>\n",
              "      <th>ISIC_0000518</th>\n",
              "      <td>313354.320520</td>\n",
              "      <td>308</td>\n",
              "      <td>369</td>\n",
              "      <td>351.527778</td>\n",
              "      <td>231.348797</td>\n",
              "      <td>1</td>\n",
              "      <td>95</td>\n",
              "      <td>420</td>\n",
              "      <td>96</td>\n",
              "      <td>421</td>\n",
              "      <td>...</td>\n",
              "      <td>738.105469</td>\n",
              "      <td>741.09375</td>\n",
              "      <td>744.082031</td>\n",
              "      <td>747.070312</td>\n",
              "      <td>750.058594</td>\n",
              "      <td>753.046875</td>\n",
              "      <td>756.035156</td>\n",
              "      <td>759.023438</td>\n",
              "      <td>762.011719</td>\n",
              "      <td>765.0</td>\n",
              "    </tr>\n",
              "  </tbody>\n",
              "</table>\n",
              "<p>200 rows × 1046 columns</p>\n",
              "</div>\n",
              "    <div class=\"colab-df-buttons\">\n",
              "\n",
              "  <div class=\"colab-df-container\">\n",
              "    <button class=\"colab-df-convert\" onclick=\"convertToInteractive('df-c76e9920-8342-4958-ad90-6a27ee165a86')\"\n",
              "            title=\"Convert this dataframe to an interactive table.\"\n",
              "            style=\"display:none;\">\n",
              "\n",
              "  <svg xmlns=\"http://www.w3.org/2000/svg\" height=\"24px\" viewBox=\"0 -960 960 960\">\n",
              "    <path d=\"M120-120v-720h720v720H120Zm60-500h600v-160H180v160Zm220 220h160v-160H400v160Zm0 220h160v-160H400v160ZM180-400h160v-160H180v160Zm440 0h160v-160H620v160ZM180-180h160v-160H180v160Zm440 0h160v-160H620v160Z\"/>\n",
              "  </svg>\n",
              "    </button>\n",
              "\n",
              "  <style>\n",
              "    .colab-df-container {\n",
              "      display:flex;\n",
              "      gap: 12px;\n",
              "    }\n",
              "\n",
              "    .colab-df-convert {\n",
              "      background-color: #E8F0FE;\n",
              "      border: none;\n",
              "      border-radius: 50%;\n",
              "      cursor: pointer;\n",
              "      display: none;\n",
              "      fill: #1967D2;\n",
              "      height: 32px;\n",
              "      padding: 0 0 0 0;\n",
              "      width: 32px;\n",
              "    }\n",
              "\n",
              "    .colab-df-convert:hover {\n",
              "      background-color: #E2EBFA;\n",
              "      box-shadow: 0px 1px 2px rgba(60, 64, 67, 0.3), 0px 1px 3px 1px rgba(60, 64, 67, 0.15);\n",
              "      fill: #174EA6;\n",
              "    }\n",
              "\n",
              "    .colab-df-buttons div {\n",
              "      margin-bottom: 4px;\n",
              "    }\n",
              "\n",
              "    [theme=dark] .colab-df-convert {\n",
              "      background-color: #3B4455;\n",
              "      fill: #D2E3FC;\n",
              "    }\n",
              "\n",
              "    [theme=dark] .colab-df-convert:hover {\n",
              "      background-color: #434B5C;\n",
              "      box-shadow: 0px 1px 3px 1px rgba(0, 0, 0, 0.15);\n",
              "      filter: drop-shadow(0px 1px 2px rgba(0, 0, 0, 0.3));\n",
              "      fill: #FFFFFF;\n",
              "    }\n",
              "  </style>\n",
              "\n",
              "    <script>\n",
              "      const buttonEl =\n",
              "        document.querySelector('#df-c76e9920-8342-4958-ad90-6a27ee165a86 button.colab-df-convert');\n",
              "      buttonEl.style.display =\n",
              "        google.colab.kernel.accessAllowed ? 'block' : 'none';\n",
              "\n",
              "      async function convertToInteractive(key) {\n",
              "        const element = document.querySelector('#df-c76e9920-8342-4958-ad90-6a27ee165a86');\n",
              "        const dataTable =\n",
              "          await google.colab.kernel.invokeFunction('convertToInteractive',\n",
              "                                                    [key], {});\n",
              "        if (!dataTable) return;\n",
              "\n",
              "        const docLinkHtml = 'Like what you see? Visit the ' +\n",
              "          '<a target=\"_blank\" href=https://colab.research.google.com/notebooks/data_table.ipynb>data table notebook</a>'\n",
              "          + ' to learn more about interactive tables.';\n",
              "        element.innerHTML = '';\n",
              "        dataTable['output_type'] = 'display_data';\n",
              "        await google.colab.output.renderOutput(dataTable, element);\n",
              "        const docLink = document.createElement('div');\n",
              "        docLink.innerHTML = docLinkHtml;\n",
              "        element.appendChild(docLink);\n",
              "      }\n",
              "    </script>\n",
              "  </div>\n",
              "\n",
              "\n",
              "<div id=\"df-1dc444ec-0d85-4db6-8dd4-441aa02a551c\">\n",
              "  <button class=\"colab-df-quickchart\" onclick=\"quickchart('df-1dc444ec-0d85-4db6-8dd4-441aa02a551c')\"\n",
              "            title=\"Suggest charts\"\n",
              "            style=\"display:none;\">\n",
              "\n",
              "<svg xmlns=\"http://www.w3.org/2000/svg\" height=\"24px\"viewBox=\"0 0 24 24\"\n",
              "     width=\"24px\">\n",
              "    <g>\n",
              "        <path d=\"M19 3H5c-1.1 0-2 .9-2 2v14c0 1.1.9 2 2 2h14c1.1 0 2-.9 2-2V5c0-1.1-.9-2-2-2zM9 17H7v-7h2v7zm4 0h-2V7h2v10zm4 0h-2v-4h2v4z\"/>\n",
              "    </g>\n",
              "</svg>\n",
              "  </button>\n",
              "\n",
              "<style>\n",
              "  .colab-df-quickchart {\n",
              "      --bg-color: #E8F0FE;\n",
              "      --fill-color: #1967D2;\n",
              "      --hover-bg-color: #E2EBFA;\n",
              "      --hover-fill-color: #174EA6;\n",
              "      --disabled-fill-color: #AAA;\n",
              "      --disabled-bg-color: #DDD;\n",
              "  }\n",
              "\n",
              "  [theme=dark] .colab-df-quickchart {\n",
              "      --bg-color: #3B4455;\n",
              "      --fill-color: #D2E3FC;\n",
              "      --hover-bg-color: #434B5C;\n",
              "      --hover-fill-color: #FFFFFF;\n",
              "      --disabled-bg-color: #3B4455;\n",
              "      --disabled-fill-color: #666;\n",
              "  }\n",
              "\n",
              "  .colab-df-quickchart {\n",
              "    background-color: var(--bg-color);\n",
              "    border: none;\n",
              "    border-radius: 50%;\n",
              "    cursor: pointer;\n",
              "    display: none;\n",
              "    fill: var(--fill-color);\n",
              "    height: 32px;\n",
              "    padding: 0;\n",
              "    width: 32px;\n",
              "  }\n",
              "\n",
              "  .colab-df-quickchart:hover {\n",
              "    background-color: var(--hover-bg-color);\n",
              "    box-shadow: 0 1px 2px rgba(60, 64, 67, 0.3), 0 1px 3px 1px rgba(60, 64, 67, 0.15);\n",
              "    fill: var(--button-hover-fill-color);\n",
              "  }\n",
              "\n",
              "  .colab-df-quickchart-complete:disabled,\n",
              "  .colab-df-quickchart-complete:disabled:hover {\n",
              "    background-color: var(--disabled-bg-color);\n",
              "    fill: var(--disabled-fill-color);\n",
              "    box-shadow: none;\n",
              "  }\n",
              "\n",
              "  .colab-df-spinner {\n",
              "    border: 2px solid var(--fill-color);\n",
              "    border-color: transparent;\n",
              "    border-bottom-color: var(--fill-color);\n",
              "    animation:\n",
              "      spin 1s steps(1) infinite;\n",
              "  }\n",
              "\n",
              "  @keyframes spin {\n",
              "    0% {\n",
              "      border-color: transparent;\n",
              "      border-bottom-color: var(--fill-color);\n",
              "      border-left-color: var(--fill-color);\n",
              "    }\n",
              "    20% {\n",
              "      border-color: transparent;\n",
              "      border-left-color: var(--fill-color);\n",
              "      border-top-color: var(--fill-color);\n",
              "    }\n",
              "    30% {\n",
              "      border-color: transparent;\n",
              "      border-left-color: var(--fill-color);\n",
              "      border-top-color: var(--fill-color);\n",
              "      border-right-color: var(--fill-color);\n",
              "    }\n",
              "    40% {\n",
              "      border-color: transparent;\n",
              "      border-right-color: var(--fill-color);\n",
              "      border-top-color: var(--fill-color);\n",
              "    }\n",
              "    60% {\n",
              "      border-color: transparent;\n",
              "      border-right-color: var(--fill-color);\n",
              "    }\n",
              "    80% {\n",
              "      border-color: transparent;\n",
              "      border-right-color: var(--fill-color);\n",
              "      border-bottom-color: var(--fill-color);\n",
              "    }\n",
              "    90% {\n",
              "      border-color: transparent;\n",
              "      border-bottom-color: var(--fill-color);\n",
              "    }\n",
              "  }\n",
              "</style>\n",
              "\n",
              "  <script>\n",
              "    async function quickchart(key) {\n",
              "      const quickchartButtonEl =\n",
              "        document.querySelector('#' + key + ' button');\n",
              "      quickchartButtonEl.disabled = true;  // To prevent multiple clicks.\n",
              "      quickchartButtonEl.classList.add('colab-df-spinner');\n",
              "      try {\n",
              "        const charts = await google.colab.kernel.invokeFunction(\n",
              "            'suggestCharts', [key], {});\n",
              "      } catch (error) {\n",
              "        console.error('Error during call to suggestCharts:', error);\n",
              "      }\n",
              "      quickchartButtonEl.classList.remove('colab-df-spinner');\n",
              "      quickchartButtonEl.classList.add('colab-df-quickchart-complete');\n",
              "    }\n",
              "    (() => {\n",
              "      let quickchartButtonEl =\n",
              "        document.querySelector('#df-1dc444ec-0d85-4db6-8dd4-441aa02a551c button');\n",
              "      quickchartButtonEl.style.display =\n",
              "        google.colab.kernel.accessAllowed ? 'block' : 'none';\n",
              "    })();\n",
              "  </script>\n",
              "</div>\n",
              "\n",
              "  <div id=\"id_b1870d68-3dc9-4966-bb29-f23c711a40d8\">\n",
              "    <style>\n",
              "      .colab-df-generate {\n",
              "        background-color: #E8F0FE;\n",
              "        border: none;\n",
              "        border-radius: 50%;\n",
              "        cursor: pointer;\n",
              "        display: none;\n",
              "        fill: #1967D2;\n",
              "        height: 32px;\n",
              "        padding: 0 0 0 0;\n",
              "        width: 32px;\n",
              "      }\n",
              "\n",
              "      .colab-df-generate:hover {\n",
              "        background-color: #E2EBFA;\n",
              "        box-shadow: 0px 1px 2px rgba(60, 64, 67, 0.3), 0px 1px 3px 1px rgba(60, 64, 67, 0.15);\n",
              "        fill: #174EA6;\n",
              "      }\n",
              "\n",
              "      [theme=dark] .colab-df-generate {\n",
              "        background-color: #3B4455;\n",
              "        fill: #D2E3FC;\n",
              "      }\n",
              "\n",
              "      [theme=dark] .colab-df-generate:hover {\n",
              "        background-color: #434B5C;\n",
              "        box-shadow: 0px 1px 3px 1px rgba(0, 0, 0, 0.15);\n",
              "        filter: drop-shadow(0px 1px 2px rgba(0, 0, 0, 0.3));\n",
              "        fill: #FFFFFF;\n",
              "      }\n",
              "    </style>\n",
              "    <button class=\"colab-df-generate\" onclick=\"generateWithVariable('feature_df')\"\n",
              "            title=\"Generate code using this dataframe.\"\n",
              "            style=\"display:none;\">\n",
              "\n",
              "  <svg xmlns=\"http://www.w3.org/2000/svg\" height=\"24px\"viewBox=\"0 0 24 24\"\n",
              "       width=\"24px\">\n",
              "    <path d=\"M7,19H8.4L18.45,9,17,7.55,7,17.6ZM5,21V16.75L18.45,3.32a2,2,0,0,1,2.83,0l1.4,1.43a1.91,1.91,0,0,1,.58,1.4,1.91,1.91,0,0,1-.58,1.4L9.25,21ZM18.45,9,17,7.55Zm-12,3A5.31,5.31,0,0,0,4.9,8.1,5.31,5.31,0,0,0,1,6.5,5.31,5.31,0,0,0,4.9,4.9,5.31,5.31,0,0,0,6.5,1,5.31,5.31,0,0,0,8.1,4.9,5.31,5.31,0,0,0,12,6.5,5.46,5.46,0,0,0,6.5,12Z\"/>\n",
              "  </svg>\n",
              "    </button>\n",
              "    <script>\n",
              "      (() => {\n",
              "      const buttonEl =\n",
              "        document.querySelector('#id_b1870d68-3dc9-4966-bb29-f23c711a40d8 button.colab-df-generate');\n",
              "      buttonEl.style.display =\n",
              "        google.colab.kernel.accessAllowed ? 'block' : 'none';\n",
              "\n",
              "      buttonEl.onclick = () => {\n",
              "        google.colab.notebook.generateWithVariable('feature_df');\n",
              "      }\n",
              "      })();\n",
              "    </script>\n",
              "  </div>\n",
              "\n",
              "    </div>\n",
              "  </div>\n"
            ],
            "application/vnd.google.colaboratory.intrinsic+json": {
              "type": "dataframe",
              "variable_name": "feature_df"
            }
          },
          "metadata": {},
          "execution_count": 44
        }
      ],
      "source": [
        "feature_df = pd.DataFrame.from_dict(DATASET_DICT, orient=\"index\")\n",
        "\n",
        "feature_df"
      ]
    },
    {
      "cell_type": "code",
      "source": [
        "gt_df = pd.DataFrame({'melanoma': GROUNDTRUTH_DF['melanoma'].values.tolist()}, index=GROUNDTRUTH_DF['image_id'])\n",
        "final_df = pd.concat([feature_df, gt_df['melanoma']], axis=1)"
      ],
      "metadata": {
        "id": "qUsMhF7v0NMw"
      },
      "execution_count": 45,
      "outputs": []
    },
    {
      "cell_type": "code",
      "source": [
        "final_df.to_csv(\"final_df.csv\")"
      ],
      "metadata": {
        "id": "gv9E8u2x3nFP"
      },
      "execution_count": 46,
      "outputs": []
    },
    {
      "cell_type": "markdown",
      "source": [
        "## 2.3. Loading Feature Dataset"
      ],
      "metadata": {
        "id": "5XyPmyb8YA75"
      }
    },
    {
      "cell_type": "code",
      "source": [
        "import gdown\n",
        "\n",
        "if not os.path.exists('final_df.csv'):\n",
        "  url = 'https://drive.google.com/uc?id=1Wksiis4ZwPitGyaJCInmAlVJIq4FN8ws'\n",
        "  output = 'final_df.csv'\n",
        "  gdown.download(url, output, quiet=False)"
      ],
      "metadata": {
        "id": "sWHEqPQ10SJH"
      },
      "execution_count": 47,
      "outputs": []
    },
    {
      "cell_type": "code",
      "source": [
        "start = time.time()\n",
        "chunk_sz = 20\n",
        "chunk_df = pd.read_csv(\"final_df.csv\",chunksize=chunk_sz)\n",
        "\n",
        "end = time.time()\n",
        "print(\"Read csv with chunks: \",(end-start),\"sec\")\n",
        "\n",
        "final_df = pd.concat(chunk_df)"
      ],
      "metadata": {
        "id": "poM7BZP_Yom9",
        "colab": {
          "base_uri": "https://localhost:8080/"
        },
        "outputId": "a61a4556-dd25-44ad-ddb0-fdf03755a545"
      },
      "execution_count": 48,
      "outputs": [
        {
          "output_type": "stream",
          "name": "stdout",
          "text": [
            "Read csv with chunks:  0.005629301071166992 sec\n"
          ]
        }
      ]
    },
    {
      "cell_type": "code",
      "source": [
        "final_df.index = final_df['Unnamed: 0']\n",
        "final_df.drop(columns=['Unnamed: 0'], inplace=True)\n",
        "final_df.index.names = [\"image_id\"]"
      ],
      "metadata": {
        "id": "aCItsHKIY5BS"
      },
      "execution_count": 49,
      "outputs": []
    },
    {
      "cell_type": "code",
      "source": [
        "final_df"
      ],
      "metadata": {
        "id": "G3IvwUEA5BwP",
        "colab": {
          "base_uri": "https://localhost:8080/",
          "height": 475
        },
        "outputId": "46cc3ba7-8d9c-47da-955c-a1d211227363"
      },
      "execution_count": 50,
      "outputs": [
        {
          "output_type": "execute_result",
          "data": {
            "text/plain": [
              "                          0    1    2           3           4   5    6    7  \\\n",
              "image_id                                                                      \n",
              "ISIC_0000000  495919.815270  452  686  577.366667  245.703803  52   36  504   \n",
              "ISIC_0000001  204492.846855  197  236  222.500000  233.988977   1  180  371   \n",
              "ISIC_0000002  463932.490688  394  512  467.244444  231.608873   1  106  351   \n",
              "ISIC_0000003  419433.096627  441  512  478.355556  242.146828   1   40  456   \n",
              "ISIC_0000004  385777.139263  400  537  481.294444  249.320960   1   44  390   \n",
              "...                     ...  ...  ...         ...         ...  ..  ...  ...   \n",
              "ISIC_0000511  713184.771241  526  762  634.350000  219.827169   2   15  311   \n",
              "ISIC_0000513  359513.332783  353  497  434.016667  240.403324   1  124  354   \n",
              "ISIC_0000516  472966.359429  383  675  547.716667  232.744550   1   69  224   \n",
              "ISIC_0000517  653247.740708  600  968  852.011111  228.936564   1    0    4   \n",
              "ISIC_0000518  313354.320520  308  369  351.527778  231.348797   1   95  420   \n",
              "\n",
              "                8    9  ...       1037        1038        1039        1040  \\\n",
              "image_id                ...                                                  \n",
              "ISIC_0000000   37  556  ...  741.09375  744.082031  747.070312  750.058594   \n",
              "ISIC_0000001  181  372  ...  741.09375  744.082031  747.070312  750.058594   \n",
              "ISIC_0000002  107  352  ...  741.09375  744.082031  747.070312  750.058594   \n",
              "ISIC_0000003   41  457  ...  741.09375  744.082031  747.070312  750.058594   \n",
              "ISIC_0000004   45  391  ...  741.09375  744.082031  747.070312  750.058594   \n",
              "...           ...  ...  ...        ...         ...         ...         ...   \n",
              "ISIC_0000511   17  313  ...  741.09375  744.082031  747.070312  750.058594   \n",
              "ISIC_0000513  125  355  ...  741.09375  744.082031  747.070312  750.058594   \n",
              "ISIC_0000516   70  225  ...  741.09375  744.082031  747.070312  750.058594   \n",
              "ISIC_0000517    1    5  ...  741.09375  744.082031  747.070312  750.058594   \n",
              "ISIC_0000518   96  421  ...  741.09375  744.082031  747.070312  750.058594   \n",
              "\n",
              "                    1041        1042        1043        1044   1045  melanoma  \n",
              "image_id                                                                       \n",
              "ISIC_0000000  753.046875  756.035156  759.023438  762.011719  765.0         0  \n",
              "ISIC_0000001  753.046875  756.035156  759.023438  762.011719  765.0         0  \n",
              "ISIC_0000002  753.046875  756.035156  759.023438  762.011719  765.0         1  \n",
              "ISIC_0000003  753.046875  756.035156  759.023438  762.011719  765.0         0  \n",
              "ISIC_0000004  753.046875  756.035156  759.023438  762.011719  765.0         1  \n",
              "...                  ...         ...         ...         ...    ...       ...  \n",
              "ISIC_0000511  753.046875  756.035156  759.023438  762.011719  765.0         1  \n",
              "ISIC_0000513  753.046875  756.035156  759.023438  762.011719  765.0         1  \n",
              "ISIC_0000516  753.046875  756.035156  759.023438  762.011719  765.0         1  \n",
              "ISIC_0000517  753.046875  756.035156  759.023438  762.011719  765.0         1  \n",
              "ISIC_0000518  753.046875  756.035156  759.023438  762.011719  765.0         1  \n",
              "\n",
              "[200 rows x 1047 columns]"
            ],
            "text/html": [
              "\n",
              "  <div id=\"df-1fd0e077-a696-4200-875f-4269d4888e13\" class=\"colab-df-container\">\n",
              "    <div>\n",
              "<style scoped>\n",
              "    .dataframe tbody tr th:only-of-type {\n",
              "        vertical-align: middle;\n",
              "    }\n",
              "\n",
              "    .dataframe tbody tr th {\n",
              "        vertical-align: top;\n",
              "    }\n",
              "\n",
              "    .dataframe thead th {\n",
              "        text-align: right;\n",
              "    }\n",
              "</style>\n",
              "<table border=\"1\" class=\"dataframe\">\n",
              "  <thead>\n",
              "    <tr style=\"text-align: right;\">\n",
              "      <th></th>\n",
              "      <th>0</th>\n",
              "      <th>1</th>\n",
              "      <th>2</th>\n",
              "      <th>3</th>\n",
              "      <th>4</th>\n",
              "      <th>5</th>\n",
              "      <th>6</th>\n",
              "      <th>7</th>\n",
              "      <th>8</th>\n",
              "      <th>9</th>\n",
              "      <th>...</th>\n",
              "      <th>1037</th>\n",
              "      <th>1038</th>\n",
              "      <th>1039</th>\n",
              "      <th>1040</th>\n",
              "      <th>1041</th>\n",
              "      <th>1042</th>\n",
              "      <th>1043</th>\n",
              "      <th>1044</th>\n",
              "      <th>1045</th>\n",
              "      <th>melanoma</th>\n",
              "    </tr>\n",
              "    <tr>\n",
              "      <th>image_id</th>\n",
              "      <th></th>\n",
              "      <th></th>\n",
              "      <th></th>\n",
              "      <th></th>\n",
              "      <th></th>\n",
              "      <th></th>\n",
              "      <th></th>\n",
              "      <th></th>\n",
              "      <th></th>\n",
              "      <th></th>\n",
              "      <th></th>\n",
              "      <th></th>\n",
              "      <th></th>\n",
              "      <th></th>\n",
              "      <th></th>\n",
              "      <th></th>\n",
              "      <th></th>\n",
              "      <th></th>\n",
              "      <th></th>\n",
              "      <th></th>\n",
              "      <th></th>\n",
              "    </tr>\n",
              "  </thead>\n",
              "  <tbody>\n",
              "    <tr>\n",
              "      <th>ISIC_0000000</th>\n",
              "      <td>495919.815270</td>\n",
              "      <td>452</td>\n",
              "      <td>686</td>\n",
              "      <td>577.366667</td>\n",
              "      <td>245.703803</td>\n",
              "      <td>52</td>\n",
              "      <td>36</td>\n",
              "      <td>504</td>\n",
              "      <td>37</td>\n",
              "      <td>556</td>\n",
              "      <td>...</td>\n",
              "      <td>741.09375</td>\n",
              "      <td>744.082031</td>\n",
              "      <td>747.070312</td>\n",
              "      <td>750.058594</td>\n",
              "      <td>753.046875</td>\n",
              "      <td>756.035156</td>\n",
              "      <td>759.023438</td>\n",
              "      <td>762.011719</td>\n",
              "      <td>765.0</td>\n",
              "      <td>0</td>\n",
              "    </tr>\n",
              "    <tr>\n",
              "      <th>ISIC_0000001</th>\n",
              "      <td>204492.846855</td>\n",
              "      <td>197</td>\n",
              "      <td>236</td>\n",
              "      <td>222.500000</td>\n",
              "      <td>233.988977</td>\n",
              "      <td>1</td>\n",
              "      <td>180</td>\n",
              "      <td>371</td>\n",
              "      <td>181</td>\n",
              "      <td>372</td>\n",
              "      <td>...</td>\n",
              "      <td>741.09375</td>\n",
              "      <td>744.082031</td>\n",
              "      <td>747.070312</td>\n",
              "      <td>750.058594</td>\n",
              "      <td>753.046875</td>\n",
              "      <td>756.035156</td>\n",
              "      <td>759.023438</td>\n",
              "      <td>762.011719</td>\n",
              "      <td>765.0</td>\n",
              "      <td>0</td>\n",
              "    </tr>\n",
              "    <tr>\n",
              "      <th>ISIC_0000002</th>\n",
              "      <td>463932.490688</td>\n",
              "      <td>394</td>\n",
              "      <td>512</td>\n",
              "      <td>467.244444</td>\n",
              "      <td>231.608873</td>\n",
              "      <td>1</td>\n",
              "      <td>106</td>\n",
              "      <td>351</td>\n",
              "      <td>107</td>\n",
              "      <td>352</td>\n",
              "      <td>...</td>\n",
              "      <td>741.09375</td>\n",
              "      <td>744.082031</td>\n",
              "      <td>747.070312</td>\n",
              "      <td>750.058594</td>\n",
              "      <td>753.046875</td>\n",
              "      <td>756.035156</td>\n",
              "      <td>759.023438</td>\n",
              "      <td>762.011719</td>\n",
              "      <td>765.0</td>\n",
              "      <td>1</td>\n",
              "    </tr>\n",
              "    <tr>\n",
              "      <th>ISIC_0000003</th>\n",
              "      <td>419433.096627</td>\n",
              "      <td>441</td>\n",
              "      <td>512</td>\n",
              "      <td>478.355556</td>\n",
              "      <td>242.146828</td>\n",
              "      <td>1</td>\n",
              "      <td>40</td>\n",
              "      <td>456</td>\n",
              "      <td>41</td>\n",
              "      <td>457</td>\n",
              "      <td>...</td>\n",
              "      <td>741.09375</td>\n",
              "      <td>744.082031</td>\n",
              "      <td>747.070312</td>\n",
              "      <td>750.058594</td>\n",
              "      <td>753.046875</td>\n",
              "      <td>756.035156</td>\n",
              "      <td>759.023438</td>\n",
              "      <td>762.011719</td>\n",
              "      <td>765.0</td>\n",
              "      <td>0</td>\n",
              "    </tr>\n",
              "    <tr>\n",
              "      <th>ISIC_0000004</th>\n",
              "      <td>385777.139263</td>\n",
              "      <td>400</td>\n",
              "      <td>537</td>\n",
              "      <td>481.294444</td>\n",
              "      <td>249.320960</td>\n",
              "      <td>1</td>\n",
              "      <td>44</td>\n",
              "      <td>390</td>\n",
              "      <td>45</td>\n",
              "      <td>391</td>\n",
              "      <td>...</td>\n",
              "      <td>741.09375</td>\n",
              "      <td>744.082031</td>\n",
              "      <td>747.070312</td>\n",
              "      <td>750.058594</td>\n",
              "      <td>753.046875</td>\n",
              "      <td>756.035156</td>\n",
              "      <td>759.023438</td>\n",
              "      <td>762.011719</td>\n",
              "      <td>765.0</td>\n",
              "      <td>1</td>\n",
              "    </tr>\n",
              "    <tr>\n",
              "      <th>...</th>\n",
              "      <td>...</td>\n",
              "      <td>...</td>\n",
              "      <td>...</td>\n",
              "      <td>...</td>\n",
              "      <td>...</td>\n",
              "      <td>...</td>\n",
              "      <td>...</td>\n",
              "      <td>...</td>\n",
              "      <td>...</td>\n",
              "      <td>...</td>\n",
              "      <td>...</td>\n",
              "      <td>...</td>\n",
              "      <td>...</td>\n",
              "      <td>...</td>\n",
              "      <td>...</td>\n",
              "      <td>...</td>\n",
              "      <td>...</td>\n",
              "      <td>...</td>\n",
              "      <td>...</td>\n",
              "      <td>...</td>\n",
              "      <td>...</td>\n",
              "    </tr>\n",
              "    <tr>\n",
              "      <th>ISIC_0000511</th>\n",
              "      <td>713184.771241</td>\n",
              "      <td>526</td>\n",
              "      <td>762</td>\n",
              "      <td>634.350000</td>\n",
              "      <td>219.827169</td>\n",
              "      <td>2</td>\n",
              "      <td>15</td>\n",
              "      <td>311</td>\n",
              "      <td>17</td>\n",
              "      <td>313</td>\n",
              "      <td>...</td>\n",
              "      <td>741.09375</td>\n",
              "      <td>744.082031</td>\n",
              "      <td>747.070312</td>\n",
              "      <td>750.058594</td>\n",
              "      <td>753.046875</td>\n",
              "      <td>756.035156</td>\n",
              "      <td>759.023438</td>\n",
              "      <td>762.011719</td>\n",
              "      <td>765.0</td>\n",
              "      <td>1</td>\n",
              "    </tr>\n",
              "    <tr>\n",
              "      <th>ISIC_0000513</th>\n",
              "      <td>359513.332783</td>\n",
              "      <td>353</td>\n",
              "      <td>497</td>\n",
              "      <td>434.016667</td>\n",
              "      <td>240.403324</td>\n",
              "      <td>1</td>\n",
              "      <td>124</td>\n",
              "      <td>354</td>\n",
              "      <td>125</td>\n",
              "      <td>355</td>\n",
              "      <td>...</td>\n",
              "      <td>741.09375</td>\n",
              "      <td>744.082031</td>\n",
              "      <td>747.070312</td>\n",
              "      <td>750.058594</td>\n",
              "      <td>753.046875</td>\n",
              "      <td>756.035156</td>\n",
              "      <td>759.023438</td>\n",
              "      <td>762.011719</td>\n",
              "      <td>765.0</td>\n",
              "      <td>1</td>\n",
              "    </tr>\n",
              "    <tr>\n",
              "      <th>ISIC_0000516</th>\n",
              "      <td>472966.359429</td>\n",
              "      <td>383</td>\n",
              "      <td>675</td>\n",
              "      <td>547.716667</td>\n",
              "      <td>232.744550</td>\n",
              "      <td>1</td>\n",
              "      <td>69</td>\n",
              "      <td>224</td>\n",
              "      <td>70</td>\n",
              "      <td>225</td>\n",
              "      <td>...</td>\n",
              "      <td>741.09375</td>\n",
              "      <td>744.082031</td>\n",
              "      <td>747.070312</td>\n",
              "      <td>750.058594</td>\n",
              "      <td>753.046875</td>\n",
              "      <td>756.035156</td>\n",
              "      <td>759.023438</td>\n",
              "      <td>762.011719</td>\n",
              "      <td>765.0</td>\n",
              "      <td>1</td>\n",
              "    </tr>\n",
              "    <tr>\n",
              "      <th>ISIC_0000517</th>\n",
              "      <td>653247.740708</td>\n",
              "      <td>600</td>\n",
              "      <td>968</td>\n",
              "      <td>852.011111</td>\n",
              "      <td>228.936564</td>\n",
              "      <td>1</td>\n",
              "      <td>0</td>\n",
              "      <td>4</td>\n",
              "      <td>1</td>\n",
              "      <td>5</td>\n",
              "      <td>...</td>\n",
              "      <td>741.09375</td>\n",
              "      <td>744.082031</td>\n",
              "      <td>747.070312</td>\n",
              "      <td>750.058594</td>\n",
              "      <td>753.046875</td>\n",
              "      <td>756.035156</td>\n",
              "      <td>759.023438</td>\n",
              "      <td>762.011719</td>\n",
              "      <td>765.0</td>\n",
              "      <td>1</td>\n",
              "    </tr>\n",
              "    <tr>\n",
              "      <th>ISIC_0000518</th>\n",
              "      <td>313354.320520</td>\n",
              "      <td>308</td>\n",
              "      <td>369</td>\n",
              "      <td>351.527778</td>\n",
              "      <td>231.348797</td>\n",
              "      <td>1</td>\n",
              "      <td>95</td>\n",
              "      <td>420</td>\n",
              "      <td>96</td>\n",
              "      <td>421</td>\n",
              "      <td>...</td>\n",
              "      <td>741.09375</td>\n",
              "      <td>744.082031</td>\n",
              "      <td>747.070312</td>\n",
              "      <td>750.058594</td>\n",
              "      <td>753.046875</td>\n",
              "      <td>756.035156</td>\n",
              "      <td>759.023438</td>\n",
              "      <td>762.011719</td>\n",
              "      <td>765.0</td>\n",
              "      <td>1</td>\n",
              "    </tr>\n",
              "  </tbody>\n",
              "</table>\n",
              "<p>200 rows × 1047 columns</p>\n",
              "</div>\n",
              "    <div class=\"colab-df-buttons\">\n",
              "\n",
              "  <div class=\"colab-df-container\">\n",
              "    <button class=\"colab-df-convert\" onclick=\"convertToInteractive('df-1fd0e077-a696-4200-875f-4269d4888e13')\"\n",
              "            title=\"Convert this dataframe to an interactive table.\"\n",
              "            style=\"display:none;\">\n",
              "\n",
              "  <svg xmlns=\"http://www.w3.org/2000/svg\" height=\"24px\" viewBox=\"0 -960 960 960\">\n",
              "    <path d=\"M120-120v-720h720v720H120Zm60-500h600v-160H180v160Zm220 220h160v-160H400v160Zm0 220h160v-160H400v160ZM180-400h160v-160H180v160Zm440 0h160v-160H620v160ZM180-180h160v-160H180v160Zm440 0h160v-160H620v160Z\"/>\n",
              "  </svg>\n",
              "    </button>\n",
              "\n",
              "  <style>\n",
              "    .colab-df-container {\n",
              "      display:flex;\n",
              "      gap: 12px;\n",
              "    }\n",
              "\n",
              "    .colab-df-convert {\n",
              "      background-color: #E8F0FE;\n",
              "      border: none;\n",
              "      border-radius: 50%;\n",
              "      cursor: pointer;\n",
              "      display: none;\n",
              "      fill: #1967D2;\n",
              "      height: 32px;\n",
              "      padding: 0 0 0 0;\n",
              "      width: 32px;\n",
              "    }\n",
              "\n",
              "    .colab-df-convert:hover {\n",
              "      background-color: #E2EBFA;\n",
              "      box-shadow: 0px 1px 2px rgba(60, 64, 67, 0.3), 0px 1px 3px 1px rgba(60, 64, 67, 0.15);\n",
              "      fill: #174EA6;\n",
              "    }\n",
              "\n",
              "    .colab-df-buttons div {\n",
              "      margin-bottom: 4px;\n",
              "    }\n",
              "\n",
              "    [theme=dark] .colab-df-convert {\n",
              "      background-color: #3B4455;\n",
              "      fill: #D2E3FC;\n",
              "    }\n",
              "\n",
              "    [theme=dark] .colab-df-convert:hover {\n",
              "      background-color: #434B5C;\n",
              "      box-shadow: 0px 1px 3px 1px rgba(0, 0, 0, 0.15);\n",
              "      filter: drop-shadow(0px 1px 2px rgba(0, 0, 0, 0.3));\n",
              "      fill: #FFFFFF;\n",
              "    }\n",
              "  </style>\n",
              "\n",
              "    <script>\n",
              "      const buttonEl =\n",
              "        document.querySelector('#df-1fd0e077-a696-4200-875f-4269d4888e13 button.colab-df-convert');\n",
              "      buttonEl.style.display =\n",
              "        google.colab.kernel.accessAllowed ? 'block' : 'none';\n",
              "\n",
              "      async function convertToInteractive(key) {\n",
              "        const element = document.querySelector('#df-1fd0e077-a696-4200-875f-4269d4888e13');\n",
              "        const dataTable =\n",
              "          await google.colab.kernel.invokeFunction('convertToInteractive',\n",
              "                                                    [key], {});\n",
              "        if (!dataTable) return;\n",
              "\n",
              "        const docLinkHtml = 'Like what you see? Visit the ' +\n",
              "          '<a target=\"_blank\" href=https://colab.research.google.com/notebooks/data_table.ipynb>data table notebook</a>'\n",
              "          + ' to learn more about interactive tables.';\n",
              "        element.innerHTML = '';\n",
              "        dataTable['output_type'] = 'display_data';\n",
              "        await google.colab.output.renderOutput(dataTable, element);\n",
              "        const docLink = document.createElement('div');\n",
              "        docLink.innerHTML = docLinkHtml;\n",
              "        element.appendChild(docLink);\n",
              "      }\n",
              "    </script>\n",
              "  </div>\n",
              "\n",
              "\n",
              "<div id=\"df-b1ffaeb8-a5a5-423a-b83d-ab6349fa98d0\">\n",
              "  <button class=\"colab-df-quickchart\" onclick=\"quickchart('df-b1ffaeb8-a5a5-423a-b83d-ab6349fa98d0')\"\n",
              "            title=\"Suggest charts\"\n",
              "            style=\"display:none;\">\n",
              "\n",
              "<svg xmlns=\"http://www.w3.org/2000/svg\" height=\"24px\"viewBox=\"0 0 24 24\"\n",
              "     width=\"24px\">\n",
              "    <g>\n",
              "        <path d=\"M19 3H5c-1.1 0-2 .9-2 2v14c0 1.1.9 2 2 2h14c1.1 0 2-.9 2-2V5c0-1.1-.9-2-2-2zM9 17H7v-7h2v7zm4 0h-2V7h2v10zm4 0h-2v-4h2v4z\"/>\n",
              "    </g>\n",
              "</svg>\n",
              "  </button>\n",
              "\n",
              "<style>\n",
              "  .colab-df-quickchart {\n",
              "      --bg-color: #E8F0FE;\n",
              "      --fill-color: #1967D2;\n",
              "      --hover-bg-color: #E2EBFA;\n",
              "      --hover-fill-color: #174EA6;\n",
              "      --disabled-fill-color: #AAA;\n",
              "      --disabled-bg-color: #DDD;\n",
              "  }\n",
              "\n",
              "  [theme=dark] .colab-df-quickchart {\n",
              "      --bg-color: #3B4455;\n",
              "      --fill-color: #D2E3FC;\n",
              "      --hover-bg-color: #434B5C;\n",
              "      --hover-fill-color: #FFFFFF;\n",
              "      --disabled-bg-color: #3B4455;\n",
              "      --disabled-fill-color: #666;\n",
              "  }\n",
              "\n",
              "  .colab-df-quickchart {\n",
              "    background-color: var(--bg-color);\n",
              "    border: none;\n",
              "    border-radius: 50%;\n",
              "    cursor: pointer;\n",
              "    display: none;\n",
              "    fill: var(--fill-color);\n",
              "    height: 32px;\n",
              "    padding: 0;\n",
              "    width: 32px;\n",
              "  }\n",
              "\n",
              "  .colab-df-quickchart:hover {\n",
              "    background-color: var(--hover-bg-color);\n",
              "    box-shadow: 0 1px 2px rgba(60, 64, 67, 0.3), 0 1px 3px 1px rgba(60, 64, 67, 0.15);\n",
              "    fill: var(--button-hover-fill-color);\n",
              "  }\n",
              "\n",
              "  .colab-df-quickchart-complete:disabled,\n",
              "  .colab-df-quickchart-complete:disabled:hover {\n",
              "    background-color: var(--disabled-bg-color);\n",
              "    fill: var(--disabled-fill-color);\n",
              "    box-shadow: none;\n",
              "  }\n",
              "\n",
              "  .colab-df-spinner {\n",
              "    border: 2px solid var(--fill-color);\n",
              "    border-color: transparent;\n",
              "    border-bottom-color: var(--fill-color);\n",
              "    animation:\n",
              "      spin 1s steps(1) infinite;\n",
              "  }\n",
              "\n",
              "  @keyframes spin {\n",
              "    0% {\n",
              "      border-color: transparent;\n",
              "      border-bottom-color: var(--fill-color);\n",
              "      border-left-color: var(--fill-color);\n",
              "    }\n",
              "    20% {\n",
              "      border-color: transparent;\n",
              "      border-left-color: var(--fill-color);\n",
              "      border-top-color: var(--fill-color);\n",
              "    }\n",
              "    30% {\n",
              "      border-color: transparent;\n",
              "      border-left-color: var(--fill-color);\n",
              "      border-top-color: var(--fill-color);\n",
              "      border-right-color: var(--fill-color);\n",
              "    }\n",
              "    40% {\n",
              "      border-color: transparent;\n",
              "      border-right-color: var(--fill-color);\n",
              "      border-top-color: var(--fill-color);\n",
              "    }\n",
              "    60% {\n",
              "      border-color: transparent;\n",
              "      border-right-color: var(--fill-color);\n",
              "    }\n",
              "    80% {\n",
              "      border-color: transparent;\n",
              "      border-right-color: var(--fill-color);\n",
              "      border-bottom-color: var(--fill-color);\n",
              "    }\n",
              "    90% {\n",
              "      border-color: transparent;\n",
              "      border-bottom-color: var(--fill-color);\n",
              "    }\n",
              "  }\n",
              "</style>\n",
              "\n",
              "  <script>\n",
              "    async function quickchart(key) {\n",
              "      const quickchartButtonEl =\n",
              "        document.querySelector('#' + key + ' button');\n",
              "      quickchartButtonEl.disabled = true;  // To prevent multiple clicks.\n",
              "      quickchartButtonEl.classList.add('colab-df-spinner');\n",
              "      try {\n",
              "        const charts = await google.colab.kernel.invokeFunction(\n",
              "            'suggestCharts', [key], {});\n",
              "      } catch (error) {\n",
              "        console.error('Error during call to suggestCharts:', error);\n",
              "      }\n",
              "      quickchartButtonEl.classList.remove('colab-df-spinner');\n",
              "      quickchartButtonEl.classList.add('colab-df-quickchart-complete');\n",
              "    }\n",
              "    (() => {\n",
              "      let quickchartButtonEl =\n",
              "        document.querySelector('#df-b1ffaeb8-a5a5-423a-b83d-ab6349fa98d0 button');\n",
              "      quickchartButtonEl.style.display =\n",
              "        google.colab.kernel.accessAllowed ? 'block' : 'none';\n",
              "    })();\n",
              "  </script>\n",
              "</div>\n",
              "\n",
              "  <div id=\"id_c020619a-fad3-4f96-a72e-0274bbac7b2a\">\n",
              "    <style>\n",
              "      .colab-df-generate {\n",
              "        background-color: #E8F0FE;\n",
              "        border: none;\n",
              "        border-radius: 50%;\n",
              "        cursor: pointer;\n",
              "        display: none;\n",
              "        fill: #1967D2;\n",
              "        height: 32px;\n",
              "        padding: 0 0 0 0;\n",
              "        width: 32px;\n",
              "      }\n",
              "\n",
              "      .colab-df-generate:hover {\n",
              "        background-color: #E2EBFA;\n",
              "        box-shadow: 0px 1px 2px rgba(60, 64, 67, 0.3), 0px 1px 3px 1px rgba(60, 64, 67, 0.15);\n",
              "        fill: #174EA6;\n",
              "      }\n",
              "\n",
              "      [theme=dark] .colab-df-generate {\n",
              "        background-color: #3B4455;\n",
              "        fill: #D2E3FC;\n",
              "      }\n",
              "\n",
              "      [theme=dark] .colab-df-generate:hover {\n",
              "        background-color: #434B5C;\n",
              "        box-shadow: 0px 1px 3px 1px rgba(0, 0, 0, 0.15);\n",
              "        filter: drop-shadow(0px 1px 2px rgba(0, 0, 0, 0.3));\n",
              "        fill: #FFFFFF;\n",
              "      }\n",
              "    </style>\n",
              "    <button class=\"colab-df-generate\" onclick=\"generateWithVariable('final_df')\"\n",
              "            title=\"Generate code using this dataframe.\"\n",
              "            style=\"display:none;\">\n",
              "\n",
              "  <svg xmlns=\"http://www.w3.org/2000/svg\" height=\"24px\"viewBox=\"0 0 24 24\"\n",
              "       width=\"24px\">\n",
              "    <path d=\"M7,19H8.4L18.45,9,17,7.55,7,17.6ZM5,21V16.75L18.45,3.32a2,2,0,0,1,2.83,0l1.4,1.43a1.91,1.91,0,0,1,.58,1.4,1.91,1.91,0,0,1-.58,1.4L9.25,21ZM18.45,9,17,7.55Zm-12,3A5.31,5.31,0,0,0,4.9,8.1,5.31,5.31,0,0,0,1,6.5,5.31,5.31,0,0,0,4.9,4.9,5.31,5.31,0,0,0,6.5,1,5.31,5.31,0,0,0,8.1,4.9,5.31,5.31,0,0,0,12,6.5,5.46,5.46,0,0,0,6.5,12Z\"/>\n",
              "  </svg>\n",
              "    </button>\n",
              "    <script>\n",
              "      (() => {\n",
              "      const buttonEl =\n",
              "        document.querySelector('#id_c020619a-fad3-4f96-a72e-0274bbac7b2a button.colab-df-generate');\n",
              "      buttonEl.style.display =\n",
              "        google.colab.kernel.accessAllowed ? 'block' : 'none';\n",
              "\n",
              "      buttonEl.onclick = () => {\n",
              "        google.colab.notebook.generateWithVariable('final_df');\n",
              "      }\n",
              "      })();\n",
              "    </script>\n",
              "  </div>\n",
              "\n",
              "    </div>\n",
              "  </div>\n"
            ],
            "application/vnd.google.colaboratory.intrinsic+json": {
              "type": "dataframe",
              "variable_name": "final_df"
            }
          },
          "metadata": {},
          "execution_count": 50
        }
      ]
    },
    {
      "cell_type": "markdown",
      "source": [
        "# 3. Support Vector Machine"
      ],
      "metadata": {
        "id": "_ADZxQdYYmeV"
      }
    },
    {
      "cell_type": "code",
      "source": [
        "from sklearn.model_selection import train_test_split\n",
        "from sklearn.svm import SVC\n",
        "from sklearn.preprocessing import StandardScaler\n",
        "from sklearn.metrics import classification_report, confusion_matrix, roc_curve, roc_auc_score\n",
        "from sklearn import metrics\n",
        "from sklearn.pipeline import make_pipeline\n",
        "from sklearn.model_selection import LearningCurveDisplay, learning_curve"
      ],
      "metadata": {
        "id": "-yuEQDEsY4Tp"
      },
      "execution_count": 51,
      "outputs": []
    },
    {
      "cell_type": "markdown",
      "source": [
        "## 3.1. Splitting Dataset"
      ],
      "metadata": {
        "id": "YAlAb_3B5TAv"
      }
    },
    {
      "cell_type": "code",
      "source": [
        "# Splitting Train vs Test Dataset\n",
        "X = final_df.drop(columns=['melanoma'])\n",
        "y = final_df['melanoma']\n",
        "X_train, X_test, y_train, y_test = train_test_split(X, y, test_size=0.2, random_state=42, stratify=y)"
      ],
      "metadata": {
        "id": "bx7ubOMX5-An"
      },
      "execution_count": 52,
      "outputs": []
    },
    {
      "cell_type": "markdown",
      "source": [
        "## 3.2. Model and Training ##"
      ],
      "metadata": {
        "id": "dZLYtz8rZV8R"
      }
    },
    {
      "cell_type": "code",
      "source": [
        "svc = make_pipeline(StandardScaler(),\n",
        "                    SVC(kernel=\"poly\",\n",
        "                        C=100, gamma=\"auto\",\n",
        "                        degree=3,\n",
        "                        coef0=1,\n",
        "                        verbose=True, probability=True))"
      ],
      "metadata": {
        "id": "5f7XTwtrZuPc"
      },
      "execution_count": 53,
      "outputs": []
    },
    {
      "cell_type": "code",
      "source": [
        "svc"
      ],
      "metadata": {
        "id": "qKXh3Rc1aXB7",
        "colab": {
          "base_uri": "https://localhost:8080/",
          "height": 126
        },
        "outputId": "f4390880-8ff5-4b93-d79a-74d6a58630a2"
      },
      "execution_count": 54,
      "outputs": [
        {
          "output_type": "execute_result",
          "data": {
            "text/plain": [
              "Pipeline(steps=[('standardscaler', StandardScaler()),\n",
              "                ('svc',\n",
              "                 SVC(C=100, coef0=1, gamma='auto', kernel='poly',\n",
              "                     probability=True, verbose=True))])"
            ],
            "text/html": [
              "<style>#sk-container-id-1 {color: black;background-color: white;}#sk-container-id-1 pre{padding: 0;}#sk-container-id-1 div.sk-toggleable {background-color: white;}#sk-container-id-1 label.sk-toggleable__label {cursor: pointer;display: block;width: 100%;margin-bottom: 0;padding: 0.3em;box-sizing: border-box;text-align: center;}#sk-container-id-1 label.sk-toggleable__label-arrow:before {content: \"▸\";float: left;margin-right: 0.25em;color: #696969;}#sk-container-id-1 label.sk-toggleable__label-arrow:hover:before {color: black;}#sk-container-id-1 div.sk-estimator:hover label.sk-toggleable__label-arrow:before {color: black;}#sk-container-id-1 div.sk-toggleable__content {max-height: 0;max-width: 0;overflow: hidden;text-align: left;background-color: #f0f8ff;}#sk-container-id-1 div.sk-toggleable__content pre {margin: 0.2em;color: black;border-radius: 0.25em;background-color: #f0f8ff;}#sk-container-id-1 input.sk-toggleable__control:checked~div.sk-toggleable__content {max-height: 200px;max-width: 100%;overflow: auto;}#sk-container-id-1 input.sk-toggleable__control:checked~label.sk-toggleable__label-arrow:before {content: \"▾\";}#sk-container-id-1 div.sk-estimator input.sk-toggleable__control:checked~label.sk-toggleable__label {background-color: #d4ebff;}#sk-container-id-1 div.sk-label input.sk-toggleable__control:checked~label.sk-toggleable__label {background-color: #d4ebff;}#sk-container-id-1 input.sk-hidden--visually {border: 0;clip: rect(1px 1px 1px 1px);clip: rect(1px, 1px, 1px, 1px);height: 1px;margin: -1px;overflow: hidden;padding: 0;position: absolute;width: 1px;}#sk-container-id-1 div.sk-estimator {font-family: monospace;background-color: #f0f8ff;border: 1px dotted black;border-radius: 0.25em;box-sizing: border-box;margin-bottom: 0.5em;}#sk-container-id-1 div.sk-estimator:hover {background-color: #d4ebff;}#sk-container-id-1 div.sk-parallel-item::after {content: \"\";width: 100%;border-bottom: 1px solid gray;flex-grow: 1;}#sk-container-id-1 div.sk-label:hover label.sk-toggleable__label {background-color: #d4ebff;}#sk-container-id-1 div.sk-serial::before {content: \"\";position: absolute;border-left: 1px solid gray;box-sizing: border-box;top: 0;bottom: 0;left: 50%;z-index: 0;}#sk-container-id-1 div.sk-serial {display: flex;flex-direction: column;align-items: center;background-color: white;padding-right: 0.2em;padding-left: 0.2em;position: relative;}#sk-container-id-1 div.sk-item {position: relative;z-index: 1;}#sk-container-id-1 div.sk-parallel {display: flex;align-items: stretch;justify-content: center;background-color: white;position: relative;}#sk-container-id-1 div.sk-item::before, #sk-container-id-1 div.sk-parallel-item::before {content: \"\";position: absolute;border-left: 1px solid gray;box-sizing: border-box;top: 0;bottom: 0;left: 50%;z-index: -1;}#sk-container-id-1 div.sk-parallel-item {display: flex;flex-direction: column;z-index: 1;position: relative;background-color: white;}#sk-container-id-1 div.sk-parallel-item:first-child::after {align-self: flex-end;width: 50%;}#sk-container-id-1 div.sk-parallel-item:last-child::after {align-self: flex-start;width: 50%;}#sk-container-id-1 div.sk-parallel-item:only-child::after {width: 0;}#sk-container-id-1 div.sk-dashed-wrapped {border: 1px dashed gray;margin: 0 0.4em 0.5em 0.4em;box-sizing: border-box;padding-bottom: 0.4em;background-color: white;}#sk-container-id-1 div.sk-label label {font-family: monospace;font-weight: bold;display: inline-block;line-height: 1.2em;}#sk-container-id-1 div.sk-label-container {text-align: center;}#sk-container-id-1 div.sk-container {/* jupyter's `normalize.less` sets `[hidden] { display: none; }` but bootstrap.min.css set `[hidden] { display: none !important; }` so we also need the `!important` here to be able to override the default hidden behavior on the sphinx rendered scikit-learn.org. See: https://github.com/scikit-learn/scikit-learn/issues/21755 */display: inline-block !important;position: relative;}#sk-container-id-1 div.sk-text-repr-fallback {display: none;}</style><div id=\"sk-container-id-1\" class=\"sk-top-container\"><div class=\"sk-text-repr-fallback\"><pre>Pipeline(steps=[(&#x27;standardscaler&#x27;, StandardScaler()),\n",
              "                (&#x27;svc&#x27;,\n",
              "                 SVC(C=100, coef0=1, gamma=&#x27;auto&#x27;, kernel=&#x27;poly&#x27;,\n",
              "                     probability=True, verbose=True))])</pre><b>In a Jupyter environment, please rerun this cell to show the HTML representation or trust the notebook. <br />On GitHub, the HTML representation is unable to render, please try loading this page with nbviewer.org.</b></div><div class=\"sk-container\" hidden><div class=\"sk-item sk-dashed-wrapped\"><div class=\"sk-label-container\"><div class=\"sk-label sk-toggleable\"><input class=\"sk-toggleable__control sk-hidden--visually\" id=\"sk-estimator-id-1\" type=\"checkbox\" ><label for=\"sk-estimator-id-1\" class=\"sk-toggleable__label sk-toggleable__label-arrow\">Pipeline</label><div class=\"sk-toggleable__content\"><pre>Pipeline(steps=[(&#x27;standardscaler&#x27;, StandardScaler()),\n",
              "                (&#x27;svc&#x27;,\n",
              "                 SVC(C=100, coef0=1, gamma=&#x27;auto&#x27;, kernel=&#x27;poly&#x27;,\n",
              "                     probability=True, verbose=True))])</pre></div></div></div><div class=\"sk-serial\"><div class=\"sk-item\"><div class=\"sk-estimator sk-toggleable\"><input class=\"sk-toggleable__control sk-hidden--visually\" id=\"sk-estimator-id-2\" type=\"checkbox\" ><label for=\"sk-estimator-id-2\" class=\"sk-toggleable__label sk-toggleable__label-arrow\">StandardScaler</label><div class=\"sk-toggleable__content\"><pre>StandardScaler()</pre></div></div></div><div class=\"sk-item\"><div class=\"sk-estimator sk-toggleable\"><input class=\"sk-toggleable__control sk-hidden--visually\" id=\"sk-estimator-id-3\" type=\"checkbox\" ><label for=\"sk-estimator-id-3\" class=\"sk-toggleable__label sk-toggleable__label-arrow\">SVC</label><div class=\"sk-toggleable__content\"><pre>SVC(C=100, coef0=1, gamma=&#x27;auto&#x27;, kernel=&#x27;poly&#x27;, probability=True, verbose=True)</pre></div></div></div></div></div></div></div>"
            ]
          },
          "metadata": {},
          "execution_count": 54
        }
      ]
    },
    {
      "cell_type": "code",
      "source": [
        "classify = svc.fit(X_train, y_train)\n",
        "pred = svc.predict(X_test)"
      ],
      "metadata": {
        "id": "hmqVgcugadcA",
        "colab": {
          "base_uri": "https://localhost:8080/"
        },
        "outputId": "ce8087e0-23e4-4d8a-bfa8-b5f3b286a37f"
      },
      "execution_count": 55,
      "outputs": [
        {
          "output_type": "stream",
          "name": "stdout",
          "text": [
            "[LibSVM]"
          ]
        }
      ]
    },
    {
      "cell_type": "markdown",
      "source": [
        "## 3.2. Evaluation ##"
      ],
      "metadata": {
        "id": "c-5C40s3gWO0"
      }
    },
    {
      "cell_type": "code",
      "source": [
        "confusion = confusion_matrix(y_test, pred)\n",
        "sns.heatmap(confusion, annot=True, center=0.5, cmap='Blues')\n",
        "plt.show()"
      ],
      "metadata": {
        "id": "7rSEVcwTbECD",
        "colab": {
          "base_uri": "https://localhost:8080/",
          "height": 430
        },
        "outputId": "42c5ec7a-ca2d-4620-b351-bd3dd4e8b944"
      },
      "execution_count": 56,
      "outputs": [
        {
          "output_type": "display_data",
          "data": {
            "text/plain": [
              "<Figure size 640x480 with 2 Axes>"
            ],
            "image/png": "[encoded data removed]"
          },
          "metadata": {}
        }
      ]
    },
    {
      "cell_type": "code",
      "source": [
        "print(classification_report(y_test, pred))"
      ],
      "metadata": {
        "id": "KKJW-BFncmKJ",
        "colab": {
          "base_uri": "https://localhost:8080/"
        },
        "outputId": "695918f8-5be0-4d37-cfc0-5d858e504034"
      },
      "execution_count": 57,
      "outputs": [
        {
          "output_type": "stream",
          "name": "stdout",
          "text": [
            "              precision    recall  f1-score   support\n",
            "\n",
            "           0       0.74      0.70      0.72        20\n",
            "           1       0.71      0.75      0.73        20\n",
            "\n",
            "    accuracy                           0.73        40\n",
            "   macro avg       0.73      0.72      0.72        40\n",
            "weighted avg       0.73      0.72      0.72        40\n",
            "\n"
          ]
        }
      ]
    },
    {
      "cell_type": "code",
      "source": [
        "pred_prod = svc.predict_proba(X_test)[:,1]"
      ],
      "metadata": {
        "id": "se7E4O0WWX7T"
      },
      "execution_count": 58,
      "outputs": []
    },
    {
      "cell_type": "code",
      "source": [
        "fpr, tpr, thresholds = roc_curve(y_test, pred_prod)\n",
        "roc_auc = metrics.auc(fpr, tpr)\n",
        "plt.plot([0,1], [0,1], '--')\n",
        "plt.plot(fpr, tpr, label='ROC curve (area = %0.2f)' % roc_auc)\n",
        "plt.xlabel(r'False Positive Rate')\n",
        "plt.ylabel(r'True Positive Rate')\n",
        "plt.title('SVC ROC Curve')\n",
        "plt.legend(loc=\"lower right\")\n",
        "plt.show()"
      ],
      "metadata": {
        "id": "fI1srklBfhjg",
        "colab": {
          "base_uri": "https://localhost:8080/",
          "height": 472
        },
        "outputId": "b431ff79-7021-4a2d-8519-e70271fcca10"
      },
      "execution_count": 59,
      "outputs": [
        {
          "output_type": "display_data",
          "data": {
            "text/plain": [
              "<Figure size 640x480 with 1 Axes>"
            ],
            "image/png": "[encoded data removed]"
          },
          "metadata": {}
        }
      ]
    },
    {
      "cell_type": "markdown",
      "source": [
        "# 4. Stochastic Gradient Descent"
      ],
      "metadata": {
        "id": "Y0etOA6zgfiT"
      }
    },
    {
      "cell_type": "code",
      "source": [
        "from sklearn.linear_model import SGDClassifier\n",
        "from sklearn.calibration import CalibratedClassifierCV\n",
        "from sklearn.preprocessing import MinMaxScaler"
      ],
      "metadata": {
        "id": "Bw1-JKKtm5qQ"
      },
      "execution_count": 60,
      "outputs": []
    },
    {
      "cell_type": "markdown",
      "source": [
        "## 4.1. Splitting Dataset ##"
      ],
      "metadata": {
        "id": "3dGr00X8n-j4"
      }
    },
    {
      "cell_type": "code",
      "source": [
        "# Splitting Train vs Test Dataset\n",
        "X = final_df.drop(columns=['melanoma'])\n",
        "y = final_df['melanoma']\n",
        "\n",
        "scaler = StandardScaler()\n",
        "X = scaler.fit_transform(X=X)\n",
        "\n",
        "X_train, X_test, y_train, y_test = train_test_split(X, y, test_size=0.2, random_state=42, stratify=y)"
      ],
      "metadata": {
        "id": "vfJAruC6oK81"
      },
      "execution_count": 61,
      "outputs": []
    },
    {
      "cell_type": "markdown",
      "source": [
        "## 4.2. Model and Training"
      ],
      "metadata": {
        "id": "-9ajI-TcoN1D"
      }
    },
    {
      "cell_type": "code",
      "source": [
        "# SGD = make_pipeline(StandardScaler(),\n",
        "#                     SGDClassifier(max_iter=1000, tol=1e-3, verbose=True))\n",
        "SGD = SGDClassifier(max_iter=1000, verbose=True)\n",
        "calibrated_clf = CalibratedClassifierCV(SGD, cv=5)"
      ],
      "metadata": {
        "id": "OHz-1kH-oB6E"
      },
      "execution_count": 62,
      "outputs": []
    },
    {
      "cell_type": "code",
      "source": [
        "calibrated_clf"
      ],
      "metadata": {
        "id": "zzDPTRnkohbf",
        "colab": {
          "base_uri": "https://localhost:8080/",
          "height": 118
        },
        "outputId": "5d60cfe0-4e52-4280-a594-c2cc02b7d15f"
      },
      "execution_count": 63,
      "outputs": [
        {
          "output_type": "execute_result",
          "data": {
            "text/plain": [
              "CalibratedClassifierCV(cv=5, estimator=SGDClassifier(verbose=True))"
            ],
            "text/html": [
              "<style>#sk-container-id-2 {color: black;background-color: white;}#sk-container-id-2 pre{padding: 0;}#sk-container-id-2 div.sk-toggleable {background-color: white;}#sk-container-id-2 label.sk-toggleable__label {cursor: pointer;display: block;width: 100%;margin-bottom: 0;padding: 0.3em;box-sizing: border-box;text-align: center;}#sk-container-id-2 label.sk-toggleable__label-arrow:before {content: \"▸\";float: left;margin-right: 0.25em;color: #696969;}#sk-container-id-2 label.sk-toggleable__label-arrow:hover:before {color: black;}#sk-container-id-2 div.sk-estimator:hover label.sk-toggleable__label-arrow:before {color: black;}#sk-container-id-2 div.sk-toggleable__content {max-height: 0;max-width: 0;overflow: hidden;text-align: left;background-color: #f0f8ff;}#sk-container-id-2 div.sk-toggleable__content pre {margin: 0.2em;color: black;border-radius: 0.25em;background-color: #f0f8ff;}#sk-container-id-2 input.sk-toggleable__control:checked~div.sk-toggleable__content {max-height: 200px;max-width: 100%;overflow: auto;}#sk-container-id-2 input.sk-toggleable__control:checked~label.sk-toggleable__label-arrow:before {content: \"▾\";}#sk-container-id-2 div.sk-estimator input.sk-toggleable__control:checked~label.sk-toggleable__label {background-color: #d4ebff;}#sk-container-id-2 div.sk-label input.sk-toggleable__control:checked~label.sk-toggleable__label {background-color: #d4ebff;}#sk-container-id-2 input.sk-hidden--visually {border: 0;clip: rect(1px 1px 1px 1px);clip: rect(1px, 1px, 1px, 1px);height: 1px;margin: -1px;overflow: hidden;padding: 0;position: absolute;width: 1px;}#sk-container-id-2 div.sk-estimator {font-family: monospace;background-color: #f0f8ff;border: 1px dotted black;border-radius: 0.25em;box-sizing: border-box;margin-bottom: 0.5em;}#sk-container-id-2 div.sk-estimator:hover {background-color: #d4ebff;}#sk-container-id-2 div.sk-parallel-item::after {content: \"\";width: 100%;border-bottom: 1px solid gray;flex-grow: 1;}#sk-container-id-2 div.sk-label:hover label.sk-toggleable__label {background-color: #d4ebff;}#sk-container-id-2 div.sk-serial::before {content: \"\";position: absolute;border-left: 1px solid gray;box-sizing: border-box;top: 0;bottom: 0;left: 50%;z-index: 0;}#sk-container-id-2 div.sk-serial {display: flex;flex-direction: column;align-items: center;background-color: white;padding-right: 0.2em;padding-left: 0.2em;position: relative;}#sk-container-id-2 div.sk-item {position: relative;z-index: 1;}#sk-container-id-2 div.sk-parallel {display: flex;align-items: stretch;justify-content: center;background-color: white;position: relative;}#sk-container-id-2 div.sk-item::before, #sk-container-id-2 div.sk-parallel-item::before {content: \"\";position: absolute;border-left: 1px solid gray;box-sizing: border-box;top: 0;bottom: 0;left: 50%;z-index: -1;}#sk-container-id-2 div.sk-parallel-item {display: flex;flex-direction: column;z-index: 1;position: relative;background-color: white;}#sk-container-id-2 div.sk-parallel-item:first-child::after {align-self: flex-end;width: 50%;}#sk-container-id-2 div.sk-parallel-item:last-child::after {align-self: flex-start;width: 50%;}#sk-container-id-2 div.sk-parallel-item:only-child::after {width: 0;}#sk-container-id-2 div.sk-dashed-wrapped {border: 1px dashed gray;margin: 0 0.4em 0.5em 0.4em;box-sizing: border-box;padding-bottom: 0.4em;background-color: white;}#sk-container-id-2 div.sk-label label {font-family: monospace;font-weight: bold;display: inline-block;line-height: 1.2em;}#sk-container-id-2 div.sk-label-container {text-align: center;}#sk-container-id-2 div.sk-container {/* jupyter's `normalize.less` sets `[hidden] { display: none; }` but bootstrap.min.css set `[hidden] { display: none !important; }` so we also need the `!important` here to be able to override the default hidden behavior on the sphinx rendered scikit-learn.org. See: https://github.com/scikit-learn/scikit-learn/issues/21755 */display: inline-block !important;position: relative;}#sk-container-id-2 div.sk-text-repr-fallback {display: none;}</style><div id=\"sk-container-id-2\" class=\"sk-top-container\"><div class=\"sk-text-repr-fallback\"><pre>CalibratedClassifierCV(cv=5, estimator=SGDClassifier(verbose=True))</pre><b>In a Jupyter environment, please rerun this cell to show the HTML representation or trust the notebook. <br />On GitHub, the HTML representation is unable to render, please try loading this page with nbviewer.org.</b></div><div class=\"sk-container\" hidden><div class=\"sk-item sk-dashed-wrapped\"><div class=\"sk-label-container\"><div class=\"sk-label sk-toggleable\"><input class=\"sk-toggleable__control sk-hidden--visually\" id=\"sk-estimator-id-4\" type=\"checkbox\" ><label for=\"sk-estimator-id-4\" class=\"sk-toggleable__label sk-toggleable__label-arrow\">CalibratedClassifierCV</label><div class=\"sk-toggleable__content\"><pre>CalibratedClassifierCV(cv=5, estimator=SGDClassifier(verbose=True))</pre></div></div></div><div class=\"sk-parallel\"><div class=\"sk-parallel-item\"><div class=\"sk-item\"><div class=\"sk-label-container\"><div class=\"sk-label sk-toggleable\"><input class=\"sk-toggleable__control sk-hidden--visually\" id=\"sk-estimator-id-5\" type=\"checkbox\" ><label for=\"sk-estimator-id-5\" class=\"sk-toggleable__label sk-toggleable__label-arrow\">estimator: SGDClassifier</label><div class=\"sk-toggleable__content\"><pre>SGDClassifier(verbose=True)</pre></div></div></div><div class=\"sk-serial\"><div class=\"sk-item\"><div class=\"sk-estimator sk-toggleable\"><input class=\"sk-toggleable__control sk-hidden--visually\" id=\"sk-estimator-id-6\" type=\"checkbox\" ><label for=\"sk-estimator-id-6\" class=\"sk-toggleable__label sk-toggleable__label-arrow\">SGDClassifier</label><div class=\"sk-toggleable__content\"><pre>SGDClassifier(verbose=True)</pre></div></div></div></div></div></div></div></div></div></div>"
            ]
          },
          "metadata": {},
          "execution_count": 63
        }
      ]
    },
    {
      "cell_type": "code",
      "source": [
        "model=calibrated_clf.fit(X_train, y_train)\n",
        "pred = model.predict(X_test)"
      ],
      "metadata": {
        "id": "mmG5ZACrpF0L",
        "colab": {
          "base_uri": "https://localhost:8080/"
        },
        "outputId": "f0477143-b9b5-4610-9e61-be0b4f672ef4"
      },
      "execution_count": 64,
      "outputs": [
        {
          "output_type": "stream",
          "name": "stdout",
          "text": [
            "-- Epoch 1\n",
            "Norm: 760.52, NNZs: 515, Bias: -45.780311, T: 128, Avg. loss: 592.778605\n",
            "Total training time: 0.01 seconds.\n",
            "-- Epoch 2\n",
            "Norm: 893.20, NNZs: 515, Bias: 5.670096, T: 256, Avg. loss: 368.725078\n",
            "Total training time: 0.01 seconds.\n",
            "-- Epoch 3\n",
            "Norm: 962.10, NNZs: 515, Bias: 18.880384, T: 384, Avg. loss: 233.377741\n",
            "Total training time: 0.01 seconds.\n",
            "-- Epoch 4\n",
            "Norm: 1023.45, NNZs: 515, Bias: 18.782184, T: 512, Avg. loss: 120.963643\n",
            "Total training time: 0.02 seconds.\n",
            "-- Epoch 5\n",
            "Norm: 1091.16, NNZs: 515, Bias: 18.182899, T: 640, Avg. loss: 141.031357\n",
            "Total training time: 0.02 seconds.\n",
            "-- Epoch 6\n",
            "Norm: 1050.39, NNZs: 515, Bias: 6.513523, T: 768, Avg. loss: 82.637852\n",
            "Total training time: 0.02 seconds.\n",
            "-- Epoch 7\n",
            "Norm: 1021.04, NNZs: 515, Bias: -9.918659, T: 896, Avg. loss: 22.527155\n",
            "Total training time: 0.02 seconds.\n",
            "-- Epoch 8\n",
            "Norm: 992.36, NNZs: 515, Bias: 5.544518, T: 1024, Avg. loss: 56.653413\n",
            "Total training time: 0.02 seconds.\n",
            "-- Epoch 9\n",
            "Norm: 966.55, NNZs: 515, Bias: 0.782747, T: 1152, Avg. loss: 49.346241\n",
            "Total training time: 0.02 seconds.\n",
            "-- Epoch 10\n",
            "Norm: 945.97, NNZs: 515, Bias: 5.639028, T: 1280, Avg. loss: 30.375131\n",
            "Total training time: 0.03 seconds.\n",
            "-- Epoch 11\n",
            "Norm: 934.26, NNZs: 515, Bias: 1.414684, T: 1408, Avg. loss: 26.841867\n",
            "Total training time: 0.03 seconds.\n",
            "-- Epoch 12\n",
            "Norm: 926.30, NNZs: 515, Bias: 5.609544, T: 1536, Avg. loss: 39.891268\n",
            "Total training time: 0.03 seconds.\n",
            "Convergence after 12 epochs took 0.03 seconds\n",
            "-- Epoch 1\n",
            "Norm: 830.36, NNZs: 515, Bias: -29.410032, T: 128, Avg. loss: 632.052895\n",
            "Total training time: 0.00 seconds.\n",
            "-- Epoch 2\n",
            "Norm: 949.59, NNZs: 515, Bias: -110.062983, T: 256, Avg. loss: 438.600975\n",
            "Total training time: 0.00 seconds.\n",
            "-- Epoch 3\n",
            "Norm: 1011.91, NNZs: 515, Bias: -80.476403, T: 384, Avg. loss: 253.278688\n",
            "Total training time: 0.01 seconds.\n",
            "-- Epoch 4\n",
            "Norm: 1043.47, NNZs: 515, Bias: -24.828035, T: 512, Avg. loss: 255.536452\n",
            "Total training time: 0.01 seconds.\n",
            "-- Epoch 5\n",
            "Norm: 1043.36, NNZs: 515, Bias: 19.198116, T: 640, Avg. loss: 147.862209\n",
            "Total training time: 0.01 seconds.\n",
            "-- Epoch 6\n",
            "Norm: 1039.26, NNZs: 515, Bias: 65.540498, T: 768, Avg. loss: 116.460907\n",
            "Total training time: 0.01 seconds.\n",
            "-- Epoch 7\n",
            "Norm: 1018.17, NNZs: 515, Bias: 48.911187, T: 896, Avg. loss: 70.558754\n",
            "Total training time: 0.01 seconds.\n",
            "-- Epoch 8\n",
            "Norm: 982.55, NNZs: 515, Bias: 75.161910, T: 1024, Avg. loss: 59.811686\n",
            "Total training time: 0.02 seconds.\n",
            "-- Epoch 9\n",
            "Norm: 961.34, NNZs: 515, Bias: 71.009574, T: 1152, Avg. loss: 29.842738\n",
            "Total training time: 0.02 seconds.\n",
            "-- Epoch 10\n",
            "Norm: 950.07, NNZs: 515, Bias: 61.778253, T: 1280, Avg. loss: 35.020067\n",
            "Total training time: 0.02 seconds.\n",
            "-- Epoch 11\n",
            "Norm: 927.78, NNZs: 515, Bias: 78.818835, T: 1408, Avg. loss: 4.995030\n",
            "Total training time: 0.02 seconds.\n",
            "-- Epoch 12\n",
            "Norm: 903.66, NNZs: 515, Bias: 82.844703, T: 1536, Avg. loss: 23.682655\n",
            "Total training time: 0.03 seconds.\n",
            "-- Epoch 13\n",
            "Norm: 894.28, NNZs: 515, Bias: 75.033868, T: 1664, Avg. loss: 29.703945\n",
            "Total training time: 0.03 seconds.\n",
            "-- Epoch 14\n",
            "Norm: 880.17, NNZs: 515, Bias: 82.732870, T: 1792, Avg. loss: 49.578545\n",
            "Total training time: 0.03 seconds.\n",
            "-- Epoch 15\n",
            "Norm: 852.12, NNZs: 515, Bias: 79.237121, T: 1920, Avg. loss: 23.053657\n",
            "Total training time: 0.03 seconds.\n",
            "-- Epoch 16\n",
            "Norm: 829.06, NNZs: 515, Bias: 85.913989, T: 2048, Avg. loss: 14.957101\n",
            "Total training time: 0.03 seconds.\n",
            "Convergence after 16 epochs took 0.04 seconds\n",
            "-- Epoch 1\n",
            "Norm: 833.20, NNZs: 515, Bias: -8.429720, T: 128, Avg. loss: 609.507629\n",
            "Total training time: 0.00 seconds.\n",
            "-- Epoch 2\n",
            "Norm: 980.06, NNZs: 515, Bias: -25.174029, T: 256, Avg. loss: 220.254692\n",
            "Total training time: 0.00 seconds.\n",
            "-- Epoch 3\n",
            "Norm: 1023.81, NNZs: 515, Bias: -56.107346, T: 384, Avg. loss: 219.940198\n",
            "Total training time: 0.01 seconds.\n",
            "-- Epoch 4\n",
            "Norm: 993.97, NNZs: 515, Bias: -28.136021, T: 512, Avg. loss: 142.064439\n",
            "Total training time: 0.01 seconds.\n",
            "-- Epoch 5\n",
            "Norm: 991.44, NNZs: 515, Bias: -27.575395, T: 640, Avg. loss: 103.170069\n",
            "Total training time: 0.01 seconds.\n",
            "-- Epoch 6\n",
            "Norm: 1031.76, NNZs: 515, Bias: 31.544395, T: 768, Avg. loss: 84.745913\n",
            "Total training time: 0.01 seconds.\n",
            "-- Epoch 7\n",
            "Norm: 1004.63, NNZs: 515, Bias: 31.152704, T: 896, Avg. loss: 40.016978\n",
            "Total training time: 0.01 seconds.\n",
            "-- Epoch 8\n",
            "Norm: 968.42, NNZs: 515, Bias: 41.743148, T: 1024, Avg. loss: 34.622904\n",
            "Total training time: 0.02 seconds.\n",
            "-- Epoch 9\n",
            "Norm: 945.51, NNZs: 515, Bias: 37.068817, T: 1152, Avg. loss: 37.358980\n",
            "Total training time: 0.02 seconds.\n",
            "-- Epoch 10\n",
            "Norm: 919.40, NNZs: 515, Bias: 37.068808, T: 1280, Avg. loss: 28.317421\n",
            "Total training time: 0.02 seconds.\n",
            "-- Epoch 11\n",
            "Norm: 895.65, NNZs: 515, Bias: 24.426803, T: 1408, Avg. loss: 30.117645\n",
            "Total training time: 0.02 seconds.\n",
            "-- Epoch 12\n",
            "Norm: 878.57, NNZs: 515, Bias: 36.545574, T: 1536, Avg. loss: 28.614005\n",
            "Total training time: 0.02 seconds.\n",
            "-- Epoch 13\n",
            "Norm: 847.03, NNZs: 515, Bias: 32.736200, T: 1664, Avg. loss: 10.846863\n",
            "Total training time: 0.02 seconds.\n",
            "-- Epoch 14\n",
            "Norm: 825.32, NNZs: 515, Bias: 36.446660, T: 1792, Avg. loss: 5.201368\n",
            "Total training time: 0.02 seconds.\n",
            "-- Epoch 15\n",
            "Norm: 800.02, NNZs: 515, Bias: 32.883064, T: 1920, Avg. loss: 5.635914\n",
            "Total training time: 0.02 seconds.\n",
            "-- Epoch 16\n",
            "Norm: 766.41, NNZs: 515, Bias: 32.883064, T: 2048, Avg. loss: 0.000000\n",
            "Total training time: 0.02 seconds.\n",
            "-- Epoch 17\n",
            "Norm: 735.51, NNZs: 515, Bias: 32.883064, T: 2176, Avg. loss: 0.000000\n",
            "Total training time: 0.02 seconds.\n",
            "-- Epoch 18\n",
            "Norm: 707.01, NNZs: 515, Bias: 32.883064, T: 2304, Avg. loss: 0.000000\n",
            "Total training time: 0.03 seconds.\n",
            "-- Epoch 19\n",
            "Norm: 680.63, NNZs: 515, Bias: 32.883064, T: 2432, Avg. loss: 0.000000\n",
            "Total training time: 0.03 seconds.\n",
            "-- Epoch 20\n",
            "Norm: 656.15, NNZs: 515, Bias: 32.883064, T: 2560, Avg. loss: 0.000000\n",
            "Total training time: 0.03 seconds.\n",
            "-- Epoch 21\n",
            "Norm: 633.37, NNZs: 515, Bias: 32.883064, T: 2688, Avg. loss: 0.000000\n",
            "Total training time: 0.03 seconds.\n",
            "Convergence after 21 epochs took 0.03 seconds\n",
            "-- Epoch 1\n",
            "Norm: 777.00, NNZs: 515, Bias: -17.098106, T: 128, Avg. loss: 586.659873\n",
            "Total training time: 0.00 seconds.\n",
            "-- Epoch 2\n",
            "Norm: 992.13, NNZs: 515, Bias: 1.757647, T: 256, Avg. loss: 290.667004\n",
            "Total training time: 0.00 seconds.\n",
            "-- Epoch 3\n",
            "Norm: 975.29, NNZs: 515, Bias: 2.007277, T: 384, Avg. loss: 169.736614\n",
            "Total training time: 0.00 seconds.\n",
            "-- Epoch 4\n",
            "Norm: 1011.37, NNZs: 515, Bias: 9.606034, T: 512, Avg. loss: 105.125929\n",
            "Total training time: 0.00 seconds.\n",
            "-- Epoch 5\n",
            "Norm: 1042.47, NNZs: 515, Bias: 15.517958, T: 640, Avg. loss: 119.617461\n",
            "Total training time: 0.00 seconds.\n",
            "-- Epoch 6\n",
            "Norm: 1042.89, NNZs: 515, Bias: 26.867437, T: 768, Avg. loss: 111.573994\n",
            "Total training time: 0.00 seconds.\n",
            "-- Epoch 7\n",
            "Norm: 987.71, NNZs: 515, Bias: 10.702754, T: 896, Avg. loss: 36.933457\n",
            "Total training time: 0.01 seconds.\n",
            "-- Epoch 8\n",
            "Norm: 994.52, NNZs: 515, Bias: 15.373827, T: 1024, Avg. loss: 49.759728\n",
            "Total training time: 0.01 seconds.\n",
            "-- Epoch 9\n",
            "Norm: 976.91, NNZs: 515, Bias: 15.108084, T: 1152, Avg. loss: 32.644507\n",
            "Total training time: 0.01 seconds.\n",
            "-- Epoch 10\n",
            "Norm: 945.84, NNZs: 515, Bias: 14.885658, T: 1280, Avg. loss: 30.728331\n",
            "Total training time: 0.01 seconds.\n",
            "-- Epoch 11\n",
            "Norm: 913.78, NNZs: 515, Bias: 15.135404, T: 1408, Avg. loss: 28.146751\n",
            "Total training time: 0.01 seconds.\n",
            "-- Epoch 12\n",
            "Norm: 904.21, NNZs: 515, Bias: 15.220660, T: 1536, Avg. loss: 33.071123\n",
            "Total training time: 0.01 seconds.\n",
            "-- Epoch 13\n",
            "Norm: 876.06, NNZs: 515, Bias: 22.851874, T: 1664, Avg. loss: 18.794610\n",
            "Total training time: 0.01 seconds.\n",
            "-- Epoch 14\n",
            "Norm: 854.59, NNZs: 515, Bias: 15.504468, T: 1792, Avg. loss: 6.554376\n",
            "Total training time: 0.01 seconds.\n",
            "-- Epoch 15\n",
            "Norm: 826.69, NNZs: 515, Bias: 12.008394, T: 1920, Avg. loss: 17.079642\n",
            "Total training time: 0.01 seconds.\n",
            "-- Epoch 16\n",
            "Norm: 798.44, NNZs: 515, Bias: 18.715414, T: 2048, Avg. loss: 7.161606\n",
            "Total training time: 0.01 seconds.\n",
            "-- Epoch 17\n",
            "Norm: 782.40, NNZs: 515, Bias: 25.251869, T: 2176, Avg. loss: 13.600240\n",
            "Total training time: 0.01 seconds.\n",
            "-- Epoch 18\n",
            "Norm: 752.08, NNZs: 515, Bias: 25.251869, T: 2304, Avg. loss: 0.000000\n",
            "Total training time: 0.01 seconds.\n",
            "-- Epoch 19\n",
            "Norm: 724.03, NNZs: 515, Bias: 25.251869, T: 2432, Avg. loss: 0.000000\n",
            "Total training time: 0.01 seconds.\n",
            "-- Epoch 20\n",
            "Norm: 697.99, NNZs: 515, Bias: 25.251869, T: 2560, Avg. loss: 0.000000\n",
            "Total training time: 0.01 seconds.\n",
            "-- Epoch 21\n",
            "Norm: 673.75, NNZs: 515, Bias: 25.251869, T: 2688, Avg. loss: 0.000000\n",
            "Total training time: 0.01 seconds.\n",
            "-- Epoch 22\n",
            "Norm: 651.15, NNZs: 515, Bias: 25.251869, T: 2816, Avg. loss: 0.000000\n",
            "Total training time: 0.01 seconds.\n",
            "-- Epoch 23\n",
            "Norm: 630.01, NNZs: 515, Bias: 25.251869, T: 2944, Avg. loss: 0.000000\n",
            "Total training time: 0.02 seconds.\n",
            "Convergence after 23 epochs took 0.02 seconds\n",
            "-- Epoch 1\n",
            "Norm: 840.36, NNZs: 515, Bias: -9.536548, T: 128, Avg. loss: 609.041714\n",
            "Total training time: 0.00 seconds.\n",
            "-- Epoch 2\n",
            "Norm: 959.29, NNZs: 515, Bias: 13.529354, T: 256, Avg. loss: 338.137400\n",
            "Total training time: 0.01 seconds.\n",
            "-- Epoch 3\n",
            "Norm: 1040.42, NNZs: 515, Bias: -8.258081, T: 384, Avg. loss: 176.847211\n",
            "Total training time: 0.01 seconds.\n",
            "-- Epoch 4\n",
            "Norm: 1002.48, NNZs: 515, Bias: -21.976806, T: 512, Avg. loss: 141.598224\n",
            "Total training time: 0.01 seconds.\n",
            "-- Epoch 5\n",
            "Norm: 1004.84, NNZs: 515, Bias: -29.039050, T: 640, Avg. loss: 83.719783\n",
            "Total training time: 0.01 seconds.\n",
            "-- Epoch 6\n",
            "Norm: 974.01, NNZs: 515, Bias: -28.611621, T: 768, Avg. loss: 72.576203\n",
            "Total training time: 0.01 seconds.\n",
            "-- Epoch 7\n",
            "Norm: 1006.43, NNZs: 515, Bias: -28.338052, T: 896, Avg. loss: 79.521785\n",
            "Total training time: 0.01 seconds.\n",
            "-- Epoch 8\n",
            "Norm: 972.15, NNZs: 515, Bias: -18.315069, T: 1024, Avg. loss: 66.647834\n",
            "Total training time: 0.02 seconds.\n",
            "-- Epoch 9\n",
            "Norm: 968.72, NNZs: 515, Bias: -8.726679, T: 1152, Avg. loss: 58.551477\n",
            "Total training time: 0.02 seconds.\n",
            "-- Epoch 10\n",
            "Norm: 949.06, NNZs: 515, Bias: -0.007745, T: 1280, Avg. loss: 45.330051\n",
            "Total training time: 0.02 seconds.\n",
            "-- Epoch 11\n",
            "Norm: 934.85, NNZs: 515, Bias: 17.228739, T: 1408, Avg. loss: 31.234112\n",
            "Total training time: 0.02 seconds.\n",
            "-- Epoch 12\n",
            "Norm: 917.61, NNZs: 515, Bias: 33.276416, T: 1536, Avg. loss: 44.053985\n",
            "Total training time: 0.02 seconds.\n",
            "-- Epoch 13\n",
            "Norm: 899.79, NNZs: 515, Bias: 29.073260, T: 1664, Avg. loss: 16.544991\n",
            "Total training time: 0.02 seconds.\n",
            "-- Epoch 14\n",
            "Norm: 866.80, NNZs: 515, Bias: 29.091967, T: 1792, Avg. loss: 9.161270\n",
            "Total training time: 0.02 seconds.\n",
            "-- Epoch 15\n",
            "Norm: 828.79, NNZs: 515, Bias: 29.091967, T: 1920, Avg. loss: 0.000000\n",
            "Total training time: 0.02 seconds.\n",
            "-- Epoch 16\n",
            "Norm: 793.97, NNZs: 515, Bias: 29.091967, T: 2048, Avg. loss: 0.000000\n",
            "Total training time: 0.02 seconds.\n",
            "-- Epoch 17\n",
            "Norm: 761.97, NNZs: 515, Bias: 29.091967, T: 2176, Avg. loss: 0.000000\n",
            "Total training time: 0.02 seconds.\n",
            "-- Epoch 18\n",
            "Norm: 732.44, NNZs: 515, Bias: 29.091967, T: 2304, Avg. loss: 0.000000\n",
            "Total training time: 0.03 seconds.\n",
            "-- Epoch 19\n",
            "Norm: 705.11, NNZs: 515, Bias: 29.091967, T: 2432, Avg. loss: 0.000000\n",
            "Total training time: 0.03 seconds.\n",
            "-- Epoch 20\n",
            "Norm: 679.75, NNZs: 515, Bias: 29.091967, T: 2560, Avg. loss: 0.000000\n",
            "Total training time: 0.03 seconds.\n",
            "Convergence after 20 epochs took 0.03 seconds\n"
          ]
        }
      ]
    },
    {
      "cell_type": "markdown",
      "source": [
        "## 4.3. Evaluation"
      ],
      "metadata": {
        "id": "WeyC5yoYqSSm"
      }
    },
    {
      "cell_type": "code",
      "source": [
        "confusion = confusion_matrix(y_test, pred)\n",
        "sns.heatmap(confusion, annot=True, center=0.5, cmap='Blues')\n",
        "plt.show()"
      ],
      "metadata": {
        "id": "TQ_t5dMPqGYA",
        "colab": {
          "base_uri": "https://localhost:8080/",
          "height": 435
        },
        "outputId": "e7259ee8-5e2b-4af6-d2a5-1413fe468425"
      },
      "execution_count": 65,
      "outputs": [
        {
          "output_type": "display_data",
          "data": {
            "text/plain": [
              "<Figure size 640x480 with 2 Axes>"
            ],
            "image/png": "[encoded data removed]"
          },
          "metadata": {}
        }
      ]
    },
    {
      "cell_type": "code",
      "source": [
        "print(classification_report(y_test, pred))"
      ],
      "metadata": {
        "id": "CDbYGn_nqOq7",
        "colab": {
          "base_uri": "https://localhost:8080/"
        },
        "outputId": "44d2be91-7093-4050-8770-841e91722ac9"
      },
      "execution_count": 66,
      "outputs": [
        {
          "output_type": "stream",
          "name": "stdout",
          "text": [
            "              precision    recall  f1-score   support\n",
            "\n",
            "           0       0.67      0.70      0.68        20\n",
            "           1       0.68      0.65      0.67        20\n",
            "\n",
            "    accuracy                           0.68        40\n",
            "   macro avg       0.68      0.68      0.67        40\n",
            "weighted avg       0.68      0.68      0.67        40\n",
            "\n"
          ]
        }
      ]
    },
    {
      "cell_type": "code",
      "source": [
        "# calibrator = CalibratedClassifierCV(SGD, cv='prefit')\n",
        "pred_prob = calibrated_clf.predict_proba(X_test)[:,1]\n",
        "pred_prob"
      ],
      "metadata": {
        "id": "LJqDXMHtrbht",
        "colab": {
          "base_uri": "https://localhost:8080/"
        },
        "outputId": "b3d94195-0b6d-4eb9-ed2f-08d5a51232cf"
      },
      "execution_count": 67,
      "outputs": [
        {
          "output_type": "execute_result",
          "data": {
            "text/plain": [
              "array([0.85772954, 0.67894279, 0.78983213, 0.80281703, 0.29421521,\n",
              "       0.45157911, 0.24015691, 0.77528286, 0.83242921, 0.32117208,\n",
              "       0.73396627, 0.75629694, 0.16966314, 0.64749445, 0.1452981 ,\n",
              "       0.3762914 , 0.78192881, 0.19172351, 0.35769133, 0.39931972,\n",
              "       0.16994439, 0.43615319, 0.25377572, 0.27620063, 0.61484809,\n",
              "       0.48875384, 0.22284529, 0.67075731, 0.50415698, 0.54773671,\n",
              "       0.75110207, 0.59672234, 0.19457301, 0.50788573, 0.76152831,\n",
              "       0.32605899, 0.31671743, 0.18892399, 0.67067599, 0.34798421])"
            ]
          },
          "metadata": {},
          "execution_count": 67
        }
      ]
    },
    {
      "cell_type": "code",
      "source": [
        "fpr, tpr, thresholds = roc_curve(y_test, pred_prob)\n",
        "roc_auc = metrics.auc(fpr, tpr)\n",
        "plt.plot([0,1], [0,1], '--')\n",
        "plt.plot(fpr, tpr, label='ROC curve (area = %0.2f)' % roc_auc)\n",
        "plt.xlabel(r'False Positive Rate')\n",
        "plt.ylabel(r'True Positive Rate')\n",
        "plt.title('SGD ROC Curve')\n",
        "plt.legend(loc=\"lower right\")\n",
        "plt.show()"
      ],
      "metadata": {
        "id": "gJjc9Tl4u1js",
        "colab": {
          "base_uri": "https://localhost:8080/",
          "height": 472
        },
        "outputId": "bcd2db97-29ad-4cd7-9176-68f77bc003cb"
      },
      "execution_count": 68,
      "outputs": [
        {
          "output_type": "display_data",
          "data": {
            "text/plain": [
              "<Figure size 640x480 with 1 Axes>"
            ],
            "image/png": "[encoded data removed]"
          },
          "metadata": {}
        }
      ]
    },
    {
      "cell_type": "markdown",
      "source": [
        "# 5. Artificial Neural Network #"
      ],
      "metadata": {
        "id": "FhmBIkH1qN0X"
      }
    },
    {
      "cell_type": "markdown",
      "source": [
        "## 5.1. Splitting Dataset ##"
      ],
      "metadata": {
        "id": "wyKDvZD3qUwb"
      }
    },
    {
      "cell_type": "code",
      "source": [
        "# Splitting Train vs Test Dataset\n",
        "X = final_df.drop(columns=['melanoma'])\n",
        "y = final_df['melanoma']\n",
        "\n",
        "# Data Normalization\n",
        "scaler = MinMaxScaler()\n",
        "X = scaler.fit_transform(X=X)\n",
        "\n",
        "# Split into training and remaining (validation + test)\n",
        "X_train, X_test, y_train, y_test = train_test_split(X, y, test_size=0.3, random_state=14, stratify=y)\n",
        "\n",
        "# Further split remaining into validation and test\n",
        "X_val, X_test, y_val, y_test = train_test_split(X_test, y_test, test_size=0.5, random_state=14, stratify=y_test)"
      ],
      "metadata": {
        "id": "j_a83vv92_HL"
      },
      "execution_count": 69,
      "outputs": []
    },
    {
      "cell_type": "markdown",
      "source": [
        "## 5.2. Model ANN ##"
      ],
      "metadata": {
        "id": "st4_BA443NlG"
      }
    },
    {
      "cell_type": "code",
      "source": [
        "import tensorflow as tf\n",
        "from tensorflow.keras.models import Sequential\n",
        "from tensorflow.keras.layers import Dense, Dropout\n",
        "from tensorflow.keras.optimizers import Adam, SGD, AdamW\n",
        "from tensorflow.keras import optimizers"
      ],
      "metadata": {
        "id": "BmkO5Rzt-fIE"
      },
      "execution_count": 70,
      "outputs": []
    },
    {
      "cell_type": "code",
      "source": [
        "model = Sequential([\n",
        "    Dense(64, activation='relu', input_shape=(X_train.shape[1],)),\n",
        "    Dropout(0.7),\n",
        "    Dense(16, activation='relu'),\n",
        "    Dense(1, activation='sigmoid')\n",
        "])\n",
        "\n",
        "model.summary()"
      ],
      "metadata": {
        "id": "PvGogyp7-hyp",
        "colab": {
          "base_uri": "https://localhost:8080/"
        },
        "outputId": "91c77b46-f35a-40b0-d625-2cb9b5c3ba01"
      },
      "execution_count": 71,
      "outputs": [
        {
          "output_type": "stream",
          "name": "stdout",
          "text": [
            "Model: \"sequential\"\n",
            "_________________________________________________________________\n",
            " Layer (type)                Output Shape              Param #   \n",
            "=================================================================\n",
            " dense (Dense)               (None, 64)                67008     \n",
            "                                                                 \n",
            " dropout (Dropout)           (None, 64)                0         \n",
            "                                                                 \n",
            " dense_1 (Dense)             (None, 16)                1040      \n",
            "                                                                 \n",
            " dense_2 (Dense)             (None, 1)                 17        \n",
            "                                                                 \n",
            "=================================================================\n",
            "Total params: 68065 (265.88 KB)\n",
            "Trainable params: 68065 (265.88 KB)\n",
            "Non-trainable params: 0 (0.00 Byte)\n",
            "_________________________________________________________________\n"
          ]
        }
      ]
    },
    {
      "cell_type": "code",
      "source": [
        "tf.keras.utils.plot_model(model, show_shapes=True, expand_nested=True, dpi=48)"
      ],
      "metadata": {
        "id": "X7mgr2ClHNsd",
        "colab": {
          "base_uri": "https://localhost:8080/",
          "height": 275
        },
        "outputId": "781a8efb-7d3a-4c28-af93-d65ce1687240"
      },
      "execution_count": 72,
      "outputs": [
        {
          "output_type": "execute_result",
          "data": {
            "image/png": "[encoded data removed]",
            "text/plain": [
              "<IPython.core.display.Image object>"
            ]
          },
          "metadata": {},
          "execution_count": 72
        }
      ]
    },
    {
      "cell_type": "code",
      "source": [
        "METRICS = [\n",
        "      tf.keras.metrics.AUC(name='AUC'),\n",
        "      \"accuracy\"\n",
        "]\n",
        "\n",
        "initial_rate = 0.0001\n",
        "end_rate = 1e-8\n",
        "decay_steps = 10000\n",
        "\n",
        "learning_rate_fn = optimizers.schedules.PolynomialDecay(\n",
        "    initial_rate,\n",
        "    decay_steps,\n",
        "    end_rate,\n",
        "    power=0.5)\n",
        "\n",
        "# model.compile(loss='binary_crossentropy',\n",
        "#               optimizer='adam',\n",
        "#               metrics=METRICS)\n",
        "\n",
        "model.compile(loss='binary_crossentropy',\n",
        "              # optimizer=SGD(learning_rate=initial_rate, momentum=0.9),\n",
        "              optimizer=Adam(learning_rate=initial_rate),\n",
        "              metrics=METRICS)"
      ],
      "metadata": {
        "id": "AdXVUjQkDIYU"
      },
      "execution_count": 73,
      "outputs": []
    },
    {
      "cell_type": "markdown",
      "source": [
        "## 5.3. Training Model"
      ],
      "metadata": {
        "id": "o-fDgixXHX9b"
      }
    },
    {
      "cell_type": "code",
      "source": [
        "# prompt: Training model please\n",
        "\n",
        "history = model.fit(X_train, y_train,\n",
        "                    validation_data=(X_val, y_val),\n",
        "                    batch_size=50,\n",
        "                    epochs=1000,\n",
        "                    verbose=2)\n"
      ],
      "metadata": {
        "id": "U1oIHVwbHtTm",
        "colab": {
          "base_uri": "https://localhost:8080/"
        },
        "outputId": "fabb518f-1680-4dfa-bf37-347ef0a43aee"
      },
      "execution_count": 74,
      "outputs": [
        {
          "output_type": "stream",
          "name": "stdout",
          "text": [
            "Epoch 1/1000\n",
            "3/3 - 2s - loss: 0.7538 - AUC: 0.4887 - accuracy: 0.5071 - val_loss: 0.6912 - val_AUC: 0.5356 - val_accuracy: 0.5333 - 2s/epoch - 605ms/step\n",
            "Epoch 2/1000\n",
            "3/3 - 0s - loss: 0.7522 - AUC: 0.5046 - accuracy: 0.4857 - val_loss: 0.6906 - val_AUC: 0.5311 - val_accuracy: 0.5667 - 78ms/epoch - 26ms/step\n",
            "Epoch 3/1000\n",
            "3/3 - 0s - loss: 0.7339 - AUC: 0.5103 - accuracy: 0.4143 - val_loss: 0.6898 - val_AUC: 0.5333 - val_accuracy: 0.5333 - 76ms/epoch - 25ms/step\n",
            "Epoch 4/1000\n",
            "3/3 - 0s - loss: 0.7041 - AUC: 0.5859 - accuracy: 0.4929 - val_loss: 0.6886 - val_AUC: 0.5356 - val_accuracy: 0.5667 - 66ms/epoch - 22ms/step\n",
            "Epoch 5/1000\n",
            "3/3 - 0s - loss: 0.6953 - AUC: 0.6027 - accuracy: 0.5071 - val_loss: 0.6866 - val_AUC: 0.5889 - val_accuracy: 0.5333 - 75ms/epoch - 25ms/step\n",
            "Epoch 6/1000\n",
            "3/3 - 0s - loss: 0.6875 - AUC: 0.6110 - accuracy: 0.5429 - val_loss: 0.6852 - val_AUC: 0.5889 - val_accuracy: 0.5667 - 86ms/epoch - 29ms/step\n",
            "Epoch 7/1000\n",
            "3/3 - 0s - loss: 0.7146 - AUC: 0.5342 - accuracy: 0.5143 - val_loss: 0.6839 - val_AUC: 0.6000 - val_accuracy: 0.5667 - 93ms/epoch - 31ms/step\n",
            "Epoch 8/1000\n",
            "3/3 - 0s - loss: 0.6995 - AUC: 0.5508 - accuracy: 0.5429 - val_loss: 0.6834 - val_AUC: 0.6156 - val_accuracy: 0.5667 - 78ms/epoch - 26ms/step\n",
            "Epoch 9/1000\n",
            "3/3 - 0s - loss: 0.6980 - AUC: 0.5274 - accuracy: 0.5000 - val_loss: 0.6829 - val_AUC: 0.6333 - val_accuracy: 0.5000 - 92ms/epoch - 31ms/step\n",
            "Epoch 10/1000\n",
            "3/3 - 0s - loss: 0.6719 - AUC: 0.6343 - accuracy: 0.5571 - val_loss: 0.6821 - val_AUC: 0.6289 - val_accuracy: 0.5667 - 88ms/epoch - 29ms/step\n",
            "Epoch 11/1000\n",
            "3/3 - 0s - loss: 0.6905 - AUC: 0.5779 - accuracy: 0.4929 - val_loss: 0.6810 - val_AUC: 0.6489 - val_accuracy: 0.5667 - 95ms/epoch - 32ms/step\n",
            "Epoch 12/1000\n",
            "3/3 - 0s - loss: 0.6873 - AUC: 0.5867 - accuracy: 0.5857 - val_loss: 0.6805 - val_AUC: 0.6400 - val_accuracy: 0.5667 - 93ms/epoch - 31ms/step\n",
            "Epoch 13/1000\n",
            "3/3 - 0s - loss: 0.6816 - AUC: 0.5963 - accuracy: 0.5500 - val_loss: 0.6802 - val_AUC: 0.6244 - val_accuracy: 0.5667 - 88ms/epoch - 29ms/step\n",
            "Epoch 14/1000\n",
            "3/3 - 0s - loss: 0.6867 - AUC: 0.5926 - accuracy: 0.5500 - val_loss: 0.6801 - val_AUC: 0.6267 - val_accuracy: 0.5667 - 71ms/epoch - 24ms/step\n",
            "Epoch 15/1000\n",
            "3/3 - 0s - loss: 0.6707 - AUC: 0.6498 - accuracy: 0.6000 - val_loss: 0.6798 - val_AUC: 0.6222 - val_accuracy: 0.6000 - 67ms/epoch - 22ms/step\n",
            "Epoch 16/1000\n",
            "3/3 - 0s - loss: 0.6632 - AUC: 0.6721 - accuracy: 0.6000 - val_loss: 0.6789 - val_AUC: 0.6600 - val_accuracy: 0.6000 - 80ms/epoch - 27ms/step\n",
            "Epoch 17/1000\n",
            "3/3 - 0s - loss: 0.6683 - AUC: 0.6300 - accuracy: 0.5643 - val_loss: 0.6773 - val_AUC: 0.6578 - val_accuracy: 0.5667 - 93ms/epoch - 31ms/step\n",
            "Epoch 18/1000\n",
            "3/3 - 0s - loss: 0.6721 - AUC: 0.6353 - accuracy: 0.5643 - val_loss: 0.6763 - val_AUC: 0.6644 - val_accuracy: 0.6000 - 78ms/epoch - 26ms/step\n",
            "Epoch 19/1000\n",
            "3/3 - 0s - loss: 0.6680 - AUC: 0.6300 - accuracy: 0.5571 - val_loss: 0.6759 - val_AUC: 0.6889 - val_accuracy: 0.6000 - 67ms/epoch - 22ms/step\n",
            "Epoch 20/1000\n",
            "3/3 - 0s - loss: 0.6651 - AUC: 0.6618 - accuracy: 0.5643 - val_loss: 0.6765 - val_AUC: 0.6711 - val_accuracy: 0.5667 - 77ms/epoch - 26ms/step\n",
            "Epoch 21/1000\n",
            "3/3 - 0s - loss: 0.6762 - AUC: 0.6084 - accuracy: 0.5500 - val_loss: 0.6771 - val_AUC: 0.6556 - val_accuracy: 0.5667 - 102ms/epoch - 34ms/step\n",
            "Epoch 22/1000\n",
            "3/3 - 0s - loss: 0.6513 - AUC: 0.6932 - accuracy: 0.6429 - val_loss: 0.6776 - val_AUC: 0.6622 - val_accuracy: 0.5333 - 98ms/epoch - 33ms/step\n",
            "Epoch 23/1000\n",
            "3/3 - 0s - loss: 0.6472 - AUC: 0.6965 - accuracy: 0.6000 - val_loss: 0.6778 - val_AUC: 0.6622 - val_accuracy: 0.5333 - 80ms/epoch - 27ms/step\n",
            "Epoch 24/1000\n",
            "3/3 - 0s - loss: 0.6810 - AUC: 0.5771 - accuracy: 0.5357 - val_loss: 0.6776 - val_AUC: 0.6600 - val_accuracy: 0.5333 - 79ms/epoch - 26ms/step\n",
            "Epoch 25/1000\n",
            "3/3 - 0s - loss: 0.6809 - AUC: 0.6068 - accuracy: 0.5786 - val_loss: 0.6761 - val_AUC: 0.6733 - val_accuracy: 0.5333 - 92ms/epoch - 31ms/step\n",
            "Epoch 26/1000\n",
            "3/3 - 0s - loss: 0.6607 - AUC: 0.6731 - accuracy: 0.5857 - val_loss: 0.6738 - val_AUC: 0.6578 - val_accuracy: 0.5667 - 66ms/epoch - 22ms/step\n",
            "Epoch 27/1000\n",
            "3/3 - 0s - loss: 0.6597 - AUC: 0.6754 - accuracy: 0.6000 - val_loss: 0.6720 - val_AUC: 0.6756 - val_accuracy: 0.5667 - 76ms/epoch - 25ms/step\n",
            "Epoch 28/1000\n",
            "3/3 - 0s - loss: 0.6510 - AUC: 0.6891 - accuracy: 0.5357 - val_loss: 0.6711 - val_AUC: 0.6800 - val_accuracy: 0.5667 - 83ms/epoch - 28ms/step\n",
            "Epoch 29/1000\n",
            "3/3 - 0s - loss: 0.6469 - AUC: 0.7191 - accuracy: 0.6143 - val_loss: 0.6694 - val_AUC: 0.6844 - val_accuracy: 0.6000 - 88ms/epoch - 29ms/step\n",
            "Epoch 30/1000\n",
            "3/3 - 0s - loss: 0.6469 - AUC: 0.7142 - accuracy: 0.6000 - val_loss: 0.6671 - val_AUC: 0.6844 - val_accuracy: 0.6333 - 72ms/epoch - 24ms/step\n",
            "Epoch 31/1000\n",
            "3/3 - 0s - loss: 0.6518 - AUC: 0.6685 - accuracy: 0.5786 - val_loss: 0.6657 - val_AUC: 0.7022 - val_accuracy: 0.6333 - 69ms/epoch - 23ms/step\n",
            "Epoch 32/1000\n",
            "3/3 - 0s - loss: 0.6346 - AUC: 0.7240 - accuracy: 0.6071 - val_loss: 0.6647 - val_AUC: 0.6889 - val_accuracy: 0.6667 - 114ms/epoch - 38ms/step\n",
            "Epoch 33/1000\n",
            "3/3 - 0s - loss: 0.6519 - AUC: 0.6817 - accuracy: 0.5357 - val_loss: 0.6630 - val_AUC: 0.6889 - val_accuracy: 0.6667 - 95ms/epoch - 32ms/step\n",
            "Epoch 34/1000\n",
            "3/3 - 0s - loss: 0.6606 - AUC: 0.6512 - accuracy: 0.5857 - val_loss: 0.6613 - val_AUC: 0.6889 - val_accuracy: 0.6667 - 87ms/epoch - 29ms/step\n",
            "Epoch 35/1000\n",
            "3/3 - 0s - loss: 0.6378 - AUC: 0.7362 - accuracy: 0.6429 - val_loss: 0.6598 - val_AUC: 0.6867 - val_accuracy: 0.6667 - 72ms/epoch - 24ms/step\n",
            "Epoch 36/1000\n",
            "3/3 - 0s - loss: 0.6361 - AUC: 0.7206 - accuracy: 0.6143 - val_loss: 0.6587 - val_AUC: 0.6889 - val_accuracy: 0.6000 - 67ms/epoch - 22ms/step\n",
            "Epoch 37/1000\n",
            "3/3 - 0s - loss: 0.6534 - AUC: 0.6878 - accuracy: 0.6000 - val_loss: 0.6572 - val_AUC: 0.6867 - val_accuracy: 0.6000 - 77ms/epoch - 26ms/step\n",
            "Epoch 38/1000\n",
            "3/3 - 0s - loss: 0.6554 - AUC: 0.6709 - accuracy: 0.6357 - val_loss: 0.6579 - val_AUC: 0.6778 - val_accuracy: 0.6000 - 68ms/epoch - 23ms/step\n",
            "Epoch 39/1000\n",
            "3/3 - 0s - loss: 0.6371 - AUC: 0.7105 - accuracy: 0.6071 - val_loss: 0.6586 - val_AUC: 0.6622 - val_accuracy: 0.5667 - 82ms/epoch - 27ms/step\n",
            "Epoch 40/1000\n",
            "3/3 - 0s - loss: 0.6435 - AUC: 0.6919 - accuracy: 0.5929 - val_loss: 0.6589 - val_AUC: 0.6622 - val_accuracy: 0.5667 - 85ms/epoch - 28ms/step\n",
            "Epoch 41/1000\n",
            "3/3 - 0s - loss: 0.6431 - AUC: 0.7018 - accuracy: 0.6429 - val_loss: 0.6583 - val_AUC: 0.6600 - val_accuracy: 0.5667 - 84ms/epoch - 28ms/step\n",
            "Epoch 42/1000\n",
            "3/3 - 0s - loss: 0.6424 - AUC: 0.7360 - accuracy: 0.6643 - val_loss: 0.6571 - val_AUC: 0.6600 - val_accuracy: 0.5667 - 86ms/epoch - 29ms/step\n",
            "Epoch 43/1000\n",
            "3/3 - 0s - loss: 0.6276 - AUC: 0.7086 - accuracy: 0.5857 - val_loss: 0.6565 - val_AUC: 0.6600 - val_accuracy: 0.6000 - 82ms/epoch - 27ms/step\n",
            "Epoch 44/1000\n",
            "3/3 - 0s - loss: 0.6444 - AUC: 0.7164 - accuracy: 0.6643 - val_loss: 0.6559 - val_AUC: 0.6622 - val_accuracy: 0.5667 - 91ms/epoch - 30ms/step\n",
            "Epoch 45/1000\n",
            "3/3 - 0s - loss: 0.6352 - AUC: 0.7236 - accuracy: 0.6643 - val_loss: 0.6547 - val_AUC: 0.6711 - val_accuracy: 0.6000 - 98ms/epoch - 33ms/step\n",
            "Epoch 46/1000\n",
            "3/3 - 0s - loss: 0.6363 - AUC: 0.7011 - accuracy: 0.5929 - val_loss: 0.6541 - val_AUC: 0.6689 - val_accuracy: 0.6000 - 86ms/epoch - 29ms/step\n",
            "Epoch 47/1000\n",
            "3/3 - 0s - loss: 0.6483 - AUC: 0.6852 - accuracy: 0.5643 - val_loss: 0.6559 - val_AUC: 0.6622 - val_accuracy: 0.6000 - 83ms/epoch - 28ms/step\n",
            "Epoch 48/1000\n",
            "3/3 - 0s - loss: 0.6159 - AUC: 0.7694 - accuracy: 0.6571 - val_loss: 0.6552 - val_AUC: 0.6644 - val_accuracy: 0.6000 - 64ms/epoch - 21ms/step\n",
            "Epoch 49/1000\n",
            "3/3 - 0s - loss: 0.6548 - AUC: 0.6789 - accuracy: 0.5786 - val_loss: 0.6531 - val_AUC: 0.6622 - val_accuracy: 0.6333 - 46ms/epoch - 15ms/step\n",
            "Epoch 50/1000\n",
            "3/3 - 0s - loss: 0.6291 - AUC: 0.7385 - accuracy: 0.6286 - val_loss: 0.6513 - val_AUC: 0.6644 - val_accuracy: 0.6333 - 45ms/epoch - 15ms/step\n",
            "Epoch 51/1000\n",
            "3/3 - 0s - loss: 0.6439 - AUC: 0.6981 - accuracy: 0.5643 - val_loss: 0.6505 - val_AUC: 0.6689 - val_accuracy: 0.6333 - 60ms/epoch - 20ms/step\n",
            "Epoch 52/1000\n",
            "3/3 - 0s - loss: 0.6430 - AUC: 0.7113 - accuracy: 0.6071 - val_loss: 0.6491 - val_AUC: 0.6756 - val_accuracy: 0.6333 - 66ms/epoch - 22ms/step\n",
            "Epoch 53/1000\n",
            "3/3 - 0s - loss: 0.6120 - AUC: 0.7709 - accuracy: 0.6357 - val_loss: 0.6482 - val_AUC: 0.6756 - val_accuracy: 0.6333 - 68ms/epoch - 23ms/step\n",
            "Epoch 54/1000\n",
            "3/3 - 0s - loss: 0.6230 - AUC: 0.7315 - accuracy: 0.6000 - val_loss: 0.6470 - val_AUC: 0.6822 - val_accuracy: 0.6333 - 61ms/epoch - 20ms/step\n",
            "Epoch 55/1000\n",
            "3/3 - 0s - loss: 0.6482 - AUC: 0.7088 - accuracy: 0.6429 - val_loss: 0.6463 - val_AUC: 0.6844 - val_accuracy: 0.6333 - 45ms/epoch - 15ms/step\n",
            "Epoch 56/1000\n",
            "3/3 - 0s - loss: 0.6060 - AUC: 0.8051 - accuracy: 0.6500 - val_loss: 0.6460 - val_AUC: 0.6756 - val_accuracy: 0.6333 - 46ms/epoch - 15ms/step\n",
            "Epoch 57/1000\n",
            "3/3 - 0s - loss: 0.6244 - AUC: 0.7482 - accuracy: 0.6571 - val_loss: 0.6461 - val_AUC: 0.6689 - val_accuracy: 0.6333 - 66ms/epoch - 22ms/step\n",
            "Epoch 58/1000\n",
            "3/3 - 0s - loss: 0.6407 - AUC: 0.7082 - accuracy: 0.6571 - val_loss: 0.6463 - val_AUC: 0.6622 - val_accuracy: 0.6333 - 78ms/epoch - 26ms/step\n",
            "Epoch 59/1000\n",
            "3/3 - 0s - loss: 0.6131 - AUC: 0.7832 - accuracy: 0.7000 - val_loss: 0.6461 - val_AUC: 0.6578 - val_accuracy: 0.6333 - 68ms/epoch - 23ms/step\n",
            "Epoch 60/1000\n",
            "3/3 - 0s - loss: 0.5970 - AUC: 0.8062 - accuracy: 0.6643 - val_loss: 0.6458 - val_AUC: 0.6667 - val_accuracy: 0.6333 - 50ms/epoch - 17ms/step\n",
            "Epoch 61/1000\n",
            "3/3 - 0s - loss: 0.6325 - AUC: 0.7255 - accuracy: 0.6857 - val_loss: 0.6468 - val_AUC: 0.6578 - val_accuracy: 0.5667 - 62ms/epoch - 21ms/step\n",
            "Epoch 62/1000\n",
            "3/3 - 0s - loss: 0.6278 - AUC: 0.7312 - accuracy: 0.6500 - val_loss: 0.6476 - val_AUC: 0.6622 - val_accuracy: 0.5667 - 65ms/epoch - 22ms/step\n",
            "Epoch 63/1000\n",
            "3/3 - 0s - loss: 0.6343 - AUC: 0.7284 - accuracy: 0.6429 - val_loss: 0.6471 - val_AUC: 0.6600 - val_accuracy: 0.5667 - 46ms/epoch - 15ms/step\n",
            "Epoch 64/1000\n",
            "3/3 - 0s - loss: 0.6233 - AUC: 0.7256 - accuracy: 0.6643 - val_loss: 0.6438 - val_AUC: 0.6600 - val_accuracy: 0.6000 - 48ms/epoch - 16ms/step\n",
            "Epoch 65/1000\n",
            "3/3 - 0s - loss: 0.5982 - AUC: 0.7761 - accuracy: 0.6857 - val_loss: 0.6410 - val_AUC: 0.6622 - val_accuracy: 0.6333 - 54ms/epoch - 18ms/step\n",
            "Epoch 66/1000\n",
            "3/3 - 0s - loss: 0.5986 - AUC: 0.7796 - accuracy: 0.6643 - val_loss: 0.6395 - val_AUC: 0.6689 - val_accuracy: 0.6333 - 60ms/epoch - 20ms/step\n",
            "Epoch 67/1000\n",
            "3/3 - 0s - loss: 0.6153 - AUC: 0.7550 - accuracy: 0.6857 - val_loss: 0.6379 - val_AUC: 0.6778 - val_accuracy: 0.6333 - 60ms/epoch - 20ms/step\n",
            "Epoch 68/1000\n",
            "3/3 - 0s - loss: 0.6228 - AUC: 0.7083 - accuracy: 0.6429 - val_loss: 0.6365 - val_AUC: 0.6911 - val_accuracy: 0.6333 - 47ms/epoch - 16ms/step\n",
            "Epoch 69/1000\n",
            "3/3 - 0s - loss: 0.6313 - AUC: 0.7210 - accuracy: 0.6571 - val_loss: 0.6360 - val_AUC: 0.6911 - val_accuracy: 0.6333 - 61ms/epoch - 20ms/step\n",
            "Epoch 70/1000\n",
            "3/3 - 0s - loss: 0.6002 - AUC: 0.7696 - accuracy: 0.6714 - val_loss: 0.6357 - val_AUC: 0.6956 - val_accuracy: 0.6333 - 53ms/epoch - 18ms/step\n",
            "Epoch 71/1000\n",
            "3/3 - 0s - loss: 0.6060 - AUC: 0.7757 - accuracy: 0.6929 - val_loss: 0.6358 - val_AUC: 0.6956 - val_accuracy: 0.6333 - 62ms/epoch - 21ms/step\n",
            "Epoch 72/1000\n",
            "3/3 - 0s - loss: 0.6047 - AUC: 0.7903 - accuracy: 0.7000 - val_loss: 0.6358 - val_AUC: 0.6978 - val_accuracy: 0.6333 - 65ms/epoch - 22ms/step\n",
            "Epoch 73/1000\n",
            "3/3 - 0s - loss: 0.6033 - AUC: 0.7800 - accuracy: 0.7071 - val_loss: 0.6368 - val_AUC: 0.6911 - val_accuracy: 0.6333 - 66ms/epoch - 22ms/step\n",
            "Epoch 74/1000\n",
            "3/3 - 0s - loss: 0.6116 - AUC: 0.7544 - accuracy: 0.6214 - val_loss: 0.6383 - val_AUC: 0.6844 - val_accuracy: 0.6333 - 80ms/epoch - 27ms/step\n",
            "Epoch 75/1000\n",
            "3/3 - 0s - loss: 0.6132 - AUC: 0.7615 - accuracy: 0.7000 - val_loss: 0.6394 - val_AUC: 0.6867 - val_accuracy: 0.6333 - 51ms/epoch - 17ms/step\n",
            "Epoch 76/1000\n",
            "3/3 - 0s - loss: 0.6024 - AUC: 0.7627 - accuracy: 0.6643 - val_loss: 0.6391 - val_AUC: 0.6867 - val_accuracy: 0.6333 - 60ms/epoch - 20ms/step\n",
            "Epoch 77/1000\n",
            "3/3 - 0s - loss: 0.6261 - AUC: 0.7257 - accuracy: 0.6571 - val_loss: 0.6388 - val_AUC: 0.6867 - val_accuracy: 0.6333 - 49ms/epoch - 16ms/step\n",
            "Epoch 78/1000\n",
            "3/3 - 0s - loss: 0.5959 - AUC: 0.7953 - accuracy: 0.7071 - val_loss: 0.6386 - val_AUC: 0.6911 - val_accuracy: 0.6333 - 53ms/epoch - 18ms/step\n",
            "Epoch 79/1000\n",
            "3/3 - 0s - loss: 0.6078 - AUC: 0.7488 - accuracy: 0.6714 - val_loss: 0.6385 - val_AUC: 0.6911 - val_accuracy: 0.6667 - 46ms/epoch - 15ms/step\n",
            "Epoch 80/1000\n",
            "3/3 - 0s - loss: 0.6050 - AUC: 0.7590 - accuracy: 0.6357 - val_loss: 0.6386 - val_AUC: 0.6978 - val_accuracy: 0.6000 - 48ms/epoch - 16ms/step\n",
            "Epoch 81/1000\n",
            "3/3 - 0s - loss: 0.5841 - AUC: 0.8280 - accuracy: 0.7643 - val_loss: 0.6394 - val_AUC: 0.6933 - val_accuracy: 0.5667 - 51ms/epoch - 17ms/step\n",
            "Epoch 82/1000\n",
            "3/3 - 0s - loss: 0.6043 - AUC: 0.7756 - accuracy: 0.6500 - val_loss: 0.6394 - val_AUC: 0.6911 - val_accuracy: 0.5667 - 65ms/epoch - 22ms/step\n",
            "Epoch 83/1000\n",
            "3/3 - 0s - loss: 0.5775 - AUC: 0.8243 - accuracy: 0.7357 - val_loss: 0.6389 - val_AUC: 0.6911 - val_accuracy: 0.5667 - 53ms/epoch - 18ms/step\n",
            "Epoch 84/1000\n",
            "3/3 - 0s - loss: 0.6118 - AUC: 0.7362 - accuracy: 0.6214 - val_loss: 0.6372 - val_AUC: 0.6933 - val_accuracy: 0.5667 - 51ms/epoch - 17ms/step\n",
            "Epoch 85/1000\n",
            "3/3 - 0s - loss: 0.6055 - AUC: 0.7597 - accuracy: 0.7000 - val_loss: 0.6353 - val_AUC: 0.6978 - val_accuracy: 0.6333 - 47ms/epoch - 16ms/step\n",
            "Epoch 86/1000\n",
            "3/3 - 0s - loss: 0.5821 - AUC: 0.8143 - accuracy: 0.7286 - val_loss: 0.6344 - val_AUC: 0.6956 - val_accuracy: 0.6333 - 63ms/epoch - 21ms/step\n",
            "Epoch 87/1000\n",
            "3/3 - 0s - loss: 0.5887 - AUC: 0.7871 - accuracy: 0.6929 - val_loss: 0.6329 - val_AUC: 0.6933 - val_accuracy: 0.6667 - 48ms/epoch - 16ms/step\n",
            "Epoch 88/1000\n",
            "3/3 - 0s - loss: 0.5706 - AUC: 0.8171 - accuracy: 0.7071 - val_loss: 0.6318 - val_AUC: 0.6911 - val_accuracy: 0.6333 - 61ms/epoch - 20ms/step\n",
            "Epoch 89/1000\n",
            "3/3 - 0s - loss: 0.5872 - AUC: 0.7882 - accuracy: 0.6929 - val_loss: 0.6311 - val_AUC: 0.6889 - val_accuracy: 0.6333 - 70ms/epoch - 23ms/step\n",
            "Epoch 90/1000\n",
            "3/3 - 0s - loss: 0.5984 - AUC: 0.7868 - accuracy: 0.6929 - val_loss: 0.6298 - val_AUC: 0.6911 - val_accuracy: 0.7000 - 77ms/epoch - 26ms/step\n",
            "Epoch 91/1000\n",
            "3/3 - 0s - loss: 0.5923 - AUC: 0.8079 - accuracy: 0.6929 - val_loss: 0.6266 - val_AUC: 0.7000 - val_accuracy: 0.7000 - 82ms/epoch - 27ms/step\n",
            "Epoch 92/1000\n",
            "3/3 - 0s - loss: 0.5957 - AUC: 0.7842 - accuracy: 0.6571 - val_loss: 0.6239 - val_AUC: 0.6978 - val_accuracy: 0.7333 - 59ms/epoch - 20ms/step\n",
            "Epoch 93/1000\n",
            "3/3 - 0s - loss: 0.5955 - AUC: 0.7719 - accuracy: 0.6786 - val_loss: 0.6224 - val_AUC: 0.6956 - val_accuracy: 0.7333 - 61ms/epoch - 20ms/step\n",
            "Epoch 94/1000\n",
            "3/3 - 0s - loss: 0.5828 - AUC: 0.8058 - accuracy: 0.7071 - val_loss: 0.6224 - val_AUC: 0.6978 - val_accuracy: 0.7333 - 62ms/epoch - 21ms/step\n",
            "Epoch 95/1000\n",
            "3/3 - 0s - loss: 0.5754 - AUC: 0.8194 - accuracy: 0.7429 - val_loss: 0.6224 - val_AUC: 0.7000 - val_accuracy: 0.7333 - 60ms/epoch - 20ms/step\n",
            "Epoch 96/1000\n",
            "3/3 - 0s - loss: 0.5786 - AUC: 0.8272 - accuracy: 0.7429 - val_loss: 0.6222 - val_AUC: 0.7022 - val_accuracy: 0.7333 - 59ms/epoch - 20ms/step\n",
            "Epoch 97/1000\n",
            "3/3 - 0s - loss: 0.5782 - AUC: 0.7945 - accuracy: 0.7214 - val_loss: 0.6223 - val_AUC: 0.6978 - val_accuracy: 0.7333 - 60ms/epoch - 20ms/step\n",
            "Epoch 98/1000\n",
            "3/3 - 0s - loss: 0.6067 - AUC: 0.7340 - accuracy: 0.6357 - val_loss: 0.6232 - val_AUC: 0.7000 - val_accuracy: 0.7333 - 63ms/epoch - 21ms/step\n",
            "Epoch 99/1000\n",
            "3/3 - 0s - loss: 0.5809 - AUC: 0.7953 - accuracy: 0.6929 - val_loss: 0.6240 - val_AUC: 0.6978 - val_accuracy: 0.7333 - 52ms/epoch - 17ms/step\n",
            "Epoch 100/1000\n",
            "3/3 - 0s - loss: 0.6100 - AUC: 0.7565 - accuracy: 0.7000 - val_loss: 0.6239 - val_AUC: 0.6978 - val_accuracy: 0.7333 - 62ms/epoch - 21ms/step\n",
            "Epoch 101/1000\n",
            "3/3 - 0s - loss: 0.5893 - AUC: 0.7920 - accuracy: 0.7214 - val_loss: 0.6246 - val_AUC: 0.6978 - val_accuracy: 0.7333 - 60ms/epoch - 20ms/step\n",
            "Epoch 102/1000\n",
            "3/3 - 0s - loss: 0.5826 - AUC: 0.8002 - accuracy: 0.6643 - val_loss: 0.6248 - val_AUC: 0.6978 - val_accuracy: 0.7333 - 48ms/epoch - 16ms/step\n",
            "Epoch 103/1000\n",
            "3/3 - 0s - loss: 0.5723 - AUC: 0.8116 - accuracy: 0.7143 - val_loss: 0.6245 - val_AUC: 0.6978 - val_accuracy: 0.7333 - 66ms/epoch - 22ms/step\n",
            "Epoch 104/1000\n",
            "3/3 - 0s - loss: 0.5745 - AUC: 0.8008 - accuracy: 0.6643 - val_loss: 0.6236 - val_AUC: 0.6978 - val_accuracy: 0.7333 - 61ms/epoch - 20ms/step\n",
            "Epoch 105/1000\n",
            "3/3 - 0s - loss: 0.5859 - AUC: 0.7907 - accuracy: 0.6786 - val_loss: 0.6231 - val_AUC: 0.6978 - val_accuracy: 0.7333 - 60ms/epoch - 20ms/step\n",
            "Epoch 106/1000\n",
            "3/3 - 0s - loss: 0.5846 - AUC: 0.7837 - accuracy: 0.6571 - val_loss: 0.6228 - val_AUC: 0.6978 - val_accuracy: 0.7333 - 72ms/epoch - 24ms/step\n",
            "Epoch 107/1000\n",
            "3/3 - 0s - loss: 0.5871 - AUC: 0.7912 - accuracy: 0.7071 - val_loss: 0.6226 - val_AUC: 0.6978 - val_accuracy: 0.7333 - 48ms/epoch - 16ms/step\n",
            "Epoch 108/1000\n",
            "3/3 - 0s - loss: 0.5718 - AUC: 0.8168 - accuracy: 0.7071 - val_loss: 0.6212 - val_AUC: 0.6978 - val_accuracy: 0.7333 - 61ms/epoch - 20ms/step\n",
            "Epoch 109/1000\n",
            "3/3 - 0s - loss: 0.5845 - AUC: 0.7800 - accuracy: 0.7143 - val_loss: 0.6199 - val_AUC: 0.6978 - val_accuracy: 0.7333 - 47ms/epoch - 16ms/step\n",
            "Epoch 110/1000\n",
            "3/3 - 0s - loss: 0.5855 - AUC: 0.7643 - accuracy: 0.6643 - val_loss: 0.6191 - val_AUC: 0.6978 - val_accuracy: 0.7333 - 48ms/epoch - 16ms/step\n",
            "Epoch 111/1000\n",
            "3/3 - 0s - loss: 0.5866 - AUC: 0.8023 - accuracy: 0.7571 - val_loss: 0.6187 - val_AUC: 0.6956 - val_accuracy: 0.7333 - 46ms/epoch - 15ms/step\n",
            "Epoch 112/1000\n",
            "3/3 - 0s - loss: 0.6164 - AUC: 0.7563 - accuracy: 0.7143 - val_loss: 0.6175 - val_AUC: 0.6978 - val_accuracy: 0.7333 - 51ms/epoch - 17ms/step\n",
            "Epoch 113/1000\n",
            "3/3 - 0s - loss: 0.6004 - AUC: 0.7524 - accuracy: 0.6500 - val_loss: 0.6172 - val_AUC: 0.7022 - val_accuracy: 0.7333 - 48ms/epoch - 16ms/step\n",
            "Epoch 114/1000\n",
            "3/3 - 0s - loss: 0.5499 - AUC: 0.8382 - accuracy: 0.7143 - val_loss: 0.6172 - val_AUC: 0.7022 - val_accuracy: 0.7333 - 52ms/epoch - 17ms/step\n",
            "Epoch 115/1000\n",
            "3/3 - 0s - loss: 0.5481 - AUC: 0.8733 - accuracy: 0.8071 - val_loss: 0.6172 - val_AUC: 0.7044 - val_accuracy: 0.7333 - 44ms/epoch - 15ms/step\n",
            "Epoch 116/1000\n",
            "3/3 - 0s - loss: 0.5911 - AUC: 0.7814 - accuracy: 0.6643 - val_loss: 0.6176 - val_AUC: 0.6978 - val_accuracy: 0.7333 - 45ms/epoch - 15ms/step\n",
            "Epoch 117/1000\n",
            "3/3 - 0s - loss: 0.5796 - AUC: 0.8046 - accuracy: 0.7214 - val_loss: 0.6172 - val_AUC: 0.6978 - val_accuracy: 0.7333 - 44ms/epoch - 15ms/step\n",
            "Epoch 118/1000\n",
            "3/3 - 0s - loss: 0.5893 - AUC: 0.7898 - accuracy: 0.6929 - val_loss: 0.6157 - val_AUC: 0.7044 - val_accuracy: 0.7333 - 57ms/epoch - 19ms/step\n",
            "Epoch 119/1000\n",
            "3/3 - 0s - loss: 0.5486 - AUC: 0.8544 - accuracy: 0.7357 - val_loss: 0.6143 - val_AUC: 0.7044 - val_accuracy: 0.7333 - 49ms/epoch - 16ms/step\n",
            "Epoch 120/1000\n",
            "3/3 - 0s - loss: 0.5728 - AUC: 0.8138 - accuracy: 0.7071 - val_loss: 0.6139 - val_AUC: 0.7044 - val_accuracy: 0.7333 - 63ms/epoch - 21ms/step\n",
            "Epoch 121/1000\n",
            "3/3 - 0s - loss: 0.5666 - AUC: 0.8111 - accuracy: 0.7071 - val_loss: 0.6137 - val_AUC: 0.7067 - val_accuracy: 0.7333 - 73ms/epoch - 24ms/step\n",
            "Epoch 122/1000\n",
            "3/3 - 0s - loss: 0.5869 - AUC: 0.7921 - accuracy: 0.7286 - val_loss: 0.6135 - val_AUC: 0.7067 - val_accuracy: 0.7333 - 67ms/epoch - 22ms/step\n",
            "Epoch 123/1000\n",
            "3/3 - 0s - loss: 0.5558 - AUC: 0.8509 - accuracy: 0.7786 - val_loss: 0.6132 - val_AUC: 0.7067 - val_accuracy: 0.7333 - 61ms/epoch - 20ms/step\n",
            "Epoch 124/1000\n",
            "3/3 - 0s - loss: 0.5491 - AUC: 0.8459 - accuracy: 0.7286 - val_loss: 0.6140 - val_AUC: 0.7067 - val_accuracy: 0.7333 - 64ms/epoch - 21ms/step\n",
            "Epoch 125/1000\n",
            "3/3 - 0s - loss: 0.5663 - AUC: 0.7957 - accuracy: 0.7214 - val_loss: 0.6155 - val_AUC: 0.7089 - val_accuracy: 0.7000 - 62ms/epoch - 21ms/step\n",
            "Epoch 126/1000\n",
            "3/3 - 0s - loss: 0.5609 - AUC: 0.8106 - accuracy: 0.7357 - val_loss: 0.6162 - val_AUC: 0.7089 - val_accuracy: 0.7000 - 62ms/epoch - 21ms/step\n",
            "Epoch 127/1000\n",
            "3/3 - 0s - loss: 0.5558 - AUC: 0.8362 - accuracy: 0.7786 - val_loss: 0.6170 - val_AUC: 0.7044 - val_accuracy: 0.7000 - 49ms/epoch - 16ms/step\n",
            "Epoch 128/1000\n",
            "3/3 - 0s - loss: 0.5572 - AUC: 0.8134 - accuracy: 0.7429 - val_loss: 0.6177 - val_AUC: 0.7022 - val_accuracy: 0.7000 - 47ms/epoch - 16ms/step\n",
            "Epoch 129/1000\n",
            "3/3 - 0s - loss: 0.5616 - AUC: 0.8160 - accuracy: 0.7429 - val_loss: 0.6178 - val_AUC: 0.7089 - val_accuracy: 0.6667 - 45ms/epoch - 15ms/step\n",
            "Epoch 130/1000\n",
            "3/3 - 0s - loss: 0.5696 - AUC: 0.8294 - accuracy: 0.7571 - val_loss: 0.6162 - val_AUC: 0.7111 - val_accuracy: 0.7000 - 62ms/epoch - 21ms/step\n",
            "Epoch 131/1000\n",
            "3/3 - 0s - loss: 0.5706 - AUC: 0.8164 - accuracy: 0.7143 - val_loss: 0.6143 - val_AUC: 0.7133 - val_accuracy: 0.7333 - 61ms/epoch - 20ms/step\n",
            "Epoch 132/1000\n",
            "3/3 - 0s - loss: 0.5619 - AUC: 0.8076 - accuracy: 0.7214 - val_loss: 0.6125 - val_AUC: 0.7178 - val_accuracy: 0.7000 - 60ms/epoch - 20ms/step\n",
            "Epoch 133/1000\n",
            "3/3 - 0s - loss: 0.5357 - AUC: 0.8678 - accuracy: 0.7786 - val_loss: 0.6114 - val_AUC: 0.7200 - val_accuracy: 0.7000 - 68ms/epoch - 23ms/step\n",
            "Epoch 134/1000\n",
            "3/3 - 0s - loss: 0.5533 - AUC: 0.8331 - accuracy: 0.7214 - val_loss: 0.6098 - val_AUC: 0.7156 - val_accuracy: 0.7000 - 47ms/epoch - 16ms/step\n",
            "Epoch 135/1000\n",
            "3/3 - 0s - loss: 0.5725 - AUC: 0.8127 - accuracy: 0.7286 - val_loss: 0.6081 - val_AUC: 0.7156 - val_accuracy: 0.7000 - 68ms/epoch - 23ms/step\n",
            "Epoch 136/1000\n",
            "3/3 - 0s - loss: 0.5634 - AUC: 0.8450 - accuracy: 0.7571 - val_loss: 0.6067 - val_AUC: 0.7156 - val_accuracy: 0.7000 - 60ms/epoch - 20ms/step\n",
            "Epoch 137/1000\n",
            "3/3 - 0s - loss: 0.5669 - AUC: 0.8261 - accuracy: 0.7500 - val_loss: 0.6056 - val_AUC: 0.7156 - val_accuracy: 0.7000 - 51ms/epoch - 17ms/step\n",
            "Epoch 138/1000\n",
            "3/3 - 0s - loss: 0.5560 - AUC: 0.8187 - accuracy: 0.7357 - val_loss: 0.6058 - val_AUC: 0.7156 - val_accuracy: 0.7000 - 44ms/epoch - 15ms/step\n",
            "Epoch 139/1000\n",
            "3/3 - 0s - loss: 0.5507 - AUC: 0.8338 - accuracy: 0.7500 - val_loss: 0.6064 - val_AUC: 0.7156 - val_accuracy: 0.7000 - 72ms/epoch - 24ms/step\n",
            "Epoch 140/1000\n",
            "3/3 - 0s - loss: 0.5368 - AUC: 0.8596 - accuracy: 0.7643 - val_loss: 0.6069 - val_AUC: 0.7156 - val_accuracy: 0.7000 - 59ms/epoch - 20ms/step\n",
            "Epoch 141/1000\n",
            "3/3 - 0s - loss: 0.5596 - AUC: 0.8322 - accuracy: 0.7429 - val_loss: 0.6084 - val_AUC: 0.7156 - val_accuracy: 0.7000 - 47ms/epoch - 16ms/step\n",
            "Epoch 142/1000\n",
            "3/3 - 0s - loss: 0.5455 - AUC: 0.8180 - accuracy: 0.7071 - val_loss: 0.6100 - val_AUC: 0.7133 - val_accuracy: 0.7000 - 48ms/epoch - 16ms/step\n",
            "Epoch 143/1000\n",
            "3/3 - 0s - loss: 0.5514 - AUC: 0.8295 - accuracy: 0.7286 - val_loss: 0.6117 - val_AUC: 0.7156 - val_accuracy: 0.6333 - 48ms/epoch - 16ms/step\n",
            "Epoch 144/1000\n",
            "3/3 - 0s - loss: 0.5437 - AUC: 0.8436 - accuracy: 0.7500 - val_loss: 0.6127 - val_AUC: 0.7133 - val_accuracy: 0.6333 - 57ms/epoch - 19ms/step\n",
            "Epoch 145/1000\n",
            "3/3 - 0s - loss: 0.5529 - AUC: 0.8272 - accuracy: 0.7571 - val_loss: 0.6123 - val_AUC: 0.7133 - val_accuracy: 0.6333 - 59ms/epoch - 20ms/step\n",
            "Epoch 146/1000\n",
            "3/3 - 0s - loss: 0.5323 - AUC: 0.8583 - accuracy: 0.7786 - val_loss: 0.6114 - val_AUC: 0.7133 - val_accuracy: 0.6333 - 53ms/epoch - 18ms/step\n",
            "Epoch 147/1000\n",
            "3/3 - 0s - loss: 0.5575 - AUC: 0.8143 - accuracy: 0.7143 - val_loss: 0.6093 - val_AUC: 0.7111 - val_accuracy: 0.7000 - 60ms/epoch - 20ms/step\n",
            "Epoch 148/1000\n",
            "3/3 - 0s - loss: 0.5591 - AUC: 0.8093 - accuracy: 0.7286 - val_loss: 0.6068 - val_AUC: 0.7133 - val_accuracy: 0.7000 - 60ms/epoch - 20ms/step\n",
            "Epoch 149/1000\n",
            "3/3 - 0s - loss: 0.5303 - AUC: 0.8581 - accuracy: 0.7714 - val_loss: 0.6047 - val_AUC: 0.7156 - val_accuracy: 0.7000 - 47ms/epoch - 16ms/step\n",
            "Epoch 150/1000\n",
            "3/3 - 0s - loss: 0.5525 - AUC: 0.8462 - accuracy: 0.7500 - val_loss: 0.6035 - val_AUC: 0.7222 - val_accuracy: 0.7000 - 48ms/epoch - 16ms/step\n",
            "Epoch 151/1000\n",
            "3/3 - 0s - loss: 0.5640 - AUC: 0.7945 - accuracy: 0.6643 - val_loss: 0.6029 - val_AUC: 0.7222 - val_accuracy: 0.7000 - 68ms/epoch - 23ms/step\n",
            "Epoch 152/1000\n",
            "3/3 - 0s - loss: 0.5365 - AUC: 0.8383 - accuracy: 0.7357 - val_loss: 0.6023 - val_AUC: 0.7133 - val_accuracy: 0.7000 - 65ms/epoch - 22ms/step\n",
            "Epoch 153/1000\n",
            "3/3 - 0s - loss: 0.5365 - AUC: 0.8521 - accuracy: 0.7643 - val_loss: 0.6015 - val_AUC: 0.7156 - val_accuracy: 0.7000 - 58ms/epoch - 19ms/step\n",
            "Epoch 154/1000\n",
            "3/3 - 0s - loss: 0.5365 - AUC: 0.8452 - accuracy: 0.7500 - val_loss: 0.6012 - val_AUC: 0.7156 - val_accuracy: 0.7000 - 47ms/epoch - 16ms/step\n",
            "Epoch 155/1000\n",
            "3/3 - 0s - loss: 0.5492 - AUC: 0.8409 - accuracy: 0.7786 - val_loss: 0.6003 - val_AUC: 0.7178 - val_accuracy: 0.7000 - 72ms/epoch - 24ms/step\n",
            "Epoch 156/1000\n",
            "3/3 - 0s - loss: 0.5523 - AUC: 0.8170 - accuracy: 0.7286 - val_loss: 0.6000 - val_AUC: 0.7222 - val_accuracy: 0.7000 - 50ms/epoch - 17ms/step\n",
            "Epoch 157/1000\n",
            "3/3 - 0s - loss: 0.5300 - AUC: 0.8709 - accuracy: 0.8071 - val_loss: 0.6002 - val_AUC: 0.7156 - val_accuracy: 0.7000 - 61ms/epoch - 20ms/step\n",
            "Epoch 158/1000\n",
            "3/3 - 0s - loss: 0.5209 - AUC: 0.8610 - accuracy: 0.7786 - val_loss: 0.6008 - val_AUC: 0.7156 - val_accuracy: 0.7000 - 48ms/epoch - 16ms/step\n",
            "Epoch 159/1000\n",
            "3/3 - 0s - loss: 0.5408 - AUC: 0.8294 - accuracy: 0.7429 - val_loss: 0.6021 - val_AUC: 0.7156 - val_accuracy: 0.7000 - 47ms/epoch - 16ms/step\n",
            "Epoch 160/1000\n",
            "3/3 - 0s - loss: 0.5379 - AUC: 0.8485 - accuracy: 0.7500 - val_loss: 0.6026 - val_AUC: 0.7156 - val_accuracy: 0.7000 - 59ms/epoch - 20ms/step\n",
            "Epoch 161/1000\n",
            "3/3 - 0s - loss: 0.5358 - AUC: 0.8390 - accuracy: 0.7571 - val_loss: 0.6029 - val_AUC: 0.7156 - val_accuracy: 0.7000 - 47ms/epoch - 16ms/step\n",
            "Epoch 162/1000\n",
            "3/3 - 0s - loss: 0.5305 - AUC: 0.8573 - accuracy: 0.7571 - val_loss: 0.6024 - val_AUC: 0.7178 - val_accuracy: 0.6667 - 58ms/epoch - 19ms/step\n",
            "Epoch 163/1000\n",
            "3/3 - 0s - loss: 0.5278 - AUC: 0.8582 - accuracy: 0.7857 - val_loss: 0.6011 - val_AUC: 0.7244 - val_accuracy: 0.7000 - 48ms/epoch - 16ms/step\n",
            "Epoch 164/1000\n",
            "3/3 - 0s - loss: 0.5100 - AUC: 0.8731 - accuracy: 0.7643 - val_loss: 0.6002 - val_AUC: 0.7267 - val_accuracy: 0.7000 - 46ms/epoch - 15ms/step\n",
            "Epoch 165/1000\n",
            "3/3 - 0s - loss: 0.5361 - AUC: 0.8384 - accuracy: 0.7500 - val_loss: 0.5988 - val_AUC: 0.7289 - val_accuracy: 0.7000 - 65ms/epoch - 22ms/step\n",
            "Epoch 166/1000\n",
            "3/3 - 0s - loss: 0.5203 - AUC: 0.8530 - accuracy: 0.7214 - val_loss: 0.5974 - val_AUC: 0.7267 - val_accuracy: 0.7000 - 64ms/epoch - 21ms/step\n",
            "Epoch 167/1000\n",
            "3/3 - 0s - loss: 0.5417 - AUC: 0.8322 - accuracy: 0.7500 - val_loss: 0.5964 - val_AUC: 0.7289 - val_accuracy: 0.7000 - 72ms/epoch - 24ms/step\n",
            "Epoch 168/1000\n",
            "3/3 - 0s - loss: 0.5426 - AUC: 0.8165 - accuracy: 0.7071 - val_loss: 0.5967 - val_AUC: 0.7289 - val_accuracy: 0.7000 - 71ms/epoch - 24ms/step\n",
            "Epoch 169/1000\n",
            "3/3 - 0s - loss: 0.5203 - AUC: 0.8647 - accuracy: 0.7857 - val_loss: 0.5977 - val_AUC: 0.7222 - val_accuracy: 0.7000 - 53ms/epoch - 18ms/step\n",
            "Epoch 170/1000\n",
            "3/3 - 0s - loss: 0.5008 - AUC: 0.8646 - accuracy: 0.7857 - val_loss: 0.5990 - val_AUC: 0.7222 - val_accuracy: 0.7000 - 47ms/epoch - 16ms/step\n",
            "Epoch 171/1000\n",
            "3/3 - 0s - loss: 0.5200 - AUC: 0.8510 - accuracy: 0.7786 - val_loss: 0.6004 - val_AUC: 0.7200 - val_accuracy: 0.7000 - 59ms/epoch - 20ms/step\n",
            "Epoch 172/1000\n",
            "3/3 - 0s - loss: 0.5232 - AUC: 0.8564 - accuracy: 0.8000 - val_loss: 0.6012 - val_AUC: 0.7222 - val_accuracy: 0.6333 - 55ms/epoch - 18ms/step\n",
            "Epoch 173/1000\n",
            "3/3 - 0s - loss: 0.5022 - AUC: 0.8777 - accuracy: 0.8071 - val_loss: 0.6018 - val_AUC: 0.7178 - val_accuracy: 0.6333 - 47ms/epoch - 16ms/step\n",
            "Epoch 174/1000\n",
            "3/3 - 0s - loss: 0.5458 - AUC: 0.8362 - accuracy: 0.7643 - val_loss: 0.6020 - val_AUC: 0.7156 - val_accuracy: 0.6333 - 66ms/epoch - 22ms/step\n",
            "Epoch 175/1000\n",
            "3/3 - 0s - loss: 0.5099 - AUC: 0.8510 - accuracy: 0.7500 - val_loss: 0.6026 - val_AUC: 0.7133 - val_accuracy: 0.6333 - 62ms/epoch - 21ms/step\n",
            "Epoch 176/1000\n",
            "3/3 - 0s - loss: 0.5398 - AUC: 0.8430 - accuracy: 0.7643 - val_loss: 0.6024 - val_AUC: 0.7111 - val_accuracy: 0.6333 - 48ms/epoch - 16ms/step\n",
            "Epoch 177/1000\n",
            "3/3 - 0s - loss: 0.5334 - AUC: 0.8458 - accuracy: 0.8143 - val_loss: 0.6011 - val_AUC: 0.7200 - val_accuracy: 0.6333 - 57ms/epoch - 19ms/step\n",
            "Epoch 178/1000\n",
            "3/3 - 0s - loss: 0.5118 - AUC: 0.8817 - accuracy: 0.7929 - val_loss: 0.5979 - val_AUC: 0.7200 - val_accuracy: 0.6333 - 50ms/epoch - 17ms/step\n",
            "Epoch 179/1000\n",
            "3/3 - 0s - loss: 0.5022 - AUC: 0.8802 - accuracy: 0.8000 - val_loss: 0.5952 - val_AUC: 0.7178 - val_accuracy: 0.6667 - 48ms/epoch - 16ms/step\n",
            "Epoch 180/1000\n",
            "3/3 - 0s - loss: 0.5070 - AUC: 0.8684 - accuracy: 0.7929 - val_loss: 0.5937 - val_AUC: 0.7200 - val_accuracy: 0.7000 - 46ms/epoch - 15ms/step\n",
            "Epoch 181/1000\n",
            "3/3 - 0s - loss: 0.5261 - AUC: 0.8607 - accuracy: 0.7929 - val_loss: 0.5934 - val_AUC: 0.7289 - val_accuracy: 0.7000 - 61ms/epoch - 20ms/step\n",
            "Epoch 182/1000\n",
            "3/3 - 0s - loss: 0.5433 - AUC: 0.8242 - accuracy: 0.7714 - val_loss: 0.5933 - val_AUC: 0.7311 - val_accuracy: 0.7000 - 62ms/epoch - 21ms/step\n",
            "Epoch 183/1000\n",
            "3/3 - 0s - loss: 0.5301 - AUC: 0.8539 - accuracy: 0.7786 - val_loss: 0.5934 - val_AUC: 0.7333 - val_accuracy: 0.7000 - 71ms/epoch - 24ms/step\n",
            "Epoch 184/1000\n",
            "3/3 - 0s - loss: 0.5296 - AUC: 0.8479 - accuracy: 0.7571 - val_loss: 0.5934 - val_AUC: 0.7333 - val_accuracy: 0.7000 - 74ms/epoch - 25ms/step\n",
            "Epoch 185/1000\n",
            "3/3 - 0s - loss: 0.4987 - AUC: 0.8842 - accuracy: 0.8000 - val_loss: 0.5934 - val_AUC: 0.7311 - val_accuracy: 0.7000 - 47ms/epoch - 16ms/step\n",
            "Epoch 186/1000\n",
            "3/3 - 0s - loss: 0.5171 - AUC: 0.8415 - accuracy: 0.7643 - val_loss: 0.5930 - val_AUC: 0.7333 - val_accuracy: 0.6667 - 50ms/epoch - 17ms/step\n",
            "Epoch 187/1000\n",
            "3/3 - 0s - loss: 0.5195 - AUC: 0.8739 - accuracy: 0.7786 - val_loss: 0.5928 - val_AUC: 0.7311 - val_accuracy: 0.6667 - 63ms/epoch - 21ms/step\n",
            "Epoch 188/1000\n",
            "3/3 - 0s - loss: 0.5093 - AUC: 0.8654 - accuracy: 0.7786 - val_loss: 0.5930 - val_AUC: 0.7289 - val_accuracy: 0.7000 - 76ms/epoch - 25ms/step\n",
            "Epoch 189/1000\n",
            "3/3 - 0s - loss: 0.5101 - AUC: 0.8510 - accuracy: 0.7714 - val_loss: 0.5930 - val_AUC: 0.7289 - val_accuracy: 0.7000 - 46ms/epoch - 15ms/step\n",
            "Epoch 190/1000\n",
            "3/3 - 0s - loss: 0.5034 - AUC: 0.8695 - accuracy: 0.7643 - val_loss: 0.5928 - val_AUC: 0.7311 - val_accuracy: 0.7000 - 50ms/epoch - 17ms/step\n",
            "Epoch 191/1000\n",
            "3/3 - 0s - loss: 0.5465 - AUC: 0.8112 - accuracy: 0.7857 - val_loss: 0.5934 - val_AUC: 0.7244 - val_accuracy: 0.6667 - 54ms/epoch - 18ms/step\n",
            "Epoch 192/1000\n",
            "3/3 - 0s - loss: 0.5119 - AUC: 0.8684 - accuracy: 0.8143 - val_loss: 0.5929 - val_AUC: 0.7244 - val_accuracy: 0.6667 - 46ms/epoch - 15ms/step\n",
            "Epoch 193/1000\n",
            "3/3 - 0s - loss: 0.4892 - AUC: 0.8981 - accuracy: 0.8143 - val_loss: 0.5921 - val_AUC: 0.7311 - val_accuracy: 0.6667 - 60ms/epoch - 20ms/step\n",
            "Epoch 194/1000\n",
            "3/3 - 0s - loss: 0.5044 - AUC: 0.8789 - accuracy: 0.8071 - val_loss: 0.5911 - val_AUC: 0.7356 - val_accuracy: 0.7000 - 63ms/epoch - 21ms/step\n",
            "Epoch 195/1000\n",
            "3/3 - 0s - loss: 0.5099 - AUC: 0.8514 - accuracy: 0.7929 - val_loss: 0.5901 - val_AUC: 0.7400 - val_accuracy: 0.7000 - 46ms/epoch - 15ms/step\n",
            "Epoch 196/1000\n",
            "3/3 - 0s - loss: 0.5323 - AUC: 0.8353 - accuracy: 0.7429 - val_loss: 0.5905 - val_AUC: 0.7378 - val_accuracy: 0.7000 - 59ms/epoch - 20ms/step\n",
            "Epoch 197/1000\n",
            "3/3 - 0s - loss: 0.4964 - AUC: 0.8750 - accuracy: 0.7857 - val_loss: 0.5908 - val_AUC: 0.7400 - val_accuracy: 0.7000 - 46ms/epoch - 15ms/step\n",
            "Epoch 198/1000\n",
            "3/3 - 0s - loss: 0.4888 - AUC: 0.8798 - accuracy: 0.7857 - val_loss: 0.5911 - val_AUC: 0.7400 - val_accuracy: 0.7000 - 61ms/epoch - 20ms/step\n",
            "Epoch 199/1000\n",
            "3/3 - 0s - loss: 0.4765 - AUC: 0.9008 - accuracy: 0.7929 - val_loss: 0.5918 - val_AUC: 0.7356 - val_accuracy: 0.6667 - 71ms/epoch - 24ms/step\n",
            "Epoch 200/1000\n",
            "3/3 - 0s - loss: 0.4838 - AUC: 0.8921 - accuracy: 0.7929 - val_loss: 0.5925 - val_AUC: 0.7356 - val_accuracy: 0.6667 - 77ms/epoch - 26ms/step\n",
            "Epoch 201/1000\n",
            "3/3 - 0s - loss: 0.5138 - AUC: 0.8652 - accuracy: 0.7929 - val_loss: 0.5925 - val_AUC: 0.7356 - val_accuracy: 0.6667 - 45ms/epoch - 15ms/step\n",
            "Epoch 202/1000\n",
            "3/3 - 0s - loss: 0.4599 - AUC: 0.9039 - accuracy: 0.8143 - val_loss: 0.5929 - val_AUC: 0.7356 - val_accuracy: 0.6667 - 49ms/epoch - 16ms/step\n",
            "Epoch 203/1000\n",
            "3/3 - 0s - loss: 0.4861 - AUC: 0.8819 - accuracy: 0.7786 - val_loss: 0.5917 - val_AUC: 0.7311 - val_accuracy: 0.6667 - 46ms/epoch - 15ms/step\n",
            "Epoch 204/1000\n",
            "3/3 - 0s - loss: 0.5113 - AUC: 0.8501 - accuracy: 0.7929 - val_loss: 0.5899 - val_AUC: 0.7356 - val_accuracy: 0.6667 - 77ms/epoch - 26ms/step\n",
            "Epoch 205/1000\n",
            "3/3 - 0s - loss: 0.5103 - AUC: 0.8637 - accuracy: 0.8000 - val_loss: 0.5892 - val_AUC: 0.7333 - val_accuracy: 0.6667 - 73ms/epoch - 24ms/step\n",
            "Epoch 206/1000\n",
            "3/3 - 0s - loss: 0.4932 - AUC: 0.8756 - accuracy: 0.8000 - val_loss: 0.5884 - val_AUC: 0.7333 - val_accuracy: 0.6667 - 81ms/epoch - 27ms/step\n",
            "Epoch 207/1000\n",
            "3/3 - 0s - loss: 0.4819 - AUC: 0.8949 - accuracy: 0.8071 - val_loss: 0.5875 - val_AUC: 0.7333 - val_accuracy: 0.6667 - 80ms/epoch - 27ms/step\n",
            "Epoch 208/1000\n",
            "3/3 - 0s - loss: 0.4957 - AUC: 0.8736 - accuracy: 0.7857 - val_loss: 0.5866 - val_AUC: 0.7333 - val_accuracy: 0.6667 - 78ms/epoch - 26ms/step\n",
            "Epoch 209/1000\n",
            "3/3 - 0s - loss: 0.5209 - AUC: 0.8491 - accuracy: 0.7786 - val_loss: 0.5854 - val_AUC: 0.7378 - val_accuracy: 0.6667 - 83ms/epoch - 28ms/step\n",
            "Epoch 210/1000\n",
            "3/3 - 0s - loss: 0.4885 - AUC: 0.8705 - accuracy: 0.8143 - val_loss: 0.5842 - val_AUC: 0.7444 - val_accuracy: 0.6667 - 78ms/epoch - 26ms/step\n",
            "Epoch 211/1000\n",
            "3/3 - 0s - loss: 0.4930 - AUC: 0.8786 - accuracy: 0.8143 - val_loss: 0.5833 - val_AUC: 0.7444 - val_accuracy: 0.7000 - 85ms/epoch - 28ms/step\n",
            "Epoch 212/1000\n",
            "3/3 - 0s - loss: 0.4897 - AUC: 0.8796 - accuracy: 0.8286 - val_loss: 0.5833 - val_AUC: 0.7444 - val_accuracy: 0.6667 - 88ms/epoch - 29ms/step\n",
            "Epoch 213/1000\n",
            "3/3 - 0s - loss: 0.4572 - AUC: 0.9001 - accuracy: 0.8643 - val_loss: 0.5838 - val_AUC: 0.7422 - val_accuracy: 0.7000 - 83ms/epoch - 28ms/step\n",
            "Epoch 214/1000\n",
            "3/3 - 0s - loss: 0.4704 - AUC: 0.9164 - accuracy: 0.8643 - val_loss: 0.5839 - val_AUC: 0.7422 - val_accuracy: 0.6667 - 78ms/epoch - 26ms/step\n",
            "Epoch 215/1000\n",
            "3/3 - 0s - loss: 0.4868 - AUC: 0.8597 - accuracy: 0.7929 - val_loss: 0.5838 - val_AUC: 0.7422 - val_accuracy: 0.6667 - 84ms/epoch - 28ms/step\n",
            "Epoch 216/1000\n",
            "3/3 - 0s - loss: 0.5010 - AUC: 0.8487 - accuracy: 0.7643 - val_loss: 0.5840 - val_AUC: 0.7422 - val_accuracy: 0.6667 - 91ms/epoch - 30ms/step\n",
            "Epoch 217/1000\n",
            "3/3 - 0s - loss: 0.4911 - AUC: 0.8908 - accuracy: 0.8071 - val_loss: 0.5841 - val_AUC: 0.7444 - val_accuracy: 0.6667 - 67ms/epoch - 22ms/step\n",
            "Epoch 218/1000\n",
            "3/3 - 0s - loss: 0.4705 - AUC: 0.8949 - accuracy: 0.8286 - val_loss: 0.5832 - val_AUC: 0.7444 - val_accuracy: 0.6667 - 70ms/epoch - 23ms/step\n",
            "Epoch 219/1000\n",
            "3/3 - 0s - loss: 0.4807 - AUC: 0.8721 - accuracy: 0.8071 - val_loss: 0.5819 - val_AUC: 0.7489 - val_accuracy: 0.6667 - 73ms/epoch - 24ms/step\n",
            "Epoch 220/1000\n",
            "3/3 - 0s - loss: 0.4863 - AUC: 0.8727 - accuracy: 0.8071 - val_loss: 0.5817 - val_AUC: 0.7467 - val_accuracy: 0.6667 - 87ms/epoch - 29ms/step\n",
            "Epoch 221/1000\n",
            "3/3 - 0s - loss: 0.4722 - AUC: 0.9030 - accuracy: 0.8214 - val_loss: 0.5819 - val_AUC: 0.7489 - val_accuracy: 0.6667 - 84ms/epoch - 28ms/step\n",
            "Epoch 222/1000\n",
            "3/3 - 0s - loss: 0.4818 - AUC: 0.8764 - accuracy: 0.8000 - val_loss: 0.5828 - val_AUC: 0.7467 - val_accuracy: 0.6667 - 66ms/epoch - 22ms/step\n",
            "Epoch 223/1000\n",
            "3/3 - 0s - loss: 0.4701 - AUC: 0.8896 - accuracy: 0.8000 - val_loss: 0.5833 - val_AUC: 0.7444 - val_accuracy: 0.6667 - 91ms/epoch - 30ms/step\n",
            "Epoch 224/1000\n",
            "3/3 - 0s - loss: 0.4674 - AUC: 0.9004 - accuracy: 0.8500 - val_loss: 0.5829 - val_AUC: 0.7444 - val_accuracy: 0.6667 - 95ms/epoch - 32ms/step\n",
            "Epoch 225/1000\n",
            "3/3 - 0s - loss: 0.4807 - AUC: 0.8797 - accuracy: 0.8000 - val_loss: 0.5833 - val_AUC: 0.7444 - val_accuracy: 0.6667 - 75ms/epoch - 25ms/step\n",
            "Epoch 226/1000\n",
            "3/3 - 0s - loss: 0.4835 - AUC: 0.8859 - accuracy: 0.8000 - val_loss: 0.5848 - val_AUC: 0.7378 - val_accuracy: 0.6667 - 76ms/epoch - 25ms/step\n",
            "Epoch 227/1000\n",
            "3/3 - 0s - loss: 0.4759 - AUC: 0.8823 - accuracy: 0.7929 - val_loss: 0.5859 - val_AUC: 0.7289 - val_accuracy: 0.6667 - 77ms/epoch - 26ms/step\n",
            "Epoch 228/1000\n",
            "3/3 - 0s - loss: 0.4606 - AUC: 0.8970 - accuracy: 0.8000 - val_loss: 0.5854 - val_AUC: 0.7311 - val_accuracy: 0.6667 - 69ms/epoch - 23ms/step\n",
            "Epoch 229/1000\n",
            "3/3 - 0s - loss: 0.4764 - AUC: 0.8728 - accuracy: 0.7929 - val_loss: 0.5846 - val_AUC: 0.7356 - val_accuracy: 0.6333 - 74ms/epoch - 25ms/step\n",
            "Epoch 230/1000\n",
            "3/3 - 0s - loss: 0.4865 - AUC: 0.8654 - accuracy: 0.7857 - val_loss: 0.5834 - val_AUC: 0.7422 - val_accuracy: 0.6333 - 67ms/epoch - 22ms/step\n",
            "Epoch 231/1000\n",
            "3/3 - 0s - loss: 0.4622 - AUC: 0.8981 - accuracy: 0.8357 - val_loss: 0.5810 - val_AUC: 0.7444 - val_accuracy: 0.6667 - 87ms/epoch - 29ms/step\n",
            "Epoch 232/1000\n",
            "3/3 - 0s - loss: 0.4747 - AUC: 0.8948 - accuracy: 0.8429 - val_loss: 0.5790 - val_AUC: 0.7422 - val_accuracy: 0.6000 - 62ms/epoch - 21ms/step\n",
            "Epoch 233/1000\n",
            "3/3 - 0s - loss: 0.4761 - AUC: 0.8919 - accuracy: 0.8357 - val_loss: 0.5778 - val_AUC: 0.7444 - val_accuracy: 0.6333 - 78ms/epoch - 26ms/step\n",
            "Epoch 234/1000\n",
            "3/3 - 0s - loss: 0.4819 - AUC: 0.8816 - accuracy: 0.8286 - val_loss: 0.5777 - val_AUC: 0.7489 - val_accuracy: 0.6667 - 76ms/epoch - 25ms/step\n",
            "Epoch 235/1000\n",
            "3/3 - 0s - loss: 0.4787 - AUC: 0.8723 - accuracy: 0.7786 - val_loss: 0.5778 - val_AUC: 0.7489 - val_accuracy: 0.6667 - 76ms/epoch - 25ms/step\n",
            "Epoch 236/1000\n",
            "3/3 - 0s - loss: 0.5024 - AUC: 0.8565 - accuracy: 0.7643 - val_loss: 0.5778 - val_AUC: 0.7489 - val_accuracy: 0.6667 - 75ms/epoch - 25ms/step\n",
            "Epoch 237/1000\n",
            "3/3 - 0s - loss: 0.4755 - AUC: 0.8977 - accuracy: 0.8071 - val_loss: 0.5785 - val_AUC: 0.7578 - val_accuracy: 0.6333 - 79ms/epoch - 26ms/step\n",
            "Epoch 238/1000\n",
            "3/3 - 0s - loss: 0.5098 - AUC: 0.8421 - accuracy: 0.7429 - val_loss: 0.5801 - val_AUC: 0.7533 - val_accuracy: 0.6667 - 69ms/epoch - 23ms/step\n",
            "Epoch 239/1000\n",
            "3/3 - 0s - loss: 0.4905 - AUC: 0.8704 - accuracy: 0.8071 - val_loss: 0.5822 - val_AUC: 0.7511 - val_accuracy: 0.6667 - 75ms/epoch - 25ms/step\n",
            "Epoch 240/1000\n",
            "3/3 - 0s - loss: 0.4518 - AUC: 0.9006 - accuracy: 0.8143 - val_loss: 0.5831 - val_AUC: 0.7467 - val_accuracy: 0.6667 - 78ms/epoch - 26ms/step\n",
            "Epoch 241/1000\n",
            "3/3 - 0s - loss: 0.4766 - AUC: 0.8768 - accuracy: 0.7929 - val_loss: 0.5838 - val_AUC: 0.7422 - val_accuracy: 0.6667 - 84ms/epoch - 28ms/step\n",
            "Epoch 242/1000\n",
            "3/3 - 0s - loss: 0.4829 - AUC: 0.8779 - accuracy: 0.8143 - val_loss: 0.5836 - val_AUC: 0.7422 - val_accuracy: 0.6667 - 74ms/epoch - 25ms/step\n",
            "Epoch 243/1000\n",
            "3/3 - 0s - loss: 0.4453 - AUC: 0.9084 - accuracy: 0.8286 - val_loss: 0.5826 - val_AUC: 0.7467 - val_accuracy: 0.6667 - 82ms/epoch - 27ms/step\n",
            "Epoch 244/1000\n",
            "3/3 - 0s - loss: 0.4490 - AUC: 0.8986 - accuracy: 0.8286 - val_loss: 0.5821 - val_AUC: 0.7467 - val_accuracy: 0.6667 - 70ms/epoch - 23ms/step\n",
            "Epoch 245/1000\n",
            "3/3 - 0s - loss: 0.4701 - AUC: 0.8813 - accuracy: 0.8071 - val_loss: 0.5812 - val_AUC: 0.7467 - val_accuracy: 0.6667 - 62ms/epoch - 21ms/step\n",
            "Epoch 246/1000\n",
            "3/3 - 0s - loss: 0.4870 - AUC: 0.8751 - accuracy: 0.8000 - val_loss: 0.5808 - val_AUC: 0.7467 - val_accuracy: 0.6667 - 78ms/epoch - 26ms/step\n",
            "Epoch 247/1000\n",
            "3/3 - 0s - loss: 0.4812 - AUC: 0.8706 - accuracy: 0.7786 - val_loss: 0.5791 - val_AUC: 0.7489 - val_accuracy: 0.6667 - 87ms/epoch - 29ms/step\n",
            "Epoch 248/1000\n",
            "3/3 - 0s - loss: 0.4777 - AUC: 0.8794 - accuracy: 0.7929 - val_loss: 0.5785 - val_AUC: 0.7511 - val_accuracy: 0.6333 - 92ms/epoch - 31ms/step\n",
            "Epoch 249/1000\n",
            "3/3 - 0s - loss: 0.4604 - AUC: 0.8923 - accuracy: 0.8143 - val_loss: 0.5780 - val_AUC: 0.7511 - val_accuracy: 0.6333 - 88ms/epoch - 29ms/step\n",
            "Epoch 250/1000\n",
            "3/3 - 0s - loss: 0.4873 - AUC: 0.8640 - accuracy: 0.7929 - val_loss: 0.5774 - val_AUC: 0.7511 - val_accuracy: 0.6333 - 73ms/epoch - 24ms/step\n",
            "Epoch 251/1000\n",
            "3/3 - 0s - loss: 0.4815 - AUC: 0.8733 - accuracy: 0.7857 - val_loss: 0.5776 - val_AUC: 0.7533 - val_accuracy: 0.6333 - 76ms/epoch - 25ms/step\n",
            "Epoch 252/1000\n",
            "3/3 - 0s - loss: 0.4422 - AUC: 0.9238 - accuracy: 0.8571 - val_loss: 0.5782 - val_AUC: 0.7556 - val_accuracy: 0.6333 - 77ms/epoch - 26ms/step\n",
            "Epoch 253/1000\n",
            "3/3 - 0s - loss: 0.4692 - AUC: 0.8834 - accuracy: 0.8143 - val_loss: 0.5780 - val_AUC: 0.7556 - val_accuracy: 0.6333 - 77ms/epoch - 26ms/step\n",
            "Epoch 254/1000\n",
            "3/3 - 0s - loss: 0.4486 - AUC: 0.8966 - accuracy: 0.8643 - val_loss: 0.5772 - val_AUC: 0.7578 - val_accuracy: 0.6333 - 88ms/epoch - 29ms/step\n",
            "Epoch 255/1000\n",
            "3/3 - 0s - loss: 0.4873 - AUC: 0.8649 - accuracy: 0.7786 - val_loss: 0.5760 - val_AUC: 0.7600 - val_accuracy: 0.6667 - 89ms/epoch - 30ms/step\n",
            "Epoch 256/1000\n",
            "3/3 - 0s - loss: 0.4482 - AUC: 0.9038 - accuracy: 0.8214 - val_loss: 0.5745 - val_AUC: 0.7644 - val_accuracy: 0.6667 - 84ms/epoch - 28ms/step\n",
            "Epoch 257/1000\n",
            "3/3 - 0s - loss: 0.4835 - AUC: 0.8648 - accuracy: 0.7786 - val_loss: 0.5736 - val_AUC: 0.7667 - val_accuracy: 0.6667 - 83ms/epoch - 28ms/step\n",
            "Epoch 258/1000\n",
            "3/3 - 0s - loss: 0.4518 - AUC: 0.9151 - accuracy: 0.8286 - val_loss: 0.5744 - val_AUC: 0.7644 - val_accuracy: 0.6333 - 95ms/epoch - 32ms/step\n",
            "Epoch 259/1000\n",
            "3/3 - 0s - loss: 0.4452 - AUC: 0.9349 - accuracy: 0.8500 - val_loss: 0.5755 - val_AUC: 0.7533 - val_accuracy: 0.6333 - 100ms/epoch - 33ms/step\n",
            "Epoch 260/1000\n",
            "3/3 - 0s - loss: 0.4588 - AUC: 0.8929 - accuracy: 0.8143 - val_loss: 0.5760 - val_AUC: 0.7489 - val_accuracy: 0.6333 - 80ms/epoch - 27ms/step\n",
            "Epoch 261/1000\n",
            "3/3 - 0s - loss: 0.4343 - AUC: 0.9345 - accuracy: 0.8786 - val_loss: 0.5756 - val_AUC: 0.7511 - val_accuracy: 0.6333 - 62ms/epoch - 21ms/step\n",
            "Epoch 262/1000\n",
            "3/3 - 0s - loss: 0.4897 - AUC: 0.8693 - accuracy: 0.8000 - val_loss: 0.5749 - val_AUC: 0.7489 - val_accuracy: 0.6333 - 46ms/epoch - 15ms/step\n",
            "Epoch 263/1000\n",
            "3/3 - 0s - loss: 0.4420 - AUC: 0.9138 - accuracy: 0.8357 - val_loss: 0.5741 - val_AUC: 0.7556 - val_accuracy: 0.6333 - 48ms/epoch - 16ms/step\n",
            "Epoch 264/1000\n",
            "3/3 - 0s - loss: 0.4581 - AUC: 0.9083 - accuracy: 0.8214 - val_loss: 0.5741 - val_AUC: 0.7600 - val_accuracy: 0.6333 - 63ms/epoch - 21ms/step\n",
            "Epoch 265/1000\n",
            "3/3 - 0s - loss: 0.4376 - AUC: 0.9132 - accuracy: 0.8500 - val_loss: 0.5739 - val_AUC: 0.7622 - val_accuracy: 0.6333 - 63ms/epoch - 21ms/step\n",
            "Epoch 266/1000\n",
            "3/3 - 0s - loss: 0.4401 - AUC: 0.9051 - accuracy: 0.8143 - val_loss: 0.5741 - val_AUC: 0.7622 - val_accuracy: 0.6333 - 59ms/epoch - 20ms/step\n",
            "Epoch 267/1000\n",
            "3/3 - 0s - loss: 0.4550 - AUC: 0.8984 - accuracy: 0.8143 - val_loss: 0.5737 - val_AUC: 0.7600 - val_accuracy: 0.6333 - 50ms/epoch - 17ms/step\n",
            "Epoch 268/1000\n",
            "3/3 - 0s - loss: 0.4835 - AUC: 0.8651 - accuracy: 0.7857 - val_loss: 0.5741 - val_AUC: 0.7556 - val_accuracy: 0.6333 - 56ms/epoch - 19ms/step\n",
            "Epoch 269/1000\n",
            "3/3 - 0s - loss: 0.4294 - AUC: 0.9159 - accuracy: 0.8214 - val_loss: 0.5740 - val_AUC: 0.7578 - val_accuracy: 0.6333 - 50ms/epoch - 17ms/step\n",
            "Epoch 270/1000\n",
            "3/3 - 0s - loss: 0.4589 - AUC: 0.9018 - accuracy: 0.8214 - val_loss: 0.5739 - val_AUC: 0.7600 - val_accuracy: 0.6333 - 63ms/epoch - 21ms/step\n",
            "Epoch 271/1000\n",
            "3/3 - 0s - loss: 0.4305 - AUC: 0.9281 - accuracy: 0.8500 - val_loss: 0.5740 - val_AUC: 0.7622 - val_accuracy: 0.6333 - 60ms/epoch - 20ms/step\n",
            "Epoch 272/1000\n",
            "3/3 - 0s - loss: 0.4647 - AUC: 0.8754 - accuracy: 0.8000 - val_loss: 0.5741 - val_AUC: 0.7622 - val_accuracy: 0.6333 - 46ms/epoch - 15ms/step\n",
            "Epoch 273/1000\n",
            "3/3 - 0s - loss: 0.4089 - AUC: 0.9382 - accuracy: 0.8857 - val_loss: 0.5746 - val_AUC: 0.7600 - val_accuracy: 0.6333 - 72ms/epoch - 24ms/step\n",
            "Epoch 274/1000\n",
            "3/3 - 0s - loss: 0.4316 - AUC: 0.9230 - accuracy: 0.8286 - val_loss: 0.5750 - val_AUC: 0.7622 - val_accuracy: 0.6667 - 73ms/epoch - 24ms/step\n",
            "Epoch 275/1000\n",
            "3/3 - 0s - loss: 0.4505 - AUC: 0.8929 - accuracy: 0.8357 - val_loss: 0.5752 - val_AUC: 0.7622 - val_accuracy: 0.6667 - 48ms/epoch - 16ms/step\n",
            "Epoch 276/1000\n",
            "3/3 - 0s - loss: 0.4593 - AUC: 0.8969 - accuracy: 0.7929 - val_loss: 0.5740 - val_AUC: 0.7644 - val_accuracy: 0.6667 - 59ms/epoch - 20ms/step\n",
            "Epoch 277/1000\n",
            "3/3 - 0s - loss: 0.4300 - AUC: 0.9059 - accuracy: 0.8214 - val_loss: 0.5724 - val_AUC: 0.7622 - val_accuracy: 0.6667 - 50ms/epoch - 17ms/step\n",
            "Epoch 278/1000\n",
            "3/3 - 0s - loss: 0.4397 - AUC: 0.9277 - accuracy: 0.8571 - val_loss: 0.5712 - val_AUC: 0.7622 - val_accuracy: 0.6333 - 62ms/epoch - 21ms/step\n",
            "Epoch 279/1000\n",
            "3/3 - 0s - loss: 0.4525 - AUC: 0.9007 - accuracy: 0.8429 - val_loss: 0.5706 - val_AUC: 0.7600 - val_accuracy: 0.6333 - 60ms/epoch - 20ms/step\n",
            "Epoch 280/1000\n",
            "3/3 - 0s - loss: 0.4432 - AUC: 0.8991 - accuracy: 0.8357 - val_loss: 0.5713 - val_AUC: 0.7600 - val_accuracy: 0.6333 - 62ms/epoch - 21ms/step\n",
            "Epoch 281/1000\n",
            "3/3 - 0s - loss: 0.4315 - AUC: 0.9234 - accuracy: 0.8429 - val_loss: 0.5728 - val_AUC: 0.7489 - val_accuracy: 0.6333 - 44ms/epoch - 15ms/step\n",
            "Epoch 282/1000\n",
            "3/3 - 0s - loss: 0.4307 - AUC: 0.9054 - accuracy: 0.8357 - val_loss: 0.5731 - val_AUC: 0.7489 - val_accuracy: 0.6333 - 60ms/epoch - 20ms/step\n",
            "Epoch 283/1000\n",
            "3/3 - 0s - loss: 0.4362 - AUC: 0.8982 - accuracy: 0.8214 - val_loss: 0.5720 - val_AUC: 0.7533 - val_accuracy: 0.6333 - 50ms/epoch - 17ms/step\n",
            "Epoch 284/1000\n",
            "3/3 - 0s - loss: 0.4330 - AUC: 0.9133 - accuracy: 0.8429 - val_loss: 0.5711 - val_AUC: 0.7622 - val_accuracy: 0.6333 - 77ms/epoch - 26ms/step\n",
            "Epoch 285/1000\n",
            "3/3 - 0s - loss: 0.4231 - AUC: 0.9056 - accuracy: 0.8357 - val_loss: 0.5707 - val_AUC: 0.7644 - val_accuracy: 0.6333 - 61ms/epoch - 20ms/step\n",
            "Epoch 286/1000\n",
            "3/3 - 0s - loss: 0.4184 - AUC: 0.9280 - accuracy: 0.8714 - val_loss: 0.5706 - val_AUC: 0.7644 - val_accuracy: 0.6333 - 47ms/epoch - 16ms/step\n",
            "Epoch 287/1000\n",
            "3/3 - 0s - loss: 0.4304 - AUC: 0.9065 - accuracy: 0.8357 - val_loss: 0.5702 - val_AUC: 0.7667 - val_accuracy: 0.6333 - 61ms/epoch - 20ms/step\n",
            "Epoch 288/1000\n",
            "3/3 - 0s - loss: 0.4360 - AUC: 0.8994 - accuracy: 0.8286 - val_loss: 0.5699 - val_AUC: 0.7667 - val_accuracy: 0.6333 - 78ms/epoch - 26ms/step\n",
            "Epoch 289/1000\n",
            "3/3 - 0s - loss: 0.4241 - AUC: 0.9097 - accuracy: 0.8143 - val_loss: 0.5698 - val_AUC: 0.7733 - val_accuracy: 0.6333 - 76ms/epoch - 25ms/step\n",
            "Epoch 290/1000\n",
            "3/3 - 0s - loss: 0.4125 - AUC: 0.9271 - accuracy: 0.8357 - val_loss: 0.5694 - val_AUC: 0.7733 - val_accuracy: 0.6333 - 50ms/epoch - 17ms/step\n",
            "Epoch 291/1000\n",
            "3/3 - 0s - loss: 0.4490 - AUC: 0.8809 - accuracy: 0.8000 - val_loss: 0.5687 - val_AUC: 0.7689 - val_accuracy: 0.6333 - 46ms/epoch - 15ms/step\n",
            "Epoch 292/1000\n",
            "3/3 - 0s - loss: 0.4166 - AUC: 0.9269 - accuracy: 0.8286 - val_loss: 0.5684 - val_AUC: 0.7689 - val_accuracy: 0.6333 - 46ms/epoch - 15ms/step\n",
            "Epoch 293/1000\n",
            "3/3 - 0s - loss: 0.4431 - AUC: 0.8931 - accuracy: 0.8214 - val_loss: 0.5665 - val_AUC: 0.7644 - val_accuracy: 0.6333 - 65ms/epoch - 22ms/step\n",
            "Epoch 294/1000\n",
            "3/3 - 0s - loss: 0.4364 - AUC: 0.9210 - accuracy: 0.8357 - val_loss: 0.5657 - val_AUC: 0.7644 - val_accuracy: 0.6333 - 50ms/epoch - 17ms/step\n",
            "Epoch 295/1000\n",
            "3/3 - 0s - loss: 0.3873 - AUC: 0.9407 - accuracy: 0.8786 - val_loss: 0.5650 - val_AUC: 0.7644 - val_accuracy: 0.6667 - 61ms/epoch - 20ms/step\n",
            "Epoch 296/1000\n",
            "3/3 - 0s - loss: 0.4358 - AUC: 0.9041 - accuracy: 0.8286 - val_loss: 0.5654 - val_AUC: 0.7644 - val_accuracy: 0.6667 - 51ms/epoch - 17ms/step\n",
            "Epoch 297/1000\n",
            "3/3 - 0s - loss: 0.4088 - AUC: 0.9242 - accuracy: 0.8429 - val_loss: 0.5661 - val_AUC: 0.7622 - val_accuracy: 0.6667 - 64ms/epoch - 21ms/step\n",
            "Epoch 298/1000\n",
            "3/3 - 0s - loss: 0.4343 - AUC: 0.8955 - accuracy: 0.8214 - val_loss: 0.5662 - val_AUC: 0.7600 - val_accuracy: 0.6333 - 47ms/epoch - 16ms/step\n",
            "Epoch 299/1000\n",
            "3/3 - 0s - loss: 0.4163 - AUC: 0.9165 - accuracy: 0.8500 - val_loss: 0.5667 - val_AUC: 0.7622 - val_accuracy: 0.6333 - 50ms/epoch - 17ms/step\n",
            "Epoch 300/1000\n",
            "3/3 - 0s - loss: 0.4025 - AUC: 0.9318 - accuracy: 0.8571 - val_loss: 0.5675 - val_AUC: 0.7600 - val_accuracy: 0.6333 - 58ms/epoch - 19ms/step\n",
            "Epoch 301/1000\n",
            "3/3 - 0s - loss: 0.4160 - AUC: 0.9153 - accuracy: 0.8571 - val_loss: 0.5685 - val_AUC: 0.7622 - val_accuracy: 0.6333 - 47ms/epoch - 16ms/step\n",
            "Epoch 302/1000\n",
            "3/3 - 0s - loss: 0.4189 - AUC: 0.9074 - accuracy: 0.8500 - val_loss: 0.5693 - val_AUC: 0.7667 - val_accuracy: 0.6333 - 61ms/epoch - 20ms/step\n",
            "Epoch 303/1000\n",
            "3/3 - 0s - loss: 0.4151 - AUC: 0.9139 - accuracy: 0.8286 - val_loss: 0.5699 - val_AUC: 0.7667 - val_accuracy: 0.6333 - 65ms/epoch - 22ms/step\n",
            "Epoch 304/1000\n",
            "3/3 - 0s - loss: 0.4419 - AUC: 0.8963 - accuracy: 0.8429 - val_loss: 0.5699 - val_AUC: 0.7644 - val_accuracy: 0.6333 - 75ms/epoch - 25ms/step\n",
            "Epoch 305/1000\n",
            "3/3 - 0s - loss: 0.4114 - AUC: 0.9160 - accuracy: 0.8571 - val_loss: 0.5690 - val_AUC: 0.7689 - val_accuracy: 0.6333 - 62ms/epoch - 21ms/step\n",
            "Epoch 306/1000\n",
            "3/3 - 0s - loss: 0.4144 - AUC: 0.9197 - accuracy: 0.8429 - val_loss: 0.5682 - val_AUC: 0.7644 - val_accuracy: 0.6333 - 61ms/epoch - 20ms/step\n",
            "Epoch 307/1000\n",
            "3/3 - 0s - loss: 0.4236 - AUC: 0.9155 - accuracy: 0.8714 - val_loss: 0.5674 - val_AUC: 0.7644 - val_accuracy: 0.6333 - 62ms/epoch - 21ms/step\n",
            "Epoch 308/1000\n",
            "3/3 - 0s - loss: 0.4308 - AUC: 0.9000 - accuracy: 0.8357 - val_loss: 0.5674 - val_AUC: 0.7644 - val_accuracy: 0.6333 - 53ms/epoch - 18ms/step\n",
            "Epoch 309/1000\n",
            "3/3 - 0s - loss: 0.3967 - AUC: 0.9235 - accuracy: 0.8571 - val_loss: 0.5679 - val_AUC: 0.7644 - val_accuracy: 0.6333 - 49ms/epoch - 16ms/step\n",
            "Epoch 310/1000\n",
            "3/3 - 0s - loss: 0.4282 - AUC: 0.9209 - accuracy: 0.8786 - val_loss: 0.5679 - val_AUC: 0.7644 - val_accuracy: 0.6333 - 63ms/epoch - 21ms/step\n",
            "Epoch 311/1000\n",
            "3/3 - 0s - loss: 0.4241 - AUC: 0.9150 - accuracy: 0.8571 - val_loss: 0.5677 - val_AUC: 0.7644 - val_accuracy: 0.6333 - 59ms/epoch - 20ms/step\n",
            "Epoch 312/1000\n",
            "3/3 - 0s - loss: 0.3844 - AUC: 0.9439 - accuracy: 0.8857 - val_loss: 0.5675 - val_AUC: 0.7644 - val_accuracy: 0.6333 - 61ms/epoch - 20ms/step\n",
            "Epoch 313/1000\n",
            "3/3 - 0s - loss: 0.4545 - AUC: 0.8799 - accuracy: 0.8143 - val_loss: 0.5666 - val_AUC: 0.7667 - val_accuracy: 0.6333 - 48ms/epoch - 16ms/step\n",
            "Epoch 314/1000\n",
            "3/3 - 0s - loss: 0.4449 - AUC: 0.8903 - accuracy: 0.8214 - val_loss: 0.5664 - val_AUC: 0.7667 - val_accuracy: 0.6333 - 48ms/epoch - 16ms/step\n",
            "Epoch 315/1000\n",
            "3/3 - 0s - loss: 0.3897 - AUC: 0.9509 - accuracy: 0.8429 - val_loss: 0.5677 - val_AUC: 0.7711 - val_accuracy: 0.6333 - 66ms/epoch - 22ms/step\n",
            "Epoch 316/1000\n",
            "3/3 - 0s - loss: 0.3987 - AUC: 0.9327 - accuracy: 0.8429 - val_loss: 0.5680 - val_AUC: 0.7778 - val_accuracy: 0.6667 - 56ms/epoch - 19ms/step\n",
            "Epoch 317/1000\n",
            "3/3 - 0s - loss: 0.4124 - AUC: 0.9318 - accuracy: 0.8500 - val_loss: 0.5670 - val_AUC: 0.7800 - val_accuracy: 0.6667 - 50ms/epoch - 17ms/step\n",
            "Epoch 318/1000\n",
            "3/3 - 0s - loss: 0.4072 - AUC: 0.9172 - accuracy: 0.8500 - val_loss: 0.5664 - val_AUC: 0.7844 - val_accuracy: 0.6667 - 47ms/epoch - 16ms/step\n",
            "Epoch 319/1000\n",
            "3/3 - 0s - loss: 0.4091 - AUC: 0.9192 - accuracy: 0.8429 - val_loss: 0.5646 - val_AUC: 0.7778 - val_accuracy: 0.6333 - 58ms/epoch - 19ms/step\n",
            "Epoch 320/1000\n",
            "3/3 - 0s - loss: 0.4390 - AUC: 0.8939 - accuracy: 0.8214 - val_loss: 0.5649 - val_AUC: 0.7733 - val_accuracy: 0.6333 - 61ms/epoch - 20ms/step\n",
            "Epoch 321/1000\n",
            "3/3 - 0s - loss: 0.4358 - AUC: 0.8847 - accuracy: 0.8214 - val_loss: 0.5656 - val_AUC: 0.7711 - val_accuracy: 0.6667 - 66ms/epoch - 22ms/step\n",
            "Epoch 322/1000\n",
            "3/3 - 0s - loss: 0.4268 - AUC: 0.9184 - accuracy: 0.8571 - val_loss: 0.5653 - val_AUC: 0.7711 - val_accuracy: 0.6667 - 50ms/epoch - 17ms/step\n",
            "Epoch 323/1000\n",
            "3/3 - 0s - loss: 0.4474 - AUC: 0.8900 - accuracy: 0.8000 - val_loss: 0.5655 - val_AUC: 0.7711 - val_accuracy: 0.6667 - 63ms/epoch - 21ms/step\n",
            "Epoch 324/1000\n",
            "3/3 - 0s - loss: 0.3785 - AUC: 0.9460 - accuracy: 0.9143 - val_loss: 0.5662 - val_AUC: 0.7733 - val_accuracy: 0.6667 - 60ms/epoch - 20ms/step\n",
            "Epoch 325/1000\n",
            "3/3 - 0s - loss: 0.3950 - AUC: 0.9257 - accuracy: 0.8857 - val_loss: 0.5659 - val_AUC: 0.7733 - val_accuracy: 0.6667 - 48ms/epoch - 16ms/step\n",
            "Epoch 326/1000\n",
            "3/3 - 0s - loss: 0.4043 - AUC: 0.9179 - accuracy: 0.8643 - val_loss: 0.5663 - val_AUC: 0.7733 - val_accuracy: 0.6667 - 64ms/epoch - 21ms/step\n",
            "Epoch 327/1000\n",
            "3/3 - 0s - loss: 0.3868 - AUC: 0.9310 - accuracy: 0.8571 - val_loss: 0.5671 - val_AUC: 0.7756 - val_accuracy: 0.6667 - 61ms/epoch - 20ms/step\n",
            "Epoch 328/1000\n",
            "3/3 - 0s - loss: 0.4203 - AUC: 0.9114 - accuracy: 0.8786 - val_loss: 0.5674 - val_AUC: 0.7778 - val_accuracy: 0.6333 - 51ms/epoch - 17ms/step\n",
            "Epoch 329/1000\n",
            "3/3 - 0s - loss: 0.3798 - AUC: 0.9479 - accuracy: 0.8929 - val_loss: 0.5676 - val_AUC: 0.7800 - val_accuracy: 0.6667 - 48ms/epoch - 16ms/step\n",
            "Epoch 330/1000\n",
            "3/3 - 0s - loss: 0.4047 - AUC: 0.9187 - accuracy: 0.8643 - val_loss: 0.5673 - val_AUC: 0.7844 - val_accuracy: 0.6667 - 50ms/epoch - 17ms/step\n",
            "Epoch 331/1000\n",
            "3/3 - 0s - loss: 0.4152 - AUC: 0.9132 - accuracy: 0.8429 - val_loss: 0.5662 - val_AUC: 0.7778 - val_accuracy: 0.6667 - 64ms/epoch - 21ms/step\n",
            "Epoch 332/1000\n",
            "3/3 - 0s - loss: 0.3901 - AUC: 0.9329 - accuracy: 0.8571 - val_loss: 0.5647 - val_AUC: 0.7778 - val_accuracy: 0.6333 - 70ms/epoch - 23ms/step\n",
            "Epoch 333/1000\n",
            "3/3 - 0s - loss: 0.3951 - AUC: 0.9165 - accuracy: 0.8643 - val_loss: 0.5626 - val_AUC: 0.7800 - val_accuracy: 0.6667 - 48ms/epoch - 16ms/step\n",
            "Epoch 334/1000\n",
            "3/3 - 0s - loss: 0.3898 - AUC: 0.9276 - accuracy: 0.8643 - val_loss: 0.5617 - val_AUC: 0.7778 - val_accuracy: 0.6667 - 51ms/epoch - 17ms/step\n",
            "Epoch 335/1000\n",
            "3/3 - 0s - loss: 0.4060 - AUC: 0.9242 - accuracy: 0.8429 - val_loss: 0.5622 - val_AUC: 0.7778 - val_accuracy: 0.6667 - 59ms/epoch - 20ms/step\n",
            "Epoch 336/1000\n",
            "3/3 - 0s - loss: 0.3718 - AUC: 0.9480 - accuracy: 0.9214 - val_loss: 0.5620 - val_AUC: 0.7778 - val_accuracy: 0.6667 - 85ms/epoch - 28ms/step\n",
            "Epoch 337/1000\n",
            "3/3 - 0s - loss: 0.3930 - AUC: 0.9238 - accuracy: 0.8500 - val_loss: 0.5620 - val_AUC: 0.7778 - val_accuracy: 0.6667 - 68ms/epoch - 23ms/step\n",
            "Epoch 338/1000\n",
            "3/3 - 0s - loss: 0.3554 - AUC: 0.9551 - accuracy: 0.8929 - val_loss: 0.5612 - val_AUC: 0.7778 - val_accuracy: 0.6667 - 49ms/epoch - 16ms/step\n",
            "Epoch 339/1000\n",
            "3/3 - 0s - loss: 0.4512 - AUC: 0.8687 - accuracy: 0.8071 - val_loss: 0.5603 - val_AUC: 0.7844 - val_accuracy: 0.6667 - 62ms/epoch - 21ms/step\n",
            "Epoch 340/1000\n",
            "3/3 - 0s - loss: 0.4206 - AUC: 0.8976 - accuracy: 0.8643 - val_loss: 0.5601 - val_AUC: 0.7822 - val_accuracy: 0.6667 - 73ms/epoch - 24ms/step\n",
            "Epoch 341/1000\n",
            "3/3 - 0s - loss: 0.4150 - AUC: 0.9026 - accuracy: 0.8500 - val_loss: 0.5602 - val_AUC: 0.7911 - val_accuracy: 0.6667 - 63ms/epoch - 21ms/step\n",
            "Epoch 342/1000\n",
            "3/3 - 0s - loss: 0.4137 - AUC: 0.9121 - accuracy: 0.8571 - val_loss: 0.5609 - val_AUC: 0.7911 - val_accuracy: 0.6667 - 49ms/epoch - 16ms/step\n",
            "Epoch 343/1000\n",
            "3/3 - 0s - loss: 0.3719 - AUC: 0.9394 - accuracy: 0.8857 - val_loss: 0.5623 - val_AUC: 0.7911 - val_accuracy: 0.6667 - 46ms/epoch - 15ms/step\n",
            "Epoch 344/1000\n",
            "3/3 - 0s - loss: 0.3880 - AUC: 0.9309 - accuracy: 0.8571 - val_loss: 0.5640 - val_AUC: 0.7867 - val_accuracy: 0.6667 - 62ms/epoch - 21ms/step\n",
            "Epoch 345/1000\n",
            "3/3 - 0s - loss: 0.4007 - AUC: 0.9151 - accuracy: 0.8571 - val_loss: 0.5656 - val_AUC: 0.7844 - val_accuracy: 0.6333 - 47ms/epoch - 16ms/step\n",
            "Epoch 346/1000\n",
            "3/3 - 0s - loss: 0.3967 - AUC: 0.9269 - accuracy: 0.8714 - val_loss: 0.5662 - val_AUC: 0.7844 - val_accuracy: 0.6333 - 55ms/epoch - 18ms/step\n",
            "Epoch 347/1000\n",
            "3/3 - 0s - loss: 0.4046 - AUC: 0.9128 - accuracy: 0.8500 - val_loss: 0.5663 - val_AUC: 0.7867 - val_accuracy: 0.6667 - 65ms/epoch - 22ms/step\n",
            "Epoch 348/1000\n",
            "3/3 - 0s - loss: 0.3976 - AUC: 0.9180 - accuracy: 0.8643 - val_loss: 0.5664 - val_AUC: 0.7911 - val_accuracy: 0.6667 - 59ms/epoch - 20ms/step\n",
            "Epoch 349/1000\n",
            "3/3 - 0s - loss: 0.3954 - AUC: 0.9329 - accuracy: 0.8857 - val_loss: 0.5674 - val_AUC: 0.7844 - val_accuracy: 0.6667 - 49ms/epoch - 16ms/step\n",
            "Epoch 350/1000\n",
            "3/3 - 0s - loss: 0.4222 - AUC: 0.8992 - accuracy: 0.8214 - val_loss: 0.5679 - val_AUC: 0.7844 - val_accuracy: 0.6667 - 58ms/epoch - 19ms/step\n",
            "Epoch 351/1000\n",
            "3/3 - 0s - loss: 0.4060 - AUC: 0.9216 - accuracy: 0.8571 - val_loss: 0.5670 - val_AUC: 0.7800 - val_accuracy: 0.6667 - 74ms/epoch - 25ms/step\n",
            "Epoch 352/1000\n",
            "3/3 - 0s - loss: 0.3828 - AUC: 0.9184 - accuracy: 0.8714 - val_loss: 0.5660 - val_AUC: 0.7844 - val_accuracy: 0.6667 - 70ms/epoch - 23ms/step\n",
            "Epoch 353/1000\n",
            "3/3 - 0s - loss: 0.3817 - AUC: 0.9368 - accuracy: 0.8643 - val_loss: 0.5649 - val_AUC: 0.7933 - val_accuracy: 0.6667 - 61ms/epoch - 20ms/step\n",
            "Epoch 354/1000\n",
            "3/3 - 0s - loss: 0.4075 - AUC: 0.9063 - accuracy: 0.8143 - val_loss: 0.5645 - val_AUC: 0.7956 - val_accuracy: 0.6667 - 45ms/epoch - 15ms/step\n",
            "Epoch 355/1000\n",
            "3/3 - 0s - loss: 0.3945 - AUC: 0.9327 - accuracy: 0.8929 - val_loss: 0.5638 - val_AUC: 0.8000 - val_accuracy: 0.6667 - 46ms/epoch - 15ms/step\n",
            "Epoch 356/1000\n",
            "3/3 - 0s - loss: 0.4076 - AUC: 0.9090 - accuracy: 0.8643 - val_loss: 0.5625 - val_AUC: 0.8000 - val_accuracy: 0.7000 - 48ms/epoch - 16ms/step\n",
            "Epoch 357/1000\n",
            "3/3 - 0s - loss: 0.3737 - AUC: 0.9355 - accuracy: 0.8929 - val_loss: 0.5618 - val_AUC: 0.8000 - val_accuracy: 0.7000 - 45ms/epoch - 15ms/step\n",
            "Epoch 358/1000\n",
            "3/3 - 0s - loss: 0.3744 - AUC: 0.9383 - accuracy: 0.8857 - val_loss: 0.5615 - val_AUC: 0.8000 - val_accuracy: 0.7000 - 61ms/epoch - 20ms/step\n",
            "Epoch 359/1000\n",
            "3/3 - 0s - loss: 0.3795 - AUC: 0.9333 - accuracy: 0.8857 - val_loss: 0.5618 - val_AUC: 0.8000 - val_accuracy: 0.7000 - 60ms/epoch - 20ms/step\n",
            "Epoch 360/1000\n",
            "3/3 - 0s - loss: 0.3989 - AUC: 0.9138 - accuracy: 0.8214 - val_loss: 0.5619 - val_AUC: 0.8000 - val_accuracy: 0.6667 - 48ms/epoch - 16ms/step\n",
            "Epoch 361/1000\n",
            "3/3 - 0s - loss: 0.3861 - AUC: 0.9140 - accuracy: 0.8643 - val_loss: 0.5602 - val_AUC: 0.7978 - val_accuracy: 0.6667 - 48ms/epoch - 16ms/step\n",
            "Epoch 362/1000\n",
            "3/3 - 0s - loss: 0.3701 - AUC: 0.9324 - accuracy: 0.9143 - val_loss: 0.5601 - val_AUC: 0.8000 - val_accuracy: 0.6667 - 65ms/epoch - 22ms/step\n",
            "Epoch 363/1000\n",
            "3/3 - 0s - loss: 0.3623 - AUC: 0.9513 - accuracy: 0.8786 - val_loss: 0.5618 - val_AUC: 0.8022 - val_accuracy: 0.6667 - 49ms/epoch - 16ms/step\n",
            "Epoch 364/1000\n",
            "3/3 - 0s - loss: 0.3645 - AUC: 0.9423 - accuracy: 0.8857 - val_loss: 0.5626 - val_AUC: 0.8000 - val_accuracy: 0.6667 - 46ms/epoch - 15ms/step\n",
            "Epoch 365/1000\n",
            "3/3 - 0s - loss: 0.3594 - AUC: 0.9414 - accuracy: 0.8714 - val_loss: 0.5606 - val_AUC: 0.8000 - val_accuracy: 0.6667 - 73ms/epoch - 24ms/step\n",
            "Epoch 366/1000\n",
            "3/3 - 0s - loss: 0.3443 - AUC: 0.9488 - accuracy: 0.8786 - val_loss: 0.5598 - val_AUC: 0.7956 - val_accuracy: 0.6667 - 62ms/epoch - 21ms/step\n",
            "Epoch 367/1000\n",
            "3/3 - 0s - loss: 0.3870 - AUC: 0.9183 - accuracy: 0.8714 - val_loss: 0.5600 - val_AUC: 0.7933 - val_accuracy: 0.6667 - 75ms/epoch - 25ms/step\n",
            "Epoch 368/1000\n",
            "3/3 - 0s - loss: 0.3830 - AUC: 0.9299 - accuracy: 0.8857 - val_loss: 0.5602 - val_AUC: 0.7933 - val_accuracy: 0.6667 - 55ms/epoch - 18ms/step\n",
            "Epoch 369/1000\n",
            "3/3 - 0s - loss: 0.3460 - AUC: 0.9409 - accuracy: 0.8857 - val_loss: 0.5601 - val_AUC: 0.7933 - val_accuracy: 0.6667 - 49ms/epoch - 16ms/step\n",
            "Epoch 370/1000\n",
            "3/3 - 0s - loss: 0.3801 - AUC: 0.9290 - accuracy: 0.8571 - val_loss: 0.5614 - val_AUC: 0.7956 - val_accuracy: 0.6667 - 50ms/epoch - 17ms/step\n",
            "Epoch 371/1000\n",
            "3/3 - 0s - loss: 0.3837 - AUC: 0.9262 - accuracy: 0.8643 - val_loss: 0.5617 - val_AUC: 0.7956 - val_accuracy: 0.6667 - 50ms/epoch - 17ms/step\n",
            "Epoch 372/1000\n",
            "3/3 - 0s - loss: 0.3191 - AUC: 0.9698 - accuracy: 0.9143 - val_loss: 0.5615 - val_AUC: 0.7956 - val_accuracy: 0.6667 - 61ms/epoch - 20ms/step\n",
            "Epoch 373/1000\n",
            "3/3 - 0s - loss: 0.3449 - AUC: 0.9423 - accuracy: 0.9071 - val_loss: 0.5610 - val_AUC: 0.7956 - val_accuracy: 0.6667 - 68ms/epoch - 23ms/step\n",
            "Epoch 374/1000\n",
            "3/3 - 0s - loss: 0.3908 - AUC: 0.9068 - accuracy: 0.8286 - val_loss: 0.5608 - val_AUC: 0.7956 - val_accuracy: 0.6667 - 60ms/epoch - 20ms/step\n",
            "Epoch 375/1000\n",
            "3/3 - 0s - loss: 0.3924 - AUC: 0.9137 - accuracy: 0.8429 - val_loss: 0.5591 - val_AUC: 0.7956 - val_accuracy: 0.6667 - 45ms/epoch - 15ms/step\n",
            "Epoch 376/1000\n",
            "3/3 - 0s - loss: 0.3570 - AUC: 0.9353 - accuracy: 0.8857 - val_loss: 0.5586 - val_AUC: 0.7956 - val_accuracy: 0.6667 - 48ms/epoch - 16ms/step\n",
            "Epoch 377/1000\n",
            "3/3 - 0s - loss: 0.3593 - AUC: 0.9494 - accuracy: 0.8929 - val_loss: 0.5585 - val_AUC: 0.8000 - val_accuracy: 0.6667 - 51ms/epoch - 17ms/step\n",
            "Epoch 378/1000\n",
            "3/3 - 0s - loss: 0.3727 - AUC: 0.9328 - accuracy: 0.8857 - val_loss: 0.5593 - val_AUC: 0.8000 - val_accuracy: 0.6667 - 47ms/epoch - 16ms/step\n",
            "Epoch 379/1000\n",
            "3/3 - 0s - loss: 0.3645 - AUC: 0.9464 - accuracy: 0.8643 - val_loss: 0.5606 - val_AUC: 0.7978 - val_accuracy: 0.6667 - 48ms/epoch - 16ms/step\n",
            "Epoch 380/1000\n",
            "3/3 - 0s - loss: 0.3428 - AUC: 0.9634 - accuracy: 0.8929 - val_loss: 0.5621 - val_AUC: 0.7956 - val_accuracy: 0.6667 - 52ms/epoch - 17ms/step\n",
            "Epoch 381/1000\n",
            "3/3 - 0s - loss: 0.3687 - AUC: 0.9430 - accuracy: 0.8786 - val_loss: 0.5638 - val_AUC: 0.7956 - val_accuracy: 0.6667 - 62ms/epoch - 21ms/step\n",
            "Epoch 382/1000\n",
            "3/3 - 0s - loss: 0.3799 - AUC: 0.9268 - accuracy: 0.8214 - val_loss: 0.5647 - val_AUC: 0.7956 - val_accuracy: 0.6667 - 66ms/epoch - 22ms/step\n",
            "Epoch 383/1000\n",
            "3/3 - 0s - loss: 0.3627 - AUC: 0.9379 - accuracy: 0.8929 - val_loss: 0.5662 - val_AUC: 0.7933 - val_accuracy: 0.6667 - 80ms/epoch - 27ms/step\n",
            "Epoch 384/1000\n",
            "3/3 - 0s - loss: 0.3165 - AUC: 0.9583 - accuracy: 0.9214 - val_loss: 0.5669 - val_AUC: 0.7911 - val_accuracy: 0.6667 - 66ms/epoch - 22ms/step\n",
            "Epoch 385/1000\n",
            "3/3 - 0s - loss: 0.3949 - AUC: 0.9209 - accuracy: 0.8714 - val_loss: 0.5674 - val_AUC: 0.7933 - val_accuracy: 0.6667 - 49ms/epoch - 16ms/step\n",
            "Epoch 386/1000\n",
            "3/3 - 0s - loss: 0.3637 - AUC: 0.9451 - accuracy: 0.9143 - val_loss: 0.5689 - val_AUC: 0.7956 - val_accuracy: 0.6667 - 64ms/epoch - 21ms/step\n",
            "Epoch 387/1000\n",
            "3/3 - 0s - loss: 0.3490 - AUC: 0.9457 - accuracy: 0.9000 - val_loss: 0.5696 - val_AUC: 0.7956 - val_accuracy: 0.6667 - 46ms/epoch - 15ms/step\n",
            "Epoch 388/1000\n",
            "3/3 - 0s - loss: 0.3520 - AUC: 0.9382 - accuracy: 0.9000 - val_loss: 0.5698 - val_AUC: 0.7956 - val_accuracy: 0.6667 - 53ms/epoch - 18ms/step\n",
            "Epoch 389/1000\n",
            "3/3 - 0s - loss: 0.3289 - AUC: 0.9484 - accuracy: 0.9000 - val_loss: 0.5679 - val_AUC: 0.7956 - val_accuracy: 0.6667 - 61ms/epoch - 20ms/step\n",
            "Epoch 390/1000\n",
            "3/3 - 0s - loss: 0.3443 - AUC: 0.9476 - accuracy: 0.8929 - val_loss: 0.5655 - val_AUC: 0.7978 - val_accuracy: 0.6667 - 48ms/epoch - 16ms/step\n",
            "Epoch 391/1000\n",
            "3/3 - 0s - loss: 0.3314 - AUC: 0.9590 - accuracy: 0.9143 - val_loss: 0.5628 - val_AUC: 0.8000 - val_accuracy: 0.6667 - 48ms/epoch - 16ms/step\n",
            "Epoch 392/1000\n",
            "3/3 - 0s - loss: 0.3216 - AUC: 0.9711 - accuracy: 0.9071 - val_loss: 0.5625 - val_AUC: 0.8000 - val_accuracy: 0.6667 - 61ms/epoch - 20ms/step\n",
            "Epoch 393/1000\n",
            "3/3 - 0s - loss: 0.3249 - AUC: 0.9613 - accuracy: 0.8929 - val_loss: 0.5624 - val_AUC: 0.8000 - val_accuracy: 0.6667 - 64ms/epoch - 21ms/step\n",
            "Epoch 394/1000\n",
            "3/3 - 0s - loss: 0.3363 - AUC: 0.9483 - accuracy: 0.9143 - val_loss: 0.5624 - val_AUC: 0.8000 - val_accuracy: 0.6667 - 61ms/epoch - 20ms/step\n",
            "Epoch 395/1000\n",
            "3/3 - 0s - loss: 0.3465 - AUC: 0.9452 - accuracy: 0.9000 - val_loss: 0.5621 - val_AUC: 0.7978 - val_accuracy: 0.6667 - 48ms/epoch - 16ms/step\n",
            "Epoch 396/1000\n",
            "3/3 - 0s - loss: 0.3520 - AUC: 0.9433 - accuracy: 0.8571 - val_loss: 0.5619 - val_AUC: 0.8000 - val_accuracy: 0.6667 - 50ms/epoch - 17ms/step\n",
            "Epoch 397/1000\n",
            "3/3 - 0s - loss: 0.3564 - AUC: 0.9320 - accuracy: 0.8786 - val_loss: 0.5594 - val_AUC: 0.8000 - val_accuracy: 0.6667 - 100ms/epoch - 33ms/step\n",
            "Epoch 398/1000\n",
            "3/3 - 0s - loss: 0.3774 - AUC: 0.9253 - accuracy: 0.8786 - val_loss: 0.5573 - val_AUC: 0.8000 - val_accuracy: 0.6667 - 70ms/epoch - 23ms/step\n",
            "Epoch 399/1000\n",
            "3/3 - 0s - loss: 0.3196 - AUC: 0.9535 - accuracy: 0.9071 - val_loss: 0.5559 - val_AUC: 0.7956 - val_accuracy: 0.6667 - 76ms/epoch - 25ms/step\n",
            "Epoch 400/1000\n",
            "3/3 - 0s - loss: 0.3392 - AUC: 0.9442 - accuracy: 0.8786 - val_loss: 0.5553 - val_AUC: 0.7978 - val_accuracy: 0.6667 - 47ms/epoch - 16ms/step\n",
            "Epoch 401/1000\n",
            "3/3 - 0s - loss: 0.4140 - AUC: 0.9000 - accuracy: 0.8214 - val_loss: 0.5567 - val_AUC: 0.7978 - val_accuracy: 0.6667 - 63ms/epoch - 21ms/step\n",
            "Epoch 402/1000\n",
            "3/3 - 0s - loss: 0.4023 - AUC: 0.9132 - accuracy: 0.8357 - val_loss: 0.5582 - val_AUC: 0.7956 - val_accuracy: 0.6667 - 47ms/epoch - 16ms/step\n",
            "Epoch 403/1000\n",
            "3/3 - 0s - loss: 0.3796 - AUC: 0.9285 - accuracy: 0.9000 - val_loss: 0.5600 - val_AUC: 0.8022 - val_accuracy: 0.6667 - 65ms/epoch - 22ms/step\n",
            "Epoch 404/1000\n",
            "3/3 - 0s - loss: 0.3582 - AUC: 0.9354 - accuracy: 0.9000 - val_loss: 0.5626 - val_AUC: 0.8022 - val_accuracy: 0.6667 - 47ms/epoch - 16ms/step\n",
            "Epoch 405/1000\n",
            "3/3 - 0s - loss: 0.3460 - AUC: 0.9494 - accuracy: 0.8929 - val_loss: 0.5645 - val_AUC: 0.8022 - val_accuracy: 0.6667 - 54ms/epoch - 18ms/step\n",
            "Epoch 406/1000\n",
            "3/3 - 0s - loss: 0.3586 - AUC: 0.9473 - accuracy: 0.8643 - val_loss: 0.5647 - val_AUC: 0.7978 - val_accuracy: 0.6667 - 62ms/epoch - 21ms/step\n",
            "Epoch 407/1000\n",
            "3/3 - 0s - loss: 0.3385 - AUC: 0.9530 - accuracy: 0.8643 - val_loss: 0.5662 - val_AUC: 0.7956 - val_accuracy: 0.6667 - 47ms/epoch - 16ms/step\n",
            "Epoch 408/1000\n",
            "3/3 - 0s - loss: 0.3359 - AUC: 0.9466 - accuracy: 0.8786 - val_loss: 0.5667 - val_AUC: 0.7933 - val_accuracy: 0.6667 - 47ms/epoch - 16ms/step\n",
            "Epoch 409/1000\n",
            "3/3 - 0s - loss: 0.3770 - AUC: 0.9190 - accuracy: 0.8929 - val_loss: 0.5669 - val_AUC: 0.7933 - val_accuracy: 0.6667 - 50ms/epoch - 17ms/step\n",
            "Epoch 410/1000\n",
            "3/3 - 0s - loss: 0.3311 - AUC: 0.9582 - accuracy: 0.8786 - val_loss: 0.5667 - val_AUC: 0.7933 - val_accuracy: 0.6667 - 48ms/epoch - 16ms/step\n",
            "Epoch 411/1000\n",
            "3/3 - 0s - loss: 0.3403 - AUC: 0.9432 - accuracy: 0.8786 - val_loss: 0.5666 - val_AUC: 0.8022 - val_accuracy: 0.6667 - 64ms/epoch - 21ms/step\n",
            "Epoch 412/1000\n",
            "3/3 - 0s - loss: 0.3198 - AUC: 0.9414 - accuracy: 0.9143 - val_loss: 0.5662 - val_AUC: 0.8000 - val_accuracy: 0.6667 - 50ms/epoch - 17ms/step\n",
            "Epoch 413/1000\n",
            "3/3 - 0s - loss: 0.3681 - AUC: 0.9271 - accuracy: 0.8714 - val_loss: 0.5652 - val_AUC: 0.8022 - val_accuracy: 0.6667 - 70ms/epoch - 23ms/step\n",
            "Epoch 414/1000\n",
            "3/3 - 0s - loss: 0.3321 - AUC: 0.9463 - accuracy: 0.9071 - val_loss: 0.5648 - val_AUC: 0.8067 - val_accuracy: 0.6667 - 87ms/epoch - 29ms/step\n",
            "Epoch 415/1000\n",
            "3/3 - 0s - loss: 0.3523 - AUC: 0.9458 - accuracy: 0.8786 - val_loss: 0.5659 - val_AUC: 0.8022 - val_accuracy: 0.6667 - 53ms/epoch - 18ms/step\n",
            "Epoch 416/1000\n",
            "3/3 - 0s - loss: 0.3559 - AUC: 0.9345 - accuracy: 0.8786 - val_loss: 0.5651 - val_AUC: 0.8067 - val_accuracy: 0.6667 - 49ms/epoch - 16ms/step\n",
            "Epoch 417/1000\n",
            "3/3 - 0s - loss: 0.3448 - AUC: 0.9471 - accuracy: 0.8786 - val_loss: 0.5647 - val_AUC: 0.8067 - val_accuracy: 0.6667 - 67ms/epoch - 22ms/step\n",
            "Epoch 418/1000\n",
            "3/3 - 0s - loss: 0.3424 - AUC: 0.9427 - accuracy: 0.9071 - val_loss: 0.5656 - val_AUC: 0.8067 - val_accuracy: 0.6667 - 79ms/epoch - 26ms/step\n",
            "Epoch 419/1000\n",
            "3/3 - 0s - loss: 0.3793 - AUC: 0.9497 - accuracy: 0.9000 - val_loss: 0.5662 - val_AUC: 0.8067 - val_accuracy: 0.6667 - 78ms/epoch - 26ms/step\n",
            "Epoch 420/1000\n",
            "3/3 - 0s - loss: 0.3577 - AUC: 0.9316 - accuracy: 0.8714 - val_loss: 0.5691 - val_AUC: 0.8044 - val_accuracy: 0.6667 - 80ms/epoch - 27ms/step\n",
            "Epoch 421/1000\n",
            "3/3 - 0s - loss: 0.3369 - AUC: 0.9328 - accuracy: 0.9143 - val_loss: 0.5715 - val_AUC: 0.8044 - val_accuracy: 0.6667 - 64ms/epoch - 21ms/step\n",
            "Epoch 422/1000\n",
            "3/3 - 0s - loss: 0.3570 - AUC: 0.9296 - accuracy: 0.8357 - val_loss: 0.5702 - val_AUC: 0.8044 - val_accuracy: 0.7000 - 78ms/epoch - 26ms/step\n",
            "Epoch 423/1000\n",
            "3/3 - 0s - loss: 0.3663 - AUC: 0.9267 - accuracy: 0.8571 - val_loss: 0.5691 - val_AUC: 0.8089 - val_accuracy: 0.7000 - 78ms/epoch - 26ms/step\n",
            "Epoch 424/1000\n",
            "3/3 - 0s - loss: 0.3045 - AUC: 0.9684 - accuracy: 0.9286 - val_loss: 0.5690 - val_AUC: 0.8089 - val_accuracy: 0.7000 - 77ms/epoch - 26ms/step\n",
            "Epoch 425/1000\n",
            "3/3 - 0s - loss: 0.3207 - AUC: 0.9623 - accuracy: 0.8857 - val_loss: 0.5665 - val_AUC: 0.8044 - val_accuracy: 0.6667 - 81ms/epoch - 27ms/step\n",
            "Epoch 426/1000\n",
            "3/3 - 0s - loss: 0.3265 - AUC: 0.9582 - accuracy: 0.9357 - val_loss: 0.5655 - val_AUC: 0.8000 - val_accuracy: 0.6667 - 95ms/epoch - 32ms/step\n",
            "Epoch 427/1000\n",
            "3/3 - 0s - loss: 0.3545 - AUC: 0.9357 - accuracy: 0.8929 - val_loss: 0.5649 - val_AUC: 0.8000 - val_accuracy: 0.6667 - 100ms/epoch - 33ms/step\n",
            "Epoch 428/1000\n",
            "3/3 - 0s - loss: 0.3444 - AUC: 0.9437 - accuracy: 0.8500 - val_loss: 0.5659 - val_AUC: 0.8044 - val_accuracy: 0.6667 - 64ms/epoch - 21ms/step\n",
            "Epoch 429/1000\n",
            "3/3 - 0s - loss: 0.3183 - AUC: 0.9484 - accuracy: 0.9143 - val_loss: 0.5671 - val_AUC: 0.8022 - val_accuracy: 0.6667 - 64ms/epoch - 21ms/step\n",
            "Epoch 430/1000\n",
            "3/3 - 0s - loss: 0.3041 - AUC: 0.9598 - accuracy: 0.9000 - val_loss: 0.5696 - val_AUC: 0.8044 - val_accuracy: 0.6667 - 66ms/epoch - 22ms/step\n",
            "Epoch 431/1000\n",
            "3/3 - 0s - loss: 0.3323 - AUC: 0.9416 - accuracy: 0.8643 - val_loss: 0.5700 - val_AUC: 0.8044 - val_accuracy: 0.6667 - 63ms/epoch - 21ms/step\n",
            "Epoch 432/1000\n",
            "3/3 - 0s - loss: 0.3258 - AUC: 0.9449 - accuracy: 0.8929 - val_loss: 0.5703 - val_AUC: 0.8044 - val_accuracy: 0.6667 - 73ms/epoch - 24ms/step\n",
            "Epoch 433/1000\n",
            "3/3 - 0s - loss: 0.3223 - AUC: 0.9451 - accuracy: 0.8857 - val_loss: 0.5695 - val_AUC: 0.8044 - val_accuracy: 0.6667 - 74ms/epoch - 25ms/step\n",
            "Epoch 434/1000\n",
            "3/3 - 0s - loss: 0.3161 - AUC: 0.9581 - accuracy: 0.8857 - val_loss: 0.5702 - val_AUC: 0.8044 - val_accuracy: 0.6667 - 82ms/epoch - 27ms/step\n",
            "Epoch 435/1000\n",
            "3/3 - 0s - loss: 0.3514 - AUC: 0.9230 - accuracy: 0.8786 - val_loss: 0.5704 - val_AUC: 0.8067 - val_accuracy: 0.6667 - 67ms/epoch - 22ms/step\n",
            "Epoch 436/1000\n",
            "3/3 - 0s - loss: 0.3839 - AUC: 0.9081 - accuracy: 0.8500 - val_loss: 0.5681 - val_AUC: 0.8067 - val_accuracy: 0.6667 - 81ms/epoch - 27ms/step\n",
            "Epoch 437/1000\n",
            "3/3 - 0s - loss: 0.3373 - AUC: 0.9362 - accuracy: 0.8786 - val_loss: 0.5667 - val_AUC: 0.8044 - val_accuracy: 0.6667 - 83ms/epoch - 28ms/step\n",
            "Epoch 438/1000\n",
            "3/3 - 0s - loss: 0.3341 - AUC: 0.9401 - accuracy: 0.8786 - val_loss: 0.5659 - val_AUC: 0.8022 - val_accuracy: 0.6667 - 94ms/epoch - 31ms/step\n",
            "Epoch 439/1000\n",
            "3/3 - 0s - loss: 0.3322 - AUC: 0.9488 - accuracy: 0.8857 - val_loss: 0.5659 - val_AUC: 0.8000 - val_accuracy: 0.6667 - 96ms/epoch - 32ms/step\n",
            "Epoch 440/1000\n",
            "3/3 - 0s - loss: 0.3080 - AUC: 0.9604 - accuracy: 0.8786 - val_loss: 0.5665 - val_AUC: 0.7911 - val_accuracy: 0.6667 - 90ms/epoch - 30ms/step\n",
            "Epoch 441/1000\n",
            "3/3 - 0s - loss: 0.3706 - AUC: 0.9312 - accuracy: 0.8857 - val_loss: 0.5681 - val_AUC: 0.7889 - val_accuracy: 0.6667 - 78ms/epoch - 26ms/step\n",
            "Epoch 442/1000\n",
            "3/3 - 0s - loss: 0.3127 - AUC: 0.9600 - accuracy: 0.8857 - val_loss: 0.5707 - val_AUC: 0.7933 - val_accuracy: 0.6667 - 95ms/epoch - 32ms/step\n",
            "Epoch 443/1000\n",
            "3/3 - 0s - loss: 0.3216 - AUC: 0.9523 - accuracy: 0.8571 - val_loss: 0.5733 - val_AUC: 0.7889 - val_accuracy: 0.6667 - 75ms/epoch - 25ms/step\n",
            "Epoch 444/1000\n",
            "3/3 - 0s - loss: 0.3304 - AUC: 0.9381 - accuracy: 0.9071 - val_loss: 0.5750 - val_AUC: 0.7867 - val_accuracy: 0.6667 - 75ms/epoch - 25ms/step\n",
            "Epoch 445/1000\n",
            "3/3 - 0s - loss: 0.3615 - AUC: 0.9292 - accuracy: 0.8571 - val_loss: 0.5743 - val_AUC: 0.7867 - val_accuracy: 0.6667 - 67ms/epoch - 22ms/step\n",
            "Epoch 446/1000\n",
            "3/3 - 0s - loss: 0.3266 - AUC: 0.9427 - accuracy: 0.8857 - val_loss: 0.5743 - val_AUC: 0.7867 - val_accuracy: 0.6667 - 63ms/epoch - 21ms/step\n",
            "Epoch 447/1000\n",
            "3/3 - 0s - loss: 0.3140 - AUC: 0.9543 - accuracy: 0.8929 - val_loss: 0.5738 - val_AUC: 0.7867 - val_accuracy: 0.6667 - 75ms/epoch - 25ms/step\n",
            "Epoch 448/1000\n",
            "3/3 - 0s - loss: 0.3389 - AUC: 0.9350 - accuracy: 0.8929 - val_loss: 0.5749 - val_AUC: 0.7867 - val_accuracy: 0.6667 - 69ms/epoch - 23ms/step\n",
            "Epoch 449/1000\n",
            "3/3 - 0s - loss: 0.3246 - AUC: 0.9443 - accuracy: 0.9000 - val_loss: 0.5767 - val_AUC: 0.7911 - val_accuracy: 0.6333 - 81ms/epoch - 27ms/step\n",
            "Epoch 450/1000\n",
            "3/3 - 0s - loss: 0.2955 - AUC: 0.9520 - accuracy: 0.9143 - val_loss: 0.5774 - val_AUC: 0.8022 - val_accuracy: 0.6333 - 78ms/epoch - 26ms/step\n",
            "Epoch 451/1000\n",
            "3/3 - 0s - loss: 0.3465 - AUC: 0.9406 - accuracy: 0.8857 - val_loss: 0.5775 - val_AUC: 0.8133 - val_accuracy: 0.6333 - 85ms/epoch - 28ms/step\n",
            "Epoch 452/1000\n",
            "3/3 - 0s - loss: 0.3402 - AUC: 0.9410 - accuracy: 0.8929 - val_loss: 0.5768 - val_AUC: 0.8133 - val_accuracy: 0.6333 - 87ms/epoch - 29ms/step\n",
            "Epoch 453/1000\n",
            "3/3 - 0s - loss: 0.3227 - AUC: 0.9492 - accuracy: 0.9000 - val_loss: 0.5755 - val_AUC: 0.8133 - val_accuracy: 0.6333 - 80ms/epoch - 27ms/step\n",
            "Epoch 454/1000\n",
            "3/3 - 0s - loss: 0.3107 - AUC: 0.9487 - accuracy: 0.9000 - val_loss: 0.5733 - val_AUC: 0.8133 - val_accuracy: 0.6667 - 75ms/epoch - 25ms/step\n",
            "Epoch 455/1000\n",
            "3/3 - 0s - loss: 0.3342 - AUC: 0.9528 - accuracy: 0.8929 - val_loss: 0.5717 - val_AUC: 0.8111 - val_accuracy: 0.6667 - 66ms/epoch - 22ms/step\n",
            "Epoch 456/1000\n",
            "3/3 - 0s - loss: 0.3046 - AUC: 0.9593 - accuracy: 0.8786 - val_loss: 0.5712 - val_AUC: 0.8067 - val_accuracy: 0.6667 - 83ms/epoch - 28ms/step\n",
            "Epoch 457/1000\n",
            "3/3 - 0s - loss: 0.3201 - AUC: 0.9478 - accuracy: 0.9000 - val_loss: 0.5716 - val_AUC: 0.8044 - val_accuracy: 0.6667 - 84ms/epoch - 28ms/step\n",
            "Epoch 458/1000\n",
            "3/3 - 0s - loss: 0.3446 - AUC: 0.9440 - accuracy: 0.9071 - val_loss: 0.5725 - val_AUC: 0.8022 - val_accuracy: 0.6667 - 76ms/epoch - 25ms/step\n",
            "Epoch 459/1000\n",
            "3/3 - 0s - loss: 0.3144 - AUC: 0.9600 - accuracy: 0.9000 - val_loss: 0.5713 - val_AUC: 0.8000 - val_accuracy: 0.6667 - 88ms/epoch - 29ms/step\n",
            "Epoch 460/1000\n",
            "3/3 - 0s - loss: 0.3283 - AUC: 0.9450 - accuracy: 0.8786 - val_loss: 0.5707 - val_AUC: 0.8000 - val_accuracy: 0.6667 - 94ms/epoch - 31ms/step\n",
            "Epoch 461/1000\n",
            "3/3 - 0s - loss: 0.3365 - AUC: 0.9377 - accuracy: 0.8929 - val_loss: 0.5713 - val_AUC: 0.7956 - val_accuracy: 0.6667 - 91ms/epoch - 30ms/step\n",
            "Epoch 462/1000\n",
            "3/3 - 0s - loss: 0.3183 - AUC: 0.9430 - accuracy: 0.9071 - val_loss: 0.5718 - val_AUC: 0.7933 - val_accuracy: 0.6667 - 94ms/epoch - 31ms/step\n",
            "Epoch 463/1000\n",
            "3/3 - 0s - loss: 0.3251 - AUC: 0.9441 - accuracy: 0.8786 - val_loss: 0.5728 - val_AUC: 0.7978 - val_accuracy: 0.6667 - 86ms/epoch - 29ms/step\n",
            "Epoch 464/1000\n",
            "3/3 - 0s - loss: 0.3028 - AUC: 0.9576 - accuracy: 0.9143 - val_loss: 0.5740 - val_AUC: 0.7978 - val_accuracy: 0.6667 - 81ms/epoch - 27ms/step\n",
            "Epoch 465/1000\n",
            "3/3 - 0s - loss: 0.3018 - AUC: 0.9572 - accuracy: 0.8929 - val_loss: 0.5761 - val_AUC: 0.7978 - val_accuracy: 0.6667 - 81ms/epoch - 27ms/step\n",
            "Epoch 466/1000\n",
            "3/3 - 0s - loss: 0.3075 - AUC: 0.9588 - accuracy: 0.9071 - val_loss: 0.5776 - val_AUC: 0.8000 - val_accuracy: 0.6667 - 77ms/epoch - 26ms/step\n",
            "Epoch 467/1000\n",
            "3/3 - 0s - loss: 0.3006 - AUC: 0.9579 - accuracy: 0.9071 - val_loss: 0.5783 - val_AUC: 0.7978 - val_accuracy: 0.6667 - 94ms/epoch - 31ms/step\n",
            "Epoch 468/1000\n",
            "3/3 - 0s - loss: 0.3164 - AUC: 0.9488 - accuracy: 0.8786 - val_loss: 0.5802 - val_AUC: 0.8000 - val_accuracy: 0.6667 - 80ms/epoch - 27ms/step\n",
            "Epoch 469/1000\n",
            "3/3 - 0s - loss: 0.2902 - AUC: 0.9558 - accuracy: 0.9143 - val_loss: 0.5785 - val_AUC: 0.8044 - val_accuracy: 0.6667 - 83ms/epoch - 28ms/step\n",
            "Epoch 470/1000\n",
            "3/3 - 0s - loss: 0.3232 - AUC: 0.9428 - accuracy: 0.9000 - val_loss: 0.5754 - val_AUC: 0.8044 - val_accuracy: 0.6667 - 84ms/epoch - 28ms/step\n",
            "Epoch 471/1000\n",
            "3/3 - 0s - loss: 0.3161 - AUC: 0.9393 - accuracy: 0.9286 - val_loss: 0.5727 - val_AUC: 0.8044 - val_accuracy: 0.6667 - 83ms/epoch - 28ms/step\n",
            "Epoch 472/1000\n",
            "3/3 - 0s - loss: 0.3082 - AUC: 0.9477 - accuracy: 0.8786 - val_loss: 0.5700 - val_AUC: 0.8067 - val_accuracy: 0.6667 - 86ms/epoch - 29ms/step\n",
            "Epoch 473/1000\n",
            "3/3 - 0s - loss: 0.2947 - AUC: 0.9572 - accuracy: 0.9071 - val_loss: 0.5690 - val_AUC: 0.8111 - val_accuracy: 0.6667 - 92ms/epoch - 31ms/step\n",
            "Epoch 474/1000\n",
            "3/3 - 0s - loss: 0.3010 - AUC: 0.9588 - accuracy: 0.9286 - val_loss: 0.5699 - val_AUC: 0.8111 - val_accuracy: 0.6667 - 81ms/epoch - 27ms/step\n",
            "Epoch 475/1000\n",
            "3/3 - 0s - loss: 0.3232 - AUC: 0.9481 - accuracy: 0.8857 - val_loss: 0.5707 - val_AUC: 0.8133 - val_accuracy: 0.6667 - 49ms/epoch - 16ms/step\n",
            "Epoch 476/1000\n",
            "3/3 - 0s - loss: 0.3144 - AUC: 0.9500 - accuracy: 0.9214 - val_loss: 0.5696 - val_AUC: 0.8133 - val_accuracy: 0.6667 - 62ms/epoch - 21ms/step\n",
            "Epoch 477/1000\n",
            "3/3 - 0s - loss: 0.2832 - AUC: 0.9627 - accuracy: 0.8929 - val_loss: 0.5686 - val_AUC: 0.8133 - val_accuracy: 0.6667 - 58ms/epoch - 19ms/step\n",
            "Epoch 478/1000\n",
            "3/3 - 0s - loss: 0.3071 - AUC: 0.9550 - accuracy: 0.9143 - val_loss: 0.5687 - val_AUC: 0.8133 - val_accuracy: 0.6667 - 63ms/epoch - 21ms/step\n",
            "Epoch 479/1000\n",
            "3/3 - 0s - loss: 0.3029 - AUC: 0.9506 - accuracy: 0.9143 - val_loss: 0.5707 - val_AUC: 0.8133 - val_accuracy: 0.6667 - 49ms/epoch - 16ms/step\n",
            "Epoch 480/1000\n",
            "3/3 - 0s - loss: 0.3088 - AUC: 0.9544 - accuracy: 0.8929 - val_loss: 0.5734 - val_AUC: 0.8133 - val_accuracy: 0.6667 - 63ms/epoch - 21ms/step\n",
            "Epoch 481/1000\n",
            "3/3 - 0s - loss: 0.3167 - AUC: 0.9459 - accuracy: 0.9143 - val_loss: 0.5740 - val_AUC: 0.8133 - val_accuracy: 0.6667 - 52ms/epoch - 17ms/step\n",
            "Epoch 482/1000\n",
            "3/3 - 0s - loss: 0.2956 - AUC: 0.9561 - accuracy: 0.9143 - val_loss: 0.5737 - val_AUC: 0.8111 - val_accuracy: 0.6667 - 48ms/epoch - 16ms/step\n",
            "Epoch 483/1000\n",
            "3/3 - 0s - loss: 0.2899 - AUC: 0.9651 - accuracy: 0.9000 - val_loss: 0.5739 - val_AUC: 0.8133 - val_accuracy: 0.6667 - 49ms/epoch - 16ms/step\n",
            "Epoch 484/1000\n",
            "3/3 - 0s - loss: 0.2924 - AUC: 0.9568 - accuracy: 0.9071 - val_loss: 0.5760 - val_AUC: 0.8133 - val_accuracy: 0.6667 - 50ms/epoch - 17ms/step\n",
            "Epoch 485/1000\n",
            "3/3 - 0s - loss: 0.2989 - AUC: 0.9556 - accuracy: 0.9000 - val_loss: 0.5798 - val_AUC: 0.8111 - val_accuracy: 0.6667 - 66ms/epoch - 22ms/step\n",
            "Epoch 486/1000\n",
            "3/3 - 0s - loss: 0.3306 - AUC: 0.9416 - accuracy: 0.8571 - val_loss: 0.5835 - val_AUC: 0.8067 - val_accuracy: 0.6667 - 60ms/epoch - 20ms/step\n",
            "Epoch 487/1000\n",
            "3/3 - 0s - loss: 0.3219 - AUC: 0.9501 - accuracy: 0.9143 - val_loss: 0.5854 - val_AUC: 0.8044 - val_accuracy: 0.6667 - 64ms/epoch - 21ms/step\n",
            "Epoch 488/1000\n",
            "3/3 - 0s - loss: 0.2824 - AUC: 0.9614 - accuracy: 0.9357 - val_loss: 0.5886 - val_AUC: 0.8022 - val_accuracy: 0.6333 - 75ms/epoch - 25ms/step\n",
            "Epoch 489/1000\n",
            "3/3 - 0s - loss: 0.3175 - AUC: 0.9419 - accuracy: 0.8929 - val_loss: 0.5864 - val_AUC: 0.8022 - val_accuracy: 0.6667 - 51ms/epoch - 17ms/step\n",
            "Epoch 490/1000\n",
            "3/3 - 0s - loss: 0.3139 - AUC: 0.9443 - accuracy: 0.9071 - val_loss: 0.5848 - val_AUC: 0.8000 - val_accuracy: 0.6667 - 51ms/epoch - 17ms/step\n",
            "Epoch 491/1000\n",
            "3/3 - 0s - loss: 0.2816 - AUC: 0.9689 - accuracy: 0.9143 - val_loss: 0.5841 - val_AUC: 0.7978 - val_accuracy: 0.6667 - 49ms/epoch - 16ms/step\n",
            "Epoch 492/1000\n",
            "3/3 - 0s - loss: 0.2750 - AUC: 0.9683 - accuracy: 0.9000 - val_loss: 0.5832 - val_AUC: 0.7978 - val_accuracy: 0.6667 - 63ms/epoch - 21ms/step\n",
            "Epoch 493/1000\n",
            "3/3 - 0s - loss: 0.2806 - AUC: 0.9643 - accuracy: 0.9214 - val_loss: 0.5813 - val_AUC: 0.7978 - val_accuracy: 0.6667 - 78ms/epoch - 26ms/step\n",
            "Epoch 494/1000\n",
            "3/3 - 0s - loss: 0.2936 - AUC: 0.9524 - accuracy: 0.9286 - val_loss: 0.5802 - val_AUC: 0.8022 - val_accuracy: 0.6667 - 49ms/epoch - 16ms/step\n",
            "Epoch 495/1000\n",
            "3/3 - 0s - loss: 0.2925 - AUC: 0.9501 - accuracy: 0.9143 - val_loss: 0.5808 - val_AUC: 0.8111 - val_accuracy: 0.6667 - 64ms/epoch - 21ms/step\n",
            "Epoch 496/1000\n",
            "3/3 - 0s - loss: 0.2970 - AUC: 0.9562 - accuracy: 0.8857 - val_loss: 0.5786 - val_AUC: 0.8111 - val_accuracy: 0.6667 - 47ms/epoch - 16ms/step\n",
            "Epoch 497/1000\n",
            "3/3 - 0s - loss: 0.2846 - AUC: 0.9624 - accuracy: 0.9357 - val_loss: 0.5742 - val_AUC: 0.8089 - val_accuracy: 0.6667 - 50ms/epoch - 17ms/step\n",
            "Epoch 498/1000\n",
            "3/3 - 0s - loss: 0.3137 - AUC: 0.9450 - accuracy: 0.9143 - val_loss: 0.5727 - val_AUC: 0.8111 - val_accuracy: 0.6667 - 54ms/epoch - 18ms/step\n",
            "Epoch 499/1000\n",
            "3/3 - 0s - loss: 0.2746 - AUC: 0.9587 - accuracy: 0.9071 - val_loss: 0.5725 - val_AUC: 0.8111 - val_accuracy: 0.6333 - 63ms/epoch - 21ms/step\n",
            "Epoch 500/1000\n",
            "3/3 - 0s - loss: 0.3026 - AUC: 0.9562 - accuracy: 0.8857 - val_loss: 0.5736 - val_AUC: 0.8089 - val_accuracy: 0.6667 - 62ms/epoch - 21ms/step\n",
            "Epoch 501/1000\n",
            "3/3 - 0s - loss: 0.2993 - AUC: 0.9536 - accuracy: 0.9071 - val_loss: 0.5778 - val_AUC: 0.8111 - val_accuracy: 0.6667 - 69ms/epoch - 23ms/step\n",
            "Epoch 502/1000\n",
            "3/3 - 0s - loss: 0.2905 - AUC: 0.9641 - accuracy: 0.9143 - val_loss: 0.5831 - val_AUC: 0.8133 - val_accuracy: 0.6667 - 69ms/epoch - 23ms/step\n",
            "Epoch 503/1000\n",
            "3/3 - 0s - loss: 0.3125 - AUC: 0.9471 - accuracy: 0.8929 - val_loss: 0.5851 - val_AUC: 0.8133 - val_accuracy: 0.6667 - 60ms/epoch - 20ms/step\n",
            "Epoch 504/1000\n",
            "3/3 - 0s - loss: 0.3306 - AUC: 0.9413 - accuracy: 0.8429 - val_loss: 0.5850 - val_AUC: 0.8111 - val_accuracy: 0.6667 - 48ms/epoch - 16ms/step\n",
            "Epoch 505/1000\n",
            "3/3 - 0s - loss: 0.2757 - AUC: 0.9657 - accuracy: 0.9286 - val_loss: 0.5825 - val_AUC: 0.8133 - val_accuracy: 0.6667 - 47ms/epoch - 16ms/step\n",
            "Epoch 506/1000\n",
            "3/3 - 0s - loss: 0.3172 - AUC: 0.9405 - accuracy: 0.8929 - val_loss: 0.5793 - val_AUC: 0.8156 - val_accuracy: 0.6667 - 64ms/epoch - 21ms/step\n",
            "Epoch 507/1000\n",
            "3/3 - 0s - loss: 0.3136 - AUC: 0.9415 - accuracy: 0.9143 - val_loss: 0.5770 - val_AUC: 0.8178 - val_accuracy: 0.6667 - 51ms/epoch - 17ms/step\n",
            "Epoch 508/1000\n",
            "3/3 - 0s - loss: 0.2499 - AUC: 0.9798 - accuracy: 0.9357 - val_loss: 0.5749 - val_AUC: 0.8178 - val_accuracy: 0.6667 - 65ms/epoch - 22ms/step\n",
            "Epoch 509/1000\n",
            "3/3 - 0s - loss: 0.2958 - AUC: 0.9508 - accuracy: 0.9214 - val_loss: 0.5747 - val_AUC: 0.8178 - val_accuracy: 0.6667 - 82ms/epoch - 27ms/step\n",
            "Epoch 510/1000\n",
            "3/3 - 0s - loss: 0.2904 - AUC: 0.9677 - accuracy: 0.9286 - val_loss: 0.5764 - val_AUC: 0.8178 - val_accuracy: 0.6667 - 61ms/epoch - 20ms/step\n",
            "Epoch 511/1000\n",
            "3/3 - 0s - loss: 0.3060 - AUC: 0.9505 - accuracy: 0.9071 - val_loss: 0.5772 - val_AUC: 0.8178 - val_accuracy: 0.7000 - 50ms/epoch - 17ms/step\n",
            "Epoch 512/1000\n",
            "3/3 - 0s - loss: 0.2927 - AUC: 0.9468 - accuracy: 0.9143 - val_loss: 0.5808 - val_AUC: 0.8178 - val_accuracy: 0.7000 - 48ms/epoch - 16ms/step\n",
            "Epoch 513/1000\n",
            "3/3 - 0s - loss: 0.2820 - AUC: 0.9553 - accuracy: 0.9071 - val_loss: 0.5837 - val_AUC: 0.8178 - val_accuracy: 0.7000 - 49ms/epoch - 16ms/step\n",
            "Epoch 514/1000\n",
            "3/3 - 0s - loss: 0.2961 - AUC: 0.9620 - accuracy: 0.9143 - val_loss: 0.5873 - val_AUC: 0.8178 - val_accuracy: 0.7000 - 64ms/epoch - 21ms/step\n",
            "Epoch 515/1000\n",
            "3/3 - 0s - loss: 0.2894 - AUC: 0.9643 - accuracy: 0.9000 - val_loss: 0.5877 - val_AUC: 0.8178 - val_accuracy: 0.7000 - 49ms/epoch - 16ms/step\n",
            "Epoch 516/1000\n",
            "3/3 - 0s - loss: 0.2923 - AUC: 0.9543 - accuracy: 0.8929 - val_loss: 0.5854 - val_AUC: 0.8178 - val_accuracy: 0.6667 - 66ms/epoch - 22ms/step\n",
            "Epoch 517/1000\n",
            "3/3 - 0s - loss: 0.2768 - AUC: 0.9732 - accuracy: 0.9429 - val_loss: 0.5840 - val_AUC: 0.8133 - val_accuracy: 0.6667 - 66ms/epoch - 22ms/step\n",
            "Epoch 518/1000\n",
            "3/3 - 0s - loss: 0.2517 - AUC: 0.9749 - accuracy: 0.9286 - val_loss: 0.5849 - val_AUC: 0.8111 - val_accuracy: 0.6667 - 78ms/epoch - 26ms/step\n",
            "Epoch 519/1000\n",
            "3/3 - 0s - loss: 0.2816 - AUC: 0.9687 - accuracy: 0.9071 - val_loss: 0.5854 - val_AUC: 0.8156 - val_accuracy: 0.6667 - 51ms/epoch - 17ms/step\n",
            "Epoch 520/1000\n",
            "3/3 - 0s - loss: 0.3200 - AUC: 0.9341 - accuracy: 0.9143 - val_loss: 0.5867 - val_AUC: 0.8111 - val_accuracy: 0.6667 - 66ms/epoch - 22ms/step\n",
            "Epoch 521/1000\n",
            "3/3 - 0s - loss: 0.3034 - AUC: 0.9554 - accuracy: 0.8857 - val_loss: 0.5875 - val_AUC: 0.8133 - val_accuracy: 0.6667 - 63ms/epoch - 21ms/step\n",
            "Epoch 522/1000\n",
            "3/3 - 0s - loss: 0.2839 - AUC: 0.9661 - accuracy: 0.9000 - val_loss: 0.5900 - val_AUC: 0.8133 - val_accuracy: 0.6667 - 66ms/epoch - 22ms/step\n",
            "Epoch 523/1000\n",
            "3/3 - 0s - loss: 0.2846 - AUC: 0.9596 - accuracy: 0.9071 - val_loss: 0.5923 - val_AUC: 0.8111 - val_accuracy: 0.6667 - 64ms/epoch - 21ms/step\n",
            "Epoch 524/1000\n",
            "3/3 - 0s - loss: 0.2859 - AUC: 0.9534 - accuracy: 0.9071 - val_loss: 0.5909 - val_AUC: 0.8133 - val_accuracy: 0.6667 - 73ms/epoch - 24ms/step\n",
            "Epoch 525/1000\n",
            "3/3 - 0s - loss: 0.2971 - AUC: 0.9518 - accuracy: 0.9000 - val_loss: 0.5898 - val_AUC: 0.8111 - val_accuracy: 0.6667 - 60ms/epoch - 20ms/step\n",
            "Epoch 526/1000\n",
            "3/3 - 0s - loss: 0.2976 - AUC: 0.9509 - accuracy: 0.9214 - val_loss: 0.5879 - val_AUC: 0.8111 - val_accuracy: 0.6667 - 47ms/epoch - 16ms/step\n",
            "Epoch 527/1000\n",
            "3/3 - 0s - loss: 0.2871 - AUC: 0.9553 - accuracy: 0.9286 - val_loss: 0.5873 - val_AUC: 0.8089 - val_accuracy: 0.6667 - 63ms/epoch - 21ms/step\n",
            "Epoch 528/1000\n",
            "3/3 - 0s - loss: 0.2524 - AUC: 0.9718 - accuracy: 0.9214 - val_loss: 0.5906 - val_AUC: 0.8111 - val_accuracy: 0.6667 - 56ms/epoch - 19ms/step\n",
            "Epoch 529/1000\n",
            "3/3 - 0s - loss: 0.2940 - AUC: 0.9505 - accuracy: 0.9143 - val_loss: 0.5949 - val_AUC: 0.8111 - val_accuracy: 0.6333 - 64ms/epoch - 21ms/step\n",
            "Epoch 530/1000\n",
            "3/3 - 0s - loss: 0.2700 - AUC: 0.9658 - accuracy: 0.9000 - val_loss: 0.5945 - val_AUC: 0.8111 - val_accuracy: 0.6333 - 62ms/epoch - 21ms/step\n",
            "Epoch 531/1000\n",
            "3/3 - 0s - loss: 0.3019 - AUC: 0.9582 - accuracy: 0.8857 - val_loss: 0.5885 - val_AUC: 0.8111 - val_accuracy: 0.6667 - 71ms/epoch - 24ms/step\n",
            "Epoch 532/1000\n",
            "3/3 - 0s - loss: 0.2987 - AUC: 0.9543 - accuracy: 0.9214 - val_loss: 0.5836 - val_AUC: 0.8133 - val_accuracy: 0.6667 - 74ms/epoch - 25ms/step\n",
            "Epoch 533/1000\n",
            "3/3 - 0s - loss: 0.2607 - AUC: 0.9772 - accuracy: 0.9143 - val_loss: 0.5805 - val_AUC: 0.8178 - val_accuracy: 0.6667 - 54ms/epoch - 18ms/step\n",
            "Epoch 534/1000\n",
            "3/3 - 0s - loss: 0.2643 - AUC: 0.9665 - accuracy: 0.9214 - val_loss: 0.5797 - val_AUC: 0.8178 - val_accuracy: 0.6667 - 51ms/epoch - 17ms/step\n",
            "Epoch 535/1000\n",
            "3/3 - 0s - loss: 0.2699 - AUC: 0.9639 - accuracy: 0.9357 - val_loss: 0.5817 - val_AUC: 0.8156 - val_accuracy: 0.7000 - 63ms/epoch - 21ms/step\n",
            "Epoch 536/1000\n",
            "3/3 - 0s - loss: 0.2530 - AUC: 0.9706 - accuracy: 0.9143 - val_loss: 0.5853 - val_AUC: 0.8156 - val_accuracy: 0.7000 - 49ms/epoch - 16ms/step\n",
            "Epoch 537/1000\n",
            "3/3 - 0s - loss: 0.2825 - AUC: 0.9631 - accuracy: 0.9214 - val_loss: 0.5863 - val_AUC: 0.8178 - val_accuracy: 0.7000 - 61ms/epoch - 20ms/step\n",
            "Epoch 538/1000\n",
            "3/3 - 0s - loss: 0.2795 - AUC: 0.9610 - accuracy: 0.9143 - val_loss: 0.5851 - val_AUC: 0.8178 - val_accuracy: 0.7000 - 48ms/epoch - 16ms/step\n",
            "Epoch 539/1000\n",
            "3/3 - 0s - loss: 0.2774 - AUC: 0.9635 - accuracy: 0.9071 - val_loss: 0.5843 - val_AUC: 0.8178 - val_accuracy: 0.7000 - 65ms/epoch - 22ms/step\n",
            "Epoch 540/1000\n",
            "3/3 - 0s - loss: 0.2565 - AUC: 0.9689 - accuracy: 0.9500 - val_loss: 0.5827 - val_AUC: 0.8156 - val_accuracy: 0.6667 - 50ms/epoch - 17ms/step\n",
            "Epoch 541/1000\n",
            "3/3 - 0s - loss: 0.2971 - AUC: 0.9466 - accuracy: 0.8929 - val_loss: 0.5817 - val_AUC: 0.8156 - val_accuracy: 0.6667 - 64ms/epoch - 21ms/step\n",
            "Epoch 542/1000\n",
            "3/3 - 0s - loss: 0.2875 - AUC: 0.9502 - accuracy: 0.9000 - val_loss: 0.5825 - val_AUC: 0.8156 - val_accuracy: 0.6667 - 49ms/epoch - 16ms/step\n",
            "Epoch 543/1000\n",
            "3/3 - 0s - loss: 0.2514 - AUC: 0.9629 - accuracy: 0.9143 - val_loss: 0.5832 - val_AUC: 0.8178 - val_accuracy: 0.6667 - 62ms/epoch - 21ms/step\n",
            "Epoch 544/1000\n",
            "3/3 - 0s - loss: 0.2505 - AUC: 0.9670 - accuracy: 0.9214 - val_loss: 0.5860 - val_AUC: 0.8178 - val_accuracy: 0.6667 - 65ms/epoch - 22ms/step\n",
            "Epoch 545/1000\n",
            "3/3 - 0s - loss: 0.2595 - AUC: 0.9660 - accuracy: 0.9214 - val_loss: 0.5883 - val_AUC: 0.8178 - val_accuracy: 0.6667 - 49ms/epoch - 16ms/step\n",
            "Epoch 546/1000\n",
            "3/3 - 0s - loss: 0.2794 - AUC: 0.9588 - accuracy: 0.9143 - val_loss: 0.5883 - val_AUC: 0.8178 - val_accuracy: 0.6667 - 65ms/epoch - 22ms/step\n",
            "Epoch 547/1000\n",
            "3/3 - 0s - loss: 0.2988 - AUC: 0.9473 - accuracy: 0.8786 - val_loss: 0.5884 - val_AUC: 0.8178 - val_accuracy: 0.6667 - 66ms/epoch - 22ms/step\n",
            "Epoch 548/1000\n",
            "3/3 - 0s - loss: 0.2545 - AUC: 0.9693 - accuracy: 0.9143 - val_loss: 0.5865 - val_AUC: 0.8178 - val_accuracy: 0.6667 - 79ms/epoch - 26ms/step\n",
            "Epoch 549/1000\n",
            "3/3 - 0s - loss: 0.2741 - AUC: 0.9562 - accuracy: 0.9214 - val_loss: 0.5871 - val_AUC: 0.8178 - val_accuracy: 0.7000 - 63ms/epoch - 21ms/step\n",
            "Epoch 550/1000\n",
            "3/3 - 0s - loss: 0.2697 - AUC: 0.9612 - accuracy: 0.9143 - val_loss: 0.5908 - val_AUC: 0.8178 - val_accuracy: 0.7000 - 63ms/epoch - 21ms/step\n",
            "Epoch 551/1000\n",
            "3/3 - 0s - loss: 0.2749 - AUC: 0.9546 - accuracy: 0.9500 - val_loss: 0.5959 - val_AUC: 0.8178 - val_accuracy: 0.7000 - 50ms/epoch - 17ms/step\n",
            "Epoch 552/1000\n",
            "3/3 - 0s - loss: 0.2665 - AUC: 0.9616 - accuracy: 0.9357 - val_loss: 0.5992 - val_AUC: 0.8178 - val_accuracy: 0.6667 - 48ms/epoch - 16ms/step\n",
            "Epoch 553/1000\n",
            "3/3 - 0s - loss: 0.3018 - AUC: 0.9499 - accuracy: 0.9214 - val_loss: 0.5998 - val_AUC: 0.8178 - val_accuracy: 0.6667 - 49ms/epoch - 16ms/step\n",
            "Epoch 554/1000\n",
            "3/3 - 0s - loss: 0.2550 - AUC: 0.9608 - accuracy: 0.9071 - val_loss: 0.5997 - val_AUC: 0.8178 - val_accuracy: 0.6667 - 75ms/epoch - 25ms/step\n",
            "Epoch 555/1000\n",
            "3/3 - 0s - loss: 0.3034 - AUC: 0.9452 - accuracy: 0.8643 - val_loss: 0.5952 - val_AUC: 0.8178 - val_accuracy: 0.7000 - 61ms/epoch - 20ms/step\n",
            "Epoch 556/1000\n",
            "3/3 - 0s - loss: 0.2745 - AUC: 0.9561 - accuracy: 0.9286 - val_loss: 0.5929 - val_AUC: 0.8178 - val_accuracy: 0.6667 - 66ms/epoch - 22ms/step\n",
            "Epoch 557/1000\n",
            "3/3 - 0s - loss: 0.3099 - AUC: 0.9482 - accuracy: 0.9071 - val_loss: 0.5904 - val_AUC: 0.8156 - val_accuracy: 0.6667 - 50ms/epoch - 17ms/step\n",
            "Epoch 558/1000\n",
            "3/3 - 0s - loss: 0.2756 - AUC: 0.9622 - accuracy: 0.9357 - val_loss: 0.5874 - val_AUC: 0.8156 - val_accuracy: 0.6667 - 64ms/epoch - 21ms/step\n",
            "Epoch 559/1000\n",
            "3/3 - 0s - loss: 0.2737 - AUC: 0.9673 - accuracy: 0.9357 - val_loss: 0.5845 - val_AUC: 0.8156 - val_accuracy: 0.6667 - 64ms/epoch - 21ms/step\n",
            "Epoch 560/1000\n",
            "3/3 - 0s - loss: 0.2573 - AUC: 0.9621 - accuracy: 0.9286 - val_loss: 0.5835 - val_AUC: 0.8156 - val_accuracy: 0.6667 - 48ms/epoch - 16ms/step\n",
            "Epoch 561/1000\n",
            "3/3 - 0s - loss: 0.2806 - AUC: 0.9592 - accuracy: 0.9214 - val_loss: 0.5843 - val_AUC: 0.8156 - val_accuracy: 0.7000 - 58ms/epoch - 19ms/step\n",
            "Epoch 562/1000\n",
            "3/3 - 0s - loss: 0.2707 - AUC: 0.9599 - accuracy: 0.9143 - val_loss: 0.5881 - val_AUC: 0.8200 - val_accuracy: 0.7000 - 69ms/epoch - 23ms/step\n",
            "Epoch 563/1000\n",
            "3/3 - 0s - loss: 0.2697 - AUC: 0.9571 - accuracy: 0.9429 - val_loss: 0.5922 - val_AUC: 0.8244 - val_accuracy: 0.7000 - 70ms/epoch - 23ms/step\n",
            "Epoch 564/1000\n",
            "3/3 - 0s - loss: 0.2436 - AUC: 0.9646 - accuracy: 0.9500 - val_loss: 0.5958 - val_AUC: 0.8222 - val_accuracy: 0.6667 - 51ms/epoch - 17ms/step\n",
            "Epoch 565/1000\n",
            "3/3 - 0s - loss: 0.2320 - AUC: 0.9883 - accuracy: 0.9357 - val_loss: 0.5960 - val_AUC: 0.8200 - val_accuracy: 0.6667 - 66ms/epoch - 22ms/step\n",
            "Epoch 566/1000\n",
            "3/3 - 0s - loss: 0.2673 - AUC: 0.9662 - accuracy: 0.9357 - val_loss: 0.5940 - val_AUC: 0.8200 - val_accuracy: 0.7000 - 52ms/epoch - 17ms/step\n",
            "Epoch 567/1000\n",
            "3/3 - 0s - loss: 0.2542 - AUC: 0.9710 - accuracy: 0.9000 - val_loss: 0.5914 - val_AUC: 0.8222 - val_accuracy: 0.7000 - 47ms/epoch - 16ms/step\n",
            "Epoch 568/1000\n",
            "3/3 - 0s - loss: 0.3056 - AUC: 0.9476 - accuracy: 0.9143 - val_loss: 0.5910 - val_AUC: 0.8200 - val_accuracy: 0.7000 - 59ms/epoch - 20ms/step\n",
            "Epoch 569/1000\n",
            "3/3 - 0s - loss: 0.2657 - AUC: 0.9584 - accuracy: 0.9143 - val_loss: 0.5956 - val_AUC: 0.8156 - val_accuracy: 0.7000 - 61ms/epoch - 20ms/step\n",
            "Epoch 570/1000\n",
            "3/3 - 0s - loss: 0.2740 - AUC: 0.9595 - accuracy: 0.9000 - val_loss: 0.5975 - val_AUC: 0.8178 - val_accuracy: 0.7000 - 64ms/epoch - 21ms/step\n",
            "Epoch 571/1000\n",
            "3/3 - 0s - loss: 0.2452 - AUC: 0.9759 - accuracy: 0.9357 - val_loss: 0.5949 - val_AUC: 0.8200 - val_accuracy: 0.7000 - 63ms/epoch - 21ms/step\n",
            "Epoch 572/1000\n",
            "3/3 - 0s - loss: 0.2940 - AUC: 0.9451 - accuracy: 0.9143 - val_loss: 0.5895 - val_AUC: 0.8244 - val_accuracy: 0.7000 - 62ms/epoch - 21ms/step\n",
            "Epoch 573/1000\n",
            "3/3 - 0s - loss: 0.2624 - AUC: 0.9628 - accuracy: 0.9500 - val_loss: 0.5873 - val_AUC: 0.8200 - val_accuracy: 0.7000 - 48ms/epoch - 16ms/step\n",
            "Epoch 574/1000\n",
            "3/3 - 0s - loss: 0.2613 - AUC: 0.9655 - accuracy: 0.9143 - val_loss: 0.5881 - val_AUC: 0.8222 - val_accuracy: 0.7000 - 46ms/epoch - 15ms/step\n",
            "Epoch 575/1000\n",
            "3/3 - 0s - loss: 0.2767 - AUC: 0.9632 - accuracy: 0.8857 - val_loss: 0.5910 - val_AUC: 0.8200 - val_accuracy: 0.7000 - 68ms/epoch - 23ms/step\n",
            "Epoch 576/1000\n",
            "3/3 - 0s - loss: 0.2390 - AUC: 0.9644 - accuracy: 0.9357 - val_loss: 0.5935 - val_AUC: 0.8178 - val_accuracy: 0.7000 - 67ms/epoch - 22ms/step\n",
            "Epoch 577/1000\n",
            "3/3 - 0s - loss: 0.2692 - AUC: 0.9500 - accuracy: 0.9214 - val_loss: 0.5959 - val_AUC: 0.8156 - val_accuracy: 0.7000 - 64ms/epoch - 21ms/step\n",
            "Epoch 578/1000\n",
            "3/3 - 0s - loss: 0.2627 - AUC: 0.9672 - accuracy: 0.9429 - val_loss: 0.5990 - val_AUC: 0.8156 - val_accuracy: 0.6667 - 62ms/epoch - 21ms/step\n",
            "Epoch 579/1000\n",
            "3/3 - 0s - loss: 0.2501 - AUC: 0.9748 - accuracy: 0.9000 - val_loss: 0.6021 - val_AUC: 0.8156 - val_accuracy: 0.6667 - 62ms/epoch - 21ms/step\n",
            "Epoch 580/1000\n",
            "3/3 - 0s - loss: 0.2753 - AUC: 0.9610 - accuracy: 0.8714 - val_loss: 0.6014 - val_AUC: 0.8156 - val_accuracy: 0.6667 - 62ms/epoch - 21ms/step\n",
            "Epoch 581/1000\n",
            "3/3 - 0s - loss: 0.2590 - AUC: 0.9659 - accuracy: 0.9357 - val_loss: 0.5952 - val_AUC: 0.8178 - val_accuracy: 0.7000 - 49ms/epoch - 16ms/step\n",
            "Epoch 582/1000\n",
            "3/3 - 0s - loss: 0.2868 - AUC: 0.9608 - accuracy: 0.9071 - val_loss: 0.5923 - val_AUC: 0.8200 - val_accuracy: 0.7000 - 48ms/epoch - 16ms/step\n",
            "Epoch 583/1000\n",
            "3/3 - 0s - loss: 0.2648 - AUC: 0.9708 - accuracy: 0.9429 - val_loss: 0.5916 - val_AUC: 0.8178 - val_accuracy: 0.7000 - 50ms/epoch - 17ms/step\n",
            "Epoch 584/1000\n",
            "3/3 - 0s - loss: 0.2659 - AUC: 0.9646 - accuracy: 0.9357 - val_loss: 0.5938 - val_AUC: 0.8178 - val_accuracy: 0.7000 - 65ms/epoch - 22ms/step\n",
            "Epoch 585/1000\n",
            "3/3 - 0s - loss: 0.2815 - AUC: 0.9589 - accuracy: 0.9286 - val_loss: 0.5961 - val_AUC: 0.8178 - val_accuracy: 0.7000 - 47ms/epoch - 16ms/step\n",
            "Epoch 586/1000\n",
            "3/3 - 0s - loss: 0.2715 - AUC: 0.9582 - accuracy: 0.9214 - val_loss: 0.5983 - val_AUC: 0.8178 - val_accuracy: 0.7000 - 64ms/epoch - 21ms/step\n",
            "Epoch 587/1000\n",
            "3/3 - 0s - loss: 0.2726 - AUC: 0.9617 - accuracy: 0.9000 - val_loss: 0.5985 - val_AUC: 0.8178 - val_accuracy: 0.7000 - 67ms/epoch - 22ms/step\n",
            "Epoch 588/1000\n",
            "3/3 - 0s - loss: 0.2452 - AUC: 0.9680 - accuracy: 0.9357 - val_loss: 0.6046 - val_AUC: 0.8178 - val_accuracy: 0.6667 - 68ms/epoch - 23ms/step\n",
            "Epoch 589/1000\n",
            "3/3 - 0s - loss: 0.2358 - AUC: 0.9779 - accuracy: 0.9357 - val_loss: 0.6096 - val_AUC: 0.8200 - val_accuracy: 0.7000 - 65ms/epoch - 22ms/step\n",
            "Epoch 590/1000\n",
            "3/3 - 0s - loss: 0.2565 - AUC: 0.9663 - accuracy: 0.9429 - val_loss: 0.6130 - val_AUC: 0.8178 - val_accuracy: 0.6667 - 64ms/epoch - 21ms/step\n",
            "Epoch 591/1000\n",
            "3/3 - 0s - loss: 0.2630 - AUC: 0.9701 - accuracy: 0.9071 - val_loss: 0.6130 - val_AUC: 0.8178 - val_accuracy: 0.6667 - 56ms/epoch - 19ms/step\n",
            "Epoch 592/1000\n",
            "3/3 - 0s - loss: 0.2518 - AUC: 0.9665 - accuracy: 0.9500 - val_loss: 0.6146 - val_AUC: 0.8156 - val_accuracy: 0.6667 - 65ms/epoch - 22ms/step\n",
            "Epoch 593/1000\n",
            "3/3 - 0s - loss: 0.2694 - AUC: 0.9472 - accuracy: 0.9143 - val_loss: 0.6118 - val_AUC: 0.8156 - val_accuracy: 0.6667 - 64ms/epoch - 21ms/step\n",
            "Epoch 594/1000\n",
            "3/3 - 0s - loss: 0.2477 - AUC: 0.9603 - accuracy: 0.9214 - val_loss: 0.6070 - val_AUC: 0.8156 - val_accuracy: 0.7000 - 67ms/epoch - 22ms/step\n",
            "Epoch 595/1000\n",
            "3/3 - 0s - loss: 0.2830 - AUC: 0.9503 - accuracy: 0.8929 - val_loss: 0.6009 - val_AUC: 0.8156 - val_accuracy: 0.7000 - 50ms/epoch - 17ms/step\n",
            "Epoch 596/1000\n",
            "3/3 - 0s - loss: 0.2181 - AUC: 0.9813 - accuracy: 0.9571 - val_loss: 0.5955 - val_AUC: 0.8178 - val_accuracy: 0.7000 - 47ms/epoch - 16ms/step\n",
            "Epoch 597/1000\n",
            "3/3 - 0s - loss: 0.2482 - AUC: 0.9705 - accuracy: 0.9429 - val_loss: 0.5949 - val_AUC: 0.8156 - val_accuracy: 0.7000 - 68ms/epoch - 23ms/step\n",
            "Epoch 598/1000\n",
            "3/3 - 0s - loss: 0.2476 - AUC: 0.9705 - accuracy: 0.9214 - val_loss: 0.5942 - val_AUC: 0.8156 - val_accuracy: 0.7000 - 50ms/epoch - 17ms/step\n",
            "Epoch 599/1000\n",
            "3/3 - 0s - loss: 0.2594 - AUC: 0.9619 - accuracy: 0.9286 - val_loss: 0.5967 - val_AUC: 0.8178 - val_accuracy: 0.7000 - 47ms/epoch - 16ms/step\n",
            "Epoch 600/1000\n",
            "3/3 - 0s - loss: 0.2506 - AUC: 0.9693 - accuracy: 0.9214 - val_loss: 0.5970 - val_AUC: 0.8178 - val_accuracy: 0.7000 - 62ms/epoch - 21ms/step\n",
            "Epoch 601/1000\n",
            "3/3 - 0s - loss: 0.2468 - AUC: 0.9706 - accuracy: 0.9286 - val_loss: 0.5983 - val_AUC: 0.8178 - val_accuracy: 0.7000 - 62ms/epoch - 21ms/step\n",
            "Epoch 602/1000\n",
            "3/3 - 0s - loss: 0.2370 - AUC: 0.9689 - accuracy: 0.9429 - val_loss: 0.5991 - val_AUC: 0.8178 - val_accuracy: 0.7000 - 60ms/epoch - 20ms/step\n",
            "Epoch 603/1000\n",
            "3/3 - 0s - loss: 0.2515 - AUC: 0.9578 - accuracy: 0.9429 - val_loss: 0.6040 - val_AUC: 0.8156 - val_accuracy: 0.7000 - 51ms/epoch - 17ms/step\n",
            "Epoch 604/1000\n",
            "3/3 - 0s - loss: 0.2300 - AUC: 0.9716 - accuracy: 0.9500 - val_loss: 0.6076 - val_AUC: 0.8156 - val_accuracy: 0.6667 - 65ms/epoch - 22ms/step\n",
            "Epoch 605/1000\n",
            "3/3 - 0s - loss: 0.2714 - AUC: 0.9599 - accuracy: 0.9143 - val_loss: 0.6100 - val_AUC: 0.8156 - val_accuracy: 0.6333 - 57ms/epoch - 19ms/step\n",
            "Epoch 606/1000\n",
            "3/3 - 0s - loss: 0.2143 - AUC: 0.9732 - accuracy: 0.9571 - val_loss: 0.6116 - val_AUC: 0.8156 - val_accuracy: 0.6333 - 64ms/epoch - 21ms/step\n",
            "Epoch 607/1000\n",
            "3/3 - 0s - loss: 0.2268 - AUC: 0.9767 - accuracy: 0.9500 - val_loss: 0.6140 - val_AUC: 0.8156 - val_accuracy: 0.6333 - 81ms/epoch - 27ms/step\n",
            "Epoch 608/1000\n",
            "3/3 - 0s - loss: 0.2364 - AUC: 0.9752 - accuracy: 0.9214 - val_loss: 0.6138 - val_AUC: 0.8156 - val_accuracy: 0.6333 - 77ms/epoch - 26ms/step\n",
            "Epoch 609/1000\n",
            "3/3 - 0s - loss: 0.2351 - AUC: 0.9737 - accuracy: 0.9143 - val_loss: 0.6106 - val_AUC: 0.8156 - val_accuracy: 0.7000 - 64ms/epoch - 21ms/step\n",
            "Epoch 610/1000\n",
            "3/3 - 0s - loss: 0.2165 - AUC: 0.9673 - accuracy: 0.9571 - val_loss: 0.6106 - val_AUC: 0.8156 - val_accuracy: 0.7000 - 51ms/epoch - 17ms/step\n",
            "Epoch 611/1000\n",
            "3/3 - 0s - loss: 0.2447 - AUC: 0.9705 - accuracy: 0.9214 - val_loss: 0.6106 - val_AUC: 0.8156 - val_accuracy: 0.7000 - 64ms/epoch - 21ms/step\n",
            "Epoch 612/1000\n",
            "3/3 - 0s - loss: 0.2412 - AUC: 0.9635 - accuracy: 0.9357 - val_loss: 0.6112 - val_AUC: 0.8156 - val_accuracy: 0.7000 - 52ms/epoch - 17ms/step\n",
            "Epoch 613/1000\n",
            "3/3 - 0s - loss: 0.2571 - AUC: 0.9557 - accuracy: 0.9286 - val_loss: 0.6110 - val_AUC: 0.8111 - val_accuracy: 0.7000 - 54ms/epoch - 18ms/step\n",
            "Epoch 614/1000\n",
            "3/3 - 0s - loss: 0.2712 - AUC: 0.9519 - accuracy: 0.9286 - val_loss: 0.6119 - val_AUC: 0.8111 - val_accuracy: 0.7000 - 50ms/epoch - 17ms/step\n",
            "Epoch 615/1000\n",
            "3/3 - 0s - loss: 0.2061 - AUC: 0.9849 - accuracy: 0.9500 - val_loss: 0.6156 - val_AUC: 0.8133 - val_accuracy: 0.6333 - 63ms/epoch - 21ms/step\n",
            "Epoch 616/1000\n",
            "3/3 - 0s - loss: 0.2544 - AUC: 0.9593 - accuracy: 0.9286 - val_loss: 0.6179 - val_AUC: 0.8089 - val_accuracy: 0.6333 - 65ms/epoch - 22ms/step\n",
            "Epoch 617/1000\n",
            "3/3 - 0s - loss: 0.2476 - AUC: 0.9626 - accuracy: 0.9286 - val_loss: 0.6175 - val_AUC: 0.8089 - val_accuracy: 0.6333 - 74ms/epoch - 25ms/step\n",
            "Epoch 618/1000\n",
            "3/3 - 0s - loss: 0.2320 - AUC: 0.9700 - accuracy: 0.9429 - val_loss: 0.6132 - val_AUC: 0.8156 - val_accuracy: 0.7000 - 61ms/epoch - 20ms/step\n",
            "Epoch 619/1000\n",
            "3/3 - 0s - loss: 0.2552 - AUC: 0.9609 - accuracy: 0.9143 - val_loss: 0.6076 - val_AUC: 0.8156 - val_accuracy: 0.7000 - 49ms/epoch - 16ms/step\n",
            "Epoch 620/1000\n",
            "3/3 - 0s - loss: 0.2143 - AUC: 0.9772 - accuracy: 0.9286 - val_loss: 0.6034 - val_AUC: 0.8156 - val_accuracy: 0.6667 - 54ms/epoch - 18ms/step\n",
            "Epoch 621/1000\n",
            "3/3 - 0s - loss: 0.2389 - AUC: 0.9724 - accuracy: 0.9286 - val_loss: 0.6037 - val_AUC: 0.8156 - val_accuracy: 0.7000 - 75ms/epoch - 25ms/step\n",
            "Epoch 622/1000\n",
            "3/3 - 0s - loss: 0.2255 - AUC: 0.9685 - accuracy: 0.9429 - val_loss: 0.6078 - val_AUC: 0.8178 - val_accuracy: 0.7000 - 67ms/epoch - 22ms/step\n",
            "Epoch 623/1000\n",
            "3/3 - 0s - loss: 0.2272 - AUC: 0.9754 - accuracy: 0.9286 - val_loss: 0.6118 - val_AUC: 0.8156 - val_accuracy: 0.7000 - 70ms/epoch - 23ms/step\n",
            "Epoch 624/1000\n",
            "3/3 - 0s - loss: 0.2446 - AUC: 0.9781 - accuracy: 0.9214 - val_loss: 0.6163 - val_AUC: 0.8178 - val_accuracy: 0.6333 - 46ms/epoch - 15ms/step\n",
            "Epoch 625/1000\n",
            "3/3 - 0s - loss: 0.2007 - AUC: 0.9789 - accuracy: 0.9214 - val_loss: 0.6202 - val_AUC: 0.8178 - val_accuracy: 0.6333 - 83ms/epoch - 28ms/step\n",
            "Epoch 626/1000\n",
            "3/3 - 0s - loss: 0.1985 - AUC: 0.9859 - accuracy: 0.9500 - val_loss: 0.6177 - val_AUC: 0.8178 - val_accuracy: 0.6333 - 74ms/epoch - 25ms/step\n",
            "Epoch 627/1000\n",
            "3/3 - 0s - loss: 0.2330 - AUC: 0.9627 - accuracy: 0.9429 - val_loss: 0.6157 - val_AUC: 0.8178 - val_accuracy: 0.6667 - 80ms/epoch - 27ms/step\n",
            "Epoch 628/1000\n",
            "3/3 - 0s - loss: 0.2421 - AUC: 0.9671 - accuracy: 0.9286 - val_loss: 0.6105 - val_AUC: 0.8178 - val_accuracy: 0.7000 - 77ms/epoch - 26ms/step\n",
            "Epoch 629/1000\n",
            "3/3 - 0s - loss: 0.2337 - AUC: 0.9697 - accuracy: 0.9429 - val_loss: 0.6052 - val_AUC: 0.8178 - val_accuracy: 0.7000 - 73ms/epoch - 24ms/step\n",
            "Epoch 630/1000\n",
            "3/3 - 0s - loss: 0.2453 - AUC: 0.9645 - accuracy: 0.9143 - val_loss: 0.6039 - val_AUC: 0.8156 - val_accuracy: 0.7000 - 87ms/epoch - 29ms/step\n",
            "Epoch 631/1000\n",
            "3/3 - 0s - loss: 0.2304 - AUC: 0.9731 - accuracy: 0.9357 - val_loss: 0.6092 - val_AUC: 0.8133 - val_accuracy: 0.7000 - 67ms/epoch - 22ms/step\n",
            "Epoch 632/1000\n",
            "3/3 - 0s - loss: 0.2319 - AUC: 0.9732 - accuracy: 0.9357 - val_loss: 0.6173 - val_AUC: 0.8156 - val_accuracy: 0.6667 - 67ms/epoch - 22ms/step\n",
            "Epoch 633/1000\n",
            "3/3 - 0s - loss: 0.2405 - AUC: 0.9626 - accuracy: 0.9429 - val_loss: 0.6254 - val_AUC: 0.8156 - val_accuracy: 0.6667 - 83ms/epoch - 28ms/step\n",
            "Epoch 634/1000\n",
            "3/3 - 0s - loss: 0.2682 - AUC: 0.9528 - accuracy: 0.9143 - val_loss: 0.6293 - val_AUC: 0.8133 - val_accuracy: 0.6667 - 86ms/epoch - 29ms/step\n",
            "Epoch 635/1000\n",
            "3/3 - 0s - loss: 0.2533 - AUC: 0.9596 - accuracy: 0.9214 - val_loss: 0.6277 - val_AUC: 0.8111 - val_accuracy: 0.6667 - 87ms/epoch - 29ms/step\n",
            "Epoch 636/1000\n",
            "3/3 - 0s - loss: 0.2151 - AUC: 0.9732 - accuracy: 0.9571 - val_loss: 0.6270 - val_AUC: 0.8089 - val_accuracy: 0.6667 - 84ms/epoch - 28ms/step\n",
            "Epoch 637/1000\n",
            "3/3 - 0s - loss: 0.2413 - AUC: 0.9705 - accuracy: 0.9429 - val_loss: 0.6253 - val_AUC: 0.8089 - val_accuracy: 0.6667 - 79ms/epoch - 26ms/step\n",
            "Epoch 638/1000\n",
            "3/3 - 0s - loss: 0.2418 - AUC: 0.9674 - accuracy: 0.9143 - val_loss: 0.6216 - val_AUC: 0.8089 - val_accuracy: 0.6333 - 72ms/epoch - 24ms/step\n",
            "Epoch 639/1000\n",
            "3/3 - 0s - loss: 0.2155 - AUC: 0.9811 - accuracy: 0.9571 - val_loss: 0.6169 - val_AUC: 0.8111 - val_accuracy: 0.6333 - 74ms/epoch - 25ms/step\n",
            "Epoch 640/1000\n",
            "3/3 - 0s - loss: 0.2351 - AUC: 0.9734 - accuracy: 0.9429 - val_loss: 0.6150 - val_AUC: 0.8089 - val_accuracy: 0.6667 - 79ms/epoch - 26ms/step\n",
            "Epoch 641/1000\n",
            "3/3 - 0s - loss: 0.2093 - AUC: 0.9853 - accuracy: 0.9500 - val_loss: 0.6154 - val_AUC: 0.8133 - val_accuracy: 0.6667 - 80ms/epoch - 27ms/step\n",
            "Epoch 642/1000\n",
            "3/3 - 0s - loss: 0.2207 - AUC: 0.9690 - accuracy: 0.9500 - val_loss: 0.6158 - val_AUC: 0.8156 - val_accuracy: 0.6667 - 90ms/epoch - 30ms/step\n",
            "Epoch 643/1000\n",
            "3/3 - 0s - loss: 0.2106 - AUC: 0.9770 - accuracy: 0.9357 - val_loss: 0.6137 - val_AUC: 0.8178 - val_accuracy: 0.6667 - 69ms/epoch - 23ms/step\n",
            "Epoch 644/1000\n",
            "3/3 - 0s - loss: 0.2376 - AUC: 0.9660 - accuracy: 0.9357 - val_loss: 0.6132 - val_AUC: 0.8200 - val_accuracy: 0.7000 - 83ms/epoch - 28ms/step\n",
            "Epoch 645/1000\n",
            "3/3 - 0s - loss: 0.2293 - AUC: 0.9653 - accuracy: 0.9286 - val_loss: 0.6110 - val_AUC: 0.8200 - val_accuracy: 0.7000 - 97ms/epoch - 32ms/step\n",
            "Epoch 646/1000\n",
            "3/3 - 0s - loss: 0.2293 - AUC: 0.9737 - accuracy: 0.9214 - val_loss: 0.6090 - val_AUC: 0.8222 - val_accuracy: 0.7000 - 101ms/epoch - 34ms/step\n",
            "Epoch 647/1000\n",
            "3/3 - 0s - loss: 0.2229 - AUC: 0.9740 - accuracy: 0.9500 - val_loss: 0.6073 - val_AUC: 0.8222 - val_accuracy: 0.7000 - 66ms/epoch - 22ms/step\n",
            "Epoch 648/1000\n",
            "3/3 - 0s - loss: 0.2390 - AUC: 0.9563 - accuracy: 0.9429 - val_loss: 0.6093 - val_AUC: 0.8222 - val_accuracy: 0.7000 - 65ms/epoch - 22ms/step\n",
            "Epoch 649/1000\n",
            "3/3 - 0s - loss: 0.2208 - AUC: 0.9762 - accuracy: 0.9286 - val_loss: 0.6116 - val_AUC: 0.8222 - val_accuracy: 0.6667 - 87ms/epoch - 29ms/step\n",
            "Epoch 650/1000\n",
            "3/3 - 0s - loss: 0.2216 - AUC: 0.9709 - accuracy: 0.9286 - val_loss: 0.6146 - val_AUC: 0.8244 - val_accuracy: 0.6667 - 75ms/epoch - 25ms/step\n",
            "Epoch 651/1000\n",
            "3/3 - 0s - loss: 0.2294 - AUC: 0.9694 - accuracy: 0.9214 - val_loss: 0.6167 - val_AUC: 0.8244 - val_accuracy: 0.6667 - 77ms/epoch - 26ms/step\n",
            "Epoch 652/1000\n",
            "3/3 - 0s - loss: 0.2159 - AUC: 0.9806 - accuracy: 0.9429 - val_loss: 0.6193 - val_AUC: 0.8244 - val_accuracy: 0.7000 - 80ms/epoch - 27ms/step\n",
            "Epoch 653/1000\n",
            "3/3 - 0s - loss: 0.2332 - AUC: 0.9642 - accuracy: 0.9357 - val_loss: 0.6193 - val_AUC: 0.8267 - val_accuracy: 0.7000 - 83ms/epoch - 28ms/step\n",
            "Epoch 654/1000\n",
            "3/3 - 0s - loss: 0.2399 - AUC: 0.9748 - accuracy: 0.9357 - val_loss: 0.6230 - val_AUC: 0.8267 - val_accuracy: 0.7000 - 80ms/epoch - 27ms/step\n",
            "Epoch 655/1000\n",
            "3/3 - 0s - loss: 0.2361 - AUC: 0.9669 - accuracy: 0.9429 - val_loss: 0.6220 - val_AUC: 0.8244 - val_accuracy: 0.7000 - 81ms/epoch - 27ms/step\n",
            "Epoch 656/1000\n",
            "3/3 - 0s - loss: 0.2463 - AUC: 0.9612 - accuracy: 0.9286 - val_loss: 0.6232 - val_AUC: 0.8222 - val_accuracy: 0.7000 - 85ms/epoch - 28ms/step\n",
            "Epoch 657/1000\n",
            "3/3 - 0s - loss: 0.2144 - AUC: 0.9776 - accuracy: 0.9571 - val_loss: 0.6236 - val_AUC: 0.8222 - val_accuracy: 0.7000 - 104ms/epoch - 35ms/step\n",
            "Epoch 658/1000\n",
            "3/3 - 0s - loss: 0.2511 - AUC: 0.9666 - accuracy: 0.9143 - val_loss: 0.6217 - val_AUC: 0.8222 - val_accuracy: 0.6667 - 100ms/epoch - 33ms/step\n",
            "Epoch 659/1000\n",
            "3/3 - 0s - loss: 0.2382 - AUC: 0.9710 - accuracy: 0.9214 - val_loss: 0.6208 - val_AUC: 0.8222 - val_accuracy: 0.6667 - 79ms/epoch - 26ms/step\n",
            "Epoch 660/1000\n",
            "3/3 - 0s - loss: 0.2179 - AUC: 0.9814 - accuracy: 0.9357 - val_loss: 0.6230 - val_AUC: 0.8200 - val_accuracy: 0.6667 - 73ms/epoch - 24ms/step\n",
            "Epoch 661/1000\n",
            "3/3 - 0s - loss: 0.2600 - AUC: 0.9572 - accuracy: 0.9071 - val_loss: 0.6255 - val_AUC: 0.8200 - val_accuracy: 0.6667 - 68ms/epoch - 23ms/step\n",
            "Epoch 662/1000\n",
            "3/3 - 0s - loss: 0.2103 - AUC: 0.9726 - accuracy: 0.9429 - val_loss: 0.6265 - val_AUC: 0.8200 - val_accuracy: 0.7000 - 75ms/epoch - 25ms/step\n",
            "Epoch 663/1000\n",
            "3/3 - 0s - loss: 0.1991 - AUC: 0.9838 - accuracy: 0.9571 - val_loss: 0.6265 - val_AUC: 0.8200 - val_accuracy: 0.6667 - 88ms/epoch - 29ms/step\n",
            "Epoch 664/1000\n",
            "3/3 - 0s - loss: 0.2277 - AUC: 0.9648 - accuracy: 0.9286 - val_loss: 0.6259 - val_AUC: 0.8200 - val_accuracy: 0.6667 - 84ms/epoch - 28ms/step\n",
            "Epoch 665/1000\n",
            "3/3 - 0s - loss: 0.2300 - AUC: 0.9649 - accuracy: 0.9429 - val_loss: 0.6214 - val_AUC: 0.8200 - val_accuracy: 0.6667 - 87ms/epoch - 29ms/step\n",
            "Epoch 666/1000\n",
            "3/3 - 0s - loss: 0.1958 - AUC: 0.9787 - accuracy: 0.9500 - val_loss: 0.6201 - val_AUC: 0.8200 - val_accuracy: 0.6667 - 93ms/epoch - 31ms/step\n",
            "Epoch 667/1000\n",
            "3/3 - 0s - loss: 0.2203 - AUC: 0.9710 - accuracy: 0.9286 - val_loss: 0.6176 - val_AUC: 0.8244 - val_accuracy: 0.7000 - 92ms/epoch - 31ms/step\n",
            "Epoch 668/1000\n",
            "3/3 - 0s - loss: 0.2113 - AUC: 0.9755 - accuracy: 0.9429 - val_loss: 0.6186 - val_AUC: 0.8200 - val_accuracy: 0.7000 - 73ms/epoch - 24ms/step\n",
            "Epoch 669/1000\n",
            "3/3 - 0s - loss: 0.2247 - AUC: 0.9739 - accuracy: 0.9357 - val_loss: 0.6209 - val_AUC: 0.8200 - val_accuracy: 0.7000 - 87ms/epoch - 29ms/step\n",
            "Epoch 670/1000\n",
            "3/3 - 0s - loss: 0.2228 - AUC: 0.9703 - accuracy: 0.9357 - val_loss: 0.6235 - val_AUC: 0.8222 - val_accuracy: 0.6667 - 88ms/epoch - 29ms/step\n",
            "Epoch 671/1000\n",
            "3/3 - 0s - loss: 0.2482 - AUC: 0.9610 - accuracy: 0.9071 - val_loss: 0.6235 - val_AUC: 0.8222 - val_accuracy: 0.6667 - 87ms/epoch - 29ms/step\n",
            "Epoch 672/1000\n",
            "3/3 - 0s - loss: 0.2021 - AUC: 0.9766 - accuracy: 0.9500 - val_loss: 0.6258 - val_AUC: 0.8222 - val_accuracy: 0.6667 - 85ms/epoch - 28ms/step\n",
            "Epoch 673/1000\n",
            "3/3 - 0s - loss: 0.2340 - AUC: 0.9671 - accuracy: 0.9357 - val_loss: 0.6269 - val_AUC: 0.8222 - val_accuracy: 0.6667 - 83ms/epoch - 28ms/step\n",
            "Epoch 674/1000\n",
            "3/3 - 0s - loss: 0.2143 - AUC: 0.9716 - accuracy: 0.9571 - val_loss: 0.6334 - val_AUC: 0.8200 - val_accuracy: 0.7000 - 79ms/epoch - 26ms/step\n",
            "Epoch 675/1000\n",
            "3/3 - 0s - loss: 0.2058 - AUC: 0.9800 - accuracy: 0.9429 - val_loss: 0.6354 - val_AUC: 0.8200 - val_accuracy: 0.7000 - 85ms/epoch - 28ms/step\n",
            "Epoch 676/1000\n",
            "3/3 - 0s - loss: 0.1889 - AUC: 0.9785 - accuracy: 0.9500 - val_loss: 0.6338 - val_AUC: 0.8178 - val_accuracy: 0.7000 - 88ms/epoch - 29ms/step\n",
            "Epoch 677/1000\n",
            "3/3 - 0s - loss: 0.2444 - AUC: 0.9553 - accuracy: 0.9286 - val_loss: 0.6318 - val_AUC: 0.8200 - val_accuracy: 0.7000 - 106ms/epoch - 35ms/step\n",
            "Epoch 678/1000\n",
            "3/3 - 0s - loss: 0.2349 - AUC: 0.9733 - accuracy: 0.9286 - val_loss: 0.6297 - val_AUC: 0.8200 - val_accuracy: 0.7000 - 101ms/epoch - 34ms/step\n",
            "Epoch 679/1000\n",
            "3/3 - 0s - loss: 0.2214 - AUC: 0.9707 - accuracy: 0.9429 - val_loss: 0.6289 - val_AUC: 0.8200 - val_accuracy: 0.7000 - 81ms/epoch - 27ms/step\n",
            "Epoch 680/1000\n",
            "3/3 - 0s - loss: 0.1891 - AUC: 0.9855 - accuracy: 0.9714 - val_loss: 0.6292 - val_AUC: 0.8200 - val_accuracy: 0.7000 - 89ms/epoch - 30ms/step\n",
            "Epoch 681/1000\n",
            "3/3 - 0s - loss: 0.2106 - AUC: 0.9761 - accuracy: 0.9357 - val_loss: 0.6283 - val_AUC: 0.8244 - val_accuracy: 0.7000 - 82ms/epoch - 27ms/step\n",
            "Epoch 682/1000\n",
            "3/3 - 0s - loss: 0.2174 - AUC: 0.9690 - accuracy: 0.9571 - val_loss: 0.6263 - val_AUC: 0.8244 - val_accuracy: 0.6667 - 63ms/epoch - 21ms/step\n",
            "Epoch 683/1000\n",
            "3/3 - 0s - loss: 0.2063 - AUC: 0.9767 - accuracy: 0.9571 - val_loss: 0.6264 - val_AUC: 0.8244 - val_accuracy: 0.6667 - 64ms/epoch - 21ms/step\n",
            "Epoch 684/1000\n",
            "3/3 - 0s - loss: 0.2110 - AUC: 0.9776 - accuracy: 0.9214 - val_loss: 0.6271 - val_AUC: 0.8244 - val_accuracy: 0.6667 - 47ms/epoch - 16ms/step\n",
            "Epoch 685/1000\n",
            "3/3 - 0s - loss: 0.2236 - AUC: 0.9694 - accuracy: 0.9357 - val_loss: 0.6292 - val_AUC: 0.8289 - val_accuracy: 0.6667 - 51ms/epoch - 17ms/step\n",
            "Epoch 686/1000\n",
            "3/3 - 0s - loss: 0.2396 - AUC: 0.9658 - accuracy: 0.9143 - val_loss: 0.6311 - val_AUC: 0.8244 - val_accuracy: 0.6667 - 68ms/epoch - 23ms/step\n",
            "Epoch 687/1000\n",
            "3/3 - 0s - loss: 0.2182 - AUC: 0.9785 - accuracy: 0.9357 - val_loss: 0.6297 - val_AUC: 0.8289 - val_accuracy: 0.6667 - 68ms/epoch - 23ms/step\n",
            "Epoch 688/1000\n",
            "3/3 - 0s - loss: 0.2047 - AUC: 0.9793 - accuracy: 0.9357 - val_loss: 0.6304 - val_AUC: 0.8244 - val_accuracy: 0.6667 - 48ms/epoch - 16ms/step\n",
            "Epoch 689/1000\n",
            "3/3 - 0s - loss: 0.2203 - AUC: 0.9723 - accuracy: 0.9143 - val_loss: 0.6345 - val_AUC: 0.8244 - val_accuracy: 0.7000 - 50ms/epoch - 17ms/step\n",
            "Epoch 690/1000\n",
            "3/3 - 0s - loss: 0.2091 - AUC: 0.9680 - accuracy: 0.9500 - val_loss: 0.6392 - val_AUC: 0.8244 - val_accuracy: 0.7000 - 51ms/epoch - 17ms/step\n",
            "Epoch 691/1000\n",
            "3/3 - 0s - loss: 0.2137 - AUC: 0.9715 - accuracy: 0.9357 - val_loss: 0.6377 - val_AUC: 0.8244 - val_accuracy: 0.7000 - 73ms/epoch - 24ms/step\n",
            "Epoch 692/1000\n",
            "3/3 - 0s - loss: 0.2187 - AUC: 0.9660 - accuracy: 0.9429 - val_loss: 0.6288 - val_AUC: 0.8222 - val_accuracy: 0.6667 - 67ms/epoch - 22ms/step\n",
            "Epoch 693/1000\n",
            "3/3 - 0s - loss: 0.2091 - AUC: 0.9822 - accuracy: 0.9357 - val_loss: 0.6210 - val_AUC: 0.8133 - val_accuracy: 0.7000 - 59ms/epoch - 20ms/step\n",
            "Epoch 694/1000\n",
            "3/3 - 0s - loss: 0.2000 - AUC: 0.9762 - accuracy: 0.9643 - val_loss: 0.6195 - val_AUC: 0.8133 - val_accuracy: 0.6667 - 62ms/epoch - 21ms/step\n",
            "Epoch 695/1000\n",
            "3/3 - 0s - loss: 0.2294 - AUC: 0.9679 - accuracy: 0.9429 - val_loss: 0.6231 - val_AUC: 0.8067 - val_accuracy: 0.7000 - 47ms/epoch - 16ms/step\n",
            "Epoch 696/1000\n",
            "3/3 - 0s - loss: 0.1757 - AUC: 0.9921 - accuracy: 0.9429 - val_loss: 0.6294 - val_AUC: 0.8200 - val_accuracy: 0.6667 - 53ms/epoch - 18ms/step\n",
            "Epoch 697/1000\n",
            "3/3 - 0s - loss: 0.2013 - AUC: 0.9736 - accuracy: 0.9500 - val_loss: 0.6352 - val_AUC: 0.8178 - val_accuracy: 0.6667 - 65ms/epoch - 22ms/step\n",
            "Epoch 698/1000\n",
            "3/3 - 0s - loss: 0.2134 - AUC: 0.9727 - accuracy: 0.9286 - val_loss: 0.6421 - val_AUC: 0.8200 - val_accuracy: 0.6667 - 46ms/epoch - 15ms/step\n",
            "Epoch 699/1000\n",
            "3/3 - 0s - loss: 0.2071 - AUC: 0.9808 - accuracy: 0.9357 - val_loss: 0.6462 - val_AUC: 0.8156 - val_accuracy: 0.6667 - 64ms/epoch - 21ms/step\n",
            "Epoch 700/1000\n",
            "3/3 - 0s - loss: 0.2212 - AUC: 0.9777 - accuracy: 0.9500 - val_loss: 0.6435 - val_AUC: 0.8200 - val_accuracy: 0.7000 - 48ms/epoch - 16ms/step\n",
            "Epoch 701/1000\n",
            "3/3 - 0s - loss: 0.1970 - AUC: 0.9744 - accuracy: 0.9429 - val_loss: 0.6369 - val_AUC: 0.8178 - val_accuracy: 0.7000 - 68ms/epoch - 23ms/step\n",
            "Epoch 702/1000\n",
            "3/3 - 0s - loss: 0.1977 - AUC: 0.9801 - accuracy: 0.9500 - val_loss: 0.6353 - val_AUC: 0.8178 - val_accuracy: 0.6667 - 47ms/epoch - 16ms/step\n",
            "Epoch 703/1000\n",
            "3/3 - 0s - loss: 0.2223 - AUC: 0.9654 - accuracy: 0.9286 - val_loss: 0.6311 - val_AUC: 0.8089 - val_accuracy: 0.6667 - 61ms/epoch - 20ms/step\n",
            "Epoch 704/1000\n",
            "3/3 - 0s - loss: 0.2128 - AUC: 0.9718 - accuracy: 0.9429 - val_loss: 0.6322 - val_AUC: 0.8067 - val_accuracy: 0.6667 - 50ms/epoch - 17ms/step\n",
            "Epoch 705/1000\n",
            "3/3 - 0s - loss: 0.2118 - AUC: 0.9760 - accuracy: 0.9500 - val_loss: 0.6326 - val_AUC: 0.8133 - val_accuracy: 0.6667 - 51ms/epoch - 17ms/step\n",
            "Epoch 706/1000\n",
            "3/3 - 0s - loss: 0.1980 - AUC: 0.9712 - accuracy: 0.9500 - val_loss: 0.6353 - val_AUC: 0.8178 - val_accuracy: 0.7000 - 55ms/epoch - 18ms/step\n",
            "Epoch 707/1000\n",
            "3/3 - 0s - loss: 0.2016 - AUC: 0.9788 - accuracy: 0.9429 - val_loss: 0.6425 - val_AUC: 0.8244 - val_accuracy: 0.7000 - 85ms/epoch - 28ms/step\n",
            "Epoch 708/1000\n",
            "3/3 - 0s - loss: 0.2265 - AUC: 0.9654 - accuracy: 0.9143 - val_loss: 0.6438 - val_AUC: 0.8222 - val_accuracy: 0.7000 - 75ms/epoch - 25ms/step\n",
            "Epoch 709/1000\n",
            "3/3 - 0s - loss: 0.2159 - AUC: 0.9714 - accuracy: 0.9357 - val_loss: 0.6404 - val_AUC: 0.8222 - val_accuracy: 0.7000 - 53ms/epoch - 18ms/step\n",
            "Epoch 710/1000\n",
            "3/3 - 0s - loss: 0.1882 - AUC: 0.9817 - accuracy: 0.9500 - val_loss: 0.6385 - val_AUC: 0.8222 - val_accuracy: 0.7000 - 49ms/epoch - 16ms/step\n",
            "Epoch 711/1000\n",
            "3/3 - 0s - loss: 0.2017 - AUC: 0.9759 - accuracy: 0.9786 - val_loss: 0.6409 - val_AUC: 0.8267 - val_accuracy: 0.7000 - 64ms/epoch - 21ms/step\n",
            "Epoch 712/1000\n",
            "3/3 - 0s - loss: 0.1975 - AUC: 0.9819 - accuracy: 0.9714 - val_loss: 0.6413 - val_AUC: 0.8267 - val_accuracy: 0.7000 - 69ms/epoch - 23ms/step\n",
            "Epoch 713/1000\n",
            "3/3 - 0s - loss: 0.1786 - AUC: 0.9834 - accuracy: 0.9429 - val_loss: 0.6415 - val_AUC: 0.8222 - val_accuracy: 0.7000 - 64ms/epoch - 21ms/step\n",
            "Epoch 714/1000\n",
            "3/3 - 0s - loss: 0.1835 - AUC: 0.9785 - accuracy: 0.9714 - val_loss: 0.6394 - val_AUC: 0.8200 - val_accuracy: 0.7000 - 50ms/epoch - 17ms/step\n",
            "Epoch 715/1000\n",
            "3/3 - 0s - loss: 0.2050 - AUC: 0.9746 - accuracy: 0.9429 - val_loss: 0.6387 - val_AUC: 0.8200 - val_accuracy: 0.7000 - 65ms/epoch - 22ms/step\n",
            "Epoch 716/1000\n",
            "3/3 - 0s - loss: 0.1848 - AUC: 0.9834 - accuracy: 0.9286 - val_loss: 0.6427 - val_AUC: 0.8222 - val_accuracy: 0.7000 - 51ms/epoch - 17ms/step\n",
            "Epoch 717/1000\n",
            "3/3 - 0s - loss: 0.1987 - AUC: 0.9800 - accuracy: 0.9357 - val_loss: 0.6390 - val_AUC: 0.8200 - val_accuracy: 0.7000 - 51ms/epoch - 17ms/step\n",
            "Epoch 718/1000\n",
            "3/3 - 0s - loss: 0.2035 - AUC: 0.9745 - accuracy: 0.9643 - val_loss: 0.6334 - val_AUC: 0.8178 - val_accuracy: 0.6667 - 51ms/epoch - 17ms/step\n",
            "Epoch 719/1000\n",
            "3/3 - 0s - loss: 0.2086 - AUC: 0.9654 - accuracy: 0.9500 - val_loss: 0.6344 - val_AUC: 0.8244 - val_accuracy: 0.7000 - 54ms/epoch - 18ms/step\n",
            "Epoch 720/1000\n",
            "3/3 - 0s - loss: 0.2015 - AUC: 0.9754 - accuracy: 0.9357 - val_loss: 0.6353 - val_AUC: 0.8289 - val_accuracy: 0.7000 - 66ms/epoch - 22ms/step\n",
            "Epoch 721/1000\n",
            "3/3 - 0s - loss: 0.1865 - AUC: 0.9808 - accuracy: 0.9571 - val_loss: 0.6410 - val_AUC: 0.8333 - val_accuracy: 0.7000 - 64ms/epoch - 21ms/step\n",
            "Epoch 722/1000\n",
            "3/3 - 0s - loss: 0.1982 - AUC: 0.9800 - accuracy: 0.9500 - val_loss: 0.6487 - val_AUC: 0.8289 - val_accuracy: 0.7333 - 77ms/epoch - 26ms/step\n",
            "Epoch 723/1000\n",
            "3/3 - 0s - loss: 0.1955 - AUC: 0.9783 - accuracy: 0.9571 - val_loss: 0.6597 - val_AUC: 0.8289 - val_accuracy: 0.7000 - 66ms/epoch - 22ms/step\n",
            "Epoch 724/1000\n",
            "3/3 - 0s - loss: 0.1954 - AUC: 0.9791 - accuracy: 0.9429 - val_loss: 0.6613 - val_AUC: 0.8289 - val_accuracy: 0.7000 - 58ms/epoch - 19ms/step\n",
            "Epoch 725/1000\n",
            "3/3 - 0s - loss: 0.1914 - AUC: 0.9779 - accuracy: 0.9643 - val_loss: 0.6565 - val_AUC: 0.8267 - val_accuracy: 0.7000 - 68ms/epoch - 23ms/step\n",
            "Epoch 726/1000\n",
            "3/3 - 0s - loss: 0.1805 - AUC: 0.9761 - accuracy: 0.9714 - val_loss: 0.6522 - val_AUC: 0.8200 - val_accuracy: 0.7333 - 63ms/epoch - 21ms/step\n",
            "Epoch 727/1000\n",
            "3/3 - 0s - loss: 0.1805 - AUC: 0.9830 - accuracy: 0.9643 - val_loss: 0.6490 - val_AUC: 0.8111 - val_accuracy: 0.7000 - 64ms/epoch - 21ms/step\n",
            "Epoch 728/1000\n",
            "3/3 - 0s - loss: 0.2340 - AUC: 0.9668 - accuracy: 0.9429 - val_loss: 0.6475 - val_AUC: 0.8022 - val_accuracy: 0.7000 - 49ms/epoch - 16ms/step\n",
            "Epoch 729/1000\n",
            "3/3 - 0s - loss: 0.2051 - AUC: 0.9745 - accuracy: 0.9500 - val_loss: 0.6461 - val_AUC: 0.7956 - val_accuracy: 0.7000 - 61ms/epoch - 20ms/step\n",
            "Epoch 730/1000\n",
            "3/3 - 0s - loss: 0.1951 - AUC: 0.9844 - accuracy: 0.9214 - val_loss: 0.6422 - val_AUC: 0.8044 - val_accuracy: 0.6667 - 68ms/epoch - 23ms/step\n",
            "Epoch 731/1000\n",
            "3/3 - 0s - loss: 0.2125 - AUC: 0.9717 - accuracy: 0.9357 - val_loss: 0.6378 - val_AUC: 0.8022 - val_accuracy: 0.6667 - 50ms/epoch - 17ms/step\n",
            "Epoch 732/1000\n",
            "3/3 - 0s - loss: 0.1864 - AUC: 0.9814 - accuracy: 0.9714 - val_loss: 0.6366 - val_AUC: 0.8044 - val_accuracy: 0.6333 - 62ms/epoch - 21ms/step\n",
            "Epoch 733/1000\n",
            "3/3 - 0s - loss: 0.1849 - AUC: 0.9790 - accuracy: 0.9571 - val_loss: 0.6353 - val_AUC: 0.8044 - val_accuracy: 0.6667 - 54ms/epoch - 18ms/step\n",
            "Epoch 734/1000\n",
            "3/3 - 0s - loss: 0.2043 - AUC: 0.9679 - accuracy: 0.9500 - val_loss: 0.6410 - val_AUC: 0.8133 - val_accuracy: 0.7000 - 51ms/epoch - 17ms/step\n",
            "Epoch 735/1000\n",
            "3/3 - 0s - loss: 0.2008 - AUC: 0.9859 - accuracy: 0.9429 - val_loss: 0.6511 - val_AUC: 0.8200 - val_accuracy: 0.7000 - 50ms/epoch - 17ms/step\n",
            "Epoch 736/1000\n",
            "3/3 - 0s - loss: 0.1901 - AUC: 0.9749 - accuracy: 0.9500 - val_loss: 0.6593 - val_AUC: 0.8244 - val_accuracy: 0.6667 - 60ms/epoch - 20ms/step\n",
            "Epoch 737/1000\n",
            "3/3 - 0s - loss: 0.2015 - AUC: 0.9662 - accuracy: 0.9500 - val_loss: 0.6607 - val_AUC: 0.8244 - val_accuracy: 0.6667 - 83ms/epoch - 28ms/step\n",
            "Epoch 738/1000\n",
            "3/3 - 0s - loss: 0.2001 - AUC: 0.9821 - accuracy: 0.9500 - val_loss: 0.6604 - val_AUC: 0.8244 - val_accuracy: 0.7000 - 79ms/epoch - 26ms/step\n",
            "Epoch 739/1000\n",
            "3/3 - 0s - loss: 0.1828 - AUC: 0.9848 - accuracy: 0.9429 - val_loss: 0.6587 - val_AUC: 0.8133 - val_accuracy: 0.7000 - 56ms/epoch - 19ms/step\n",
            "Epoch 740/1000\n",
            "3/3 - 0s - loss: 0.1920 - AUC: 0.9821 - accuracy: 0.9571 - val_loss: 0.6541 - val_AUC: 0.8067 - val_accuracy: 0.7000 - 51ms/epoch - 17ms/step\n",
            "Epoch 741/1000\n",
            "3/3 - 0s - loss: 0.2065 - AUC: 0.9705 - accuracy: 0.9429 - val_loss: 0.6514 - val_AUC: 0.8044 - val_accuracy: 0.7000 - 49ms/epoch - 16ms/step\n",
            "Epoch 742/1000\n",
            "3/3 - 0s - loss: 0.1930 - AUC: 0.9837 - accuracy: 0.9429 - val_loss: 0.6531 - val_AUC: 0.8044 - val_accuracy: 0.7000 - 55ms/epoch - 18ms/step\n",
            "Epoch 743/1000\n",
            "3/3 - 0s - loss: 0.1799 - AUC: 0.9856 - accuracy: 0.9643 - val_loss: 0.6566 - val_AUC: 0.8022 - val_accuracy: 0.7000 - 56ms/epoch - 19ms/step\n",
            "Epoch 744/1000\n",
            "3/3 - 0s - loss: 0.1776 - AUC: 0.9860 - accuracy: 0.9429 - val_loss: 0.6577 - val_AUC: 0.8067 - val_accuracy: 0.7000 - 48ms/epoch - 16ms/step\n",
            "Epoch 745/1000\n",
            "3/3 - 0s - loss: 0.1843 - AUC: 0.9813 - accuracy: 0.9429 - val_loss: 0.6585 - val_AUC: 0.8044 - val_accuracy: 0.7000 - 65ms/epoch - 22ms/step\n",
            "Epoch 746/1000\n",
            "3/3 - 0s - loss: 0.2060 - AUC: 0.9747 - accuracy: 0.9429 - val_loss: 0.6568 - val_AUC: 0.8111 - val_accuracy: 0.7000 - 50ms/epoch - 17ms/step\n",
            "Epoch 747/1000\n",
            "3/3 - 0s - loss: 0.1906 - AUC: 0.9800 - accuracy: 0.9643 - val_loss: 0.6541 - val_AUC: 0.8111 - val_accuracy: 0.7000 - 60ms/epoch - 20ms/step\n",
            "Epoch 748/1000\n",
            "3/3 - 0s - loss: 0.1912 - AUC: 0.9822 - accuracy: 0.9571 - val_loss: 0.6574 - val_AUC: 0.8156 - val_accuracy: 0.6667 - 52ms/epoch - 17ms/step\n",
            "Epoch 749/1000\n",
            "3/3 - 0s - loss: 0.2160 - AUC: 0.9694 - accuracy: 0.9429 - val_loss: 0.6614 - val_AUC: 0.8156 - val_accuracy: 0.6667 - 47ms/epoch - 16ms/step\n",
            "Epoch 750/1000\n",
            "3/3 - 0s - loss: 0.1912 - AUC: 0.9838 - accuracy: 0.9500 - val_loss: 0.6680 - val_AUC: 0.8244 - val_accuracy: 0.7000 - 53ms/epoch - 18ms/step\n",
            "Epoch 751/1000\n",
            "3/3 - 0s - loss: 0.1720 - AUC: 0.9846 - accuracy: 0.9571 - val_loss: 0.6688 - val_AUC: 0.8200 - val_accuracy: 0.7000 - 65ms/epoch - 22ms/step\n",
            "Epoch 752/1000\n",
            "3/3 - 0s - loss: 0.1690 - AUC: 0.9858 - accuracy: 0.9571 - val_loss: 0.6665 - val_AUC: 0.8178 - val_accuracy: 0.7000 - 80ms/epoch - 27ms/step\n",
            "Epoch 753/1000\n",
            "3/3 - 0s - loss: 0.1970 - AUC: 0.9688 - accuracy: 0.9571 - val_loss: 0.6662 - val_AUC: 0.8178 - val_accuracy: 0.7000 - 66ms/epoch - 22ms/step\n",
            "Epoch 754/1000\n",
            "3/3 - 0s - loss: 0.1921 - AUC: 0.9738 - accuracy: 0.9429 - val_loss: 0.6634 - val_AUC: 0.8222 - val_accuracy: 0.7000 - 75ms/epoch - 25ms/step\n",
            "Epoch 755/1000\n",
            "3/3 - 0s - loss: 0.2211 - AUC: 0.9685 - accuracy: 0.9357 - val_loss: 0.6566 - val_AUC: 0.8133 - val_accuracy: 0.7000 - 65ms/epoch - 22ms/step\n",
            "Epoch 756/1000\n",
            "3/3 - 0s - loss: 0.1542 - AUC: 0.9913 - accuracy: 0.9643 - val_loss: 0.6549 - val_AUC: 0.8178 - val_accuracy: 0.7000 - 64ms/epoch - 21ms/step\n",
            "Epoch 757/1000\n",
            "3/3 - 0s - loss: 0.2029 - AUC: 0.9753 - accuracy: 0.9357 - val_loss: 0.6509 - val_AUC: 0.8178 - val_accuracy: 0.7000 - 58ms/epoch - 19ms/step\n",
            "Epoch 758/1000\n",
            "3/3 - 0s - loss: 0.2106 - AUC: 0.9728 - accuracy: 0.9500 - val_loss: 0.6487 - val_AUC: 0.8133 - val_accuracy: 0.7000 - 67ms/epoch - 22ms/step\n",
            "Epoch 759/1000\n",
            "3/3 - 0s - loss: 0.1743 - AUC: 0.9904 - accuracy: 0.9429 - val_loss: 0.6463 - val_AUC: 0.8200 - val_accuracy: 0.7000 - 66ms/epoch - 22ms/step\n",
            "Epoch 760/1000\n",
            "3/3 - 0s - loss: 0.1835 - AUC: 0.9846 - accuracy: 0.9571 - val_loss: 0.6480 - val_AUC: 0.8133 - val_accuracy: 0.7000 - 50ms/epoch - 17ms/step\n",
            "Epoch 761/1000\n",
            "3/3 - 0s - loss: 0.1906 - AUC: 0.9726 - accuracy: 0.9429 - val_loss: 0.6528 - val_AUC: 0.8111 - val_accuracy: 0.7000 - 50ms/epoch - 17ms/step\n",
            "Epoch 762/1000\n",
            "3/3 - 0s - loss: 0.1696 - AUC: 0.9905 - accuracy: 0.9500 - val_loss: 0.6585 - val_AUC: 0.8111 - val_accuracy: 0.7000 - 51ms/epoch - 17ms/step\n",
            "Epoch 763/1000\n",
            "3/3 - 0s - loss: 0.2190 - AUC: 0.9680 - accuracy: 0.9429 - val_loss: 0.6662 - val_AUC: 0.8133 - val_accuracy: 0.6667 - 70ms/epoch - 23ms/step\n",
            "Epoch 764/1000\n",
            "3/3 - 0s - loss: 0.1861 - AUC: 0.9794 - accuracy: 0.9500 - val_loss: 0.6682 - val_AUC: 0.8133 - val_accuracy: 0.7000 - 54ms/epoch - 18ms/step\n",
            "Epoch 765/1000\n",
            "3/3 - 0s - loss: 0.1848 - AUC: 0.9763 - accuracy: 0.9500 - val_loss: 0.6630 - val_AUC: 0.8111 - val_accuracy: 0.7333 - 64ms/epoch - 21ms/step\n",
            "Epoch 766/1000\n",
            "3/3 - 0s - loss: 0.1623 - AUC: 0.9872 - accuracy: 0.9643 - val_loss: 0.6614 - val_AUC: 0.8111 - val_accuracy: 0.7333 - 62ms/epoch - 21ms/step\n",
            "Epoch 767/1000\n",
            "3/3 - 0s - loss: 0.1758 - AUC: 0.9809 - accuracy: 0.9714 - val_loss: 0.6584 - val_AUC: 0.8067 - val_accuracy: 0.7000 - 82ms/epoch - 27ms/step\n",
            "Epoch 768/1000\n",
            "3/3 - 0s - loss: 0.1566 - AUC: 0.9899 - accuracy: 0.9571 - val_loss: 0.6571 - val_AUC: 0.8067 - val_accuracy: 0.7000 - 57ms/epoch - 19ms/step\n",
            "Epoch 769/1000\n",
            "3/3 - 0s - loss: 0.2092 - AUC: 0.9640 - accuracy: 0.9357 - val_loss: 0.6590 - val_AUC: 0.8089 - val_accuracy: 0.7000 - 93ms/epoch - 31ms/step\n",
            "Epoch 770/1000\n",
            "3/3 - 0s - loss: 0.1711 - AUC: 0.9820 - accuracy: 0.9643 - val_loss: 0.6649 - val_AUC: 0.8067 - val_accuracy: 0.7000 - 51ms/epoch - 17ms/step\n",
            "Epoch 771/1000\n",
            "3/3 - 0s - loss: 0.1761 - AUC: 0.9819 - accuracy: 0.9429 - val_loss: 0.6660 - val_AUC: 0.8067 - val_accuracy: 0.7000 - 52ms/epoch - 17ms/step\n",
            "Epoch 772/1000\n",
            "3/3 - 0s - loss: 0.1878 - AUC: 0.9745 - accuracy: 0.9571 - val_loss: 0.6651 - val_AUC: 0.8022 - val_accuracy: 0.7000 - 68ms/epoch - 23ms/step\n",
            "Epoch 773/1000\n",
            "3/3 - 0s - loss: 0.1995 - AUC: 0.9723 - accuracy: 0.9357 - val_loss: 0.6634 - val_AUC: 0.7978 - val_accuracy: 0.7000 - 51ms/epoch - 17ms/step\n",
            "Epoch 774/1000\n",
            "3/3 - 0s - loss: 0.1797 - AUC: 0.9844 - accuracy: 0.9357 - val_loss: 0.6619 - val_AUC: 0.8111 - val_accuracy: 0.7000 - 58ms/epoch - 19ms/step\n",
            "Epoch 775/1000\n",
            "3/3 - 0s - loss: 0.1873 - AUC: 0.9782 - accuracy: 0.9571 - val_loss: 0.6650 - val_AUC: 0.8067 - val_accuracy: 0.7000 - 55ms/epoch - 18ms/step\n",
            "Epoch 776/1000\n",
            "3/3 - 0s - loss: 0.1714 - AUC: 0.9789 - accuracy: 0.9500 - val_loss: 0.6684 - val_AUC: 0.8133 - val_accuracy: 0.6667 - 62ms/epoch - 21ms/step\n",
            "Epoch 777/1000\n",
            "3/3 - 0s - loss: 0.2147 - AUC: 0.9644 - accuracy: 0.9429 - val_loss: 0.6623 - val_AUC: 0.8156 - val_accuracy: 0.7000 - 51ms/epoch - 17ms/step\n",
            "Epoch 778/1000\n",
            "3/3 - 0s - loss: 0.1899 - AUC: 0.9777 - accuracy: 0.9357 - val_loss: 0.6518 - val_AUC: 0.8133 - val_accuracy: 0.7000 - 65ms/epoch - 22ms/step\n",
            "Epoch 779/1000\n",
            "3/3 - 0s - loss: 0.1910 - AUC: 0.9839 - accuracy: 0.9429 - val_loss: 0.6440 - val_AUC: 0.8156 - val_accuracy: 0.7000 - 51ms/epoch - 17ms/step\n",
            "Epoch 780/1000\n",
            "3/3 - 0s - loss: 0.1758 - AUC: 0.9842 - accuracy: 0.9643 - val_loss: 0.6407 - val_AUC: 0.8133 - val_accuracy: 0.7000 - 52ms/epoch - 17ms/step\n",
            "Epoch 781/1000\n",
            "3/3 - 0s - loss: 0.1788 - AUC: 0.9790 - accuracy: 0.9500 - val_loss: 0.6417 - val_AUC: 0.8133 - val_accuracy: 0.7000 - 72ms/epoch - 24ms/step\n",
            "Epoch 782/1000\n",
            "3/3 - 0s - loss: 0.1977 - AUC: 0.9689 - accuracy: 0.9643 - val_loss: 0.6471 - val_AUC: 0.8178 - val_accuracy: 0.7000 - 78ms/epoch - 26ms/step\n",
            "Epoch 783/1000\n",
            "3/3 - 0s - loss: 0.1966 - AUC: 0.9793 - accuracy: 0.9500 - val_loss: 0.6593 - val_AUC: 0.8222 - val_accuracy: 0.7333 - 69ms/epoch - 23ms/step\n",
            "Epoch 784/1000\n",
            "3/3 - 0s - loss: 0.2055 - AUC: 0.9707 - accuracy: 0.9500 - val_loss: 0.6727 - val_AUC: 0.8267 - val_accuracy: 0.7000 - 60ms/epoch - 20ms/step\n",
            "Epoch 785/1000\n",
            "3/3 - 0s - loss: 0.1735 - AUC: 0.9856 - accuracy: 0.9429 - val_loss: 0.6831 - val_AUC: 0.8289 - val_accuracy: 0.7000 - 50ms/epoch - 17ms/step\n",
            "Epoch 786/1000\n",
            "3/3 - 0s - loss: 0.1716 - AUC: 0.9763 - accuracy: 0.9786 - val_loss: 0.6819 - val_AUC: 0.8289 - val_accuracy: 0.7000 - 52ms/epoch - 17ms/step\n",
            "Epoch 787/1000\n",
            "3/3 - 0s - loss: 0.1881 - AUC: 0.9802 - accuracy: 0.9357 - val_loss: 0.6761 - val_AUC: 0.8267 - val_accuracy: 0.7000 - 51ms/epoch - 17ms/step\n",
            "Epoch 788/1000\n",
            "3/3 - 0s - loss: 0.1858 - AUC: 0.9769 - accuracy: 0.9429 - val_loss: 0.6609 - val_AUC: 0.8111 - val_accuracy: 0.7000 - 51ms/epoch - 17ms/step\n",
            "Epoch 789/1000\n",
            "3/3 - 0s - loss: 0.1710 - AUC: 0.9872 - accuracy: 0.9429 - val_loss: 0.6553 - val_AUC: 0.8089 - val_accuracy: 0.7000 - 49ms/epoch - 16ms/step\n",
            "Epoch 790/1000\n",
            "3/3 - 0s - loss: 0.1606 - AUC: 0.9862 - accuracy: 0.9643 - val_loss: 0.6539 - val_AUC: 0.8089 - val_accuracy: 0.7000 - 64ms/epoch - 21ms/step\n",
            "Epoch 791/1000\n",
            "3/3 - 0s - loss: 0.1964 - AUC: 0.9788 - accuracy: 0.9429 - val_loss: 0.6593 - val_AUC: 0.8089 - val_accuracy: 0.7000 - 64ms/epoch - 21ms/step\n",
            "Epoch 792/1000\n",
            "3/3 - 0s - loss: 0.1826 - AUC: 0.9713 - accuracy: 0.9571 - val_loss: 0.6659 - val_AUC: 0.8044 - val_accuracy: 0.7000 - 66ms/epoch - 22ms/step\n",
            "Epoch 793/1000\n",
            "3/3 - 0s - loss: 0.1594 - AUC: 0.9849 - accuracy: 0.9643 - val_loss: 0.6711 - val_AUC: 0.8156 - val_accuracy: 0.7000 - 51ms/epoch - 17ms/step\n",
            "Epoch 794/1000\n",
            "3/3 - 0s - loss: 0.1980 - AUC: 0.9717 - accuracy: 0.9357 - val_loss: 0.6728 - val_AUC: 0.8178 - val_accuracy: 0.7000 - 69ms/epoch - 23ms/step\n",
            "Epoch 795/1000\n",
            "3/3 - 0s - loss: 0.1672 - AUC: 0.9869 - accuracy: 0.9500 - val_loss: 0.6715 - val_AUC: 0.8178 - val_accuracy: 0.7000 - 55ms/epoch - 18ms/step\n",
            "Epoch 796/1000\n",
            "3/3 - 0s - loss: 0.2002 - AUC: 0.9764 - accuracy: 0.9429 - val_loss: 0.6622 - val_AUC: 0.8178 - val_accuracy: 0.7333 - 71ms/epoch - 24ms/step\n",
            "Epoch 797/1000\n",
            "3/3 - 0s - loss: 0.1708 - AUC: 0.9836 - accuracy: 0.9571 - val_loss: 0.6538 - val_AUC: 0.8156 - val_accuracy: 0.7333 - 80ms/epoch - 27ms/step\n",
            "Epoch 798/1000\n",
            "3/3 - 0s - loss: 0.1658 - AUC: 0.9908 - accuracy: 0.9643 - val_loss: 0.6482 - val_AUC: 0.8133 - val_accuracy: 0.7000 - 67ms/epoch - 22ms/step\n",
            "Epoch 799/1000\n",
            "3/3 - 0s - loss: 0.1806 - AUC: 0.9790 - accuracy: 0.9643 - val_loss: 0.6470 - val_AUC: 0.8133 - val_accuracy: 0.7000 - 83ms/epoch - 28ms/step\n",
            "Epoch 800/1000\n",
            "3/3 - 0s - loss: 0.1818 - AUC: 0.9810 - accuracy: 0.9500 - val_loss: 0.6492 - val_AUC: 0.8133 - val_accuracy: 0.7000 - 71ms/epoch - 24ms/step\n",
            "Epoch 801/1000\n",
            "3/3 - 0s - loss: 0.1611 - AUC: 0.9827 - accuracy: 0.9571 - val_loss: 0.6551 - val_AUC: 0.8178 - val_accuracy: 0.7000 - 65ms/epoch - 22ms/step\n",
            "Epoch 802/1000\n",
            "3/3 - 0s - loss: 0.1657 - AUC: 0.9766 - accuracy: 0.9643 - val_loss: 0.6581 - val_AUC: 0.8089 - val_accuracy: 0.7333 - 52ms/epoch - 17ms/step\n",
            "Epoch 803/1000\n",
            "3/3 - 0s - loss: 0.1602 - AUC: 0.9855 - accuracy: 0.9643 - val_loss: 0.6617 - val_AUC: 0.8178 - val_accuracy: 0.7333 - 63ms/epoch - 21ms/step\n",
            "Epoch 804/1000\n",
            "3/3 - 0s - loss: 0.1992 - AUC: 0.9768 - accuracy: 0.9143 - val_loss: 0.6621 - val_AUC: 0.8156 - val_accuracy: 0.7333 - 50ms/epoch - 17ms/step\n",
            "Epoch 805/1000\n",
            "3/3 - 0s - loss: 0.1522 - AUC: 0.9885 - accuracy: 0.9643 - val_loss: 0.6628 - val_AUC: 0.8111 - val_accuracy: 0.7333 - 63ms/epoch - 21ms/step\n",
            "Epoch 806/1000\n",
            "3/3 - 0s - loss: 0.1560 - AUC: 0.9910 - accuracy: 0.9571 - val_loss: 0.6654 - val_AUC: 0.8089 - val_accuracy: 0.7333 - 55ms/epoch - 18ms/step\n",
            "Epoch 807/1000\n",
            "3/3 - 0s - loss: 0.1901 - AUC: 0.9818 - accuracy: 0.9571 - val_loss: 0.6691 - val_AUC: 0.8089 - val_accuracy: 0.7000 - 63ms/epoch - 21ms/step\n",
            "Epoch 808/1000\n",
            "3/3 - 0s - loss: 0.1591 - AUC: 0.9846 - accuracy: 0.9571 - val_loss: 0.6714 - val_AUC: 0.8111 - val_accuracy: 0.7000 - 47ms/epoch - 16ms/step\n",
            "Epoch 809/1000\n",
            "3/3 - 0s - loss: 0.1673 - AUC: 0.9827 - accuracy: 0.9571 - val_loss: 0.6747 - val_AUC: 0.8156 - val_accuracy: 0.7000 - 67ms/epoch - 22ms/step\n",
            "Epoch 810/1000\n",
            "3/3 - 0s - loss: 0.1599 - AUC: 0.9874 - accuracy: 0.9571 - val_loss: 0.6780 - val_AUC: 0.8178 - val_accuracy: 0.7000 - 66ms/epoch - 22ms/step\n",
            "Epoch 811/1000\n",
            "3/3 - 0s - loss: 0.1686 - AUC: 0.9836 - accuracy: 0.9714 - val_loss: 0.6779 - val_AUC: 0.8178 - val_accuracy: 0.7000 - 91ms/epoch - 30ms/step\n",
            "Epoch 812/1000\n",
            "3/3 - 0s - loss: 0.1631 - AUC: 0.9807 - accuracy: 0.9643 - val_loss: 0.6783 - val_AUC: 0.8133 - val_accuracy: 0.7000 - 63ms/epoch - 21ms/step\n",
            "Epoch 813/1000\n",
            "3/3 - 0s - loss: 0.1762 - AUC: 0.9783 - accuracy: 0.9429 - val_loss: 0.6780 - val_AUC: 0.8067 - val_accuracy: 0.7000 - 57ms/epoch - 19ms/step\n",
            "Epoch 814/1000\n",
            "3/3 - 0s - loss: 0.1862 - AUC: 0.9749 - accuracy: 0.9643 - val_loss: 0.6803 - val_AUC: 0.8089 - val_accuracy: 0.7000 - 62ms/epoch - 21ms/step\n",
            "Epoch 815/1000\n",
            "3/3 - 0s - loss: 0.1677 - AUC: 0.9776 - accuracy: 0.9571 - val_loss: 0.6851 - val_AUC: 0.8089 - val_accuracy: 0.7000 - 66ms/epoch - 22ms/step\n",
            "Epoch 816/1000\n",
            "3/3 - 0s - loss: 0.1990 - AUC: 0.9702 - accuracy: 0.9429 - val_loss: 0.6861 - val_AUC: 0.8089 - val_accuracy: 0.7000 - 52ms/epoch - 17ms/step\n",
            "Epoch 817/1000\n",
            "3/3 - 0s - loss: 0.2118 - AUC: 0.9694 - accuracy: 0.9357 - val_loss: 0.6862 - val_AUC: 0.8089 - val_accuracy: 0.7000 - 50ms/epoch - 17ms/step\n",
            "Epoch 818/1000\n",
            "3/3 - 0s - loss: 0.1602 - AUC: 0.9886 - accuracy: 0.9643 - val_loss: 0.6945 - val_AUC: 0.8156 - val_accuracy: 0.7000 - 49ms/epoch - 16ms/step\n",
            "Epoch 819/1000\n",
            "3/3 - 0s - loss: 0.1794 - AUC: 0.9786 - accuracy: 0.9643 - val_loss: 0.6965 - val_AUC: 0.8156 - val_accuracy: 0.7000 - 76ms/epoch - 25ms/step\n",
            "Epoch 820/1000\n",
            "3/3 - 0s - loss: 0.1677 - AUC: 0.9828 - accuracy: 0.9571 - val_loss: 0.6859 - val_AUC: 0.8133 - val_accuracy: 0.7000 - 51ms/epoch - 17ms/step\n",
            "Epoch 821/1000\n",
            "3/3 - 0s - loss: 0.1741 - AUC: 0.9771 - accuracy: 0.9643 - val_loss: 0.6691 - val_AUC: 0.8178 - val_accuracy: 0.7000 - 52ms/epoch - 17ms/step\n",
            "Epoch 822/1000\n",
            "3/3 - 0s - loss: 0.1863 - AUC: 0.9741 - accuracy: 0.9357 - val_loss: 0.6595 - val_AUC: 0.8156 - val_accuracy: 0.7000 - 66ms/epoch - 22ms/step\n",
            "Epoch 823/1000\n",
            "3/3 - 0s - loss: 0.1955 - AUC: 0.9822 - accuracy: 0.9429 - val_loss: 0.6540 - val_AUC: 0.8156 - val_accuracy: 0.7000 - 70ms/epoch - 23ms/step\n",
            "Epoch 824/1000\n",
            "3/3 - 0s - loss: 0.1619 - AUC: 0.9848 - accuracy: 0.9357 - val_loss: 0.6572 - val_AUC: 0.8200 - val_accuracy: 0.7000 - 49ms/epoch - 16ms/step\n",
            "Epoch 825/1000\n",
            "3/3 - 0s - loss: 0.1944 - AUC: 0.9765 - accuracy: 0.9286 - val_loss: 0.6603 - val_AUC: 0.8222 - val_accuracy: 0.7333 - 85ms/epoch - 28ms/step\n",
            "Epoch 826/1000\n",
            "3/3 - 0s - loss: 0.1810 - AUC: 0.9843 - accuracy: 0.9500 - val_loss: 0.6569 - val_AUC: 0.8222 - val_accuracy: 0.7333 - 78ms/epoch - 26ms/step\n",
            "Epoch 827/1000\n",
            "3/3 - 0s - loss: 0.1555 - AUC: 0.9822 - accuracy: 0.9643 - val_loss: 0.6536 - val_AUC: 0.8267 - val_accuracy: 0.7333 - 63ms/epoch - 21ms/step\n",
            "Epoch 828/1000\n",
            "3/3 - 0s - loss: 0.1907 - AUC: 0.9813 - accuracy: 0.9429 - val_loss: 0.6529 - val_AUC: 0.8244 - val_accuracy: 0.7333 - 50ms/epoch - 17ms/step\n",
            "Epoch 829/1000\n",
            "3/3 - 0s - loss: 0.1758 - AUC: 0.9794 - accuracy: 0.9500 - val_loss: 0.6551 - val_AUC: 0.8267 - val_accuracy: 0.7333 - 63ms/epoch - 21ms/step\n",
            "Epoch 830/1000\n",
            "3/3 - 0s - loss: 0.1963 - AUC: 0.9751 - accuracy: 0.9357 - val_loss: 0.6603 - val_AUC: 0.8244 - val_accuracy: 0.7333 - 85ms/epoch - 28ms/step\n",
            "Epoch 831/1000\n",
            "3/3 - 0s - loss: 0.1735 - AUC: 0.9841 - accuracy: 0.9500 - val_loss: 0.6729 - val_AUC: 0.8244 - val_accuracy: 0.7000 - 76ms/epoch - 25ms/step\n",
            "Epoch 832/1000\n",
            "3/3 - 0s - loss: 0.1533 - AUC: 0.9822 - accuracy: 0.9571 - val_loss: 0.6836 - val_AUC: 0.8222 - val_accuracy: 0.7000 - 82ms/epoch - 27ms/step\n",
            "Epoch 833/1000\n",
            "3/3 - 0s - loss: 0.1813 - AUC: 0.9835 - accuracy: 0.9429 - val_loss: 0.6829 - val_AUC: 0.8222 - val_accuracy: 0.7000 - 82ms/epoch - 27ms/step\n",
            "Epoch 834/1000\n",
            "3/3 - 0s - loss: 0.1657 - AUC: 0.9772 - accuracy: 0.9571 - val_loss: 0.6743 - val_AUC: 0.8156 - val_accuracy: 0.7000 - 90ms/epoch - 30ms/step\n",
            "Epoch 835/1000\n",
            "3/3 - 0s - loss: 0.1674 - AUC: 0.9841 - accuracy: 0.9714 - val_loss: 0.6711 - val_AUC: 0.8089 - val_accuracy: 0.7000 - 93ms/epoch - 31ms/step\n",
            "Epoch 836/1000\n",
            "3/3 - 0s - loss: 0.1843 - AUC: 0.9796 - accuracy: 0.9500 - val_loss: 0.6680 - val_AUC: 0.8022 - val_accuracy: 0.7000 - 85ms/epoch - 28ms/step\n",
            "Epoch 837/1000\n",
            "3/3 - 0s - loss: 0.1158 - AUC: 0.9990 - accuracy: 0.9714 - val_loss: 0.6676 - val_AUC: 0.8111 - val_accuracy: 0.7000 - 77ms/epoch - 26ms/step\n",
            "Epoch 838/1000\n",
            "3/3 - 0s - loss: 0.1389 - AUC: 0.9877 - accuracy: 0.9714 - val_loss: 0.6675 - val_AUC: 0.8133 - val_accuracy: 0.7000 - 95ms/epoch - 32ms/step\n",
            "Epoch 839/1000\n",
            "3/3 - 0s - loss: 0.1855 - AUC: 0.9741 - accuracy: 0.9643 - val_loss: 0.6709 - val_AUC: 0.8067 - val_accuracy: 0.7000 - 94ms/epoch - 31ms/step\n",
            "Epoch 840/1000\n",
            "3/3 - 0s - loss: 0.1526 - AUC: 0.9917 - accuracy: 0.9643 - val_loss: 0.6791 - val_AUC: 0.8133 - val_accuracy: 0.7000 - 87ms/epoch - 29ms/step\n",
            "Epoch 841/1000\n",
            "3/3 - 0s - loss: 0.1947 - AUC: 0.9734 - accuracy: 0.9571 - val_loss: 0.6849 - val_AUC: 0.8133 - val_accuracy: 0.7000 - 88ms/epoch - 29ms/step\n",
            "Epoch 842/1000\n",
            "3/3 - 0s - loss: 0.1478 - AUC: 0.9886 - accuracy: 0.9571 - val_loss: 0.6848 - val_AUC: 0.8133 - val_accuracy: 0.7000 - 78ms/epoch - 26ms/step\n",
            "Epoch 843/1000\n",
            "3/3 - 0s - loss: 0.1493 - AUC: 0.9847 - accuracy: 0.9643 - val_loss: 0.6878 - val_AUC: 0.8133 - val_accuracy: 0.7000 - 86ms/epoch - 29ms/step\n",
            "Epoch 844/1000\n",
            "3/3 - 0s - loss: 0.1767 - AUC: 0.9845 - accuracy: 0.9357 - val_loss: 0.6881 - val_AUC: 0.8133 - val_accuracy: 0.7000 - 75ms/epoch - 25ms/step\n",
            "Epoch 845/1000\n",
            "3/3 - 0s - loss: 0.1797 - AUC: 0.9841 - accuracy: 0.9286 - val_loss: 0.6886 - val_AUC: 0.8133 - val_accuracy: 0.7000 - 90ms/epoch - 30ms/step\n",
            "Epoch 846/1000\n",
            "3/3 - 0s - loss: 0.1800 - AUC: 0.9785 - accuracy: 0.9429 - val_loss: 0.6883 - val_AUC: 0.8133 - val_accuracy: 0.7000 - 78ms/epoch - 26ms/step\n",
            "Epoch 847/1000\n",
            "3/3 - 0s - loss: 0.1550 - AUC: 0.9845 - accuracy: 0.9714 - val_loss: 0.6831 - val_AUC: 0.8111 - val_accuracy: 0.6667 - 81ms/epoch - 27ms/step\n",
            "Epoch 848/1000\n",
            "3/3 - 0s - loss: 0.1561 - AUC: 0.9810 - accuracy: 0.9643 - val_loss: 0.6802 - val_AUC: 0.8133 - val_accuracy: 0.6667 - 89ms/epoch - 30ms/step\n",
            "Epoch 849/1000\n",
            "3/3 - 0s - loss: 0.1592 - AUC: 0.9900 - accuracy: 0.9429 - val_loss: 0.6788 - val_AUC: 0.8111 - val_accuracy: 0.6667 - 105ms/epoch - 35ms/step\n",
            "Epoch 850/1000\n",
            "3/3 - 0s - loss: 0.1574 - AUC: 0.9866 - accuracy: 0.9643 - val_loss: 0.6797 - val_AUC: 0.8111 - val_accuracy: 0.6667 - 84ms/epoch - 28ms/step\n",
            "Epoch 851/1000\n",
            "3/3 - 0s - loss: 0.1562 - AUC: 0.9869 - accuracy: 0.9786 - val_loss: 0.6804 - val_AUC: 0.8111 - val_accuracy: 0.6667 - 89ms/epoch - 30ms/step\n",
            "Epoch 852/1000\n",
            "3/3 - 0s - loss: 0.1736 - AUC: 0.9792 - accuracy: 0.9429 - val_loss: 0.6794 - val_AUC: 0.8111 - val_accuracy: 0.6667 - 82ms/epoch - 27ms/step\n",
            "Epoch 853/1000\n",
            "3/3 - 0s - loss: 0.1594 - AUC: 0.9864 - accuracy: 0.9643 - val_loss: 0.6813 - val_AUC: 0.8133 - val_accuracy: 0.6667 - 94ms/epoch - 31ms/step\n",
            "Epoch 854/1000\n",
            "3/3 - 0s - loss: 0.1587 - AUC: 0.9906 - accuracy: 0.9571 - val_loss: 0.6842 - val_AUC: 0.8133 - val_accuracy: 0.6667 - 74ms/epoch - 25ms/step\n",
            "Epoch 855/1000\n",
            "3/3 - 0s - loss: 0.1605 - AUC: 0.9827 - accuracy: 0.9429 - val_loss: 0.6913 - val_AUC: 0.8156 - val_accuracy: 0.7000 - 78ms/epoch - 26ms/step\n",
            "Epoch 856/1000\n",
            "3/3 - 0s - loss: 0.1632 - AUC: 0.9885 - accuracy: 0.9429 - val_loss: 0.6992 - val_AUC: 0.8244 - val_accuracy: 0.7000 - 89ms/epoch - 30ms/step\n",
            "Epoch 857/1000\n",
            "3/3 - 0s - loss: 0.1596 - AUC: 0.9862 - accuracy: 0.9571 - val_loss: 0.6977 - val_AUC: 0.8178 - val_accuracy: 0.7000 - 81ms/epoch - 27ms/step\n",
            "Epoch 858/1000\n",
            "3/3 - 0s - loss: 0.1749 - AUC: 0.9829 - accuracy: 0.9429 - val_loss: 0.6998 - val_AUC: 0.8156 - val_accuracy: 0.7000 - 80ms/epoch - 27ms/step\n",
            "Epoch 859/1000\n",
            "3/3 - 0s - loss: 0.1943 - AUC: 0.9697 - accuracy: 0.9500 - val_loss: 0.6984 - val_AUC: 0.8178 - val_accuracy: 0.7000 - 105ms/epoch - 35ms/step\n",
            "Epoch 860/1000\n",
            "3/3 - 0s - loss: 0.1400 - AUC: 0.9872 - accuracy: 0.9714 - val_loss: 0.6982 - val_AUC: 0.8178 - val_accuracy: 0.7000 - 78ms/epoch - 26ms/step\n",
            "Epoch 861/1000\n",
            "3/3 - 0s - loss: 0.1801 - AUC: 0.9742 - accuracy: 0.9429 - val_loss: 0.6947 - val_AUC: 0.8200 - val_accuracy: 0.7000 - 62ms/epoch - 21ms/step\n",
            "Epoch 862/1000\n",
            "3/3 - 0s - loss: 0.1554 - AUC: 0.9815 - accuracy: 0.9714 - val_loss: 0.6913 - val_AUC: 0.8222 - val_accuracy: 0.7000 - 59ms/epoch - 20ms/step\n",
            "Epoch 863/1000\n",
            "3/3 - 0s - loss: 0.1327 - AUC: 0.9928 - accuracy: 0.9786 - val_loss: 0.6835 - val_AUC: 0.8222 - val_accuracy: 0.7000 - 70ms/epoch - 23ms/step\n",
            "Epoch 864/1000\n",
            "3/3 - 0s - loss: 0.1639 - AUC: 0.9764 - accuracy: 0.9714 - val_loss: 0.6781 - val_AUC: 0.8244 - val_accuracy: 0.7000 - 92ms/epoch - 31ms/step\n",
            "Epoch 865/1000\n",
            "3/3 - 0s - loss: 0.1566 - AUC: 0.9866 - accuracy: 0.9643 - val_loss: 0.6795 - val_AUC: 0.8244 - val_accuracy: 0.7000 - 77ms/epoch - 26ms/step\n",
            "Epoch 866/1000\n",
            "3/3 - 0s - loss: 0.1696 - AUC: 0.9851 - accuracy: 0.9500 - val_loss: 0.6877 - val_AUC: 0.8244 - val_accuracy: 0.7000 - 89ms/epoch - 30ms/step\n",
            "Epoch 867/1000\n",
            "3/3 - 0s - loss: 0.1592 - AUC: 0.9891 - accuracy: 0.9500 - val_loss: 0.6951 - val_AUC: 0.8200 - val_accuracy: 0.7000 - 89ms/epoch - 30ms/step\n",
            "Epoch 868/1000\n",
            "3/3 - 0s - loss: 0.1265 - AUC: 0.9938 - accuracy: 0.9714 - val_loss: 0.6970 - val_AUC: 0.8200 - val_accuracy: 0.7000 - 82ms/epoch - 27ms/step\n",
            "Epoch 869/1000\n",
            "3/3 - 0s - loss: 0.1643 - AUC: 0.9896 - accuracy: 0.9571 - val_loss: 0.7036 - val_AUC: 0.8133 - val_accuracy: 0.7000 - 89ms/epoch - 30ms/step\n",
            "Epoch 870/1000\n",
            "3/3 - 0s - loss: 0.1378 - AUC: 0.9924 - accuracy: 0.9643 - val_loss: 0.6993 - val_AUC: 0.8111 - val_accuracy: 0.7000 - 104ms/epoch - 35ms/step\n",
            "Epoch 871/1000\n",
            "3/3 - 0s - loss: 0.1859 - AUC: 0.9742 - accuracy: 0.9500 - val_loss: 0.6941 - val_AUC: 0.8178 - val_accuracy: 0.7000 - 82ms/epoch - 27ms/step\n",
            "Epoch 872/1000\n",
            "3/3 - 0s - loss: 0.1608 - AUC: 0.9803 - accuracy: 0.9500 - val_loss: 0.6877 - val_AUC: 0.8156 - val_accuracy: 0.7000 - 77ms/epoch - 26ms/step\n",
            "Epoch 873/1000\n",
            "3/3 - 0s - loss: 0.1551 - AUC: 0.9904 - accuracy: 0.9500 - val_loss: 0.6837 - val_AUC: 0.8156 - val_accuracy: 0.6667 - 79ms/epoch - 26ms/step\n",
            "Epoch 874/1000\n",
            "3/3 - 0s - loss: 0.1500 - AUC: 0.9870 - accuracy: 0.9571 - val_loss: 0.6803 - val_AUC: 0.8156 - val_accuracy: 0.6667 - 86ms/epoch - 29ms/step\n",
            "Epoch 875/1000\n",
            "3/3 - 0s - loss: 0.1472 - AUC: 0.9867 - accuracy: 0.9714 - val_loss: 0.6772 - val_AUC: 0.8156 - val_accuracy: 0.6667 - 85ms/epoch - 28ms/step\n",
            "Epoch 876/1000\n",
            "3/3 - 0s - loss: 0.1668 - AUC: 0.9831 - accuracy: 0.9429 - val_loss: 0.6755 - val_AUC: 0.8111 - val_accuracy: 0.7000 - 84ms/epoch - 28ms/step\n",
            "Epoch 877/1000\n",
            "3/3 - 0s - loss: 0.1724 - AUC: 0.9820 - accuracy: 0.9500 - val_loss: 0.6821 - val_AUC: 0.8156 - val_accuracy: 0.7000 - 68ms/epoch - 23ms/step\n",
            "Epoch 878/1000\n",
            "3/3 - 0s - loss: 0.1533 - AUC: 0.9888 - accuracy: 0.9643 - val_loss: 0.6941 - val_AUC: 0.8200 - val_accuracy: 0.7000 - 72ms/epoch - 24ms/step\n",
            "Epoch 879/1000\n",
            "3/3 - 0s - loss: 0.1677 - AUC: 0.9858 - accuracy: 0.9571 - val_loss: 0.7059 - val_AUC: 0.8178 - val_accuracy: 0.7000 - 80ms/epoch - 27ms/step\n",
            "Epoch 880/1000\n",
            "3/3 - 0s - loss: 0.1790 - AUC: 0.9730 - accuracy: 0.9643 - val_loss: 0.7084 - val_AUC: 0.8200 - val_accuracy: 0.7000 - 75ms/epoch - 25ms/step\n",
            "Epoch 881/1000\n",
            "3/3 - 0s - loss: 0.1751 - AUC: 0.9754 - accuracy: 0.9571 - val_loss: 0.7012 - val_AUC: 0.8178 - val_accuracy: 0.7000 - 82ms/epoch - 27ms/step\n",
            "Epoch 882/1000\n",
            "3/3 - 0s - loss: 0.1563 - AUC: 0.9791 - accuracy: 0.9714 - val_loss: 0.6945 - val_AUC: 0.8200 - val_accuracy: 0.7000 - 86ms/epoch - 29ms/step\n",
            "Epoch 883/1000\n",
            "3/3 - 0s - loss: 0.1451 - AUC: 0.9924 - accuracy: 0.9500 - val_loss: 0.6911 - val_AUC: 0.8200 - val_accuracy: 0.7000 - 97ms/epoch - 32ms/step\n",
            "Epoch 884/1000\n",
            "3/3 - 0s - loss: 0.1424 - AUC: 0.9903 - accuracy: 0.9714 - val_loss: 0.6896 - val_AUC: 0.8178 - val_accuracy: 0.7000 - 83ms/epoch - 28ms/step\n",
            "Epoch 885/1000\n",
            "3/3 - 0s - loss: 0.1709 - AUC: 0.9843 - accuracy: 0.9643 - val_loss: 0.6904 - val_AUC: 0.8178 - val_accuracy: 0.7000 - 93ms/epoch - 31ms/step\n",
            "Epoch 886/1000\n",
            "3/3 - 0s - loss: 0.1554 - AUC: 0.9827 - accuracy: 0.9643 - val_loss: 0.6938 - val_AUC: 0.8200 - val_accuracy: 0.7000 - 84ms/epoch - 28ms/step\n",
            "Epoch 887/1000\n",
            "3/3 - 0s - loss: 0.1408 - AUC: 0.9850 - accuracy: 0.9571 - val_loss: 0.6913 - val_AUC: 0.8200 - val_accuracy: 0.7000 - 63ms/epoch - 21ms/step\n",
            "Epoch 888/1000\n",
            "3/3 - 0s - loss: 0.1589 - AUC: 0.9807 - accuracy: 0.9643 - val_loss: 0.6825 - val_AUC: 0.8200 - val_accuracy: 0.7333 - 67ms/epoch - 22ms/step\n",
            "Epoch 889/1000\n",
            "3/3 - 0s - loss: 0.1502 - AUC: 0.9865 - accuracy: 0.9643 - val_loss: 0.6807 - val_AUC: 0.8200 - val_accuracy: 0.7333 - 65ms/epoch - 22ms/step\n",
            "Epoch 890/1000\n",
            "3/3 - 0s - loss: 0.1426 - AUC: 0.9902 - accuracy: 0.9714 - val_loss: 0.6820 - val_AUC: 0.8200 - val_accuracy: 0.7333 - 50ms/epoch - 17ms/step\n",
            "Epoch 891/1000\n",
            "3/3 - 0s - loss: 0.1567 - AUC: 0.9834 - accuracy: 0.9571 - val_loss: 0.6981 - val_AUC: 0.8311 - val_accuracy: 0.7000 - 65ms/epoch - 22ms/step\n",
            "Epoch 892/1000\n",
            "3/3 - 0s - loss: 0.1610 - AUC: 0.9815 - accuracy: 0.9643 - val_loss: 0.7140 - val_AUC: 0.8244 - val_accuracy: 0.7000 - 65ms/epoch - 22ms/step\n",
            "Epoch 893/1000\n",
            "3/3 - 0s - loss: 0.1668 - AUC: 0.9800 - accuracy: 0.9643 - val_loss: 0.7248 - val_AUC: 0.8244 - val_accuracy: 0.7000 - 74ms/epoch - 25ms/step\n",
            "Epoch 894/1000\n",
            "3/3 - 0s - loss: 0.2039 - AUC: 0.9657 - accuracy: 0.9500 - val_loss: 0.7208 - val_AUC: 0.8244 - val_accuracy: 0.7000 - 63ms/epoch - 21ms/step\n",
            "Epoch 895/1000\n",
            "3/3 - 0s - loss: 0.1743 - AUC: 0.9821 - accuracy: 0.9357 - val_loss: 0.7102 - val_AUC: 0.8111 - val_accuracy: 0.7000 - 58ms/epoch - 19ms/step\n",
            "Epoch 896/1000\n",
            "3/3 - 0s - loss: 0.1590 - AUC: 0.9798 - accuracy: 0.9571 - val_loss: 0.6981 - val_AUC: 0.8156 - val_accuracy: 0.7000 - 66ms/epoch - 22ms/step\n",
            "Epoch 897/1000\n",
            "3/3 - 0s - loss: 0.1316 - AUC: 0.9903 - accuracy: 0.9714 - val_loss: 0.6872 - val_AUC: 0.8133 - val_accuracy: 0.7000 - 49ms/epoch - 16ms/step\n",
            "Epoch 898/1000\n",
            "3/3 - 0s - loss: 0.1394 - AUC: 0.9888 - accuracy: 0.9643 - val_loss: 0.6777 - val_AUC: 0.8178 - val_accuracy: 0.7333 - 50ms/epoch - 17ms/step\n",
            "Epoch 899/1000\n",
            "3/3 - 0s - loss: 0.1551 - AUC: 0.9855 - accuracy: 0.9643 - val_loss: 0.6742 - val_AUC: 0.8133 - val_accuracy: 0.7000 - 65ms/epoch - 22ms/step\n",
            "Epoch 900/1000\n",
            "3/3 - 0s - loss: 0.1548 - AUC: 0.9880 - accuracy: 0.9643 - val_loss: 0.6768 - val_AUC: 0.8156 - val_accuracy: 0.7000 - 69ms/epoch - 23ms/step\n",
            "Epoch 901/1000\n",
            "3/3 - 0s - loss: 0.1450 - AUC: 0.9873 - accuracy: 0.9643 - val_loss: 0.6816 - val_AUC: 0.8178 - val_accuracy: 0.7333 - 50ms/epoch - 17ms/step\n",
            "Epoch 902/1000\n",
            "3/3 - 0s - loss: 0.1506 - AUC: 0.9821 - accuracy: 0.9714 - val_loss: 0.6922 - val_AUC: 0.8222 - val_accuracy: 0.7000 - 64ms/epoch - 21ms/step\n",
            "Epoch 903/1000\n",
            "3/3 - 0s - loss: 0.1332 - AUC: 0.9886 - accuracy: 0.9786 - val_loss: 0.7040 - val_AUC: 0.8133 - val_accuracy: 0.7000 - 67ms/epoch - 22ms/step\n",
            "Epoch 904/1000\n",
            "3/3 - 0s - loss: 0.1627 - AUC: 0.9790 - accuracy: 0.9429 - val_loss: 0.7157 - val_AUC: 0.8133 - val_accuracy: 0.7000 - 64ms/epoch - 21ms/step\n",
            "Epoch 905/1000\n",
            "3/3 - 0s - loss: 0.1446 - AUC: 0.9833 - accuracy: 0.9643 - val_loss: 0.7162 - val_AUC: 0.8156 - val_accuracy: 0.7000 - 63ms/epoch - 21ms/step\n",
            "Epoch 906/1000\n",
            "3/3 - 0s - loss: 0.1361 - AUC: 0.9920 - accuracy: 0.9643 - val_loss: 0.7156 - val_AUC: 0.8156 - val_accuracy: 0.7000 - 63ms/epoch - 21ms/step\n",
            "Epoch 907/1000\n",
            "3/3 - 0s - loss: 0.1749 - AUC: 0.9785 - accuracy: 0.9357 - val_loss: 0.7100 - val_AUC: 0.8133 - val_accuracy: 0.7000 - 63ms/epoch - 21ms/step\n",
            "Epoch 908/1000\n",
            "3/3 - 0s - loss: 0.1404 - AUC: 0.9904 - accuracy: 0.9571 - val_loss: 0.7101 - val_AUC: 0.8133 - val_accuracy: 0.7000 - 74ms/epoch - 25ms/step\n",
            "Epoch 909/1000\n",
            "3/3 - 0s - loss: 0.1229 - AUC: 0.9912 - accuracy: 0.9714 - val_loss: 0.7093 - val_AUC: 0.8133 - val_accuracy: 0.7000 - 79ms/epoch - 26ms/step\n",
            "Epoch 910/1000\n",
            "3/3 - 0s - loss: 0.1316 - AUC: 0.9942 - accuracy: 0.9714 - val_loss: 0.7073 - val_AUC: 0.8133 - val_accuracy: 0.7000 - 68ms/epoch - 23ms/step\n",
            "Epoch 911/1000\n",
            "3/3 - 0s - loss: 0.1454 - AUC: 0.9856 - accuracy: 0.9714 - val_loss: 0.7057 - val_AUC: 0.8133 - val_accuracy: 0.7000 - 50ms/epoch - 17ms/step\n",
            "Epoch 912/1000\n",
            "3/3 - 0s - loss: 0.1455 - AUC: 0.9869 - accuracy: 0.9571 - val_loss: 0.7066 - val_AUC: 0.8089 - val_accuracy: 0.7000 - 67ms/epoch - 22ms/step\n",
            "Epoch 913/1000\n",
            "3/3 - 0s - loss: 0.1527 - AUC: 0.9829 - accuracy: 0.9643 - val_loss: 0.7120 - val_AUC: 0.8089 - val_accuracy: 0.7000 - 68ms/epoch - 23ms/step\n",
            "Epoch 914/1000\n",
            "3/3 - 0s - loss: 0.1398 - AUC: 0.9902 - accuracy: 0.9643 - val_loss: 0.7165 - val_AUC: 0.8089 - val_accuracy: 0.7000 - 52ms/epoch - 17ms/step\n",
            "Epoch 915/1000\n",
            "3/3 - 0s - loss: 0.1659 - AUC: 0.9788 - accuracy: 0.9643 - val_loss: 0.7203 - val_AUC: 0.8089 - val_accuracy: 0.7000 - 51ms/epoch - 17ms/step\n",
            "Epoch 916/1000\n",
            "3/3 - 0s - loss: 0.1912 - AUC: 0.9656 - accuracy: 0.9500 - val_loss: 0.7256 - val_AUC: 0.8089 - val_accuracy: 0.7000 - 54ms/epoch - 18ms/step\n",
            "Epoch 917/1000\n",
            "3/3 - 0s - loss: 0.1677 - AUC: 0.9796 - accuracy: 0.9429 - val_loss: 0.7204 - val_AUC: 0.8111 - val_accuracy: 0.7000 - 69ms/epoch - 23ms/step\n",
            "Epoch 918/1000\n",
            "3/3 - 0s - loss: 0.1666 - AUC: 0.9784 - accuracy: 0.9571 - val_loss: 0.7157 - val_AUC: 0.8111 - val_accuracy: 0.7000 - 50ms/epoch - 17ms/step\n",
            "Epoch 919/1000\n",
            "3/3 - 0s - loss: 0.1308 - AUC: 0.9885 - accuracy: 0.9643 - val_loss: 0.7149 - val_AUC: 0.8111 - val_accuracy: 0.7000 - 55ms/epoch - 18ms/step\n",
            "Epoch 920/1000\n",
            "3/3 - 0s - loss: 0.1281 - AUC: 0.9887 - accuracy: 0.9714 - val_loss: 0.7143 - val_AUC: 0.8089 - val_accuracy: 0.7000 - 63ms/epoch - 21ms/step\n",
            "Epoch 921/1000\n",
            "3/3 - 0s - loss: 0.1244 - AUC: 0.9867 - accuracy: 0.9786 - val_loss: 0.7152 - val_AUC: 0.8089 - val_accuracy: 0.7000 - 58ms/epoch - 19ms/step\n",
            "Epoch 922/1000\n",
            "3/3 - 0s - loss: 0.1437 - AUC: 0.9913 - accuracy: 0.9571 - val_loss: 0.7185 - val_AUC: 0.8111 - val_accuracy: 0.7000 - 56ms/epoch - 19ms/step\n",
            "Epoch 923/1000\n",
            "3/3 - 0s - loss: 0.1556 - AUC: 0.9793 - accuracy: 0.9714 - val_loss: 0.7224 - val_AUC: 0.8133 - val_accuracy: 0.7000 - 78ms/epoch - 26ms/step\n",
            "Epoch 924/1000\n",
            "3/3 - 0s - loss: 0.1638 - AUC: 0.9846 - accuracy: 0.9643 - val_loss: 0.7144 - val_AUC: 0.8133 - val_accuracy: 0.7000 - 68ms/epoch - 23ms/step\n",
            "Epoch 925/1000\n",
            "3/3 - 0s - loss: 0.1329 - AUC: 0.9859 - accuracy: 0.9786 - val_loss: 0.7028 - val_AUC: 0.8133 - val_accuracy: 0.7000 - 67ms/epoch - 22ms/step\n",
            "Epoch 926/1000\n",
            "3/3 - 0s - loss: 0.1473 - AUC: 0.9829 - accuracy: 0.9714 - val_loss: 0.6995 - val_AUC: 0.8111 - val_accuracy: 0.7000 - 53ms/epoch - 18ms/step\n",
            "Epoch 927/1000\n",
            "3/3 - 0s - loss: 0.1370 - AUC: 0.9866 - accuracy: 0.9786 - val_loss: 0.7070 - val_AUC: 0.8111 - val_accuracy: 0.7000 - 67ms/epoch - 22ms/step\n",
            "Epoch 928/1000\n",
            "3/3 - 0s - loss: 0.1611 - AUC: 0.9777 - accuracy: 0.9643 - val_loss: 0.7093 - val_AUC: 0.8111 - val_accuracy: 0.7000 - 63ms/epoch - 21ms/step\n",
            "Epoch 929/1000\n",
            "3/3 - 0s - loss: 0.1273 - AUC: 0.9918 - accuracy: 0.9786 - val_loss: 0.7131 - val_AUC: 0.8111 - val_accuracy: 0.7000 - 61ms/epoch - 20ms/step\n",
            "Epoch 930/1000\n",
            "3/3 - 0s - loss: 0.1408 - AUC: 0.9842 - accuracy: 0.9786 - val_loss: 0.7121 - val_AUC: 0.8089 - val_accuracy: 0.7000 - 66ms/epoch - 22ms/step\n",
            "Epoch 931/1000\n",
            "3/3 - 0s - loss: 0.1497 - AUC: 0.9861 - accuracy: 0.9643 - val_loss: 0.7109 - val_AUC: 0.8089 - val_accuracy: 0.7000 - 50ms/epoch - 17ms/step\n",
            "Epoch 932/1000\n",
            "3/3 - 0s - loss: 0.1314 - AUC: 0.9924 - accuracy: 0.9714 - val_loss: 0.7109 - val_AUC: 0.8111 - val_accuracy: 0.7000 - 63ms/epoch - 21ms/step\n",
            "Epoch 933/1000\n",
            "3/3 - 0s - loss: 0.1324 - AUC: 0.9932 - accuracy: 0.9643 - val_loss: 0.7138 - val_AUC: 0.8133 - val_accuracy: 0.7000 - 71ms/epoch - 24ms/step\n",
            "Epoch 934/1000\n",
            "3/3 - 0s - loss: 0.1459 - AUC: 0.9845 - accuracy: 0.9714 - val_loss: 0.7162 - val_AUC: 0.8133 - val_accuracy: 0.7000 - 64ms/epoch - 21ms/step\n",
            "Epoch 935/1000\n",
            "3/3 - 0s - loss: 0.1652 - AUC: 0.9753 - accuracy: 0.9571 - val_loss: 0.7155 - val_AUC: 0.8156 - val_accuracy: 0.7000 - 62ms/epoch - 21ms/step\n",
            "Epoch 936/1000\n",
            "3/3 - 0s - loss: 0.1197 - AUC: 0.9960 - accuracy: 0.9714 - val_loss: 0.7140 - val_AUC: 0.8133 - val_accuracy: 0.7000 - 69ms/epoch - 23ms/step\n",
            "Epoch 937/1000\n",
            "3/3 - 0s - loss: 0.1477 - AUC: 0.9851 - accuracy: 0.9500 - val_loss: 0.7117 - val_AUC: 0.8111 - val_accuracy: 0.7000 - 76ms/epoch - 25ms/step\n",
            "Epoch 938/1000\n",
            "3/3 - 0s - loss: 0.1501 - AUC: 0.9872 - accuracy: 0.9571 - val_loss: 0.7178 - val_AUC: 0.8178 - val_accuracy: 0.7000 - 72ms/epoch - 24ms/step\n",
            "Epoch 939/1000\n",
            "3/3 - 0s - loss: 0.1531 - AUC: 0.9848 - accuracy: 0.9500 - val_loss: 0.7215 - val_AUC: 0.8178 - val_accuracy: 0.7000 - 68ms/epoch - 23ms/step\n",
            "Epoch 940/1000\n",
            "3/3 - 0s - loss: 0.1448 - AUC: 0.9858 - accuracy: 0.9571 - val_loss: 0.7194 - val_AUC: 0.8200 - val_accuracy: 0.7000 - 63ms/epoch - 21ms/step\n",
            "Epoch 941/1000\n",
            "3/3 - 0s - loss: 0.1340 - AUC: 0.9912 - accuracy: 0.9571 - val_loss: 0.7130 - val_AUC: 0.8200 - val_accuracy: 0.7000 - 52ms/epoch - 17ms/step\n",
            "Epoch 942/1000\n",
            "3/3 - 0s - loss: 0.1342 - AUC: 0.9890 - accuracy: 0.9786 - val_loss: 0.7049 - val_AUC: 0.8289 - val_accuracy: 0.7000 - 50ms/epoch - 17ms/step\n",
            "Epoch 943/1000\n",
            "3/3 - 0s - loss: 0.1208 - AUC: 0.9908 - accuracy: 0.9786 - val_loss: 0.7002 - val_AUC: 0.8289 - val_accuracy: 0.7333 - 63ms/epoch - 21ms/step\n",
            "Epoch 944/1000\n",
            "3/3 - 0s - loss: 0.1497 - AUC: 0.9809 - accuracy: 0.9643 - val_loss: 0.7026 - val_AUC: 0.8289 - val_accuracy: 0.7333 - 63ms/epoch - 21ms/step\n",
            "Epoch 945/1000\n",
            "3/3 - 0s - loss: 0.1301 - AUC: 0.9937 - accuracy: 0.9643 - val_loss: 0.7115 - val_AUC: 0.8200 - val_accuracy: 0.7000 - 51ms/epoch - 17ms/step\n",
            "Epoch 946/1000\n",
            "3/3 - 0s - loss: 0.1158 - AUC: 0.9969 - accuracy: 0.9786 - val_loss: 0.7149 - val_AUC: 0.8156 - val_accuracy: 0.7000 - 51ms/epoch - 17ms/step\n",
            "Epoch 947/1000\n",
            "3/3 - 0s - loss: 0.1416 - AUC: 0.9857 - accuracy: 0.9643 - val_loss: 0.7168 - val_AUC: 0.8178 - val_accuracy: 0.7000 - 76ms/epoch - 25ms/step\n",
            "Epoch 948/1000\n",
            "3/3 - 0s - loss: 0.1593 - AUC: 0.9849 - accuracy: 0.9571 - val_loss: 0.7181 - val_AUC: 0.8178 - val_accuracy: 0.7000 - 51ms/epoch - 17ms/step\n",
            "Epoch 949/1000\n",
            "3/3 - 0s - loss: 0.1457 - AUC: 0.9856 - accuracy: 0.9643 - val_loss: 0.7204 - val_AUC: 0.8178 - val_accuracy: 0.7000 - 63ms/epoch - 21ms/step\n",
            "Epoch 950/1000\n",
            "3/3 - 0s - loss: 0.1361 - AUC: 0.9935 - accuracy: 0.9571 - val_loss: 0.7186 - val_AUC: 0.8178 - val_accuracy: 0.7000 - 66ms/epoch - 22ms/step\n",
            "Epoch 951/1000\n",
            "3/3 - 0s - loss: 0.1535 - AUC: 0.9846 - accuracy: 0.9571 - val_loss: 0.7140 - val_AUC: 0.8156 - val_accuracy: 0.7000 - 71ms/epoch - 24ms/step\n",
            "Epoch 952/1000\n",
            "3/3 - 0s - loss: 0.1398 - AUC: 0.9865 - accuracy: 0.9571 - val_loss: 0.7138 - val_AUC: 0.8089 - val_accuracy: 0.7000 - 76ms/epoch - 25ms/step\n",
            "Epoch 953/1000\n",
            "3/3 - 0s - loss: 0.1395 - AUC: 0.9841 - accuracy: 0.9714 - val_loss: 0.7168 - val_AUC: 0.8133 - val_accuracy: 0.7000 - 50ms/epoch - 17ms/step\n",
            "Epoch 954/1000\n",
            "3/3 - 0s - loss: 0.1677 - AUC: 0.9805 - accuracy: 0.9571 - val_loss: 0.7229 - val_AUC: 0.8111 - val_accuracy: 0.7000 - 53ms/epoch - 18ms/step\n",
            "Epoch 955/1000\n",
            "3/3 - 0s - loss: 0.1523 - AUC: 0.9822 - accuracy: 0.9643 - val_loss: 0.7251 - val_AUC: 0.8178 - val_accuracy: 0.7000 - 47ms/epoch - 16ms/step\n",
            "Epoch 956/1000\n",
            "3/3 - 0s - loss: 0.1186 - AUC: 0.9957 - accuracy: 0.9643 - val_loss: 0.7309 - val_AUC: 0.8178 - val_accuracy: 0.7000 - 54ms/epoch - 18ms/step\n",
            "Epoch 957/1000\n",
            "3/3 - 0s - loss: 0.1246 - AUC: 0.9895 - accuracy: 0.9786 - val_loss: 0.7307 - val_AUC: 0.8178 - val_accuracy: 0.7000 - 65ms/epoch - 22ms/step\n",
            "Epoch 958/1000\n",
            "3/3 - 0s - loss: 0.1441 - AUC: 0.9889 - accuracy: 0.9643 - val_loss: 0.7322 - val_AUC: 0.8200 - val_accuracy: 0.7000 - 63ms/epoch - 21ms/step\n",
            "Epoch 959/1000\n",
            "3/3 - 0s - loss: 0.1223 - AUC: 0.9886 - accuracy: 0.9714 - val_loss: 0.7360 - val_AUC: 0.8200 - val_accuracy: 0.7000 - 50ms/epoch - 17ms/step\n",
            "Epoch 960/1000\n",
            "3/3 - 0s - loss: 0.1394 - AUC: 0.9892 - accuracy: 0.9643 - val_loss: 0.7413 - val_AUC: 0.8222 - val_accuracy: 0.7000 - 51ms/epoch - 17ms/step\n",
            "Epoch 961/1000\n",
            "3/3 - 0s - loss: 0.1299 - AUC: 0.9930 - accuracy: 0.9643 - val_loss: 0.7435 - val_AUC: 0.8200 - val_accuracy: 0.7000 - 65ms/epoch - 22ms/step\n",
            "Epoch 962/1000\n",
            "3/3 - 0s - loss: 0.1285 - AUC: 0.9899 - accuracy: 0.9643 - val_loss: 0.7459 - val_AUC: 0.8200 - val_accuracy: 0.7000 - 69ms/epoch - 23ms/step\n",
            "Epoch 963/1000\n",
            "3/3 - 0s - loss: 0.1297 - AUC: 0.9929 - accuracy: 0.9643 - val_loss: 0.7417 - val_AUC: 0.8200 - val_accuracy: 0.7000 - 65ms/epoch - 22ms/step\n",
            "Epoch 964/1000\n",
            "3/3 - 0s - loss: 0.1506 - AUC: 0.9858 - accuracy: 0.9643 - val_loss: 0.7387 - val_AUC: 0.8222 - val_accuracy: 0.7000 - 71ms/epoch - 24ms/step\n",
            "Epoch 965/1000\n",
            "3/3 - 0s - loss: 0.1337 - AUC: 0.9922 - accuracy: 0.9571 - val_loss: 0.7428 - val_AUC: 0.8222 - val_accuracy: 0.7000 - 52ms/epoch - 17ms/step\n",
            "Epoch 966/1000\n",
            "3/3 - 0s - loss: 0.1288 - AUC: 0.9889 - accuracy: 0.9714 - val_loss: 0.7423 - val_AUC: 0.8222 - val_accuracy: 0.7000 - 63ms/epoch - 21ms/step\n",
            "Epoch 967/1000\n",
            "3/3 - 0s - loss: 0.1310 - AUC: 0.9918 - accuracy: 0.9643 - val_loss: 0.7395 - val_AUC: 0.8200 - val_accuracy: 0.7000 - 72ms/epoch - 24ms/step\n",
            "Epoch 968/1000\n",
            "3/3 - 0s - loss: 0.1346 - AUC: 0.9889 - accuracy: 0.9643 - val_loss: 0.7303 - val_AUC: 0.8111 - val_accuracy: 0.7000 - 68ms/epoch - 23ms/step\n",
            "Epoch 969/1000\n",
            "3/3 - 0s - loss: 0.1362 - AUC: 0.9869 - accuracy: 0.9643 - val_loss: 0.7272 - val_AUC: 0.8178 - val_accuracy: 0.7000 - 67ms/epoch - 22ms/step\n",
            "Epoch 970/1000\n",
            "3/3 - 0s - loss: 0.1391 - AUC: 0.9861 - accuracy: 0.9714 - val_loss: 0.7277 - val_AUC: 0.8222 - val_accuracy: 0.7000 - 66ms/epoch - 22ms/step\n",
            "Epoch 971/1000\n",
            "3/3 - 0s - loss: 0.1453 - AUC: 0.9880 - accuracy: 0.9500 - val_loss: 0.7308 - val_AUC: 0.8178 - val_accuracy: 0.7000 - 53ms/epoch - 18ms/step\n",
            "Epoch 972/1000\n",
            "3/3 - 0s - loss: 0.1462 - AUC: 0.9774 - accuracy: 0.9786 - val_loss: 0.7338 - val_AUC: 0.8200 - val_accuracy: 0.7000 - 50ms/epoch - 17ms/step\n",
            "Epoch 973/1000\n",
            "3/3 - 0s - loss: 0.1485 - AUC: 0.9869 - accuracy: 0.9643 - val_loss: 0.7290 - val_AUC: 0.8222 - val_accuracy: 0.7000 - 52ms/epoch - 17ms/step\n",
            "Epoch 974/1000\n",
            "3/3 - 0s - loss: 0.1187 - AUC: 0.9902 - accuracy: 0.9786 - val_loss: 0.7252 - val_AUC: 0.8244 - val_accuracy: 0.7000 - 64ms/epoch - 21ms/step\n",
            "Epoch 975/1000\n",
            "3/3 - 0s - loss: 0.1164 - AUC: 0.9967 - accuracy: 0.9714 - val_loss: 0.7233 - val_AUC: 0.8222 - val_accuracy: 0.7000 - 51ms/epoch - 17ms/step\n",
            "Epoch 976/1000\n",
            "3/3 - 0s - loss: 0.1478 - AUC: 0.9876 - accuracy: 0.9500 - val_loss: 0.7228 - val_AUC: 0.8222 - val_accuracy: 0.7000 - 51ms/epoch - 17ms/step\n",
            "Epoch 977/1000\n",
            "3/3 - 0s - loss: 0.1209 - AUC: 0.9951 - accuracy: 0.9643 - val_loss: 0.7186 - val_AUC: 0.8178 - val_accuracy: 0.7000 - 63ms/epoch - 21ms/step\n",
            "Epoch 978/1000\n",
            "3/3 - 0s - loss: 0.1372 - AUC: 0.9892 - accuracy: 0.9643 - val_loss: 0.7172 - val_AUC: 0.8178 - val_accuracy: 0.7000 - 51ms/epoch - 17ms/step\n",
            "Epoch 979/1000\n",
            "3/3 - 0s - loss: 0.1463 - AUC: 0.9916 - accuracy: 0.9714 - val_loss: 0.7160 - val_AUC: 0.8222 - val_accuracy: 0.7000 - 50ms/epoch - 17ms/step\n",
            "Epoch 980/1000\n",
            "3/3 - 0s - loss: 0.1163 - AUC: 0.9941 - accuracy: 0.9786 - val_loss: 0.7195 - val_AUC: 0.8244 - val_accuracy: 0.7000 - 67ms/epoch - 22ms/step\n",
            "Epoch 981/1000\n",
            "3/3 - 0s - loss: 0.1394 - AUC: 0.9890 - accuracy: 0.9571 - val_loss: 0.7246 - val_AUC: 0.8244 - val_accuracy: 0.7000 - 77ms/epoch - 26ms/step\n",
            "Epoch 982/1000\n",
            "3/3 - 0s - loss: 0.1425 - AUC: 0.9927 - accuracy: 0.9429 - val_loss: 0.7292 - val_AUC: 0.8133 - val_accuracy: 0.7000 - 56ms/epoch - 19ms/step\n",
            "Epoch 983/1000\n",
            "3/3 - 0s - loss: 0.1392 - AUC: 0.9847 - accuracy: 0.9571 - val_loss: 0.7340 - val_AUC: 0.8133 - val_accuracy: 0.7000 - 52ms/epoch - 17ms/step\n",
            "Epoch 984/1000\n",
            "3/3 - 0s - loss: 0.1276 - AUC: 0.9952 - accuracy: 0.9714 - val_loss: 0.7387 - val_AUC: 0.8111 - val_accuracy: 0.7000 - 71ms/epoch - 24ms/step\n",
            "Epoch 985/1000\n",
            "3/3 - 0s - loss: 0.1384 - AUC: 0.9890 - accuracy: 0.9643 - val_loss: 0.7402 - val_AUC: 0.8133 - val_accuracy: 0.7000 - 49ms/epoch - 16ms/step\n",
            "Epoch 986/1000\n",
            "3/3 - 0s - loss: 0.1027 - AUC: 0.9957 - accuracy: 0.9714 - val_loss: 0.7432 - val_AUC: 0.8156 - val_accuracy: 0.7000 - 52ms/epoch - 17ms/step\n",
            "Epoch 987/1000\n",
            "3/3 - 0s - loss: 0.1464 - AUC: 0.9778 - accuracy: 0.9643 - val_loss: 0.7379 - val_AUC: 0.8111 - val_accuracy: 0.7000 - 52ms/epoch - 17ms/step\n",
            "Epoch 988/1000\n",
            "3/3 - 0s - loss: 0.1231 - AUC: 0.9971 - accuracy: 0.9714 - val_loss: 0.7377 - val_AUC: 0.8133 - val_accuracy: 0.7000 - 53ms/epoch - 18ms/step\n",
            "Epoch 989/1000\n",
            "3/3 - 0s - loss: 0.1312 - AUC: 0.9912 - accuracy: 0.9643 - val_loss: 0.7423 - val_AUC: 0.8178 - val_accuracy: 0.7000 - 64ms/epoch - 21ms/step\n",
            "Epoch 990/1000\n",
            "3/3 - 0s - loss: 0.1412 - AUC: 0.9906 - accuracy: 0.9571 - val_loss: 0.7449 - val_AUC: 0.8289 - val_accuracy: 0.7000 - 49ms/epoch - 16ms/step\n",
            "Epoch 991/1000\n",
            "3/3 - 0s - loss: 0.1365 - AUC: 0.9820 - accuracy: 0.9714 - val_loss: 0.7507 - val_AUC: 0.8289 - val_accuracy: 0.7000 - 70ms/epoch - 23ms/step\n",
            "Epoch 992/1000\n",
            "3/3 - 0s - loss: 0.1550 - AUC: 0.9796 - accuracy: 0.9571 - val_loss: 0.7552 - val_AUC: 0.8289 - val_accuracy: 0.7000 - 63ms/epoch - 21ms/step\n",
            "Epoch 993/1000\n",
            "3/3 - 0s - loss: 0.1435 - AUC: 0.9899 - accuracy: 0.9643 - val_loss: 0.7451 - val_AUC: 0.8267 - val_accuracy: 0.7000 - 58ms/epoch - 19ms/step\n",
            "Epoch 994/1000\n",
            "3/3 - 0s - loss: 0.1095 - AUC: 0.9966 - accuracy: 0.9714 - val_loss: 0.7363 - val_AUC: 0.8244 - val_accuracy: 0.7000 - 50ms/epoch - 17ms/step\n",
            "Epoch 995/1000\n",
            "3/3 - 0s - loss: 0.1212 - AUC: 0.9943 - accuracy: 0.9714 - val_loss: 0.7270 - val_AUC: 0.8178 - val_accuracy: 0.7000 - 55ms/epoch - 18ms/step\n",
            "Epoch 996/1000\n",
            "3/3 - 0s - loss: 0.1230 - AUC: 0.9934 - accuracy: 0.9786 - val_loss: 0.7229 - val_AUC: 0.8111 - val_accuracy: 0.7000 - 70ms/epoch - 23ms/step\n",
            "Epoch 997/1000\n",
            "3/3 - 0s - loss: 0.1144 - AUC: 0.9940 - accuracy: 0.9643 - val_loss: 0.7205 - val_AUC: 0.8156 - val_accuracy: 0.7000 - 86ms/epoch - 29ms/step\n",
            "Epoch 998/1000\n",
            "3/3 - 0s - loss: 0.1333 - AUC: 0.9887 - accuracy: 0.9571 - val_loss: 0.7255 - val_AUC: 0.8244 - val_accuracy: 0.7000 - 73ms/epoch - 24ms/step\n",
            "Epoch 999/1000\n",
            "3/3 - 0s - loss: 0.1181 - AUC: 0.9922 - accuracy: 0.9786 - val_loss: 0.7276 - val_AUC: 0.8244 - val_accuracy: 0.7000 - 52ms/epoch - 17ms/step\n",
            "Epoch 1000/1000\n",
            "3/3 - 0s - loss: 0.1163 - AUC: 0.9986 - accuracy: 0.9571 - val_loss: 0.7289 - val_AUC: 0.8244 - val_accuracy: 0.7000 - 62ms/epoch - 21ms/step\n"
          ]
        }
      ]
    },
    {
      "cell_type": "code",
      "source": [
        "fig, (axs1, axs2) = plt.subplots(1,2,figsize=(15,5))\n",
        "\n",
        "loss = {\n",
        "    'training_loss': history.history['loss'],\n",
        "    'validation_loss': history.history['val_loss']\n",
        "}\n",
        "\n",
        "auc = {\n",
        "    'training_acc': history.history['accuracy'],\n",
        "    'validation_acc': history.history['val_accuracy']\n",
        "}\n",
        "\n",
        "axs1.plot(loss['training_loss'], label=list(loss.keys())[0])\n",
        "axs1.plot(loss['validation_loss'], label=list(loss.keys())[1])\n",
        "axs1.grid(color='grey', linestyle=':', linewidth=1, alpha=0.2)\n",
        "axs1.legend()\n",
        "\n",
        "axs2.plot(auc['training_acc'], label=list(auc.keys())[0])\n",
        "axs2.plot(auc['validation_acc'], label=list(auc.keys())[1])\n",
        "axs2.grid(color='grey', linestyle=':', linewidth=1, alpha=0.2)\n",
        "axs2.legend()\n",
        "\n",
        "axs1.set_xlabel('Epochs')\n",
        "axs1.set_ylabel('Loss')\n",
        "axs2.set_xlabel('Epochs')\n",
        "axs2.set_ylabel('Accuracy')\n",
        "\n",
        "fig.suptitle(\"Training Curve\")\n",
        "\n",
        "plt.show()"
      ],
      "metadata": {
        "id": "MXSEuRzdJ2Wq",
        "colab": {
          "base_uri": "https://localhost:8080/",
          "height": 443
        },
        "outputId": "259d4879-ede1-45e4-eba2-d06b8a02e4f4"
      },
      "execution_count": 75,
      "outputs": [
        {
          "output_type": "display_data",
          "data": {
            "text/plain": [
              "<Figure size 1500x500 with 2 Axes>"
            ],
            "image/png": "[encoded data removed]"
          },
          "metadata": {}
        }
      ]
    },
    {
      "cell_type": "code",
      "source": [
        "evaluate = model.evaluate(X_test, y_test)\n",
        "\n",
        "print(f\"Loss : {evaluate[0]:.2f}, AUC : {evaluate[1]:.2f}, Accuracy :{evaluate[2]:.2f}\")"
      ],
      "metadata": {
        "id": "lTmYmSXSPiD0",
        "colab": {
          "base_uri": "https://localhost:8080/"
        },
        "outputId": "9ec0455f-181c-4b96-c9c0-0dec16b79dbf"
      },
      "execution_count": 84,
      "outputs": [
        {
          "output_type": "stream",
          "name": "stdout",
          "text": [
            "1/1 [==============================] - 0s 93ms/step - loss: 0.6355 - AUC: 0.8200 - accuracy: 0.7667\n",
            "Loss : 0.64, AUC : 0.82, Accuracy :0.77\n"
          ]
        }
      ]
    },
    {
      "cell_type": "markdown",
      "source": [
        "## 5.4. Evaluation"
      ],
      "metadata": {
        "id": "mfylDHhXeGV2"
      }
    },
    {
      "cell_type": "code",
      "source": [
        "pred = model.predict(X_test)\n",
        "pred"
      ],
      "metadata": {
        "id": "r0Qh5p0AeJuz",
        "colab": {
          "base_uri": "https://localhost:8080/"
        },
        "outputId": "47482073-0c22-4543-e136-38156dbb51e7"
      },
      "execution_count": 85,
      "outputs": [
        {
          "output_type": "stream",
          "name": "stdout",
          "text": [
            "1/1 [==============================] - 0s 82ms/step\n"
          ]
        },
        {
          "output_type": "execute_result",
          "data": {
            "text/plain": [
              "array([[0.06744277],\n",
              "       [0.9996207 ],\n",
              "       [0.6521207 ],\n",
              "       [0.14386457],\n",
              "       [0.04021712],\n",
              "       [0.9946307 ],\n",
              "       [0.97085303],\n",
              "       [0.04281243],\n",
              "       [0.7679365 ],\n",
              "       [0.5937767 ],\n",
              "       [0.9932401 ],\n",
              "       [0.17344579],\n",
              "       [0.03820955],\n",
              "       [0.7827871 ],\n",
              "       [0.01569549],\n",
              "       [0.12718785],\n",
              "       [0.9377799 ],\n",
              "       [0.75250566],\n",
              "       [0.99777114],\n",
              "       [0.03183027],\n",
              "       [0.9975113 ],\n",
              "       [0.9674553 ],\n",
              "       [0.38460937],\n",
              "       [0.06526174],\n",
              "       [0.9887456 ],\n",
              "       [0.09834696],\n",
              "       [0.12706578],\n",
              "       [0.05193546],\n",
              "       [0.9781174 ],\n",
              "       [0.867967  ]], dtype=float32)"
            ]
          },
          "metadata": {},
          "execution_count": 85
        }
      ]
    },
    {
      "cell_type": "code",
      "source": [
        "fig, (ax1, ax2) = plt.subplots(1,2,figsize=(15,5))\n",
        "\n",
        "fpr, tpr, thresholds = roc_curve(y_test, pred)\n",
        "roc_auc = metrics.auc(fpr, tpr)\n",
        "ax1.plot([0,1], [0,1], '--')\n",
        "ax1.plot(fpr, tpr, label='ROC curve (area = %0.2f)' % roc_auc)\n",
        "ax1.set_xlabel(r'False Positive Rate')\n",
        "ax1.set_ylabel(r'True Positive Rate')\n",
        "ax1.set_title('ANN ROC Curve')\n",
        "ax1.legend(loc=\"lower right\")\n",
        "\n",
        "pred = np.squeeze(pred)\n",
        "pred = np.array([1 if x > 0.5 else 0 for x in pred])\n",
        "\n",
        "confusion = confusion_matrix(y_test, pred)\n",
        "sns.heatmap(confusion, annot=True, center=0.5, cmap='Blues', ax=ax2)\n",
        "ax2.set_title('ANN Confusion Matrix')\n",
        "\n",
        "plt.show()"
      ],
      "metadata": {
        "id": "ahgNbc0oeUQG",
        "colab": {
          "base_uri": "https://localhost:8080/",
          "height": 429
        },
        "outputId": "1a056d51-a11e-404f-8c42-6e9903829afc"
      },
      "execution_count": 86,
      "outputs": [
        {
          "output_type": "display_data",
          "data": {
            "text/plain": [
              "<Figure size 1500x500 with 3 Axes>"
            ],
            "image/png": "[encoded data removed]"
          },
          "metadata": {}
        }
      ]
    },
    {
      "cell_type": "code",
      "source": [
        "print(classification_report(y_test, pred))"
      ],
      "metadata": {
        "id": "2a-7WyGkfI0u",
        "colab": {
          "base_uri": "https://localhost:8080/"
        },
        "outputId": "a4804732-3854-4e2e-fedf-495e13c8a313"
      },
      "execution_count": 87,
      "outputs": [
        {
          "output_type": "stream",
          "name": "stdout",
          "text": [
            "              precision    recall  f1-score   support\n",
            "\n",
            "           0       0.79      0.73      0.76        15\n",
            "           1       0.75      0.80      0.77        15\n",
            "\n",
            "    accuracy                           0.77        30\n",
            "   macro avg       0.77      0.77      0.77        30\n",
            "weighted avg       0.77      0.77      0.77        30\n",
            "\n"
          ]
        }
      ]
    }
  ],
  "metadata": {
    "colab": {
      "provenance": [],
      "toc_visible": true,
      "include_colab_link": true
    },
    "kernelspec": {
      "display_name": "Python 3",
      "name": "python3"
    },
    "language_info": {
      "name": "python"
    }
  },
  "nbformat": 4,
  "nbformat_minor": 0
}